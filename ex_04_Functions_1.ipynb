{
 "cells": [
  {
   "cell_type": "code",
   "execution_count": 3,
   "id": "d457ce4e",
   "metadata": {},
   "outputs": [
    {
     "name": "stdout",
     "output_type": "stream",
     "text": [
      "Começo.\n",
      "Escreva algo: \n",
      "Fim.\n"
     ]
    }
   ],
   "source": [
    "# função de A a Z:\n",
    "\n",
    "def message():\n",
    "    print(\"Escreva algo: \")\n",
    "\n",
    "print(\"Começo.\")\n",
    "message()\n",
    "print(\"Fim.\")\n",
    "\n",
    "# Obs:  Cria sempre a função antes de ela ser chamada, funciona de cima pra baixo, o python não \"procura a função\"\n",
    "# a menos que venha de outra classe, mas aí já é em POO"
   ]
  },
  {
   "cell_type": "code",
   "execution_count": 2,
   "id": "4473b95b",
   "metadata": {},
   "outputs": [
    {
     "name": "stdout",
     "output_type": "stream",
     "text": [
      "Enter a value: \n",
      "4\n",
      "Enter a value: \n",
      "5\n",
      "Enter a value: \n",
      "6\n"
     ]
    }
   ],
   "source": [
    "def message():\n",
    "    print(\"Enter a value: \")\n",
    "\n",
    "message()\n",
    "a = int(input())\n",
    "message()\n",
    "b = int(input())\n",
    "message()\n",
    "c = int(input())\n"
   ]
  },
  {
   "cell_type": "code",
   "execution_count": 4,
   "id": "9c92e1ca",
   "metadata": {},
   "outputs": [
    {
     "name": "stdout",
     "output_type": "stream",
     "text": [
      "Hello\n",
      "Enter your name: Maniquito\n",
      "Hello, Maniquito\n"
     ]
    }
   ],
   "source": [
    "# Maneiras de definir uma função:\n",
    "\n",
    "# def your_function(optional parameters):\n",
    "    # the body of the function\n",
    "    \n",
    "    \n",
    "def message():    # sem parametros\n",
    "    print(\"Hello\")    # body of the function\n",
    "    \n",
    "message()    # calling the function    \n",
    "    \n",
    "  \n",
    "   \n",
    "def hello(name):    # com 1 parametro\n",
    "    print(\"Hello,\", name)    # body of the function\n",
    "    \n",
    "name = input(\"Enter your name: \")\n",
    "\n",
    "hello(name)    # calling the function    \n",
    "    "
   ]
  },
  {
   "cell_type": "markdown",
   "id": "75eeb8da",
   "metadata": {},
   "source": [
    "### Não se esqueça:\n",
    "\n",
    "parâmetros vivem dentro de funções (este é o seu ambiente natural)\n",
    "\n",
    "argumentos existem fora de funções e são portadores de valores passados para os parâmetros correspondentes.\n"
   ]
  },
  {
   "cell_type": "code",
   "execution_count": 11,
   "id": "b4fa7ed9",
   "metadata": {},
   "outputs": [
    {
     "name": "stdout",
     "output_type": "stream",
     "text": [
      "Enter a number: 999\n",
      "Enter a number: 666\n"
     ]
    }
   ],
   "source": [
    "# def function(parameter):\n",
    "#     ###\n",
    "\n",
    "numero_final = 666\n",
    "\n",
    "def message(number):\n",
    "    print(\"Enter a number:\", number)\n",
    "    \n",
    "message(999) # parâmetros\n",
    "\n",
    "message(numero_final) # argumentos\n"
   ]
  },
  {
   "cell_type": "code",
   "execution_count": 12,
   "id": "74f90f10",
   "metadata": {},
   "outputs": [
    {
     "name": "stdout",
     "output_type": "stream",
     "text": [
      "Enter a number: 1\n",
      "1234\n"
     ]
    }
   ],
   "source": [
    "# Shadowing - É possível ter uma variável com o mesmo nome que um parâmetro de uma função.\n",
    "\n",
    "def message(number):\n",
    "    print(\"Enter a number:\", number)\n",
    "\n",
    "number = 1234\n",
    "message(1)\n",
    "print(number)"
   ]
  },
  {
   "cell_type": "code",
   "execution_count": 14,
   "id": "6e9bdafd",
   "metadata": {},
   "outputs": [
    {
     "name": "stdout",
     "output_type": "stream",
     "text": [
      "Enter telefone number 11\n",
      "Enter preço number 5\n",
      "Enter número number number\n"
     ]
    }
   ],
   "source": [
    "# Mais parâmetros\n",
    "\n",
    "def message(what, number):\n",
    "    print(\"Enter\", what, \"number\", number)\n",
    "\n",
    "message(\"telefone\", 11)\n",
    "message(\"preço\", 5)\n",
    "message(\"número\", \"number\")"
   ]
  },
  {
   "cell_type": "code",
   "execution_count": 19,
   "id": "8aecdd52",
   "metadata": {},
   "outputs": [
    {
     "name": "stdout",
     "output_type": "stream",
     "text": [
      "Hello, my name is Luke Skywalker\n",
      "Hello, my name is Jessica Jones\n",
      "Hello, my name is Clark Kent\n",
      "\n",
      "\n",
      "Hello, my name is Skywalker Luke\n",
      "Hello, my name is Jones Jessica\n",
      "Hello, my name is Kent Clark\n"
     ]
    }
   ],
   "source": [
    "# Ordem dos parâmetros\n",
    "\n",
    "def introduction(first_name, last_name):\n",
    "    print(\"Hello, my name is\", first_name, last_name)\n",
    "\n",
    "introduction(\"Luke\", \"Skywalker\")\n",
    "introduction(\"Jessica\", \"Jones\")\n",
    "introduction(\"Clark\", \"Kent\")\n",
    "\n",
    "print(\"\\n\")\n",
    "\n",
    "introduction(\"Skywalker\", \"Luke\")\n",
    "introduction(\"Jones\", \"Jessica\")\n",
    "introduction(\"Kent\", \"Clark\")"
   ]
  },
  {
   "cell_type": "code",
   "execution_count": 20,
   "id": "c864e0a0",
   "metadata": {},
   "outputs": [
    {
     "name": "stdout",
     "output_type": "stream",
     "text": [
      "Hello, my name is Naruto Usumaki\n",
      "Hello, my name is Sasuke Utiha\n"
     ]
    }
   ],
   "source": [
    "# Usando o \"=\" nos parametros\n",
    "\n",
    "def introduction(first_name, last_name):\n",
    "    print(\"Hello, my name is\", first_name, last_name)\n",
    "\n",
    "introduction(first_name = \"Naruto\", last_name = \"Usumaki\")\n",
    "introduction(last_name = \"Utiha\", first_name = \"Sasuke\")\n"
   ]
  },
  {
   "cell_type": "code",
   "execution_count": 8,
   "id": "8e57cc18",
   "metadata": {},
   "outputs": [
    {
     "name": "stdout",
     "output_type": "stream",
     "text": [
      "1 + 2 + 3 = 6\n",
      "2 + 3 + 1 = 6\n",
      "3 + 2 + 1 = 6\n",
      "4 + 3 + 2 = 9\n"
     ]
    }
   ],
   "source": [
    "# Posições dos argumentos\n",
    "\n",
    "def adding(a, b, c):\n",
    "    print(a, \"+\", b, \"+\", c, \"=\", a + b + c)\n",
    "\n",
    "adding(1,2,3)\n",
    "\n",
    "adding(c = 1, a = 2, b = 3)\n",
    "\n",
    "adding(3, c = 1, b = 2)\n",
    "\n",
    "adding(4, 3, c = 2)\n",
    "\n",
    "# adding(3, a = 1, b = 2) # ERRO,  o valor de [a] foi passado 2 vezes.\n"
   ]
  },
  {
   "cell_type": "code",
   "execution_count": 31,
   "id": "da63e654",
   "metadata": {},
   "outputs": [
    {
     "name": "stdout",
     "output_type": "stream",
     "text": [
      "Hello, my name is Chucky Norris\n",
      "Hello, my name is Chucky Barbosa\n",
      "Hello, my name is Valdisney Barbosa\n"
     ]
    }
   ],
   "source": [
    "# Usando parametros no default - valores predefinidos por defeito (:( Português PT))\n",
    "\n",
    "def introduction(first_name, last_name=\"Barbosa\"):\n",
    "    print(\"Hello, my name is\", first_name, last_name)\n",
    "\n",
    "introduction(\"Chucky\", \"Norris\") # troca os 2 parametros\n",
    "\n",
    "introduction(\"Chucky\") # troca só o que foi pedido, senão fica o default\n",
    "\n",
    "introduction(first_name=\"Valdisney\")"
   ]
  },
  {
   "cell_type": "code",
   "execution_count": 35,
   "id": "0097924c",
   "metadata": {},
   "outputs": [
    {
     "name": "stdout",
     "output_type": "stream",
     "text": [
      "Hello, my name is Chim Pan Ze\n",
      "Hello, my name is Chim Pan Sobervaldo\n"
     ]
    }
   ],
   "source": [
    "def introduction(first_name=\"Chim Pan\", last_name= \"Ze\"):\n",
    "    print(\"Hello, my name is\", first_name, last_name)\n",
    "    \n",
    "introduction()\n",
    "                 \n",
    "introduction(last_name=\"Sobervaldo\")"
   ]
  },
  {
   "cell_type": "code",
   "execution_count": 37,
   "id": "588ff18c",
   "metadata": {},
   "outputs": [
    {
     "name": "stdout",
     "output_type": "stream",
     "text": [
      "3\n",
      "-3\n",
      "3\n",
      "3\n",
      "3\n",
      "3\n"
     ]
    }
   ],
   "source": [
    "# passagem de argumentos posicionais em que a ordem dos argumentos passados \n",
    " # importa (Ex. 1),\n",
    "\n",
    "# passagem de argumentos por palavra-chave (nomeados) em que a ordem dos argumentos passados\n",
    " # não importa (Ex. 2),\n",
    "\n",
    "# uma mistura de passagem de argumentos posicionais e por palavra-chave (Ex. 3).\n",
    "\n",
    "#Ex. 1\n",
    "def subtra(a, b):\n",
    "    print(a - b)\n",
    "\n",
    "subtra(5, 2)    # outputs: 3\n",
    "subtra(2, 5)    # outputs: -3\n",
    "\n",
    "\n",
    "#Ex. 2\n",
    "def subtra(a, b):\n",
    "    print(a - b)\n",
    "\n",
    "subtra(a=5, b=2)    # outputs: 3\n",
    "subtra(b=2, a=5)    # outputs: 3\n",
    "\n",
    "#Ex. 3\n",
    "def subtra(a, b):\n",
    "    print(a - b)\n",
    "\n",
    "subtra(5, b=2)    # outputs: 3\n",
    "subtra(5, 2)    # outputs: 3\n"
   ]
  },
  {
   "cell_type": "code",
   "execution_count": 38,
   "id": "9d9cdcba",
   "metadata": {},
   "outputs": [
    {
     "ename": "SyntaxError",
     "evalue": "positional argument follows keyword argument (1401101742.py, line 8)",
     "output_type": "error",
     "traceback": [
      "\u001b[1;36m  Cell \u001b[1;32mIn[38], line 8\u001b[1;36m\u001b[0m\n\u001b[1;33m    subtra(a=5, 2)    # Syntax Error\u001b[0m\n\u001b[1;37m                 ^\u001b[0m\n\u001b[1;31mSyntaxError\u001b[0m\u001b[1;31m:\u001b[0m positional argument follows keyword argument\n"
     ]
    }
   ],
   "source": [
    "# É importante lembrar que argumentos posicionais não devem seguir argumentos por palavra-chave.\n",
    "# Por isso, se tentar executar o trecho de código a seguir:\n",
    "\n",
    "def subtra(a, b):\n",
    "    print(a - b)\n",
    "\n",
    "subtra(5, b=2)    # outputs: 3\n",
    "subtra(a=5, 2)    # Syntax Error\n",
    "\n",
    "# O código dá erro porque os argumentos nomeados em Python devem ser todos nomeados\n",
    "# ou todos posicionais após o primeiro nomeado. \n",
    "# No exemplo, está misturando um argumento nomeado (a=5) \n",
    "# com um argumento posicional (2), o que não é permitido.\n",
    "\n",
    "# subtra(a=5, b=2)    # Correto\n",
    "# ou\n",
    "# subtra(5, 2)    # Correto\n"
   ]
  },
  {
   "cell_type": "code",
   "execution_count": 41,
   "id": "4879f588",
   "metadata": {},
   "outputs": [
    {
     "name": "stdout",
     "output_type": "stream",
     "text": [
      "My name is Bond. James Bond.\n",
      "My name is Sean Connery. James Bond.\n",
      "My name is Bond. Susan.\n"
     ]
    }
   ],
   "source": [
    "# ex 01\n",
    "\n",
    "def intro(a=\"James Bond\", b=\"Bond\"):\n",
    "    print(\"My name is\", b + \".\", a + \".\")\n",
    "\n",
    "intro()\n",
    "\n",
    "\n",
    "def intro(a=\"James Bond\", b=\"Bond\"):\n",
    "    print(\"My name is\", b + \".\", a + \".\")\n",
    "\n",
    "intro(b=\"Sean Connery\")\n",
    "\n",
    "\n",
    "def intro(a, b=\"Bond\"):\n",
    "    print(\"My name is\", b + \".\", a + \".\")\n",
    "\n",
    "intro(\"Susan\")\n",
    "\n",
    "\n"
   ]
  },
  {
   "cell_type": "code",
   "execution_count": 13,
   "id": "2e3d74b4",
   "metadata": {},
   "outputs": [
    {
     "ename": "SyntaxError",
     "evalue": "non-default argument follows default argument (3344311071.py, line 1)",
     "output_type": "error",
     "traceback": [
      "\u001b[1;36m  Cell \u001b[1;32mIn[13], line 1\u001b[1;36m\u001b[0m\n\u001b[1;33m    def add_numbers(a, b=2, c):\u001b[0m\n\u001b[1;37m                            ^\u001b[0m\n\u001b[1;31mSyntaxError\u001b[0m\u001b[1;31m:\u001b[0m non-default argument follows default argument\n"
     ]
    }
   ],
   "source": [
    "def add_numbers(a, b=2, c):  # valores 'default' devem vir por último...\n",
    "    print(a + b + c)\n",
    "\n",
    "add_numbers(a=1, c=3)\n",
    "\n",
    "#SyntaxError - a non-default argument (c) follows a default argument (b=2)\n",
    "\n",
    "# Todos os argumentos com valores padrão (argumentos opcionais) \n",
    "# devem estar listados após os argumentos obrigatórios (argumentos sem valores padrão) na definição da função.\n",
    "# No seu código, o argumento b tem um valor padrão (b=2), \n",
    "# mas ele está posicionado antes de c, que é um argumento obrigatório.\n",
    "\n",
    "# A ordem correta deve ser: primeiro os argumentos obrigatórios,\n",
    "# seguidos pelos argumentos opcionais.\n",
    "\n",
    "# versão correta:\n",
    "    \n",
    "def add_numbers(a, c, b=2):\n",
    "print(a + b + c)\n",
    "\n",
    "add_numbers(a=1, c=3)    # Correto"
   ]
  },
  {
   "cell_type": "code",
   "execution_count": 46,
   "id": "eb247205",
   "metadata": {},
   "outputs": [
    {
     "name": "stdout",
     "output_type": "stream",
     "text": [
      "6\n"
     ]
    }
   ],
   "source": [
    "def add_numbers(a, b, c=3):\n",
    "    print(a + b + c)\n",
    "\n",
    "add_numbers(a=1, b=2)"
   ]
  },
  {
   "cell_type": "code",
   "execution_count": 14,
   "id": "28e37284",
   "metadata": {},
   "outputs": [
    {
     "name": "stdout",
     "output_type": "stream",
     "text": [
      "Three...\n",
      "Two...\n",
      "One...\n",
      "Vai Corinthians!\n",
      "\n",
      "\n",
      "Three...\n",
      "Two...\n",
      "One...\n"
     ]
    }
   ],
   "source": [
    "# Uso do Return sem uma expressão \n",
    "\n",
    "def happy_new_year(wishes = True): # - usando  True/False\n",
    "    print(\"Three...\")\n",
    "    print(\"Two...\")\n",
    "    print(\"One...\")\n",
    "    if not wishes:  # se False encerra o código\n",
    "        return \n",
    "    \n",
    "    print(\"Vai Corinthians!\") # se True imprime o texto\n",
    "    \n",
    "happy_new_year()  # nada foi declarado, usa o default -> True\n",
    "\n",
    "print(\"\\n\")\n",
    "\n",
    "happy_new_year(False)  # usando -> false\n"
   ]
  },
  {
   "cell_type": "code",
   "execution_count": 16,
   "id": "a613b288",
   "metadata": {},
   "outputs": [
    {
     "name": "stdout",
     "output_type": "stream",
     "text": [
      "Function has returned its result. It's: expression\n",
      "The boring_function has returned its result. It's: 123\n"
     ]
    }
   ],
   "source": [
    "# Uso do Return com uma expressão\n",
    "\n",
    "def function():\n",
    "    return 'expression'\n",
    "\n",
    "\n",
    "def boring_function():\n",
    "    return 123\n",
    "\n",
    "x = boring_function()\n",
    "\n",
    "y = function()\n",
    "\n",
    "\n",
    "print(\"Function has returned its result. It's:\", y)\n",
    "print(\"The boring_function has returned its result. It's:\", x)\n"
   ]
  },
  {
   "cell_type": "code",
   "execution_count": 23,
   "id": "32187d14",
   "metadata": {},
   "outputs": [
    {
     "name": "stdout",
     "output_type": "stream",
     "text": [
      "This lesson is interesting!\n",
      "'Bored Mode' ON.\n",
      "This lesson is boring...\n",
      "\n",
      "\n",
      "'Bored Mode' ON.\n",
      "\n",
      "\n",
      "123\n"
     ]
    }
   ],
   "source": [
    "def boring_function():\n",
    "    print(\"'Bored Mode' ON.\")\n",
    "    return 123\n",
    "\n",
    "print(\"This lesson is interesting!\")\n",
    "boring_function()\n",
    "print(\"This lesson is boring...\")\n",
    "\n",
    "print(\"\\n\")\n",
    "\n",
    "y = boring_function() # ao atribuir a y a função, ela impime o texto\n",
    "\n",
    "\n",
    "print(\"\\n\")\n",
    "\n",
    "print(y) # ao imprimir y, devolve o valor do return: 123\n"
   ]
  },
  {
   "cell_type": "code",
   "execution_count": 15,
   "id": "df7c8999",
   "metadata": {},
   "outputs": [
    {
     "name": "stdout",
     "output_type": "stream",
     "text": [
      "Sorry, you don't carry any value\n"
     ]
    }
   ],
   "source": [
    "# NONE\n",
    "\n",
    "# print(None + 2) # -> ERROR\n",
    "\n",
    "# Note: None é uma keyword.\n",
    "\n",
    "value = None\n",
    "if value is None:\n",
    "    print(\"Sorry, you don't carry any value\")\n",
    "    "
   ]
  },
  {
   "cell_type": "code",
   "execution_count": 16,
   "id": "dc451498",
   "metadata": {},
   "outputs": [
    {
     "name": "stdout",
     "output_type": "stream",
     "text": [
      "True\n",
      "None\n"
     ]
    }
   ],
   "source": [
    "def strange_function(n):\n",
    "    if(n % 2 == 0):\n",
    "        return True\n",
    "    \n",
    "# Se a função não retorna um certo valor usando return,\n",
    "# será assumido implicitamente o None\n",
    "\n",
    "print(strange_function(2))\n",
    "\n",
    "print(strange_function(1))\n",
    "    "
   ]
  },
  {
   "cell_type": "code",
   "execution_count": 26,
   "id": "1d234db0",
   "metadata": {},
   "outputs": [
    {
     "name": "stdout",
     "output_type": "stream",
     "text": [
      "12\n"
     ]
    }
   ],
   "source": [
    "# Usando uma lista como argumento\n",
    "\n",
    "def list_sum(lst):\n",
    "    s = 0\n",
    "    \n",
    "    for elem in lst: # para cada elemento da lista, s += elemento\n",
    "        s += elem\n",
    "    \n",
    "    return s\n",
    "\n",
    "print(list_sum([5, 4, 3]))\n",
    "\n",
    "# print(list_sum(5)) # ERRO -> objeto não é iterável...\n"
   ]
  },
  {
   "cell_type": "code",
   "execution_count": 19,
   "id": "8bc31c77",
   "metadata": {},
   "outputs": [
    {
     "name": "stdout",
     "output_type": "stream",
     "text": [
      "[4, 3, 2, 1, 0]\n"
     ]
    }
   ],
   "source": [
    "# Função para criar uma lista com 'n' itens\n",
    "\n",
    "def strange_list_fun(n):\n",
    "    strange_list = []\n",
    "    \n",
    "    for i in range(0, n):\n",
    "        strange_list.insert(0, i) # insere o valor de cada iteração sempre no index '0'\n",
    "    \n",
    "    return strange_list\n",
    "\n",
    "print(strange_list_fun(5))"
   ]
  },
  {
   "cell_type": "code",
   "execution_count": 27,
   "id": "9b2125a7",
   "metadata": {},
   "outputs": [
    {
     "name": "stdout",
     "output_type": "stream",
     "text": [
      "1900 -> OK\n",
      "2000 -> OK\n",
      "2016 -> OK\n",
      "1987 -> OK\n"
     ]
    }
   ],
   "source": [
    "#  Função que recebe um argumento (um ano) e retorna True se o ano for bissexto,\n",
    "# ou False caso contrário.\n",
    "\n",
    "# um ano é bissexto se ele for divisível por 4, mas não por 100,\n",
    "# a menos que também seja divisível por 400.\n",
    "\n",
    "def ano_bissexto(year):\n",
    "    if year % 4 == 0:\n",
    "        if year % 100 == 0:\n",
    "            if year % 400 == 0:\n",
    "                return True\n",
    "            else:\n",
    "                return False\n",
    "        else:\n",
    "            return True\n",
    "    else:\n",
    "        return False\n",
    "\n",
    "test_data = [1900, 2000, 2016, 1987]\n",
    "test_results = [False, True, True, False]\n",
    "\n",
    "for i in range(len(test_data)):\n",
    "        yr = test_data[i]\n",
    "        print(yr,\"->\",end=\"\")\n",
    "        \n",
    "        result = ano_bissexto(yr)\n",
    "        if result == test_results[i]:\n",
    "            print(\" OK\")\n",
    "        else:\n",
    "            print(\" Failed\")\n",
    "   "
   ]
  },
  {
   "cell_type": "code",
   "execution_count": 33,
   "id": "a2605815",
   "metadata": {},
   "outputs": [
    {
     "name": "stdout",
     "output_type": "stream",
     "text": [
      "1900 2 -> OK\n",
      "2000 2 -> OK\n",
      "2016 1 -> OK\n",
      "1987 11 -> OK\n"
     ]
    }
   ],
   "source": [
    "#  função que recebe dois argumentos (um ano e um mês) e retorna o número de dias\n",
    "# para o par mês/ano dado (enquanto apenas fevereiro é sensível ao valor do ano,\n",
    "# sua função deve ser universal)\n",
    "\n",
    "\n",
    "def is_year_leap(year): # primeiro define se o mês é bissexto\n",
    "    if year % 4 == 0:\n",
    "        if year % 100 == 0:\n",
    "            if year % 400 == 0:\n",
    "                return True\n",
    "            else:\n",
    "                return False\n",
    "        else:\n",
    "            return True\n",
    "    else:\n",
    "        return False\n",
    "\n",
    "def days_in_month(year, month):\n",
    "    meses = [31, 28, 31, 30, 31, 30, 31, 31, 30, 31, 30 ,31]\n",
    "    if is_year_leap(year): # já retorna True or False\n",
    "     meses[1] = 29 # se for bissexto acrescenta 1 dia em fev.\n",
    "\n",
    "    days = meses[month - 1] # Subtrai 1 para indexar corretamente a lista\n",
    "    return days\n",
    "    \n",
    "        \n",
    "test_years = [1900, 2000, 2016, 1987]\n",
    "test_months = [2, 2, 1, 11]\n",
    "test_results = [28, 29, 31, 30]\n",
    "\n",
    "for i in range(len(test_years)):\n",
    "    yr = test_years[i]\n",
    "    mo = test_months[i]\n",
    "    print(yr, mo, \"->\", end=\"\")\n",
    "    result = days_in_month(yr, mo)\n",
    "    if result == test_results[i]:\n",
    "        print(\" OK\")\n",
    "    else:\n",
    "        print(\" Failed\")\n"
   ]
  },
  {
   "cell_type": "code",
   "execution_count": 32,
   "id": "05b324da",
   "metadata": {},
   "outputs": [
    {
     "name": "stdout",
     "output_type": "stream",
     "text": [
      "365\n",
      "366\n"
     ]
    }
   ],
   "source": [
    "# Função que recebe três argumentos (um ano, um mês e um dia do mês) e retorna o dia correspondente do ano,\n",
    "# ou retorna None se algum dos argumentos for inválido\n",
    "\n",
    "def is_year_leap(year): #  year_leap -> ano_bissexto\n",
    "    if year % 4 == 0:\n",
    "        if year % 100 == 0:\n",
    "            if year % 400 == 0:\n",
    "                return True\n",
    "            else:\n",
    "                return False\n",
    "        else:\n",
    "            return True\n",
    "    else:\n",
    "        return False\n",
    "#\n",
    "\n",
    "def days_in_month(year, month):\n",
    "    meses = [31, 28, 31, 30, 31, 30, 31, 31, 30, 31, 30 ,31]\n",
    "    if is_year_leap(year): # já retorna True or False\n",
    "      meses[1] = 29 # se for bissexto acrescenta 1 dia em fev.\n",
    "    return meses[month - 1] # Subtrai 1 para indexar corretamente a lista\n",
    "\n",
    "#\n",
    "\n",
    "def day_of_year(year, month, day):\n",
    "    if month < 1 or month > 12 or day < 1 or day > days_in_month(year, month):\n",
    "        return None\n",
    "    else:\n",
    "        total_days = 0\n",
    "        for i in range(1, month):\n",
    "            total_days += days_in_month(year, i)\n",
    "        total_days += day\n",
    "        return total_days\n",
    "    \n",
    "print(day_of_year(2022, 12, 31)) # ano comum\n",
    "print(day_of_year(2024, 12, 31)) # ano bissexto\n"
   ]
  },
  {
   "cell_type": "code",
   "execution_count": 40,
   "id": "7d02de50",
   "metadata": {},
   "outputs": [
    {
     "name": "stdout",
     "output_type": "stream",
     "text": [
      "\u001b[33m 1 \u001b[33m 2 \u001b[31m 3 \u001b[33m 4 \u001b[31m 5 \u001b[31m 6 \u001b[31m 7 \u001b[33m 8 \u001b[31m 9 \u001b[31m 10 \u001b[31m 11 \u001b[31m 12 \u001b[31m 13 \u001b[31m 14 \u001b[31m 15 \u001b[33m 16 \n",
      "O número 16 foi dividido 5 vezes\n",
      "E por isso ele não é PRIMO\n",
      "\u001b[33m 1 \u001b[31m 2 \u001b[31m 3 \u001b[31m 4 \u001b[31m 5 \u001b[31m 6 \u001b[31m 7 \u001b[31m 8 \u001b[31m 9 \u001b[31m 10 \u001b[31m 11 \u001b[31m 12 \u001b[31m 13 \u001b[31m 14 \u001b[31m 15 \u001b[31m 16 \u001b[33m 17 \n",
      "O número 17 foi dividido 2 vezes\n",
      "E por isso ele é PRIMO!\n"
     ]
    }
   ],
   "source": [
    "# Número Primo\n",
    "# BEST VERSION!!! código para mostrar se os números são divisiveis ou não:\n",
    "\n",
    "def is_prime(numero):\n",
    "    tot = 0\n",
    "    for c in range (1, numero +1):\n",
    "        if numero % c == 0:\n",
    "            print('\\033[33m', end=' ')\n",
    "            tot += 1\n",
    "        else:\n",
    "            print('\\033[31m', end=' ')\n",
    "        print(c, end=\" \")\n",
    "    print(f'\\nO número {numero} foi dividido {tot} vezes')\n",
    "    if tot == 2:\n",
    "        print(\"E por isso ele é PRIMO!\")\n",
    "    else:\n",
    "        print(\"E por isso ele não é PRIMO\")\n",
    "\n",
    "is_prime(16)\n",
    "is_prime(17)\n"
   ]
  },
  {
   "cell_type": "code",
   "execution_count": 45,
   "id": "94124b2b",
   "metadata": {},
   "outputs": [
    {
     "name": "stdout",
     "output_type": "stream",
     "text": [
      "2 3 5 7 11 13 17 19 23 29 \n"
     ]
    }
   ],
   "source": [
    "# Versão 2\n",
    "\n",
    "def is_prime(num): # define se um número é primo    \n",
    "    #numeros inferiores a 2 não rodam o programa, primos só de 2 para cima\n",
    "    while num < 2: # não é válido\n",
    "        print('Só podemos verificar se o número é primo se for maior que 1')\n",
    "        num = int(input('Digite um número positivo: '))\n",
    "\n",
    "    #CONTADOR!!\n",
    "    x = 2 # primeiro candidato a divisor e o número 1\n",
    "    qtdiv = 2 # conta 1 e o proprio num :-)\n",
    "    limite = num ** 0.5 # Se existir um divisor para além  do 1 e do proprio num\n",
    "                        # entao ele tem que estar ate a raiz quadrada do num\n",
    "    #limite = num // 2 # só faz a divisão uma vez e poupa o processador\n",
    "    while x <= limite: # os divisores todos estao ate metade do numero, e depois o proprio numero\n",
    "        if num % x == 0: # X é divisor num, se der resto 0 ele continua\n",
    "            qtdiv = 3 # encontrou o terceiro  divisor\n",
    "            break # para imediatamente o ciclo pois encontrou o terceiro divisor\n",
    "        x = x + 1 # passa ao próximo candidato a divisor\n",
    "\n",
    "    if qtdiv == 2: # se encontrou 2 divisores num é primo\n",
    "        print(num, end=' ') # é primo pois tem {qtdiv} divisores\"\n",
    "    #else:# é porque tem mais de 2 divisores\n",
    "      #  print(None) #print(f\"{num} não é primo pois tem mais de 2 divisores\")\n",
    " \n",
    "# is_prime(5) # for debug\n",
    "\n",
    "for i in range(1, 30): # números primos de 1 a 30\n",
    "    if is_prime(i + 1): # tem o + 1, pra não começar do 0\n",
    "       print(i + 1, end=\" \")\n",
    "print()\n",
    "\n",
    "# is_prime(-1) # for debug"
   ]
  },
  {
   "cell_type": "markdown",
   "id": "e3fc84a6",
   "metadata": {},
   "source": [
    "## Recapitulando - Funções"
   ]
  },
  {
   "cell_type": "code",
   "execution_count": 77,
   "id": "bb4bc771",
   "metadata": {},
   "outputs": [
    {
     "name": "stdout",
     "output_type": "stream",
     "text": [
      "12\n",
      "None\n"
     ]
    }
   ],
   "source": [
    "def multiply(a, b):\n",
    "    return a * b\n",
    "\n",
    "print(multiply(3, 4))    # outputs: 12\n",
    "\n",
    "\n",
    "def multiply(a, b): # função com return que não retorna nada\n",
    "    return\n",
    "\n",
    "print(multiply(3, 4))    # outputs: None"
   ]
  },
  {
   "cell_type": "code",
   "execution_count": 50,
   "id": "5c6fb63f",
   "metadata": {},
   "outputs": [
    {
     "name": "stdout",
     "output_type": "stream",
     "text": [
      "Happy Birthday!\n",
      "My Wishes\n",
      "My Wishes\n",
      "Happy Birthday\n"
     ]
    }
   ],
   "source": [
    "def wishes():\n",
    "    return \"Happy Birthday!\"\n",
    "\n",
    "w = wishes() # função que retorna algo, mas não recebe parâmetros\n",
    "\n",
    "print(w)    # outputs: Happy Birthday!\n",
    "\n",
    "# Example 1\n",
    "def wishes():\n",
    "    print(\"My Wishes\") \n",
    "    return \"Happy Birthday\" \n",
    "\n",
    "wishes() # Só exibe  a ação print dentro da função - > outputs: My Wishes\n",
    "\n",
    "\n",
    "# Example 2\n",
    "def wishes():\n",
    "    print(\"My Wishes\")\n",
    "    return \"Happy Birthday\"\n",
    "\n",
    "print(wishes()) # exibe  a ação print dentro da função e o \"return\"\n",
    "\n",
    "# outputs: My Wishes\n",
    "#          Happy Birthday"
   ]
  },
  {
   "cell_type": "code",
   "execution_count": 81,
   "id": "6e4d6fbb",
   "metadata": {},
   "outputs": [
    {
     "name": "stdout",
     "output_type": "stream",
     "text": [
      "Hi, Adam\n",
      "Hi, John\n",
      "Hi, Lucy\n"
     ]
    }
   ],
   "source": [
    "# usando argumentos de uma lista\n",
    "\n",
    "def hi_everybody(lista):\n",
    "    for nome in lista:\n",
    "        print(\"Hi,\", nome)\n",
    "\n",
    "hi_everybody([\"Adam\", \"John\", \"Lucy\"])\n"
   ]
  },
  {
   "cell_type": "code",
   "execution_count": 82,
   "id": "579dca40",
   "metadata": {},
   "outputs": [
    {
     "name": "stdout",
     "output_type": "stream",
     "text": [
      "[0, 1, 2, 3, 4]\n"
     ]
    }
   ],
   "source": [
    "# acrescentando itens em uma lista\n",
    "\n",
    "def create_list(n):\n",
    "    my_list = []\n",
    "    for i in range(n):\n",
    "        my_list.append(i)\n",
    "    return my_list\n",
    "\n",
    "print(create_list(5)) # 1 argument, 5 itens"
   ]
  },
  {
   "cell_type": "code",
   "execution_count": 51,
   "id": "2272fb67",
   "metadata": {},
   "outputs": [],
   "source": [
    "# não retorna nada porque o return vem antes do print:\n",
    "\n",
    "def hi():\n",
    "    return\n",
    "    print(\"Hi!\")\n",
    "\n",
    "hi()\n",
    "\n",
    "# The function will return an implicit None value."
   ]
  },
  {
   "cell_type": "code",
   "execution_count": 85,
   "id": "ede788e8",
   "metadata": {},
   "outputs": [
    {
     "name": "stdout",
     "output_type": "stream",
     "text": [
      "True\n",
      "False\n",
      "None\n"
     ]
    }
   ],
   "source": [
    "def is_int(data):\n",
    "    if type(data) == int:\n",
    "        return True\n",
    "    elif type(data) == float:\n",
    "        return False\n",
    "\n",
    "print(is_int(5)) # retorna True pq é um inteiro\n",
    "\n",
    "print(is_int(5.0)) # False porque não é float\n",
    "\n",
    "print(is_int(\"5\")) # None porque não é nem Int e nem Float\n"
   ]
  },
  {
   "cell_type": "code",
   "execution_count": 86,
   "id": "7f0356d9",
   "metadata": {},
   "outputs": [
    {
     "name": "stdout",
     "output_type": "stream",
     "text": [
      "[0, 2, 4, 6, 8, 10]\n"
     ]
    }
   ],
   "source": [
    "# acrescenta os numeros pares na lista\n",
    "\n",
    "def even_num_lst(ran):\n",
    "    lst = []\n",
    "    for num in range(ran):\n",
    "        if num % 2 == 0: # se for par \n",
    "            lst.append(num) # acrescenta a lista\n",
    "    return lst\n",
    "\n",
    "print(even_num_lst(11))"
   ]
  },
  {
   "cell_type": "code",
   "execution_count": 89,
   "id": "30da3101",
   "metadata": {},
   "outputs": [
    {
     "name": "stdout",
     "output_type": "stream",
     "text": [
      "[1, 4, 9, 16, 25]\n"
     ]
    }
   ],
   "source": [
    "# imprime uma lista com os quadrados dos valores fornecidos:\n",
    "\n",
    "def list_updater(lst):\n",
    "    upd_list = []\n",
    "    for elem in lst:\n",
    "        elem **= 2\n",
    "        upd_list.append(elem)\n",
    "    return upd_list\n",
    "\n",
    "foo = [1, 2, 3, 4, 5]\n",
    "print(list_updater(foo))"
   ]
  },
  {
   "cell_type": "code",
   "execution_count": null,
   "id": "b9affe83",
   "metadata": {},
   "outputs": [],
   "source": []
  }
 ],
 "metadata": {
  "kernelspec": {
   "display_name": "Python 3 (ipykernel)",
   "language": "python",
   "name": "python3"
  },
  "language_info": {
   "codemirror_mode": {
    "name": "ipython",
    "version": 3
   },
   "file_extension": ".py",
   "mimetype": "text/x-python",
   "name": "python",
   "nbconvert_exporter": "python",
   "pygments_lexer": "ipython3",
   "version": "3.11.5"
  }
 },
 "nbformat": 4,
 "nbformat_minor": 5
}
