{
 "cells": [
  {
   "cell_type": "markdown",
   "id": "eb8e358c",
   "metadata": {},
   "source": [
    "## 1-)\n",
    "\n",
    "The digraph written as #! is used to:\n",
    "\n",
    "tell a Unix or Unix-like OS how to execute the contents of a Python file"
   ]
  },
  {
   "cell_type": "code",
   "execution_count": null,
   "id": "60f571b7",
   "metadata": {},
   "outputs": [],
   "source": []
  },
  {
   "cell_type": "markdown",
   "id": "45aa9a00",
   "metadata": {},
   "source": [
    "## 2-)\n",
    "\n",
    "Knowing that a function named fun() resides in a module named mod,\n",
    "and it has been imported using the following line:\n",
    "    \n",
    "    import mod\n",
    "    \n",
    "mod.fun()"
   ]
  },
  {
   "cell_type": "code",
   "execution_count": null,
   "id": "abc5d7fa",
   "metadata": {},
   "outputs": [],
   "source": []
  },
  {
   "cell_type": "markdown",
   "id": "c5274e5b",
   "metadata": {},
   "source": [
    "## 3-)\n",
    "\n",
    "During the first import of a module, Python deploys the pycfiles in the directory called:\n",
    "    \n",
    "    **__pycache__**"
   ]
  },
  {
   "cell_type": "code",
   "execution_count": null,
   "id": "927e015f",
   "metadata": {},
   "outputs": [],
   "source": []
  },
  {
   "cell_type": "markdown",
   "id": "708745da",
   "metadata": {},
   "source": [
    "## 4-)\n",
    "\n",
    "A list of packages dependencies can be obtained from pip using its command named:\n",
    "    \n",
    "show"
   ]
  },
  {
   "cell_type": "code",
   "execution_count": null,
   "id": "8a6500bd",
   "metadata": {},
   "outputs": [],
   "source": []
  },
  {
   "cell_type": "markdown",
   "id": "1cbafdb3",
   "metadata": {},
   "source": [
    "## 5-)\n",
    "\n",
    "The following statement:\n",
    "    \n",
    "    from a.b import c\n",
    "    \n",
    "cause the import of:\n",
    "    \n",
    "entity C from module B from package A "
   ]
  },
  {
   "cell_type": "code",
   "execution_count": null,
   "id": "843c2617",
   "metadata": {},
   "outputs": [],
   "source": []
  },
  {
   "cell_type": "markdown",
   "id": "21231bc7",
   "metadata": {},
   "source": [
    "## 6-)\n",
    "\n",
    "When a module is imported, its contents:\n",
    "    \n",
    "are executed once (implicity)"
   ]
  },
  {
   "cell_type": "code",
   "execution_count": null,
   "id": "23941ee9",
   "metadata": {},
   "outputs": [],
   "source": []
  },
  {
   "cell_type": "markdown",
   "id": "9a4786c5",
   "metadata": {},
   "source": [
    "## 7-)\n",
    "\n",
    "What is True about the pip search command? 2 answers:\n",
    "    \n",
    "It searches through all PyPI packages\n",
    "\n",
    "It needs a working internet connection to work\n",
    "\n",
    "*Na real, esse comando nem funciona mais... precisa fazer a busca no site do PIP*"
   ]
  },
  {
   "cell_type": "code",
   "execution_count": null,
   "id": "a9d5d142",
   "metadata": {},
   "outputs": [],
   "source": []
  },
  {
   "cell_type": "markdown",
   "id": "ac3e7a13",
   "metadata": {},
   "source": [
    "## 8-)\n",
    "\n",
    "Choose the True statements. (Select two)\n",
    "\n",
    "The version function from the platform module returns a string with your OS version\n",
    "\n",
    "The system function from the platform module returns a string with your OS name\n",
    "\n",
    "*version e system retornam o nome do sistema operacional*"
   ]
  },
  {
   "cell_type": "code",
   "execution_count": null,
   "id": "f882e7b5",
   "metadata": {},
   "outputs": [],
   "source": []
  },
  {
   "cell_type": "markdown",
   "id": "6499b4da",
   "metadata": {},
   "source": [
    "## 9-)\n",
    "\n",
    "The pip list command presents a list of:\n",
    "\n",
    "locally installed packages\n"
   ]
  },
  {
   "cell_type": "code",
   "execution_count": null,
   "id": "086e996b",
   "metadata": {},
   "outputs": [],
   "source": []
  },
  {
   "cell_type": "markdown",
   "id": "cb215f1c",
   "metadata": {},
   "source": [
    "## 10-)\n",
    "\n",
    "The pyc file contains:\n",
    "    \n",
    "    compiled Python code\n",
    "    \n",
    "*The .pyc file contains the bytecode version of a Python source file.*\n"
   ]
  },
  {
   "cell_type": "code",
   "execution_count": null,
   "id": "a25aef5d",
   "metadata": {},
   "outputs": [],
   "source": []
  },
  {
   "cell_type": "markdown",
   "id": "9781a464",
   "metadata": {},
   "source": [
    "## 11-)\n",
    "\n",
    "A function which returns a list of all entities available in a module is called:\n",
    "    \n",
    "dir()    "
   ]
  },
  {
   "cell_type": "code",
   "execution_count": null,
   "id": "cce57ba4",
   "metadata": {},
   "outputs": [],
   "source": []
  },
  {
   "cell_type": "code",
   "execution_count": 10,
   "id": "9cef6701",
   "metadata": {},
   "outputs": [
    {
     "name": "stdout",
     "output_type": "stream",
     "text": [
      "1\n"
     ]
    }
   ],
   "source": [
    "#### 12-)\n",
    "\n",
    "# What is the expected value assigned to the result variable after the following code is executed?\n",
    "\n",
    "import math\n",
    "\n",
    "result = math.e != math.pow(2,4) # o resultado é diferente, ou seja True\n",
    "print(int(result)) # o int converte o valor boleano True em um numero, no caso True == 1\n"
   ]
  },
  {
   "cell_type": "markdown",
   "id": "c680fe37",
   "metadata": {},
   "source": [
    "## 13-)\n",
    "Whats is True about the pip install command? 2 answers:\n",
    "    \n",
    "It installs a package per user only when the --user option is specified.\n",
    "\n",
    "It allows the user to install a specific version of the package.\n"
   ]
  },
  {
   "cell_type": "code",
   "execution_count": null,
   "id": "9960df32",
   "metadata": {},
   "outputs": [],
   "source": []
  },
  {
   "cell_type": "markdown",
   "id": "5dc0f464",
   "metadata": {},
   "source": [
    "## 14-)\n",
    "\n",
    "What is True about updating already installed Python packages?\n",
    "\n",
    "It´s performed by the install command accompanied by the -U option"
   ]
  },
  {
   "cell_type": "code",
   "execution_count": null,
   "id": "dc5a4499",
   "metadata": {},
   "outputs": [],
   "source": []
  },
  {
   "cell_type": "code",
   "execution_count": 2,
   "id": "f4fa8349",
   "metadata": {
    "scrolled": true
   },
   "outputs": [
    {
     "name": "stdout",
     "output_type": "stream",
     "text": [
      "22"
     ]
    }
   ],
   "source": [
    "#### 15-)\n",
    "\n",
    "from random import randint\n",
    "\n",
    "for i in range(2):# faz o loop 2 vezes\n",
    "    print(randint(1,2), end='') # escolhe entre 1 e 2, sem espaço\n",
    "    \n",
    "# respostas possíveis: 11 , 12, 21 or 22   "
   ]
  },
  {
   "cell_type": "code",
   "execution_count": null,
   "id": "64753ad2",
   "metadata": {},
   "outputs": [],
   "source": []
  },
  {
   "cell_type": "markdown",
   "id": "716b01eb",
   "metadata": {},
   "source": [
    "## 16-)\n",
    "\n",
    "A predefined Python variable that stores the current module name is called:\n",
    "    \n",
    "    **__name__**\n"
   ]
  },
  {
   "cell_type": "code",
   "execution_count": null,
   "id": "5056da1e",
   "metadata": {},
   "outputs": [],
   "source": []
  },
  {
   "cell_type": "markdown",
   "id": "23fa2238",
   "metadata": {},
   "source": [
    "## 17-)\n",
    "\n",
    "Which command can you use pip to remove an installed package?\n",
    "\n",
    "**pip uninstall package**\n"
   ]
  },
  {
   "cell_type": "code",
   "execution_count": null,
   "id": "2330cbbe",
   "metadata": {},
   "outputs": [],
   "source": []
  },
  {
   "cell_type": "markdown",
   "id": "a3cee8a0",
   "metadata": {},
   "source": [
    "## 18-)\n",
    "Knowing that a function named fun() resides in a module named mod,\n",
    "choose the correct way to import it.\n",
    "\n",
    "**from mod import fun**"
   ]
  }
 ],
 "metadata": {
  "kernelspec": {
   "display_name": "Python 3 (ipykernel)",
   "language": "python",
   "name": "python3"
  },
  "language_info": {
   "codemirror_mode": {
    "name": "ipython",
    "version": 3
   },
   "file_extension": ".py",
   "mimetype": "text/x-python",
   "name": "python",
   "nbconvert_exporter": "python",
   "pygments_lexer": "ipython3",
   "version": "3.11.5"
  }
 },
 "nbformat": 4,
 "nbformat_minor": 5
}
