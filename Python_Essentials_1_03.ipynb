{
 "cells": [
  {
   "cell_type": "markdown",
   "id": "311361e1",
   "metadata": {},
   "source": [
    "## Question 1\n",
    "\n",
    "An operator able to check whether two values are equal is coded as:\n",
    "    \n",
    "    =="
   ]
  },
  {
   "cell_type": "code",
   "execution_count": null,
   "id": "d1b27fe7",
   "metadata": {},
   "outputs": [],
   "source": []
  },
  {
   "cell_type": "markdown",
   "id": "aec1bf49",
   "metadata": {},
   "source": [
    "## Question 2\n",
    "\n",
    "The value eventually assigned to x is equal to:\n",
    "x = 1\n",
    "x = x == x\n",
    "\n",
    "    True\n",
    "     "
   ]
  },
  {
   "cell_type": "code",
   "execution_count": null,
   "id": "43ad4f75",
   "metadata": {},
   "outputs": [],
   "source": []
  },
  {
   "cell_type": "markdown",
   "id": "d4c67405",
   "metadata": {},
   "source": [
    "## Question 3\n",
    "\n",
    "How many stars (*) will the following snippet send to the console?\n",
    "\n",
    "    2"
   ]
  },
  {
   "cell_type": "code",
   "execution_count": 1,
   "id": "9a1d8776",
   "metadata": {},
   "outputs": [
    {
     "name": "stdout",
     "output_type": "stream",
     "text": [
      "*\n",
      "*\n"
     ]
    }
   ],
   "source": [
    "i = 0\n",
    "while i <= 3 : # 0, 2 <= 3\n",
    "    i += 2\n",
    "    print(\"*\")\n",
    "\n"
   ]
  },
  {
   "cell_type": "markdown",
   "id": "fc446426",
   "metadata": {},
   "source": [
    "## Question 4\n",
    "\n",
    "How many stars (*) will the following snippet send to the console?\n",
    "\n",
    "    1"
   ]
  },
  {
   "cell_type": "code",
   "execution_count": 2,
   "id": "8165bbaa",
   "metadata": {},
   "outputs": [
    {
     "name": "stdout",
     "output_type": "stream",
     "text": [
      "*\n"
     ]
    }
   ],
   "source": [
    "i = 0\n",
    "while i <= 5 : # 0 a 4\n",
    "    i += 1\n",
    "    if i % 2 == 0:\n",
    "      break\n",
    "    print(\"*\")\n",
    "\n",
    "# Primeira Iteração:\n",
    "# i = 0\n",
    "# i += 1 resulta em i = 1.\n",
    "# i % 2 == 0 é False (1 não é par).\n",
    "# print(\"*\") é executado e imprime *.\n",
    "\n",
    "# Segunda Iteração:\n",
    "# i = 1\n",
    "# i += 1 resulta em i = 2.\n",
    "# i % 2 == 0 é True (2 é par).\n",
    "# O comando break é executado, interrompendo o loop.\n"
   ]
  },
  {
   "cell_type": "markdown",
   "id": "930c19d7",
   "metadata": {},
   "source": [
    "## Question 5\n",
    "\n",
    "How many hashes (#) will the following snippet send to the console?\n",
    "\n",
    "    2"
   ]
  },
  {
   "cell_type": "code",
   "execution_count": 4,
   "id": "81c93fa5",
   "metadata": {},
   "outputs": [
    {
     "name": "stdout",
     "output_type": "stream",
     "text": [
      "#\n",
      "#\n"
     ]
    }
   ],
   "source": [
    "for i in range(1): # 0 - executa 1 vez\n",
    "    print(\"#\")\n",
    "else:\n",
    "    print(\"#\")\n",
    "\n",
    "# Iteração 1:\n",
    "# i = 0\n",
    "# print(\"#\") é executado e imprime #.\n",
    "# Bloco else:\n",
    "\n",
    "# Após o loop for completar sua única iteração, o bloco else é executado.\n",
    "# print(\"#\") é executado e imprime #.\n",
    "\n",
    "# O código irá imprimir # duas vezes, uma vez durante a única iteração do loop for \n",
    "# e outra vez no bloco else após o loop completar.\n"
   ]
  },
  {
   "cell_type": "markdown",
   "id": "095473a3",
   "metadata": {},
   "source": [
    "## Question 6\n",
    "\n",
    "How many hashes (#) will the following snippet send to the console?\n",
    "    3"
   ]
  },
  {
   "cell_type": "code",
   "execution_count": 5,
   "id": "14f80eff",
   "metadata": {},
   "outputs": [
    {
     "name": "stdout",
     "output_type": "stream",
     "text": [
      "#\n",
      "#\n",
      "#\n"
     ]
    }
   ],
   "source": [
    "var = 0\n",
    "while var < 6:\n",
    "    var += 1\n",
    "    if var % 2 == 0:\n",
    "        continue\n",
    "    print(\"#\")\n",
    "\n"
   ]
  },
  {
   "cell_type": "markdown",
   "id": "4b25d83f",
   "metadata": {},
   "source": [
    "## Question 7\n",
    "\n",
    "How many hashes (#) will the following snippet send to the console?\n",
    "    4"
   ]
  },
  {
   "cell_type": "code",
   "execution_count": 6,
   "id": "33ca91f1",
   "metadata": {},
   "outputs": [
    {
     "name": "stdout",
     "output_type": "stream",
     "text": [
      "#\n",
      "#\n",
      "#\n",
      "#\n"
     ]
    }
   ],
   "source": [
    "var = 1\n",
    "while var < 10: # 0 a 9\n",
    "    print(\"#\")\n",
    "    var = var << 1\n",
    "    \n",
    "# var << 1 é um operador de deslocamento à esquerda em Python.\n",
    "# Este operador desloca os bits de var para a esquerda em 1 posição\n",
    "# e preenche o bit mais à direita com zero.\n",
    "\n",
    "# No contexto de números inteiros, var << 1 é equivalente a multiplicar var por 2.\n",
    "# Então, var é atualizado para o dobro do seu valor atual a cada iteração.\n",
    "\n",
    "# Primeira Iteração:\n",
    "# var = 1\n",
    "# print(\"#\") imprime #\n",
    "# var = var << 1 atualiza var para 2\n",
    "\n",
    "# Segunda Iteração:\n",
    "# var = 2\n",
    "# print(\"#\") imprime #\n",
    "# var = var << 1 atualiza var para 4\n",
    "\n",
    "# Terceira Iteração:\n",
    "# var = 4\n",
    "# print(\"#\") imprime #\n",
    "# var = var << 1 atualiza var para 8\n",
    "\n",
    "# Quarta Iteração:\n",
    "# var = 8\n",
    "# print(\"#\") imprime #\n",
    "# var = var << 1 atualiza var para 16\n",
    "# Condição while:\n",
    "\n",
    "# Na quinta iteração, var é 16, que não é mais menor que 10.\n",
    "# Portanto, o loop while termina.\n"
   ]
  },
  {
   "cell_type": "markdown",
   "id": "a6149d16",
   "metadata": {},
   "source": [
    "## Question 8\n",
    "\n",
    "What value will be assigned to the x variable?\n",
    "\n",
    "    True\n"
   ]
  },
  {
   "cell_type": "code",
   "execution_count": null,
   "id": "7de1a975",
   "metadata": {},
   "outputs": [],
   "source": [
    "z = 10\n",
    "y = 0\n",
    "x = y < z and z > y or y > z and z < y\n",
    "\n",
    "# x = 0 < 10 and 10 > 0 or 0 > 10 and 10 < 0 # Se 1 das 2 for True, resulatdo: True"
   ]
  },
  {
   "cell_type": "markdown",
   "id": "f4f5fc8c",
   "metadata": {},
   "source": [
    "## Question 9\n",
    "\n",
    "What is the output of the following snippet?\n",
    "    2"
   ]
  },
  {
   "cell_type": "code",
   "execution_count": 7,
   "id": "7318e031",
   "metadata": {},
   "outputs": [
    {
     "name": "stdout",
     "output_type": "stream",
     "text": [
      "2\n"
     ]
    }
   ],
   "source": [
    "a = 1\n",
    "b = 0\n",
    "c = a & b  # AND bit a bit entre 1 e 0 -> 0\n",
    "d = a | b  # OR bit a bit entre 1 e 0 -> 1\n",
    "e = a ^ b  # XOR bit a bit entre 1 e 0 -> 1\n",
    "\n",
    "# c = 0\n",
    "# d = 1\n",
    "# e = 1\n",
    "\n",
    "print(c + d + e)\n",
    "\n",
    "# Operadores Bit a Bit:\n",
    "\n",
    "# a & b: Operação AND bit a bit entre a e b.\n",
    "# 1 & 0 resulta em 0 (somente quando ambos os bits são 1).\n",
    "\n",
    "# a | b: Operação OR bit a bit entre a e b.\n",
    "# 1 | 0 resulta em 1 (quando pelo menos um dos bits é 1).\n",
    "\n",
    "# a ^ b: Operação XOR bit a bit entre a e b.\n",
    "# 1 ^ 0 resulta em 1 (quando os bits são diferentes).\n"
   ]
  },
  {
   "cell_type": "markdown",
   "id": "1cde254b",
   "metadata": {},
   "source": [
    "## Question 10\n",
    "\n",
    "What is the output of the following snippet?\n",
    "    1\n"
   ]
  },
  {
   "cell_type": "code",
   "execution_count": 9,
   "id": "2e5fa88d",
   "metadata": {},
   "outputs": [
    {
     "name": "stdout",
     "output_type": "stream",
     "text": [
      "1\n"
     ]
    }
   ],
   "source": [
    "my_list = [3, 1, -2]\n",
    "print(my_list[my_list[-1]])\n",
    "\n",
    "# my_list[-1] é -2.\n",
    "# my_list[my_list[-1]] é o mesmo que my_list[-2].\n",
    "# my_list[-2] é 1."
   ]
  },
  {
   "cell_type": "markdown",
   "id": "f58e3082",
   "metadata": {},
   "source": [
    "## Question 11\n",
    "\n",
    "What is the output of the following snippet?"
   ]
  },
  {
   "cell_type": "code",
   "execution_count": 10,
   "id": "0afd2233",
   "metadata": {},
   "outputs": [
    {
     "name": "stdout",
     "output_type": "stream",
     "text": [
      "[2]\n"
     ]
    }
   ],
   "source": [
    "my_list = [1, 2, 3, 4]\n",
    "print(my_list[-3:-2])\n"
   ]
  },
  {
   "cell_type": "markdown",
   "id": "9a140ef6",
   "metadata": {},
   "source": [
    "## Question 12\n",
    "\n",
    "The second assignment:\n",
    "\n",
    "vals = [0, 1, 2]\n",
    "vals[0], vals[2] = vals[2], vals[0]\n",
    "\n",
    "    reverses the list"
   ]
  },
  {
   "cell_type": "code",
   "execution_count": null,
   "id": "682d2c7f",
   "metadata": {},
   "outputs": [],
   "source": []
  },
  {
   "cell_type": "markdown",
   "id": "620d7b57",
   "metadata": {},
   "source": [
    "## Question 13\n",
    "\n",
    "After execution of the following snippet, the sum of all vals elements will be equal to:\n",
    "        4"
   ]
  },
  {
   "cell_type": "code",
   "execution_count": 14,
   "id": "818e11ac",
   "metadata": {
    "scrolled": true
   },
   "outputs": [
    {
     "name": "stdout",
     "output_type": "stream",
     "text": [
      "4\n"
     ]
    }
   ],
   "source": [
    "vals = [0, 1, 2]\n",
    "vals.insert(0, 1)\n",
    "# vals -> [1, 0, 1, 2]\n",
    "del vals[1]\n",
    "# vals - > [1,1,2]\n",
    "\n",
    "print(sum(vals))"
   ]
  },
  {
   "cell_type": "markdown",
   "id": "0794517c",
   "metadata": {},
   "source": [
    "## Question 14\n",
    "\n",
    "Take a look at the snippet, and choose the true statements: (Select two answers)\n",
    "nums = [1, 2, 3]\n",
    "vals = nums\n",
    "del vals[1:2]\n",
    "\n",
    "    nums and vals are of the same length\n",
    "\n",
    "    nums and vals refer to the same list\n"
   ]
  },
  {
   "cell_type": "code",
   "execution_count": 16,
   "id": "1c3cad3a",
   "metadata": {},
   "outputs": [
    {
     "name": "stdout",
     "output_type": "stream",
     "text": [
      "[1, 3]\n",
      "[1, 3]\n"
     ]
    }
   ],
   "source": [
    "nums = [1, 2, 3]\n",
    "vals = nums\n",
    "del vals[1:2]\n",
    "print(nums)\n",
    "print(vals)"
   ]
  },
  {
   "cell_type": "markdown",
   "id": "7f13728d",
   "metadata": {},
   "source": [
    "## Question 15\n",
    "\n",
    "Which of the following sentences are true? (Select two answers)\n",
    "nums = [1, 2, 3]\n",
    "vals = nums[-1:-2]\n",
    "\n",
    "    nums and vals are two different lists\n",
    "    \n",
    "    nums is longer than vals\n"
   ]
  },
  {
   "cell_type": "code",
   "execution_count": 17,
   "id": "0a5094c6",
   "metadata": {},
   "outputs": [
    {
     "name": "stdout",
     "output_type": "stream",
     "text": [
      "[1, 2, 3]\n",
      "[]\n"
     ]
    }
   ],
   "source": [
    "nums = [1, 2, 3]\n",
    "vals = nums[-1:-2]\n",
    "\n",
    "print(nums)\n",
    "print(vals)"
   ]
  },
  {
   "cell_type": "markdown",
   "id": "be35cd77",
   "metadata": {},
   "source": [
    "## Question 16\n",
    "\n",
    "What is the output of the following snippet?\n",
    "    [3, 2, 1]\n",
    "    "
   ]
  },
  {
   "cell_type": "code",
   "execution_count": 18,
   "id": "b52c0426",
   "metadata": {},
   "outputs": [
    {
     "name": "stdout",
     "output_type": "stream",
     "text": [
      "[3, 2, 1]\n"
     ]
    }
   ],
   "source": [
    "my_list_1 = [1, 2, 3]\n",
    "my_list_2 = []\n",
    "for v in my_list_1:\n",
    "    my_list_2.insert(0, v)\n",
    "print(my_list_2)\n"
   ]
  },
  {
   "cell_type": "markdown",
   "id": "eddad885",
   "metadata": {},
   "source": [
    "## Question 17\n",
    "What is the output of the following snippet?\n",
    "    [1, 1, 1, 1, 2, 3]"
   ]
  },
  {
   "cell_type": "code",
   "execution_count": 19,
   "id": "12754d10",
   "metadata": {},
   "outputs": [
    {
     "name": "stdout",
     "output_type": "stream",
     "text": [
      "[1, 1, 1, 1, 2, 3]\n"
     ]
    }
   ],
   "source": [
    "my_list = [1, 2, 3]\n",
    "for v in range(len(my_list)): \n",
    "    my_list.insert(1, my_list[v])\n",
    "print(my_list)\n",
    "\n",
    "# Iteração 1 (v = 0): my_list se torna [1, 1, 2, 3]\n",
    "# Iteração 2 (v = 1): my_list se torna [1, 1, 1, 2, 3]\n",
    "# Iteração 3 (v = 2): my_list se torna [1, 1, 1, 1, 2, 3]\n",
    "\n"
   ]
  },
  {
   "cell_type": "markdown",
   "id": "ee160820",
   "metadata": {},
   "source": [
    "## Question 18\n",
    "How many elements does the my_list list contain?\n",
    "\n",
    "    3\n",
    "\n",
    "my_list = [i for i in range(-1, 2)] # (-1, 0, 1)\n"
   ]
  },
  {
   "cell_type": "code",
   "execution_count": null,
   "id": "7c2c67e6",
   "metadata": {},
   "outputs": [],
   "source": []
  },
  {
   "cell_type": "markdown",
   "id": "4f158f6e",
   "metadata": {},
   "source": [
    "## Question 19\n",
    "\n",
    "What is the output of the following snippet?\n",
    "    6\n",
    "    "
   ]
  },
  {
   "cell_type": "code",
   "execution_count": 22,
   "id": "3f30c63d",
   "metadata": {},
   "outputs": [
    {
     "name": "stdout",
     "output_type": "stream",
     "text": [
      "6\n"
     ]
    }
   ],
   "source": [
    "t = [[3-i for i in range (3)] for j in range (3)]\n",
    "s = 0\n",
    "for i in range(3):\n",
    "    s += t[i][i]\n",
    "print(s)\n",
    "\n",
    "# Isso cria uma matriz t de dimensões 3x3.\n",
    "# Cada elemento t[j][i] é calculado como 3-i, onde i varia de 0 a 2 e j varia de 0 a 2.\n",
    "# Portanto, t se torna:\n",
    "# [[3, 2, 1],\n",
    "#  [3, 2, 1],\n",
    "#  [3, 2, 1]]\n",
    "\n",
    "# Este loop for itera sobre os índices de linha e coluna [i, i] da matriz t.\n",
    "# A cada iteração, t[i][i] acessa o elemento na posição [i, i] da matriz t, \n",
    "# que corresponde aos elementos da diagonal principal.\n",
    "# Os elementos da diagonal principal são 3, 2, 1.\n",
    "# Portanto, s é atualizado para 3 + 2 + 1 = 6.\n"
   ]
  },
  {
   "cell_type": "markdown",
   "id": "d8294a9d",
   "metadata": {},
   "source": [
    "## Question 20\n",
    "\n",
    "What is the output of the following snippet?\n",
    "\n",
    "my_list = [[0, 1, 2, 3] for i in range(2)] # só existe o index 0 e 1\n",
    "print(my_list[2][0])\n",
    "\n",
    "the snippet will cause a runtime error"
   ]
  }
 ],
 "metadata": {
  "kernelspec": {
   "display_name": "Python 3 (ipykernel)",
   "language": "python",
   "name": "python3"
  },
  "language_info": {
   "codemirror_mode": {
    "name": "ipython",
    "version": 3
   },
   "file_extension": ".py",
   "mimetype": "text/x-python",
   "name": "python",
   "nbconvert_exporter": "python",
   "pygments_lexer": "ipython3",
   "version": "3.11.5"
  }
 },
 "nbformat": 4,
 "nbformat_minor": 5
}
