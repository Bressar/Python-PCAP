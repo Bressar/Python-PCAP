{
 "cells": [
  {
   "cell_type": "markdown",
   "id": "e1b6c251",
   "metadata": {},
   "source": [
    "## Question 1\n",
    "What keyword would you use to define an anonymous function?\n",
    "\n",
    "    lambda\n"
   ]
  },
  {
   "cell_type": "markdown",
   "id": "777cd172",
   "metadata": {},
   "source": [
    "## Question 2\n",
    "Select the true statements. (Select two answers)\n",
    "\n",
    "    The lambda function can accept any number of arguments\n",
    "\n",
    "    The lambda function can evaluate only one expression\n"
   ]
  },
  {
   "cell_type": "markdown",
   "id": "08e16bca",
   "metadata": {},
   "source": [
    "## Question 3\n",
    "Look at the code below:\n",
    "\n",
    "my_list = [1, 2, 3]\n",
    "*Insert line of code here.*\n",
    "print(foo)\n",
    " \n",
    "Which snippet would you insert in order for the program to output the following result (tuple):\n",
    "\n",
    "(1, 4, 27)\n",
    "\n",
    "    foo = tuple(map(lambda x: x**x, my_list))  \n"
   ]
  },
  {
   "cell_type": "code",
   "execution_count": 3,
   "id": "e4857231",
   "metadata": {},
   "outputs": [
    {
     "name": "stdout",
     "output_type": "stream",
     "text": [
      "(1, 4, 27)\n"
     ]
    }
   ],
   "source": [
    "my_list = [1, 2, 3]\n",
    "foo = tuple(map(lambda x: x**x, my_list)) \n",
    "print(foo)"
   ]
  },
  {
   "cell_type": "markdown",
   "id": "6679b7c0",
   "metadata": {},
   "source": [
    "## Question 4\n",
    "Look at the code below:\n",
    "\n",
    "my_tuple = (0, 1, 2, 3, 4, 5, 6)\n",
    "*Insert line of code here.*\n",
    "print(foo)\n",
    " \n",
    "Which snippet would you insert in order for the program to output the following result (list):\n",
    "\n",
    "[2, 3, 4, 5, 6]\n",
    "Output\n",
    "\n",
    "    foo = list(filter(lambda x: x-0 and x-1, my_tuple))  \n"
   ]
  },
  {
   "cell_type": "code",
   "execution_count": 2,
   "id": "9ae84506",
   "metadata": {},
   "outputs": [
    {
     "name": "stdout",
     "output_type": "stream",
     "text": [
      "[2, 3, 4, 5, 6]\n"
     ]
    }
   ],
   "source": [
    "my_tuple = (0, 1, 2, 3, 4, 5, 6)\n",
    "foo = list(filter(lambda x: x-0 and x-1, my_tuple))  \n",
    "print(foo)"
   ]
  },
  {
   "cell_type": "markdown",
   "id": "1d13af03",
   "metadata": {},
   "source": [
    "## Question 5\n",
    "What is the expected result of executing the following code?\n",
    "\n",
    "def I():\n",
    "    s = 'abcdef'\n",
    "    for c in s[::2]:\n",
    "        yield c\n",
    " \n",
    "for x in I():\n",
    "    print(x, end='')\n",
    " \n",
    "\n",
    "    It will print ace\n"
   ]
  },
  {
   "cell_type": "code",
   "execution_count": 4,
   "id": "5ad13e27",
   "metadata": {},
   "outputs": [
    {
     "name": "stdout",
     "output_type": "stream",
     "text": [
      "ace"
     ]
    }
   ],
   "source": [
    "def I():\n",
    "    s = 'abcdef'\n",
    "    for c in s[::2]:\n",
    "        yield c\n",
    " \n",
    "for x in I():\n",
    "    print(x, end='')"
   ]
  },
  {
   "cell_type": "markdown",
   "id": "247c9bb2",
   "metadata": {},
   "source": [
    "## Question 6\n",
    "What is the expected result of executing the following code?\n",
    "\n",
    "def fun(n):\n",
    "    s = '+'\n",
    "    for i in range(n):\n",
    "        s += s\n",
    "        yield s\n",
    " \n",
    "for x in fun(2):\n",
    "    print(x, end='');\n",
    " \n",
    "    It will print ++++++\n"
   ]
  },
  {
   "cell_type": "code",
   "execution_count": 5,
   "id": "beb942cb",
   "metadata": {},
   "outputs": [
    {
     "name": "stdout",
     "output_type": "stream",
     "text": [
      "++++++"
     ]
    }
   ],
   "source": [
    "def fun(n):\n",
    "    s = '+'\n",
    "    for i in range(n):\n",
    "        s += s\n",
    "        yield s\n",
    "  \n",
    "for x in fun(2):\n",
    "    print(x, end='');"
   ]
  },
  {
   "cell_type": "markdown",
   "id": "fe728d62",
   "metadata": {},
   "source": [
    "## Question 7\n",
    "What is the expected result of executing the following code?\n",
    "\n",
    "def o(p):\n",
    "    def q():\n",
    "        return '*' * p\n",
    "    return q\n",
    " \n",
    "r = o(1)\n",
    "s = o(2)\n",
    "print(r() + s())\n",
    " \n",
    "    It will print ***\n"
   ]
  },
  {
   "cell_type": "code",
   "execution_count": 6,
   "id": "5419749c",
   "metadata": {},
   "outputs": [
    {
     "name": "stdout",
     "output_type": "stream",
     "text": [
      "***\n"
     ]
    }
   ],
   "source": [
    "def o(p):\n",
    "    def q():\n",
    "        return '*' * p\n",
    "    return q\n",
    " \n",
    "r = o(1)\n",
    "s = o(2)\n",
    "print(r() + s())"
   ]
  },
  {
   "cell_type": "markdown",
   "id": "6b1f1b19",
   "metadata": {},
   "source": [
    "## Question 8\n",
    "Which of the following open modes allow you to perform read operations?\n",
    "(Select two answers)\n",
    "\n",
    "    r+\n",
    "\n",
    "    r\n",
    "    "
   ]
  },
  {
   "cell_type": "markdown",
   "id": "df541e50",
   "metadata": {},
   "source": [
    "## Question 9\n",
    "What is the meaning of the value represented by errno.EEXIST ?\n",
    "\n",
    "    File exists\n"
   ]
  },
  {
   "cell_type": "markdown",
   "id": "7a3f58d4",
   "metadata": {},
   "source": [
    "## Question 10\n",
    "What is the expected result of the following code?\n",
    "\n",
    "b = bytearray(3)\n",
    "print(b)\n",
    " \n",
    "bytearray(b'\\x00\\x00\\x00')\n"
   ]
  },
  {
   "cell_type": "code",
   "execution_count": 8,
   "id": "3bbed4bd",
   "metadata": {},
   "outputs": [
    {
     "name": "stdout",
     "output_type": "stream",
     "text": [
      "bytearray(b'\\x00\\x00\\x00')\n"
     ]
    },
    {
     "data": {
      "text/plain": [
       "bytearray(b'\\x00\\x00\\x00')"
      ]
     },
     "execution_count": 8,
     "metadata": {},
     "output_type": "execute_result"
    }
   ],
   "source": [
    "b = bytearray(3)\n",
    "print(b)\n",
    " \n",
    "bytearray(b'\\x00\\x00\\x00')"
   ]
  },
  {
   "cell_type": "markdown",
   "id": "47d5facd",
   "metadata": {},
   "source": [
    "## Question 11\n",
    "What is the expected result of the following code?\n",
    "\n",
    "import os\n",
    " \n",
    "os.mkdir('pictures')\n",
    "os.chdir('pictures')\n",
    "os.mkdir('thumbnails')\n",
    "os.chdir('thumbnails')\n",
    "os.mkdir('tmp')\n",
    "os.chdir('../')\n",
    " \n",
    "print(os.getcwd())\n",
    " \n",
    "    It prints the path to the pictures directory\n"
   ]
  },
  {
   "cell_type": "code",
   "execution_count": 9,
   "id": "d3d36762",
   "metadata": {},
   "outputs": [
    {
     "name": "stdout",
     "output_type": "stream",
     "text": [
      "C:\\Users\\bress\\Downloads\\Jupyter\\pictures\n"
     ]
    }
   ],
   "source": [
    "import os\n",
    " \n",
    "os.mkdir('pictures')\n",
    "os.chdir('pictures')\n",
    "os.mkdir('thumbnails')\n",
    "os.chdir('thumbnails')\n",
    "os.mkdir('tmp')\n",
    "os.chdir('../')\n",
    " \n",
    "print(os.getcwd())"
   ]
  },
  {
   "cell_type": "markdown",
   "id": "2f376f94",
   "metadata": {},
   "source": [
    "## Question 12\n",
    "What is the expected result of the following code?\n",
    "\n",
    "import os\n",
    " \n",
    "os.mkdir('thumbnails')\n",
    "os.chdir('thumbnails')\n",
    " \n",
    "sizes = ['small', 'medium', 'large']\n",
    " \n",
    "for size in sizes:\n",
    "    os.mkdir(size)\n",
    " \n",
    "print(os.listdir())\n",
    " \n",
    "    ['large', 'small', 'medium']\n",
    "    "
   ]
  },
  {
   "cell_type": "code",
   "execution_count": 1,
   "id": "3328c881",
   "metadata": {},
   "outputs": [
    {
     "name": "stdout",
     "output_type": "stream",
     "text": [
      "['large', 'medium', 'small']\n"
     ]
    }
   ],
   "source": [
    "import os\n",
    " \n",
    "os.mkdir('thumbnails')\n",
    "os.chdir('thumbnails')\n",
    " \n",
    "sizes = ['small', 'medium', 'large']\n",
    " \n",
    "for size in sizes:\n",
    "    os.mkdir(size)\n",
    " \n",
    "print(os.listdir())"
   ]
  },
  {
   "cell_type": "markdown",
   "id": "d65085c5",
   "metadata": {},
   "source": [
    "## Question 13\n",
    "What is the expected result of the following code?\n",
    "\n",
    "from datetime import date\n",
    " \n",
    "date_1 = date(1992, 1, 16)\n",
    "date_2 = date(1991, 2, 5)\n",
    " \n",
    "print(date_1 - date_2)\n",
    "\n",
    "    345 days, 0:00:00\n"
   ]
  },
  {
   "cell_type": "code",
   "execution_count": 12,
   "id": "b5523a3f",
   "metadata": {},
   "outputs": [
    {
     "name": "stdout",
     "output_type": "stream",
     "text": [
      "345 days, 0:00:00\n"
     ]
    }
   ],
   "source": [
    "from datetime import date\n",
    " \n",
    "date_1 = date(1992, 1, 16)\n",
    "date_2 = date(1991, 2, 5)\n",
    " \n",
    "print(date_1 - date_2)"
   ]
  },
  {
   "cell_type": "markdown",
   "id": "70202585",
   "metadata": {},
   "source": [
    "## Question 14\n",
    "What is the expected result of the following code?\n",
    "\n",
    "from datetime import datetime\n",
    " \n",
    "datetime = datetime(2019, 11, 27, 11, 27, 22)\n",
    "print(datetime.strftime('%y/%B/%d %H:%M:%S'))\n",
    " \n",
    "    19/November/27 11:27:22\n",
    "            "
   ]
  },
  {
   "cell_type": "code",
   "execution_count": 13,
   "id": "c7b8ce6f",
   "metadata": {},
   "outputs": [
    {
     "name": "stdout",
     "output_type": "stream",
     "text": [
      "19/November/27 11:27:22\n"
     ]
    }
   ],
   "source": [
    "from datetime import datetime\n",
    " \n",
    "datetime = datetime(2019, 11, 27, 11, 27, 22)\n",
    "print(datetime.strftime('%y/%B/%d %H:%M:%S'))"
   ]
  },
  {
   "cell_type": "markdown",
   "id": "4bd5ad06",
   "metadata": {},
   "source": [
    "## Question 15\n",
    "Which program will produce the following output:\n",
    "Mo Tu We Th Fr Sa Su\n",
    "\n",
    "A:\n",
    "import calendar\n",
    "print(calendar.weekheader(2))\n",
    "      \n",
    "B:\n",
    "import calendar\n",
    "print(calendar.weekheader())\n",
    "      \n",
    "C:\n",
    "import calendar\n",
    "print(calendar.weekheader(3))\n",
    "      \n",
    "D:\n",
    "import calendar\n",
    "print(calendar.week)\n",
    "\n",
    " resposta: A\n"
   ]
  },
  {
   "cell_type": "code",
   "execution_count": 15,
   "id": "f4edf589",
   "metadata": {},
   "outputs": [
    {
     "name": "stdout",
     "output_type": "stream",
     "text": [
      "Mo Tu We Th Fr Sa Su\n"
     ]
    }
   ],
   "source": [
    "import calendar\n",
    "print(calendar.weekheader(2))"
   ]
  },
  {
   "cell_type": "markdown",
   "id": "926f7245",
   "metadata": {},
   "source": [
    "## Question 16\n",
    "What is the expected result of the following code?\n",
    "\n",
    "import calendar\n",
    " \n",
    "c = calendar.Calendar()\n",
    " \n",
    "for weekday in c.iterweekdays():\n",
    "    print(weekday, end=\" \")\n",
    " \n",
    "    0 1 2 3 4 5 6\n"
   ]
  },
  {
   "cell_type": "code",
   "execution_count": 17,
   "id": "e6cbb9b5",
   "metadata": {},
   "outputs": [
    {
     "name": "stdout",
     "output_type": "stream",
     "text": [
      "0 1 2 3 4 5 6 "
     ]
    }
   ],
   "source": [
    "import calendar\n",
    " \n",
    "c = calendar.Calendar()\n",
    " \n",
    "for weekday in c.iterweekdays():\n",
    "    print(weekday, end=\" \")"
   ]
  },
  {
   "cell_type": "code",
   "execution_count": null,
   "id": "0d9ac8a5",
   "metadata": {},
   "outputs": [],
   "source": []
  }
 ],
 "metadata": {
  "kernelspec": {
   "display_name": "Python 3 (ipykernel)",
   "language": "python",
   "name": "python3"
  },
  "language_info": {
   "codemirror_mode": {
    "name": "ipython",
    "version": 3
   },
   "file_extension": ".py",
   "mimetype": "text/x-python",
   "name": "python",
   "nbconvert_exporter": "python",
   "pygments_lexer": "ipython3",
   "version": "3.11.5"
  }
 },
 "nbformat": 4,
 "nbformat_minor": 5
}
