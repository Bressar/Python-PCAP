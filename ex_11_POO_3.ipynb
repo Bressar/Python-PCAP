{
 "cells": [
  {
   "cell_type": "code",
   "execution_count": null,
   "id": "06c70810",
   "metadata": {},
   "outputs": [],
   "source": [
    "## MRO\n",
    "\n",
    "**O que é a Ordem de Resolução de Métodos (MRO) e por que nem todas as heranças fazem sentido?**\n",
    "\n",
    "A MRO (Method Resolution Order) é, de maneira geral, uma forma (ou estratégia)\n",
    "pela qual uma linguagem de programação específica percorre a parte superior da\n",
    "hierarquia de classes para encontrar o método que precisa no momento.\n",
    "Vale destacar que diferentes linguagens utilizam MROs ligeiramente\n",
    "(ou até completamente) diferentes. No entanto, o Python é único nesse sentido,\n",
    "e suas práticas são um pouco específicas.\n",
    "\n",
    "Como a MRO do Python funciona em dois casos peculiares que exemplificam\n",
    "os problemas que podem surgir quando se tenta usar herança múltipla de forma imprudente.\n",
    "\n",
    "Vamos começar com um trecho de código que, inicialmente, pode parecer simples. \n",
    "Veja no editor."
   ]
  },
  {
   "cell_type": "code",
   "execution_count": 1,
   "id": "05654b18",
   "metadata": {},
   "outputs": [
    {
     "name": "stdout",
     "output_type": "stream",
     "text": [
      "bottom\n",
      "middle\n",
      "top\n"
     ]
    }
   ],
   "source": [
    "class Top:\n",
    "    def m_top(self):\n",
    "        print(\"top\")\n",
    "\n",
    "\n",
    "class Middle(Top):\n",
    "    def m_middle(self):\n",
    "        print(\"middle\")\n",
    "\n",
    "\n",
    "class Bottom(Middle):\n",
    "    def m_bottom(self):\n",
    "        print(\"bottom\")\n",
    "\n",
    "\n",
    "object = Bottom()\n",
    "object.m_bottom()\n",
    "object.m_middle()\n",
    "object.m_top()\n",
    "    "
   ]
  },
  {
   "cell_type": "code",
   "execution_count": 2,
   "id": "b151d734",
   "metadata": {},
   "outputs": [
    {
     "name": "stdout",
     "output_type": "stream",
     "text": [
      "bottom\n",
      "middle\n",
      "top\n"
     ]
    }
   ],
   "source": [
    "class Top:\n",
    "    def m_top(self):\n",
    "        print(\"top\")\n",
    "\n",
    "\n",
    "class Middle(Top):\n",
    "    def m_middle(self):\n",
    "        print(\"middle\")\n",
    "\n",
    "class Bottom(Middle, Top): # pequena mudança, herda de 2 superclasses, sendo que Middle já herda de Top\n",
    "    def m_bottom(self):\n",
    "        print(\"bottom\")\n",
    "\n",
    "\n",
    "object = Bottom()\n",
    "object.m_bottom()\n",
    "object.m_middle()\n",
    "object.m_top()\n",
    "    "
   ]
  },
  {
   "cell_type": "markdown",
   "id": "3f45241b",
   "metadata": {},
   "source": [
    "Transformamos um código muito simples com um caminho claro de herança única em um enigma misterioso de herança múltipla.\n",
    "\"Isso é válido?\", você pode perguntar. Sim, é. \"Como isso é possível?\" você deve perguntar agora,\n",
    "e esperamos que você realmente sinta a necessidade de fazer essa pergunta.\n",
    "\n",
    "Como pode ver, a ordem em que as duas superclasses foram listadas entre parênteses está em conformidade\n",
    "com a estrutura do código: a classe Middle precede a classe Top, assim como no caminho real de herança.\n",
    "\n",
    "Apesar da sua estranheza, o exemplo é correto e funciona como esperado,\n",
    "mas deve-se afirmar que essa notação não traz nenhuma nova funcionalidade ou significado adicional."
   ]
  },
  {
   "cell_type": "code",
   "execution_count": 3,
   "id": "2cbc9aec",
   "metadata": {},
   "outputs": [
    {
     "ename": "TypeError",
     "evalue": "Cannot create a consistent method resolution\norder (MRO) for bases Top, Middle",
     "output_type": "error",
     "traceback": [
      "\u001b[1;31m---------------------------------------------------------------------------\u001b[0m",
      "\u001b[1;31mTypeError\u001b[0m                                 Traceback (most recent call last)",
      "Cell \u001b[1;32mIn[3], line 15\u001b[0m\n\u001b[0;32m     11\u001b[0m     \u001b[38;5;28;01mdef\u001b[39;00m \u001b[38;5;21mm_middle\u001b[39m(\u001b[38;5;28mself\u001b[39m):\n\u001b[0;32m     12\u001b[0m         \u001b[38;5;28mprint\u001b[39m(\u001b[38;5;124m\"\u001b[39m\u001b[38;5;124mmiddle\u001b[39m\u001b[38;5;124m\"\u001b[39m)\n\u001b[1;32m---> 15\u001b[0m \u001b[38;5;28;01mclass\u001b[39;00m \u001b[38;5;21;01mBottom\u001b[39;00m(Top, Middle):\n\u001b[0;32m     16\u001b[0m     \u001b[38;5;28;01mdef\u001b[39;00m \u001b[38;5;21mm_bottom\u001b[39m(\u001b[38;5;28mself\u001b[39m):\n\u001b[0;32m     17\u001b[0m         \u001b[38;5;28mprint\u001b[39m(\u001b[38;5;124m\"\u001b[39m\u001b[38;5;124mbottom\u001b[39m\u001b[38;5;124m\"\u001b[39m)\n",
      "\u001b[1;31mTypeError\u001b[0m: Cannot create a consistent method resolution\norder (MRO) for bases Top, Middle"
     ]
    }
   ],
   "source": [
    "# Vamos modificar o código mais uma vez –\n",
    "# agora vamos trocar os nomes das superclasses na definição da classe Bottom.\n",
    "# Veja como o trecho fica agora:\n",
    "\n",
    "class Top:\n",
    "    def m_top(self):\n",
    "        print(\"top\")\n",
    "\n",
    "\n",
    "class Middle(Top):\n",
    "    def m_middle(self):\n",
    "        print(\"middle\")\n",
    "\n",
    "\n",
    "class Bottom(Top, Middle): # ordem inválida!\n",
    "    def m_bottom(self):\n",
    "        print(\"bottom\")\n",
    "\n",
    "\n",
    "object = Bottom()\n",
    "object.m_bottom()\n",
    "object.m_middle()\n",
    "object.m_top()\n",
    "\n",
    "\n",
    "# A ordem que tentamos forçar (Top, Middle) é incompatível com o caminho de herança derivado da estrutura do código.\n",
    "# Python não gostará disso. É isso que veremos:\n",
    "\n",
    "#     **TypeError: Cannot create a consistent method resolution order (MRO) for bases Top, Middle**\n",
    "        \n",
    "# O MRO (Method Resolution Order) do Python não pode ser distorcido ou violado,\n",
    "# não apenas porque é assim que o Python funciona, mas também porque é uma regra que você deve seguir.\n"
   ]
  },
  {
   "cell_type": "markdown",
   "id": "94075e7b",
   "metadata": {},
   "source": [
    "## O problema do diamante\n",
    "\n",
    "O segundo exemplo de problemas que podem surgir da herança múltipla\n",
    "é ilustrado por um problema clássico chamado problema do diamante.\n",
    "O nome reflete a forma do diagrama de herança – imagine a estrutura como um diamante:\n",
    "\n",
    "Há uma superclasse no topo chamada A;\n",
    "\n",
    "Existem duas subclasses derivadas de A: B e C;\n",
    "    \n",
    "E há também uma subclasse na base chamada D, derivada de B e C\n",
    "(ou de C e B, pois essas duas variantes têm significados diferentes em Python).\n",
    "\n",
    "O problema do diamante ocorre quando a classe D herda de ambas as classes B e C,\n",
    "que, por sua vez, herdam da classe A. Isso cria uma situação ambígua onde a classe D\n",
    "pode herdar métodos ou atributos de A por meio de B ou C, o que pode causar confusão\n",
    "sobre qual versão de um método ou atributo deve ser usada.\n",
    "\n",
    "Em Python, essa ambiguidade é resolvida usando o Method Resolution Order (MRO),\n",
    "que determina a ordem em que as classes são verificadas para encontrar métodos ou atributos.\n",
    "No entanto, se não for gerido corretamente, pode resultar em erros, como o que vimos anteriormente\n",
    "com a ordem de herança incompatível."
   ]
  },
  {
   "cell_type": "code",
   "execution_count": null,
   "id": "b53933e1",
   "metadata": {},
   "outputs": [],
   "source": [
    "class A:\n",
    "    pass\n",
    "\n",
    "\n",
    "class B(A):\n",
    "    pass\n",
    "\n",
    "\n",
    "class C(A):\n",
    "    pass\n",
    "\n",
    "\n",
    "class D(B, C):\n",
    "    pass\n",
    "\n",
    "\n",
    "d = D()\n",
    " \n",
    "    \n",
    "# Algumas linguagens de programação não permitem herança múltipla de forma alguma e,\n",
    "# como consequência, não permitem que você construa um \"diamante\"\n",
    "# – essa é a rota que Java e C# escolheram seguir desde suas origens.\n",
    "\n",
    "# Python escolheu uma rota diferente – ele permite herança múltipla e não se importa\n",
    "# se você escrever e executar um código como o mostrado no editor.\n",
    "# Mas não se esqueça do MRO – ele está sempre no comando.\n"
   ]
  },
  {
   "cell_type": "code",
   "execution_count": 4,
   "id": "19f0e98c",
   "metadata": {},
   "outputs": [
    {
     "name": "stdout",
     "output_type": "stream",
     "text": [
      "bottom\n",
      "middle_left\n",
      "top\n"
     ]
    }
   ],
   "source": [
    "class Top:\n",
    "    def m_top(self):\n",
    "        print(\"top\")\n",
    "\n",
    "\n",
    "class Middle_Left(Top):\n",
    "    def m_middle(self):\n",
    "        print(\"middle_left\")\n",
    "\n",
    "\n",
    "class Middle_Right(Top):\n",
    "    def m_middle(self):\n",
    "        print(\"middle_right\")\n",
    "\n",
    "\n",
    "class Bottom(Middle_Left, Middle_Right): # classe Middle_Left está listada antes de Middle_Right\n",
    "\tdef m_bottom(self):\n",
    "\t\tprint(\"bottom\")\n",
    "\n",
    "\n",
    "object = Bottom()\n",
    "object.m_bottom()\n",
    "object.m_middle()\n",
    "object.m_top()\n",
    "    \n",
    "    \n",
    "# Observação: ambas as classes Middle definem um método com o mesmo nome: m_middle().\n",
    "\n",
    "# Isso introduz uma pequena incerteza em nosso exemplo,\n",
    "# qual dos dois métodos m_middle() será realmente invocado quando a seguinte linha for executada?\n",
    "\n",
    "# Em outras palavras, o que você verá na tela: middle_left ou middle_right?\n",
    "\n",
    "# A invocação ativará o método m_middle() que vem da classe Middle_Left.\n",
    "# A explicação é simples: a classe Middle_Left está listada antes de Middle_Right\n",
    "# na lista de herança da classe Bottom. \n"
   ]
  },
  {
   "cell_type": "markdown",
   "id": "4a92edc0",
   "metadata": {},
   "source": [
    "## Resumo - POO - Herança"
   ]
  },
  {
   "cell_type": "code",
   "execution_count": 5,
   "id": "8d763d3e",
   "metadata": {},
   "outputs": [
    {
     "name": "stdout",
     "output_type": "stream",
     "text": [
      "mickey\n"
     ]
    }
   ],
   "source": [
    "# Um método chamado __str__() é responsável por converter o conteúdo de um objeto em uma string\n",
    "# (mais ou menos) legível. Você pode redefini-lo se quiser que seu objeto se apresente de uma forma mais elegante.\n",
    "\n",
    "class Mouse:\n",
    "    def __init__(self, name):\n",
    "        self.my_name = name\n",
    " \n",
    " \n",
    "    def __str__(self):\n",
    "        return self.my_name\n",
    " \n",
    " \n",
    "the_mouse = Mouse('mickey')\n",
    "print(the_mouse) # Prints \"mickey\"."
   ]
  },
  {
   "cell_type": "code",
   "execution_count": 6,
   "id": "c0f347e2",
   "metadata": {},
   "outputs": [
    {
     "name": "stdout",
     "output_type": "stream",
     "text": [
      "False True\n"
     ]
    }
   ],
   "source": [
    "# 2. Uma função chamada issubclass(Class_1, Class_2) é capaz de determinar se Class_1 é uma subclasse de Class_2.\n",
    "\n",
    "class Mouse:\n",
    "    pass\n",
    " \n",
    " \n",
    "class LabMouse(Mouse):\n",
    "    pass\n",
    " \n",
    " \n",
    "print(issubclass(Mouse, LabMouse), issubclass(LabMouse, Mouse)) # Prints \"False True\n",
    " \n"
   ]
  },
  {
   "cell_type": "code",
   "execution_count": 7,
   "id": "e44d206a",
   "metadata": {},
   "outputs": [
    {
     "name": "stdout",
     "output_type": "stream",
     "text": [
      "True False\n"
     ]
    }
   ],
   "source": [
    "# 3. A function named isinstance(Object, Class) checks if an object comes from an indicated class.\n",
    "\n",
    "\n",
    "class Mouse:\n",
    "    pass\n",
    " \n",
    " \n",
    "class LabMouse(Mouse):\n",
    "    pass\n",
    " \n",
    " \n",
    "mickey = Mouse()\n",
    "print(isinstance(mickey, Mouse), isinstance(mickey, LabMouse)) # Prints \"True False\".\n",
    " "
   ]
  },
  {
   "cell_type": "code",
   "execution_count": 8,
   "id": "b34e5bf9",
   "metadata": {},
   "outputs": [
    {
     "name": "stdout",
     "output_type": "stream",
     "text": [
      "False True\n"
     ]
    }
   ],
   "source": [
    "# 4. A operator called is checks if two variables refer to the same object.\n",
    "\n",
    "class Mouse:\n",
    "    pass\n",
    " \n",
    "mickey = Mouse()\n",
    "minnie = Mouse()\n",
    "cloned_mickey = mickey\n",
    "print(mickey is minnie, mickey is cloned_mickey) # Prints \"False True\".\n",
    " "
   ]
  },
  {
   "cell_type": "code",
   "execution_count": 9,
   "id": "9c6041f0",
   "metadata": {},
   "outputs": [
    {
     "name": "stdout",
     "output_type": "stream",
     "text": [
      "Laboratory Mouse\n"
     ]
    }
   ],
   "source": [
    "# 5. A parameterless function named super() returns a reference to the nearest superclass of the class.\n",
    "\n",
    "class Mouse:\n",
    "    def __str__(self):\n",
    "        return \"Mouse\"\n",
    " \n",
    " \n",
    "class LabMouse(Mouse):\n",
    "    def __str__(self):\n",
    "        return \"Laboratory \" + super().__str__()\n",
    " \n",
    " \n",
    "doctor_mouse = LabMouse();\n",
    "print(doctor_mouse) # Prints \"Laboratory Mouse\"."
   ]
  },
  {
   "cell_type": "code",
   "execution_count": null,
   "id": "3d91e01d",
   "metadata": {},
   "outputs": [],
   "source": [
    "# 6. Métodos, assim como variáveis de instância e de classe definidos em uma superclasse,\n",
    "# são automaticamente herdados por suas subclasses.\n",
    "\n",
    "class Mouse:\n",
    "    Population = 0\n",
    "    def __init__(self, name):\n",
    "        Mouse.Population += 1\n",
    "        self.name = name\n",
    " \n",
    "    def __str__(self):\n",
    "        return \"Hi, my name is \" + self.name\n",
    " \n",
    "class LabMouse(Mouse):\n",
    "    tpass\n",
    " \n",
    "professor_mouse = LabMouse(\"Professor Mouser\")\n",
    "print(professor_mouse, Mouse.Population) # Prints \"Hi, my name is Professor Mouser 1\"\n",
    " "
   ]
  },
  {
   "cell_type": "markdown",
   "id": "81a49795",
   "metadata": {},
   "source": [
    "### 7. Para encontrar qualquer propriedade de um objeto ou classe, o Python procura dentro de:\n",
    "\n",
    "- O próprio objeto;\n",
    "\n",
    "- Todas as classes envolvidas na linha de herança do objeto, de baixo para cima;\n",
    "\n",
    "- Se houver mais de uma classe em um caminho de herança específico, o Python as examina da esquerda para a direita;\n",
    "\n",
    "- Se ambos os itens acima falharem, a exceção AttributeError é levantada."
   ]
  },
  {
   "cell_type": "code",
   "execution_count": 11,
   "id": "34228c24",
   "metadata": {},
   "outputs": [
    {
     "name": "stdout",
     "output_type": "stream",
     "text": [
      "Meum nomen est Caesar\n"
     ]
    }
   ],
   "source": [
    "# 8. Se qualquer uma das subclasses definir um método,\n",
    "# variável de classe ou variável de instância com o mesmo nome que existe na superclasse,\n",
    "# o novo nome sobrescreve qualquer uma das instâncias anteriores do nome.\n",
    "\n",
    "class Mouse:\n",
    "    def __init__(self, name):\n",
    "        self.name = name\n",
    " \n",
    "    def __str__(self):\n",
    "        return \"My name is \" + self.name\n",
    " \n",
    "class AncientMouse(Mouse):\n",
    "    def __str__(self):\n",
    "        return \"Meum nomen est \" + self.name\n",
    " \n",
    "mus = AncientMouse(\"Caesar\") # Prints \"Meum nomen est Caesar\"\n",
    "print(mus)\n",
    " "
   ]
  },
  {
   "cell_type": "code",
   "execution_count": 14,
   "id": "9e648569",
   "metadata": {},
   "outputs": [
    {
     "name": "stdout",
     "output_type": "stream",
     "text": [
      "Collie says: Woof! Don't run away, Little Lamb!\n",
      "Dobermann says: Woof! Stay where you are, Mister Intruder!\n"
     ]
    }
   ],
   "source": [
    "# Exerecícios:\n",
    "\n",
    "# Questão 1: \n",
    "\n",
    "class Dog:\n",
    "    kennel = 0\n",
    "    def __init__(self, breed):\n",
    "        self.breed = breed\n",
    "        Dog.kennel += 1\n",
    "    def __str__(self):\n",
    "        return self.breed + \" says: Woof!\"\n",
    "\n",
    "\n",
    "class SheepDog(Dog):\n",
    "    def __str__(self):\n",
    "        return super().__str__() + \" Don't run away, Little Lamb!\"\n",
    "\n",
    "\n",
    "class GuardDog(Dog):\n",
    "    def __str__(self):\n",
    "        return super().__str__() + \" Stay where you are, Mister Intruder!\"\n",
    "\n",
    "\n",
    "rocky = SheepDog(\"Collie\")\n",
    "luna = GuardDog(\"Dobermann\")\n",
    "\n",
    "print(rocky)\n",
    "print(luna)"
   ]
  },
  {
   "cell_type": "code",
   "execution_count": 15,
   "id": "3b35a1b7",
   "metadata": {},
   "outputs": [
    {
     "name": "stdout",
     "output_type": "stream",
     "text": [
      "True False\n",
      "False True\n"
     ]
    }
   ],
   "source": [
    "# Questão 2:  What is the expected output of the following piece of code?\n",
    "\n",
    "print(issubclass(SheepDog, Dog), issubclass(SheepDog, GuardDog))\n",
    "print(isinstance(rocky, GuardDog), isinstance(luna, GuardDog))\n",
    " "
   ]
  },
  {
   "cell_type": "code",
   "execution_count": 16,
   "id": "ca526352",
   "metadata": {},
   "outputs": [
    {
     "name": "stdout",
     "output_type": "stream",
     "text": [
      "True False\n",
      "2\n"
     ]
    }
   ],
   "source": [
    "# Questão 3: What is the expected output of the following piece of code?\n",
    "\n",
    "print(luna is luna, rocky is luna)\n",
    "\n",
    "print(rocky.kennel)\n",
    "\n",
    "# kennel é uma variável de classe da classe Dog, que começa com o valor 0.\n",
    "# Construtores:\n",
    "\n",
    "# Quando um objeto da classe Dog (ou de suas subclasses) é criado, o construtor __init__ é chamado,\n",
    "# que incrementa o valor de kennel em 1.\n",
    "\n",
    "# Criação dos Objetos:\n",
    "\n",
    "# Quando você cria rocky como um SheepDog, \n",
    "# o construtor da classe Dog é chamado, e Dog.kennel é incrementado de 0 para 1.\n",
    "\n",
    "# Quando você cria luna como um GuardDog,\n",
    "# o construtor da classe Dog é chamado novamente, e Dog.kennel é incrementado de 1 para 2.\n",
    "\n",
    "# Impressão do Valor:\n",
    "# A variável de classe kennel é compartilhada entre todas as instâncias da classe Dog e suas subclasses.\n",
    "# Assim, quando você imprime rocky.kennel, ele acessa a variável de classe kennel da classe Dog, que é 2 no momento.\n",
    "\n",
    "# Portanto, a razão pela qual o resultado é 2 é porque dois objetos (rocky e luna) foram criados,\n",
    "# e cada criação de um objeto incrementa a variável de classe kennel da classe Dog em 1."
   ]
  },
  {
   "cell_type": "code",
   "execution_count": 22,
   "id": "0ee2a6c2",
   "metadata": {},
   "outputs": [
    {
     "name": "stdout",
     "output_type": "stream",
     "text": [
      "Chiuaua says: Woof! I don't like mountains!\n"
     ]
    }
   ],
   "source": [
    "# Questão 4:  Defina uma subclasse de SheepDog chamada LowlandDog\n",
    "# e equipe-a com um método __str__() que substitua um método herdado com o mesmo nome.\n",
    "\n",
    "# O novo método __str__() do cachorro deve retornar a string \"Woof! I don't like mountains!\".\n",
    "\n",
    "class LowlandDog(SheepDog):\n",
    "\tdef __str__(self):\n",
    "\t\treturn Dog.__str__(self) + \" I don't like mountains!\"\n",
    "    \n",
    "novo_cao = LowlandDog(\"Chiuaua\")\n",
    "print(novo_cao)\n"
   ]
  }
 ],
 "metadata": {
  "kernelspec": {
   "display_name": "Python 3 (ipykernel)",
   "language": "python",
   "name": "python3"
  },
  "language_info": {
   "codemirror_mode": {
    "name": "ipython",
    "version": 3
   },
   "file_extension": ".py",
   "mimetype": "text/x-python",
   "name": "python",
   "nbconvert_exporter": "python",
   "pygments_lexer": "ipython3",
   "version": "3.11.5"
  }
 },
 "nbformat": 4,
 "nbformat_minor": 5
}
