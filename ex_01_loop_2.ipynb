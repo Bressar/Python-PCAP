{
 "cells": [
  {
   "cell_type": "code",
   "execution_count": 17,
   "id": "1c82632d",
   "metadata": {
    "scrolled": true
   },
   "outputs": [
    {
     "name": "stdout",
     "output_type": "stream",
     "text": [
      " O valor de i é atualmente: 0\n",
      " O valor de i é atualmente: 1\n",
      " O valor de i é atualmente: 2\n",
      " O valor de i é atualmente: 3\n",
      " O valor de i é atualmente: 4\n"
     ]
    }
   ],
   "source": [
    "for i in range(5):\n",
    "    print(f\" O valor de i é atualmente: {i}\")"
   ]
  },
  {
   "cell_type": "code",
   "execution_count": 4,
   "id": "5c501e48",
   "metadata": {
    "scrolled": false
   },
   "outputs": [
    {
     "name": "stdout",
     "output_type": "stream",
     "text": [
      " O valor de i é atualmente: 2\n",
      " O valor de i é atualmente: 3\n",
      " O valor de i é atualmente: 4\n",
      " O valor de i é atualmente: 5\n",
      " O valor de i é atualmente: 6\n",
      " O valor de i é atualmente: 7\n"
     ]
    }
   ],
   "source": [
    "for i in range(2, 8):\n",
    "    print(f\" O valor de i é atualmente: {i}\")"
   ]
  },
  {
   "cell_type": "code",
   "execution_count": 2,
   "id": "479aebe8",
   "metadata": {},
   "outputs": [
    {
     "name": "stdout",
     "output_type": "stream",
     "text": [
      " O valor de i é atualmente: 2\n",
      " O valor de i é atualmente: 5\n"
     ]
    }
   ],
   "source": [
    "for i in range(2, 8, 3):\n",
    "    print(f\" O valor de i é atualmente: {i}\")"
   ]
  },
  {
   "cell_type": "code",
   "execution_count": 3,
   "id": "fa493311",
   "metadata": {},
   "outputs": [],
   "source": [
    "for i in range(1,1): # range is empty\n",
    "     print(f\" O valor de i é atualmente: {i}\")\n",
    "        # result None\n",
    "\n",
    "for i in range(2,1): # range has to be sorted in ascending orde\n",
    "     print(f\" O valor de i é atualmente: {i}\")\n",
    "        # result None\n",
    "        \n",
    "# Dessa forma o código não roda! #"
   ]
  },
  {
   "cell_type": "code",
   "execution_count": 2,
   "id": "f0d92efb",
   "metadata": {},
   "outputs": [
    {
     "name": "stdout",
     "output_type": "stream",
     "text": [
      "2 elevado a 0 é 1\n",
      "2 elevado a 1 é 2\n",
      "2 elevado a 2 é 4\n",
      "2 elevado a 3 é 8\n",
      "2 elevado a 4 é 16\n",
      "2 elevado a 5 é 32\n",
      "2 elevado a 6 é 64\n",
      "2 elevado a 7 é 128\n",
      "2 elevado a 8 é 256\n",
      "2 elevado a 9 é 512\n",
      "2 elevado a 10 é 1024\n"
     ]
    }
   ],
   "source": [
    "power = 1 #  value of the exponent\n",
    "for expo in range(11):\n",
    "    print(f\"2 elevado a {expo} é {power}\")\n",
    "    power *= 2"
   ]
  },
  {
   "cell_type": "code",
   "execution_count": 3,
   "id": "42662cba",
   "metadata": {},
   "outputs": [
    {
     "name": "stdout",
     "output_type": "stream",
     "text": [
      "1 Mississippi\n",
      "2 Mississippi\n",
      "3 Mississippi\n",
      "4 Mississippi\n",
      "5 Mississippi\n",
      "Ready or not, here I come!\n"
     ]
    }
   ],
   "source": [
    "# Write a for loop that counts to five.\n",
    "    # Body of the loop - print the loop iteration number and the word \"Mississippi\".\n",
    "    # Body of the loop - use: time.sleep(1)\n",
    "\n",
    "# Write a print function with the final message.\n",
    "import time\n",
    "for i in range(5):\n",
    "    time.sleep(1)\n",
    "    print(f\"{i +1} Mississippi\")\n",
    "print(\"Ready or not, here I come!\")\n"
   ]
  },
  {
   "cell_type": "code",
   "execution_count": 5,
   "id": "81457bec",
   "metadata": {},
   "outputs": [
    {
     "name": "stdout",
     "output_type": "stream",
     "text": [
      "Dentro do loop. 1\n",
      "Dentro do loop. 2\n",
      "Fora do loop\n"
     ]
    }
   ],
   "source": [
    "# break - example\n",
    "for i in range(1, 6):\n",
    "    if i == 3:\n",
    "        break\n",
    "    print(f\"Dentro do loop. {i}\")\n",
    "print(f\"Fora do loop\")\n"
   ]
  },
  {
   "cell_type": "code",
   "execution_count": 6,
   "id": "c746a775",
   "metadata": {},
   "outputs": [
    {
     "name": "stdout",
     "output_type": "stream",
     "text": [
      "\n",
      "The continue instruction:\n",
      "Inside the loop. 1\n",
      "Inside the loop. 2\n",
      "Inside the loop. 4\n",
      "Inside the loop. 5\n"
     ]
    }
   ],
   "source": [
    "# continue - example\n",
    "\n",
    "print(\"\\nThe continue instruction:\")\n",
    "for i in range(1, 6):\n",
    "    if i == 3:\n",
    "        continue\n",
    "    print(\"Inside the loop.\", i)"
   ]
  },
  {
   "cell_type": "code",
   "execution_count": null,
   "id": "d08756c5",
   "metadata": {},
   "outputs": [],
   "source": []
  }
 ],
 "metadata": {
  "kernelspec": {
   "display_name": "Python 3 (ipykernel)",
   "language": "python",
   "name": "python3"
  },
  "language_info": {
   "codemirror_mode": {
    "name": "ipython",
    "version": 3
   },
   "file_extension": ".py",
   "mimetype": "text/x-python",
   "name": "python",
   "nbconvert_exporter": "python",
   "pygments_lexer": "ipython3",
   "version": "3.11.5"
  }
 },
 "nbformat": 4,
 "nbformat_minor": 5
}
