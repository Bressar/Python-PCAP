{
 "cells": [
  {
   "cell_type": "markdown",
   "id": "f27787da",
   "metadata": {},
   "source": [
    "## Question 1\n",
    "\n",
    "- A data structure described as LIFO is actually a:\n",
    "    \n",
    "    **stack**\n",
    "    "
   ]
  },
  {
   "cell_type": "markdown",
   "id": "0330c428",
   "metadata": {},
   "source": [
    "## Question 2\n",
    "\n",
    "If the class’s constructor is declared as below, which one of the assignments is valid?\n",
    "\n",
    "\n",
    "class Class:\n",
    "    def __init__(self):\n",
    "        pass\n",
    "    \n",
    "resp: **object = Class()**\n"
   ]
  },
  {
   "cell_type": "markdown",
   "id": "20fec006",
   "metadata": {},
   "source": [
    "## Question 3\n",
    "\n",
    "If there is a superclass named A and a subclass named B, which one of the presented invocations should you put instead of the comment?\n",
    "\n",
    "class A:\n",
    "    def __init__(self):\n",
    "        self.a = 1\n",
    " \n",
    " \n",
    "class B(A):\n",
    "    def __init__(self):\n",
    "        # Put selected line here.\n",
    "        self.b = 2\n",
    "        \n",
    "     **A.__init__(self)**   "
   ]
  },
  {
   "cell_type": "code",
   "execution_count": 16,
   "id": "d812102d",
   "metadata": {},
   "outputs": [
    {
     "ename": "SyntaxError",
     "evalue": "invalid syntax (2105695267.py, line 12)",
     "output_type": "error",
     "traceback": [
      "\u001b[1;36m  Cell \u001b[1;32mIn[16], line 12\u001b[1;36m\u001b[0m\n\u001b[1;33m    Só funcionaria assim:\u001b[0m\n\u001b[1;37m       ^\u001b[0m\n\u001b[1;31mSyntaxError\u001b[0m\u001b[1;31m:\u001b[0m invalid syntax\n"
     ]
    }
   ],
   "source": [
    "# Question 4\n",
    "\n",
    "# What will be the effect of running the following code? Não imprime!!\n",
    "\n",
    "class A:\n",
    "    def __init__(self,v):\n",
    "        self.__a = v + 1\n",
    " \n",
    "a = A(0)\n",
    "print(a.__a) # o atributo é privado, só funciona dentro da classe, ou precisa de um set\n",
    "\n",
    "# Só funcionaria assim:\n",
    "\n",
    "class A:\n",
    "    def __init__(self, v):\n",
    "        self.__a = v + 1\n",
    "\n",
    "    def get_a(self):\n",
    "        return self.__a\n",
    "\n",
    "a = A(0)\n",
    "print(a.get_a())  # Correto: usando um método público para acessar o valor\n"
   ]
  },
  {
   "cell_type": "code",
   "execution_count": 2,
   "id": "0074317f",
   "metadata": {},
   "outputs": [
    {
     "name": "stdout",
     "output_type": "stream",
     "text": [
      "2\n"
     ]
    }
   ],
   "source": [
    "# Question 5\n",
    "# What will be the output of the following code?\n",
    "\n",
    "\n",
    "class A:\n",
    "    def __init__(self,v = 1):\n",
    "        self.v = v\n",
    " \n",
    "    def set(self,v):\n",
    "        self.v = v\n",
    "        return v\n",
    " \n",
    " \n",
    "a = A()\n",
    "print(a.set(a.v + 1)) # v = 1, resposta 1 + 1\n"
   ]
  },
  {
   "cell_type": "code",
   "execution_count": 3,
   "id": "18e96e5b",
   "metadata": {},
   "outputs": [
    {
     "name": "stdout",
     "output_type": "stream",
     "text": [
      "3\n"
     ]
    }
   ],
   "source": [
    "# Question 6\n",
    "\n",
    "# What will be the output of the following code?\n",
    "\n",
    "\n",
    "class A:\n",
    "    X = 0\n",
    "    def __init__(self,v = 0):\n",
    "        self.Y = v\n",
    "        A.X += v\n",
    " \n",
    " \n",
    "a = A()\n",
    "b = A(1)\n",
    "c = A(2)\n",
    "print(c.X)\n",
    " \n"
   ]
  },
  {
   "cell_type": "code",
   "execution_count": 17,
   "id": "52b0b8f6",
   "metadata": {},
   "outputs": [],
   "source": [
    "# explicação da questão 6:\n",
    "\n",
    "class A:\n",
    "    X = 0  # Atributo de classe\n",
    "    \n",
    "    def __init__(self, v=0):\n",
    "        self.y = v  # Atributo de instância\n",
    "        A.X += v  # Atualiza o atributo de classe\n",
    "\n",
    "a = A()    # Cria uma instância de A com v = 0\n",
    "b = A(1)   # Cria uma instância de A com v = 1\n",
    "c = A(2)   # Cria uma instância de A com v = 2\n",
    "\n",
    "print(c.X) # Imprime o valor de X que foi atribuído 3 vezes\n",
    "\n",
    "\n",
    "# class A: define uma classe chamada A.\n",
    "# Atributo de Classe X:\n",
    "\n",
    "# X = 0 é um atributo de classe, compartilhado por todas as instâncias da classe A.\n",
    "# Atributos de classe são acessíveis por todas as instâncias e também diretamente pela própria classe.\n",
    "\n",
    "# Método Construtor __init__:\n",
    "# def __init__(self, v=0): é o método construtor da classe, que é chamado quando uma nova instância da classe A é criada.\n",
    "# self.y = v define um atributo de instância chamado y, que é inicializado com o valor passado para o construtor (v).\n",
    "\n",
    "# A.X += v atualiza o atributo de classe X adicionando o valor de v.\n",
    "#Isso significa que cada vez que uma nova instância da classe é criada, o valor de X é incrementado pelo valor de v passado para o construtor.\n",
    "\n",
    "# Criação das Instâncias e Atualização do Atributo X:\n",
    "# a = A() cria uma instância a com v = 0. Assim, A.X é incrementado por 0, então A.X permanece 0.\n",
    "# b = A(1) cria uma instância b com v = 1. Assim, A.X é incrementado por 1, então A.X se torna 1.\n",
    "# c = A(2) cria uma instância c com v = 2. Assim, A.X é incrementado por 2, então A.X se torna 3.\n",
    "\n",
    "# Impressão do Valor de X:\n",
    "# print(c.X) imprime o valor do atributo de classe X.\n",
    "#Como X foi atualizado pelas instâncias a, b, e c, o valor final de X é 3.\n"
   ]
  },
  {
   "cell_type": "code",
   "execution_count": 4,
   "id": "f37fb7aa",
   "metadata": {},
   "outputs": [
    {
     "name": "stdout",
     "output_type": "stream",
     "text": [
      "True\n"
     ]
    }
   ],
   "source": [
    "# Question 7\n",
    "\n",
    "#What will be the output of the following code? True\n",
    "\n",
    "class A:\n",
    "    A = 1\n",
    " \n",
    " \n",
    "print(hasattr(A,'A')) # True, A é um atributo da classe A\n"
   ]
  },
  {
   "cell_type": "code",
   "execution_count": 5,
   "id": "64430b9d",
   "metadata": {},
   "outputs": [
    {
     "ename": "TypeError",
     "evalue": "A.__init__() takes 1 positional argument but 2 were given",
     "output_type": "error",
     "traceback": [
      "\u001b[1;31m---------------------------------------------------------------------------\u001b[0m",
      "\u001b[1;31mTypeError\u001b[0m                                 Traceback (most recent call last)",
      "Cell \u001b[1;32mIn[5], line 11\u001b[0m\n\u001b[0;32m      7\u001b[0m      \u001b[38;5;28;01mdef\u001b[39;00m \u001b[38;5;21m__init__\u001b[39m(\u001b[38;5;28mself\u001b[39m):\n\u001b[0;32m      8\u001b[0m         \u001b[38;5;28;01mpass\u001b[39;00m\n\u001b[1;32m---> 11\u001b[0m a \u001b[38;5;241m=\u001b[39m A(\u001b[38;5;241m1\u001b[39m)\n\u001b[0;32m     12\u001b[0m \u001b[38;5;28mprint\u001b[39m(\u001b[38;5;28mhasattr\u001b[39m(a,\u001b[38;5;124m'\u001b[39m\u001b[38;5;124mA\u001b[39m\u001b[38;5;124m'\u001b[39m))\n",
      "\u001b[1;31mTypeError\u001b[0m: A.__init__() takes 1 positional argument but 2 were given"
     ]
    }
   ],
   "source": [
    "# Question 8\n",
    "\n",
    "# What will be the result of executing the following code?\n",
    "\n",
    "   # ERRO! a classe A não está preparada para aceitar argumentos no construtor.\n",
    "\n",
    "\n",
    "class A:\n",
    "     def __init__(self): # não recebe nenhum argumento!!\n",
    "        pass\n",
    " \n",
    " \n",
    "a = A(1) \n",
    "print(hasattr(a,'A'))\n"
   ]
  },
  {
   "cell_type": "code",
   "execution_count": 6,
   "id": "2dfae972",
   "metadata": {},
   "outputs": [
    {
     "name": "stdout",
     "output_type": "stream",
     "text": [
      "b\n"
     ]
    }
   ],
   "source": [
    "# Question 9\n",
    "\n",
    "class A:\n",
    "    def __str__(self):\n",
    "        return 'a'\n",
    "\n",
    "\n",
    "class B(A):\n",
    "    def __str__(self):\n",
    "        return 'b'\n",
    "\n",
    "\n",
    "class C(B): # C herda de B, leitura de baixo para cima...\n",
    "    pass\n",
    " \n",
    "\n",
    "o = C() # return 'b'\n",
    "\n",
    "print(o)\n",
    "\n"
   ]
  },
  {
   "cell_type": "code",
   "execution_count": 7,
   "id": "e2bdc0d1",
   "metadata": {},
   "outputs": [
    {
     "name": "stdout",
     "output_type": "stream",
     "text": [
      "True\n"
     ]
    }
   ],
   "source": [
    "# Question 10\n",
    "class A:\n",
    "    pass\n",
    "\n",
    "\n",
    "class B(A):\n",
    "    pass\n",
    "\n",
    "\n",
    "class C(B):\n",
    "    pass\n",
    "\n",
    "\n",
    "print(issubclass(C,A)) # True, C é subclasse de B que é subclasse de A\n",
    "\n"
   ]
  },
  {
   "cell_type": "code",
   "execution_count": 8,
   "id": "4efb6ff4",
   "metadata": {},
   "outputs": [
    {
     "name": "stdout",
     "output_type": "stream",
     "text": [
      "b\n"
     ]
    }
   ],
   "source": [
    "# Question 11\n",
    "class A:\n",
    "    def a(self):\n",
    "        print('a')\n",
    "\n",
    "\n",
    "class B:\n",
    "    def a(self):\n",
    "        print('b')\n",
    "\n",
    "\n",
    "class C(B,A):  # C herda de B, leitura da esquerda para a direita\n",
    "    def c(self):\n",
    "        self.a()\n",
    "\n",
    "\n",
    "o = C()  # return 'b'\n",
    "o.c()\n"
   ]
  },
  {
   "cell_type": "code",
   "execution_count": 9,
   "id": "6e5b87d1",
   "metadata": {},
   "outputs": [
    {
     "name": "stdout",
     "output_type": "stream",
     "text": [
      "a\n"
     ]
    }
   ],
   "source": [
    "# Question 12\n",
    "class A:\n",
    "    def __str__(self):\n",
    "        return 'a'\n",
    "\n",
    "\n",
    "class B:\n",
    "    def __str__(self):\n",
    "        return 'b'\n",
    "\n",
    "\n",
    "class C(A, B): # C herda de A, leitura da esquerda para a direita\n",
    "    pass\n",
    "\n",
    "\n",
    "o = C()  # return 'a'\n",
    "print(o)\n"
   ]
  },
  {
   "cell_type": "code",
   "execution_count": 10,
   "id": "1492f0d5",
   "metadata": {},
   "outputs": [
    {
     "name": "stdout",
     "output_type": "stream",
     "text": [
      "1\n"
     ]
    }
   ],
   "source": [
    "# Question 13\n",
    "\n",
    "class A:\n",
    "    v = 2\n",
    " \n",
    " \n",
    "class B(A):\n",
    "    v = 1\n",
    " \n",
    " \n",
    "class C(B):# C herda de B, leitura de baixo para cima\n",
    "    pass\n",
    " \n",
    " \n",
    "o = C()  \n",
    "print(o.v) # return 1\n"
   ]
  },
  {
   "cell_type": "code",
   "execution_count": 11,
   "id": "d7171a5d",
   "metadata": {},
   "outputs": [
    {
     "name": "stdout",
     "output_type": "stream",
     "text": [
      "bcac"
     ]
    }
   ],
   "source": [
    "# Question 14\n",
    "\n",
    "def f(x):\n",
    "    try:\n",
    "        x = x / x\n",
    "    except:\n",
    "        print(\"a\",end='')\n",
    "    else:\n",
    "        print(\"b\",end='')\n",
    "    finally:\n",
    "        print(\"c\",end='') # C sempre é impresso no final\n",
    "\n",
    "\n",
    "f(1) # -> print b e c\n",
    "f(0) # -> print a e c\n",
    "\n"
   ]
  },
  {
   "cell_type": "code",
   "execution_count": 12,
   "id": "b6184e38",
   "metadata": {},
   "outputs": [
    {
     "name": "stdout",
     "output_type": "stream",
     "text": [
      "3\n"
     ]
    }
   ],
   "source": [
    "# Question 15\n",
    "\n",
    "try:\n",
    "    raise Exception(1,2,3)\n",
    "except Exception as e:\n",
    "    print(len(e.args)) # imprime o len de argumentos -> 1,2,3\n"
   ]
  },
  {
   "cell_type": "code",
   "execution_count": 14,
   "id": "eb33aa59",
   "metadata": {},
   "outputs": [
    {
     "name": "stdout",
     "output_type": "stream",
     "text": [
      "ex\n"
     ]
    }
   ],
   "source": [
    "# Question 16\n",
    "\n",
    "class Ex(Exception):\n",
    "    def __init__(self, msg):\n",
    "        Exception.__init__(self, msg + msg)  # msg + msg é 'exex'\n",
    "        self.args = (msg,)  # Redefine args para conter apenas 'ex'\n",
    "\n",
    "\n",
    "try:\n",
    "    raise Ex('ex')\n",
    "except Ex as e:\n",
    "    print(e)  # Usa o primeiro elemento de self.args, que é 'ex'\n",
    "except Exception as e:\n",
    "    print(e)\n"
   ]
  },
  {
   "cell_type": "code",
   "execution_count": 15,
   "id": "9c7b3606",
   "metadata": {},
   "outputs": [
    {
     "name": "stdout",
     "output_type": "stream",
     "text": [
      "abc"
     ]
    }
   ],
   "source": [
    "# Question 17\n",
    "\n",
    "class I:\n",
    "    def __init__(self):\n",
    "        self.s = 'abc'\n",
    "        self.i = 0\n",
    " \n",
    "    def __iter__(self):\n",
    "        return self\n",
    " \n",
    "    def __next__(self):\n",
    "        if self.i == len(self.s):\n",
    "            raise StopIteration\n",
    "        v = self.s[self.i]\n",
    "        self.i += 1\n",
    "        return v\n",
    " \n",
    " \n",
    "for x in I():\n",
    "    print(x,end='')\n",
    "    "
   ]
  },
  {
   "cell_type": "code",
   "execution_count": null,
   "id": "7462e476",
   "metadata": {},
   "outputs": [],
   "source": [
    "# Explicação da questão 17:\n",
    "\n",
    "class I:\n",
    "    def __init__(self):\n",
    "        self.s = 'abc'\n",
    "        self.i = 0\n",
    "# Método Construtor __init__:\n",
    "# def __init__(self): é o método construtor da classe I.\n",
    "# self.s = 'abc' inicializa um atributo s com a string 'abc'.\n",
    "# self.i = 0 inicializa um atributo i com 0. Esse atributo será usado como um índice para iterar sobre a string s.\n",
    "        \n",
    "    def __iter__(self):\n",
    "        return self\n",
    "    Método __iter__:\n",
    "# def __iter__(self): é o método que deve retornar o iterador do objeto.\n",
    "# Para que um objeto seja iterável, ele deve implementar o método __iter__, que deve retornar um iterador.\n",
    "# No código, __iter__ retorna self, o que significa que a própria instância da classe I é o iterador.\n",
    "        \n",
    "    def __next__(self):\n",
    "        if self.i == len(self.s):\n",
    "            raise StopIteration\n",
    "        v = self.s[self.i]\n",
    "        self.i += 1\n",
    "        return v\n",
    "# Método __next__:\n",
    "# def __next__(self): é o método que deve retornar o próximo item na sequência de iteração.\n",
    "# Esse método é chamado pelo loop for para obter o próximo valor da iteração.\n",
    "# if self.i == len(self.s): verifica se o índice i atingiu o final da string s.\n",
    "# Se sim, ele levanta a exceção StopIteration para indicar que não há mais itens para iterar.\n",
    "# v = self.s[self.i] obtém o caractere da string s na posição i.\n",
    "# self.i += 1 incrementa o índice para a próxima iteração.\n",
    "# return v retorna o caractere atual.    \n",
    "\n",
    "for x in I():\n",
    "    print(x, end='')\n",
    "# for x in I(): cria uma instância da classe I e começa a iterar sobre ela.\n",
    "# O loop chama __next__ repetidamente para obter cada caractere da string 'abc' até que StopIteration seja levantado.\n",
    "\n",
    "        "
   ]
  },
  {
   "cell_type": "code",
   "execution_count": 18,
   "id": "a32de09a",
   "metadata": {},
   "outputs": [
    {
     "name": "stdout",
     "output_type": "stream",
     "text": [
      "3\n"
     ]
    }
   ],
   "source": [
    "# Question 18\n",
    "\n",
    "class A:\n",
    "    def __init__(self, v=2):\n",
    "        self.v = v\n",
    "        \n",
    "    def set(self, v=1):\n",
    "        self.v += v\n",
    "        return self.v\n",
    "    \n",
    "a = A()\n",
    "b = a # cópia do objeto a\n",
    "\n",
    "b.set() # em A, v = 2, em set() v += 1, total -> 3\n",
    "print(a.v)\n"
   ]
  }
 ],
 "metadata": {
  "kernelspec": {
   "display_name": "Python 3 (ipykernel)",
   "language": "python",
   "name": "python3"
  },
  "language_info": {
   "codemirror_mode": {
    "name": "ipython",
    "version": 3
   },
   "file_extension": ".py",
   "mimetype": "text/x-python",
   "name": "python",
   "nbconvert_exporter": "python",
   "pygments_lexer": "ipython3",
   "version": "3.11.5"
  }
 },
 "nbformat": 4,
 "nbformat_minor": 5
}
