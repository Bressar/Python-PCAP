{
 "cells": [
  {
   "cell_type": "markdown",
   "id": "ffdd0f08",
   "metadata": {},
   "source": [
    "#### Exemplo Tabuleiro de Xadrez\n",
    "row = []\n",
    "\n",
    "for i in range(8):\n",
    "    row.append(WHITE_PAWN) # uma linha com oito peões brancos\n"
   ]
  },
  {
   "cell_type": "code",
   "execution_count": 4,
   "id": "e1d44545",
   "metadata": {},
   "outputs": [
    {
     "name": "stdout",
     "output_type": "stream",
     "text": [
      "[0, 1, 4, 9, 16, 25, 36, 49, 64, 81]\n"
     ]
    }
   ],
   "source": [
    "squares = [x ** 2 for x in range(10)]\n",
    "# \n",
    "#O trecho de código produz uma lista de dez elementos\n",
    "#preenchidos com os quadrados de dez números inteiros\n",
    "#começando do zero (0, 1, 4, 9, 16, 25, 36, 49, 64, 81).\n",
    "\n",
    "print(squares)"
   ]
  },
  {
   "cell_type": "code",
   "execution_count": 5,
   "id": "2fbc40d4",
   "metadata": {},
   "outputs": [
    {
     "name": "stdout",
     "output_type": "stream",
     "text": [
      "[1, 2, 4, 8, 16, 32, 64, 128]\n"
     ]
    }
   ],
   "source": [
    "#creates an eight-element array containing the first eight powers of two\n",
    "\n",
    "twos = [2 ** i for i in range(8)] # começa no 0, 2 ** 0 => 1\n",
    "\n",
    "print(twos)"
   ]
  },
  {
   "cell_type": "code",
   "execution_count": 3,
   "id": "8b515b98",
   "metadata": {},
   "outputs": [
    {
     "name": "stdout",
     "output_type": "stream",
     "text": [
      "[1, 9, 25, 49, 81]\n"
     ]
    }
   ],
   "source": [
    "#  makes a list with only the odd elements of the squares list.\n",
    "\n",
    "squares = [x ** 2 for x in range(10)] # (0, 1, 4, 9, 16, 25, 36, 49, 64, 81).\n",
    "\n",
    "odds = [x for x in squares if x % 2 != 0 ]\n",
    "\n",
    "print(odds)"
   ]
  },
  {
   "cell_type": "markdown",
   "id": "9529b121",
   "metadata": {},
   "source": [
    "#### Arrays em Duas Dimensões\n",
    "Um símbolo predefinido chamado EMPTY designe um campo vazio no tabuleiro de xadrez.\n",
    "\n",
    "Então, se quisermos criar uma lista de listas representando todo o tabuleiro de xadrez,\n",
    "isso pode ser feito da seguinte maneira:\n",
    "    \n",
    "board = []\n",
    "\n",
    "for i in range(8):\n",
    "    row = [EMPTY for i in range(8)]\n",
    "    board.append(row)\n",
    "    \n",
    "De forma simplificada:\n",
    "board = [[EMPTY for i in range(8)] for j in range(8)]\n"
   ]
  },
  {
   "cell_type": "code",
   "execution_count": 16,
   "id": "fafbb1ac",
   "metadata": {},
   "outputs": [
    {
     "name": "stdout",
     "output_type": "stream",
     "text": [
      "['TORRE', '-', '-', '-', '-', '-', '-', 'TORRE']\n",
      "['-', '-', '-', '-', '-', '-', '-', '-']\n",
      "['-', '-', '-', '-', '-', '-', '-', '-']\n",
      "['-', '-', '-', '-', 'PEÃO', '-', '-', '-']\n",
      "['-', '-', 'REI', '-', '-', '-', '-', '-']\n",
      "['-', '-', '-', '-', '-', '-', '-', '-']\n",
      "['-', '-', '-', '-', '-', '-', '-', '-']\n",
      "['TORRE', '-', '-', '-', '-', '-', '-', 'TORRE']\n"
     ]
    }
   ],
   "source": [
    "# Tabuleiro Xadrez\n",
    "EMPTY = \"-\"\n",
    "ROOK = \"TORRE\"\n",
    "KNIGHT = \"REI\"\n",
    "PAWN = \"PEÃO\"\n",
    "board = []\n",
    "\n",
    "for i in range(8):\n",
    "    row = [EMPTY for i in range(8)]\n",
    "    board.append(row)\n",
    "\n",
    "board[0][0] = ROOK\n",
    "board[0][7] = ROOK\n",
    "board[7][0] = ROOK\n",
    "board[7][7] = ROOK\n",
    "\n",
    "board[4][2] = board[4][2] = KNIGHT\n",
    "board[3][4] = PAWN\n",
    "\n",
    "for row in board: print(row)"
   ]
  },
  {
   "cell_type": "code",
   "execution_count": 4,
   "id": "2c50a894",
   "metadata": {
    "scrolled": false
   },
   "outputs": [
    {
     "name": "stdout",
     "output_type": "stream",
     "text": [
      "Average temperature at noon: 0.0\n",
      "[[0.0, 0.0, 0.0, 0.0, 0.0, 0.0, 0.0, 0.0, 0.0, 0.0, 0.0, 0.0, 0.0, 0.0, 0.0, 0.0, 0.0, 0.0, 0.0, 0.0, 0.0, 0.0, 0.0, 0.0], [0.0, 0.0, 0.0, 0.0, 0.0, 0.0, 0.0, 0.0, 0.0, 0.0, 0.0, 0.0, 0.0, 0.0, 0.0, 0.0, 0.0, 0.0, 0.0, 0.0, 0.0, 0.0, 0.0, 0.0], [0.0, 0.0, 0.0, 0.0, 0.0, 0.0, 0.0, 0.0, 0.0, 0.0, 0.0, 0.0, 0.0, 0.0, 0.0, 0.0, 0.0, 0.0, 0.0, 0.0, 0.0, 0.0, 0.0, 0.0], [0.0, 0.0, 0.0, 0.0, 0.0, 0.0, 0.0, 0.0, 0.0, 0.0, 0.0, 0.0, 0.0, 0.0, 0.0, 0.0, 0.0, 0.0, 0.0, 0.0, 0.0, 0.0, 0.0, 0.0], [0.0, 0.0, 0.0, 0.0, 0.0, 0.0, 0.0, 0.0, 0.0, 0.0, 0.0, 0.0, 0.0, 0.0, 0.0, 0.0, 0.0, 0.0, 0.0, 0.0, 0.0, 0.0, 0.0, 0.0], [0.0, 0.0, 0.0, 0.0, 0.0, 0.0, 0.0, 0.0, 0.0, 0.0, 0.0, 0.0, 0.0, 0.0, 0.0, 0.0, 0.0, 0.0, 0.0, 0.0, 0.0, 0.0, 0.0, 0.0], [0.0, 0.0, 0.0, 0.0, 0.0, 0.0, 0.0, 0.0, 0.0, 0.0, 0.0, 0.0, 0.0, 0.0, 0.0, 0.0, 0.0, 0.0, 0.0, 0.0, 0.0, 0.0, 0.0, 0.0], [0.0, 0.0, 0.0, 0.0, 0.0, 0.0, 0.0, 0.0, 0.0, 0.0, 0.0, 0.0, 0.0, 0.0, 0.0, 0.0, 0.0, 0.0, 0.0, 0.0, 0.0, 0.0, 0.0, 0.0], [0.0, 0.0, 0.0, 0.0, 0.0, 0.0, 0.0, 0.0, 0.0, 0.0, 0.0, 0.0, 0.0, 0.0, 0.0, 0.0, 0.0, 0.0, 0.0, 0.0, 0.0, 0.0, 0.0, 0.0], [0.0, 0.0, 0.0, 0.0, 0.0, 0.0, 0.0, 0.0, 0.0, 0.0, 0.0, 0.0, 0.0, 0.0, 0.0, 0.0, 0.0, 0.0, 0.0, 0.0, 0.0, 0.0, 0.0, 0.0], [0.0, 0.0, 0.0, 0.0, 0.0, 0.0, 0.0, 0.0, 0.0, 0.0, 0.0, 0.0, 0.0, 0.0, 0.0, 0.0, 0.0, 0.0, 0.0, 0.0, 0.0, 0.0, 0.0, 0.0], [0.0, 0.0, 0.0, 0.0, 0.0, 0.0, 0.0, 0.0, 0.0, 0.0, 0.0, 0.0, 0.0, 0.0, 0.0, 0.0, 0.0, 0.0, 0.0, 0.0, 0.0, 0.0, 0.0, 0.0], [0.0, 0.0, 0.0, 0.0, 0.0, 0.0, 0.0, 0.0, 0.0, 0.0, 0.0, 0.0, 0.0, 0.0, 0.0, 0.0, 0.0, 0.0, 0.0, 0.0, 0.0, 0.0, 0.0, 0.0], [0.0, 0.0, 0.0, 0.0, 0.0, 0.0, 0.0, 0.0, 0.0, 0.0, 0.0, 0.0, 0.0, 0.0, 0.0, 0.0, 0.0, 0.0, 0.0, 0.0, 0.0, 0.0, 0.0, 0.0], [0.0, 0.0, 0.0, 0.0, 0.0, 0.0, 0.0, 0.0, 0.0, 0.0, 0.0, 0.0, 0.0, 0.0, 0.0, 0.0, 0.0, 0.0, 0.0, 0.0, 0.0, 0.0, 0.0, 0.0], [0.0, 0.0, 0.0, 0.0, 0.0, 0.0, 0.0, 0.0, 0.0, 0.0, 0.0, 0.0, 0.0, 0.0, 0.0, 0.0, 0.0, 0.0, 0.0, 0.0, 0.0, 0.0, 0.0, 0.0], [0.0, 0.0, 0.0, 0.0, 0.0, 0.0, 0.0, 0.0, 0.0, 0.0, 0.0, 0.0, 0.0, 0.0, 0.0, 0.0, 0.0, 0.0, 0.0, 0.0, 0.0, 0.0, 0.0, 0.0], [0.0, 0.0, 0.0, 0.0, 0.0, 0.0, 0.0, 0.0, 0.0, 0.0, 0.0, 0.0, 0.0, 0.0, 0.0, 0.0, 0.0, 0.0, 0.0, 0.0, 0.0, 0.0, 0.0, 0.0], [0.0, 0.0, 0.0, 0.0, 0.0, 0.0, 0.0, 0.0, 0.0, 0.0, 0.0, 0.0, 0.0, 0.0, 0.0, 0.0, 0.0, 0.0, 0.0, 0.0, 0.0, 0.0, 0.0, 0.0], [0.0, 0.0, 0.0, 0.0, 0.0, 0.0, 0.0, 0.0, 0.0, 0.0, 0.0, 0.0, 0.0, 0.0, 0.0, 0.0, 0.0, 0.0, 0.0, 0.0, 0.0, 0.0, 0.0, 0.0], [0.0, 0.0, 0.0, 0.0, 0.0, 0.0, 0.0, 0.0, 0.0, 0.0, 0.0, 0.0, 0.0, 0.0, 0.0, 0.0, 0.0, 0.0, 0.0, 0.0, 0.0, 0.0, 0.0, 0.0], [0.0, 0.0, 0.0, 0.0, 0.0, 0.0, 0.0, 0.0, 0.0, 0.0, 0.0, 0.0, 0.0, 0.0, 0.0, 0.0, 0.0, 0.0, 0.0, 0.0, 0.0, 0.0, 0.0, 0.0], [0.0, 0.0, 0.0, 0.0, 0.0, 0.0, 0.0, 0.0, 0.0, 0.0, 0.0, 0.0, 0.0, 0.0, 0.0, 0.0, 0.0, 0.0, 0.0, 0.0, 0.0, 0.0, 0.0, 0.0], [0.0, 0.0, 0.0, 0.0, 0.0, 0.0, 0.0, 0.0, 0.0, 0.0, 0.0, 0.0, 0.0, 0.0, 0.0, 0.0, 0.0, 0.0, 0.0, 0.0, 0.0, 0.0, 0.0, 0.0], [0.0, 0.0, 0.0, 0.0, 0.0, 0.0, 0.0, 0.0, 0.0, 0.0, 0.0, 0.0, 0.0, 0.0, 0.0, 0.0, 0.0, 0.0, 0.0, 0.0, 0.0, 0.0, 0.0, 0.0], [0.0, 0.0, 0.0, 0.0, 0.0, 0.0, 0.0, 0.0, 0.0, 0.0, 0.0, 0.0, 0.0, 0.0, 0.0, 0.0, 0.0, 0.0, 0.0, 0.0, 0.0, 0.0, 0.0, 0.0], [0.0, 0.0, 0.0, 0.0, 0.0, 0.0, 0.0, 0.0, 0.0, 0.0, 0.0, 0.0, 0.0, 0.0, 0.0, 0.0, 0.0, 0.0, 0.0, 0.0, 0.0, 0.0, 0.0, 0.0], [0.0, 0.0, 0.0, 0.0, 0.0, 0.0, 0.0, 0.0, 0.0, 0.0, 0.0, 0.0, 0.0, 0.0, 0.0, 0.0, 0.0, 0.0, 0.0, 0.0, 0.0, 0.0, 0.0, 0.0], [0.0, 0.0, 0.0, 0.0, 0.0, 0.0, 0.0, 0.0, 0.0, 0.0, 0.0, 0.0, 0.0, 0.0, 0.0, 0.0, 0.0, 0.0, 0.0, 0.0, 0.0, 0.0, 0.0, 0.0], [0.0, 0.0, 0.0, 0.0, 0.0, 0.0, 0.0, 0.0, 0.0, 0.0, 0.0, 0.0, 0.0, 0.0, 0.0, 0.0, 0.0, 0.0, 0.0, 0.0, 0.0, 0.0, 0.0, 0.0], [0.0, 0.0, 0.0, 0.0, 0.0, 0.0, 0.0, 0.0, 0.0, 0.0, 0.0, 0.0, 0.0, 0.0, 0.0, 0.0, 0.0, 0.0, 0.0, 0.0, 0.0, 0.0, 0.0, 0.0]]\n"
     ]
    }
   ],
   "source": [
    "# Tabela de 2 dimensões: 24 horas=colunas,  31 dias=linhas, MATRIZES\n",
    "# para calcular a temperatura\n",
    "\n",
    "temps = [[0.0 for h in range(24)] for d in range(31)] # Toda matriz preenchida com zeros\n",
    "#\n",
    "# The matrix is magically updated here.\n",
    "#\n",
    "\n",
    "total = 0.0\n",
    "\n",
    "for day in temps:\n",
    "    total += day[11] # acrescenta 11 para \"pegar\" o valor da temperatura média do dia\n",
    "\n",
    "average = total / 31 # média da temperatura no mês\n",
    "\n",
    "print(\"Average temperature at noon:\", average)\n",
    "\n",
    "print(temps) # for debug"
   ]
  },
  {
   "cell_type": "code",
   "execution_count": 23,
   "id": "c4d137ef",
   "metadata": {},
   "outputs": [
    {
     "name": "stdout",
     "output_type": "stream",
     "text": [
      "The highest temperature was: 35.5 °C\n"
     ]
    }
   ],
   "source": [
    "# Encontrando a temperatura mais alta do mês\n",
    "\n",
    "temps = [[0.0 for h in range(24)] for d in range(31)]\n",
    "\n",
    "highest = 35.5\n",
    "\n",
    "for day in temps:\n",
    "    for temp in day:\n",
    "        if temp > highest:\n",
    "            highest = temp\n",
    "\n",
    "print(\"The highest temperature was:\", highest,\"°C\")\n"
   ]
  },
  {
   "cell_type": "code",
   "execution_count": 24,
   "id": "38136238",
   "metadata": {},
   "outputs": [
    {
     "name": "stdout",
     "output_type": "stream",
     "text": [
      "0 dias estavam acima de 20°C.\n"
     ]
    }
   ],
   "source": [
    "# os dias em que a temperatura ao meio-dia estava pelo menos a 20 ℃\n",
    "\n",
    "temps = [[0.0 for h in range(24)] for d in range(31)]\n",
    "\n",
    "hot_days = 0\n",
    "\n",
    "for day in temps:\n",
    "    if day[11] > 20.0:\n",
    "        hot_days += 1\n",
    "\n",
    "print(hot_days, \"dias estavam acima de 20°C.\")\n"
   ]
  },
  {
   "cell_type": "markdown",
   "id": "f9d5dad1",
   "metadata": {},
   "source": [
    "# Arrays de Três dimensões\n",
    "\n",
    "hotel composto por 3 edifícios, cada um com 15 andares.\n",
    "Há 20 quartos em cada andar\n",
    "\n",
    "Matriz que pode coletar e processar informações sobre os quartos ocupados/vagos.\n",
    "\n",
    "Primeiro passo - o tipo dos elementos da matriz.\n",
    "Neste caso, um valor booleano (Verdadeiro/Falso).\n",
    "\n",
    "Segundo passo - análise da situação.\n",
    "Resuma as informações disponíveis:\n",
    "    3 edifícios, 15 andares, 20 quartos.\n",
    "    "
   ]
  },
  {
   "cell_type": "code",
   "execution_count": 5,
   "id": "de0a6a2f",
   "metadata": {},
   "outputs": [],
   "source": [
    "# O primeiro índice (0 a 2) seleciona um dos edifícios;\n",
    "# o segundo (0 a 14) seleciona o andar,\n",
    "# o terceiro (0 a 19) seleciona o número do quarto.\n",
    "# Todos os quartos estão inicialmente livres.\n",
    "\n",
    "rooms = [[[False for room in range(20)] for floor in range(15)] for predio in range(3)]\n",
    "\n",
    "\n",
    "# reservar 1 quarto no segundo edifício, no 10 andar, quarto 14:\n",
    "rooms[1][9][13] = True\n",
    "\n",
    "\n",
    "# liberar o segundo quarto no quinto andar localizado no primeiro edifício\n",
    "rooms[0][4][1] = False\n",
    "\n",
    "\n",
    "# Verifique se há alguma vaga no décimo quinto andar do terceiro edifício:\n",
    "\n",
    "vacancy = 0\n",
    "\n",
    "for room_number in range(20):\n",
    "    if not rooms[2][14][room_number]:\n",
    "        vacancy += 1\n",
    "        \n",
    "# A variável de vaga contém 0 se todos os quartos estiverem ocupados,\n",
    "# ou o número de quartos disponíveis"
   ]
  },
  {
   "cell_type": "code",
   "execution_count": null,
   "id": "c6a7cc00",
   "metadata": {},
   "outputs": [],
   "source": [
    "lista = [expression for element in list if conditional]\n",
    "# [expressão para elemento na lista se condicional]\n",
    "\n",
    "# o mesmo que:\n",
    "\n",
    "for elemento na lista:\n",
    "    se condicional:\n",
    "        expressão\n",
    "\n",
    "    \n",
    "for element in list:\n",
    "    if conditional:\n",
    "        expression    \n"
   ]
  },
  {
   "cell_type": "code",
   "execution_count": 27,
   "id": "a2a03be0",
   "metadata": {},
   "outputs": [
    {
     "name": "stdout",
     "output_type": "stream",
     "text": [
      "[0, 1, 8, 27, 64]\n"
     ]
    }
   ],
   "source": [
    "cubed = [num ** 3 for num in range(5)] # [0, 1, 2, 3, 4]\n",
    "print(cubed)  # outputs: [0, 1, 8, 27, 64]\n",
    "\n",
    "# Para num = 0: 0 ** 3 = 0\n",
    "# Para num = 1: 1 ** 3 = 1\n",
    "# Para num = 2: 2 ** 3 = 8\n",
    "# Para num = 3: 3 ** 3 = 27\n",
    "# Para num = 4: 4 ** 3 = 64\n",
    "\n"
   ]
  },
  {
   "cell_type": "code",
   "execution_count": 7,
   "id": "b727a513",
   "metadata": {
    "scrolled": true
   },
   "outputs": [
    {
     "name": "stdout",
     "output_type": "stream",
     "text": [
      "[[':(', ':)', ':(', ':)'], [':)', ':(', ':)', ':)'], [':(', ':)', ':)', ':('], [':)', ':)', ':)', ':(']]\n",
      ":(\n",
      ":)\n"
     ]
    }
   ],
   "source": [
    "# A four-column/four-row table ‒ a two dimensional array (4x4)\n",
    "\n",
    "table = [[\":(\", \":)\", \":(\", \":)\"],\n",
    "         [\":)\", \":(\", \":)\", \":)\"],\n",
    "         [\":(\", \":)\", \":)\", \":(\"],\n",
    "         [\":)\", \":)\", \":)\", \":(\"]]\n",
    "\n",
    "print(table)\n",
    "print(table[0][0])  # acessa e imprime o elemento na primeira linha e primeira coluna: ':('\n",
    "print(table[0][3])  # acessa e imprime o elemento na primeira linha e quarta coluna: ':)'"
   ]
  },
  {
   "cell_type": "code",
   "execution_count": 29,
   "id": "88338e23",
   "metadata": {},
   "outputs": [
    {
     "name": "stdout",
     "output_type": "stream",
     "text": [
      "[[[':(', 'x', 'x'], [':)', 'x', 'x'], [':(', 'x', 'x']], [[':)', 'x', 'x'], [':(', 'x', 'x'], [':)', 'x', 'x']], [[':(', 'x', 'x'], [':)', 'x', 'x'], [':)', 'x', 'x']]]\n",
      ":(\n",
      ":)\n"
     ]
    }
   ],
   "source": [
    "# Cube - a three-dimensional array (3x3x3)\n",
    "\n",
    "cube = [[[':(', 'x', 'x'],\n",
    "         [':)', 'x', 'x'],\n",
    "         [':(', 'x', 'x']],\n",
    "\n",
    "        [[':)', 'x', 'x'],\n",
    "         [':(', 'x', 'x'],\n",
    "         [':)', 'x', 'x']],\n",
    "\n",
    "        [[':(', 'x', 'x'],\n",
    "         [':)', 'x', 'x'],\n",
    "         [':)', 'x', 'x']]]\n",
    "\n",
    "print(cube)\n",
    "print(cube[0][0][0])  # outputs: ':('\n",
    "print(cube[2][2][0])  # outputs: ':)'"
   ]
  }
 ],
 "metadata": {
  "kernelspec": {
   "display_name": "Python 3 (ipykernel)",
   "language": "python",
   "name": "python3"
  },
  "language_info": {
   "codemirror_mode": {
    "name": "ipython",
    "version": 3
   },
   "file_extension": ".py",
   "mimetype": "text/x-python",
   "name": "python",
   "nbconvert_exporter": "python",
   "pygments_lexer": "ipython3",
   "version": "3.11.5"
  }
 },
 "nbformat": 4,
 "nbformat_minor": 5
}
