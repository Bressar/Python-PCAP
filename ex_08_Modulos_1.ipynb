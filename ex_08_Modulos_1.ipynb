{
 "cells": [
  {
   "cell_type": "markdown",
   "id": "ec3bc2d7",
   "metadata": {},
   "source": [
    "## Modules"
   ]
  },
  {
   "cell_type": "code",
   "execution_count": 1,
   "id": "66e01026",
   "metadata": {},
   "outputs": [
    {
     "name": "stdout",
     "output_type": "stream",
     "text": [
      "1.0\n"
     ]
    }
   ],
   "source": [
    "import math\n",
    "print(math.sin(math.pi/2))"
   ]
  },
  {
   "cell_type": "markdown",
   "id": "91d47a2a",
   "metadata": {},
   "source": [
    "### This is the way in which you qualify the names of pi and sin with the name of its originating module:\n",
    "\n",
    "import math\n",
    "\n",
    "math.pi\n",
    "math.sin\n",
    "\n",
    "It's simple, you put:\n",
    "\n",
    "the name of the module (e.g., math)\n",
    "a dot (i.e., .)\n",
    "the name of the entity (e.g., pi)"
   ]
  },
  {
   "cell_type": "code",
   "execution_count": 2,
   "id": "d90d58a5",
   "metadata": {},
   "outputs": [
    {
     "name": "stdout",
     "output_type": "stream",
     "text": [
      "0.99999999\n",
      "1.0\n"
     ]
    }
   ],
   "source": [
    "# the two namespaces (yours and the module's one) can coexist\n",
    "# usando o name_space sin 2 vezes\n",
    "\n",
    "import math\n",
    "\n",
    "def sin(x):\n",
    "    if 2 * x == pi:\n",
    "        return 0.99999999\n",
    "    else:\n",
    "        return None\n",
    "\n",
    "pi = 3.14\n",
    "\n",
    "print(sin(pi/2))\n",
    "print(math.sin(math.pi/2))"
   ]
  },
  {
   "cell_type": "code",
   "execution_count": 3,
   "id": "656d1cc7",
   "metadata": {},
   "outputs": [
    {
     "name": "stdout",
     "output_type": "stream",
     "text": [
      "1.0\n"
     ]
    }
   ],
   "source": [
    "from math import sin, pi\n",
    "\n",
    "print(sin(pi/2))\n",
    "\n",
    "# sin -> seno em radianos"
   ]
  },
  {
   "cell_type": "code",
   "execution_count": 4,
   "id": "463c8b58",
   "metadata": {},
   "outputs": [
    {
     "name": "stdout",
     "output_type": "stream",
     "text": [
      "1.0\n",
      "0.99999999\n"
     ]
    }
   ],
   "source": [
    "# Mesmos nomes, ocorre a substituição na redefinição das variáveis:\n",
    "\n",
    "from math import sin, pi\n",
    "\n",
    "print(sin(pi / 2))\n",
    "\n",
    "pi = 3.14\n",
    "\n",
    "def sin(x):\n",
    "    if 2 * x == pi:\n",
    "        return 0.99999999\n",
    "    else:\n",
    "        return None\n",
    "\n",
    "\n",
    "print(sin(pi / 2))"
   ]
  },
  {
   "cell_type": "code",
   "execution_count": 5,
   "id": "426c1ca5",
   "metadata": {
    "scrolled": true
   },
   "outputs": [
    {
     "name": "stdout",
     "output_type": "stream",
     "text": [
      "0.99999999\n",
      "1.0\n"
     ]
    }
   ],
   "source": [
    "pi = 3.14\n",
    "\n",
    "def sin(x):\n",
    "    if 2 * x == pi:\n",
    "        return 0.99999999\n",
    "    else:\n",
    "        return None\n",
    "\n",
    "\n",
    "print(sin(pi / 2))\n",
    "\n",
    "from math import sin, pi\n",
    "\n",
    "print(sin(pi / 2))\n",
    "\n",
    "# vai usar o valor da última atribuição na variável"
   ]
  },
  {
   "cell_type": "markdown",
   "id": "bfd4b583",
   "metadata": {},
   "source": [
    "## Importando Modulos/bibliotecas\n",
    "\n",
    "**from module import * # importa tudo**\n",
    "\n",
    "\n",
    "**import module as alias # cria um alias**\n",
    "\n",
    "import math as m\n",
    "\n",
    "print(m.sin(m.pi/2))\n",
    "\n",
    "\n",
    "**from module import n as a, m as b, o as c**\n",
    "\n",
    "from math import pi as PI, sin as sine\n",
    "\n",
    "print(sine(PI/2))\n",
    "\n",
    "\n",
    "### pode assim:\n",
    "\n",
    "import mod1\n",
    "import mod2, mod3, mod4\n",
    "\n",
    "### mas em boas praticas se faz assim:\n",
    "\n",
    "import mod2\n",
    "import mod3\n",
    "import mod4"
   ]
  },
  {
   "cell_type": "markdown",
   "id": "5f9e91e8",
   "metadata": {},
   "source": [
    "[1] Se um módulo for importado da maneira abaixo e você quiser acessar qualquer uma de suas entidades, você precisa prefixar o nome da entidade usando a notação de ponto. Por exemplo:\n",
    "\n",
    "**import my_module**\n",
    "\n",
    "result = my_module.my_function(my_module.my_data)\n",
    "\n",
    "\n",
    "[2] **Quando for usando from / import não se usa o ponto ( . )**\n",
    "\n",
    "from module import my_function, my_data\n",
    "\n",
    "result = my_function(my_data)\n",
    "\n",
    "\n",
    "[3] importa tudo from my_module import *\n",
    "\n",
    "result = my_function(my_data)\n",
    "\n",
    "\n",
    "*Observação: esta variante de importação não é recomendada pelos mesmos motivos anteriores (a ameaça de um conflito de nomes é ainda mais perigosa aqui).*\n",
    "\n",
    "\n",
    "[4] Alias from module import my_function as fun, my_data as dat\n",
    "result = fun(dat)\n",
    "\n"
   ]
  },
  {
   "cell_type": "code",
   "execution_count": null,
   "id": "56e0a1ab",
   "metadata": {},
   "outputs": [],
   "source": [
    "# Question 1: \n",
    "#You want to invoke the function make_money()\n",
    "# contained in the module named mint. Your code begins with the following line:\n",
    "\n",
    "import mint\n",
    "\n",
    "mint.make_money()"
   ]
  },
  {
   "cell_type": "code",
   "execution_count": null,
   "id": "6b49748f",
   "metadata": {},
   "outputs": [],
   "source": [
    "# Question 2: \n",
    "# You want to invoke the function make_money() \n",
    "# contained in the module named mint. \n",
    "# Your code begins with the following line:\n",
    "\n",
    "from mint import make_money\n",
    "\n",
    "make_money()"
   ]
  },
  {
   "cell_type": "code",
   "execution_count": null,
   "id": "01399baf",
   "metadata": {},
   "outputs": [],
   "source": [
    "# Question 3:\n",
    "# You've written a function named make_money on your own.\n",
    "# You need to import a function of the same name from the mint module\n",
    "# and don't want to rename any of your previously defined names.\n",
    "# Which variant of the import statement may help you with the issue?\n",
    "\n",
    "from mint import make_money as make_more_money\n"
   ]
  },
  {
   "cell_type": "code",
   "execution_count": null,
   "id": "cba419d8",
   "metadata": {},
   "outputs": [],
   "source": [
    "# Question 4:\n",
    "# What form of the make_money function invocation is valid\n",
    "# if your code starts with the following line?\n",
    "\n",
    "from mint import *\n",
    "\n",
    "make_money()"
   ]
  },
  {
   "cell_type": "markdown",
   "id": "3d0e1b89",
   "metadata": {},
   "source": [
    "## standard modules"
   ]
  },
  {
   "cell_type": "code",
   "execution_count": 11,
   "id": "ade30cfd",
   "metadata": {},
   "outputs": [
    {
     "name": "stdout",
     "output_type": "stream",
     "text": [
      "__doc__ * __loader__ * __name__ * __package__ * __spec__ * acos * acosh * asin * asinh * atan * atan2 * atanh * cbrt * ceil * comb * copysign * cos * cosh * degrees * dist * e * erf * erfc * exp * exp2 * expm1 * fabs * factorial * floor * fmod * frexp * fsum * gamma * gcd * hypot * inf * isclose * isfinite * isinf * isnan * isqrt * lcm * ldexp * lgamma * log * log10 * log1p * log2 * modf * nan * nextafter * perm * pi * pow * prod * radians * remainder * sin * sinh * sqrt * tan * tanh * tau * trunc * ulp * "
     ]
    }
   ],
   "source": [
    "# returns an alphabetically sorted list containing all entities' names available\n",
    "# in the module identified by a name passed to the function as an argument:\n",
    "\n",
    "# - >  dir(module) -> exibe tudo o que tem no modulo -> 'dir()'\n",
    "  \n",
    "import math\n",
    "  \n",
    "for name in dir(math):\n",
    "  print(name, end=\" * \")\n"
   ]
  },
  {
   "cell_type": "code",
   "execution_count": 12,
   "id": "926a4146",
   "metadata": {},
   "outputs": [
    {
     "data": {
      "text/plain": [
       "['__doc__',\n",
       " '__loader__',\n",
       " '__name__',\n",
       " '__package__',\n",
       " '__spec__',\n",
       " 'acos',\n",
       " 'acosh',\n",
       " 'asin',\n",
       " 'asinh',\n",
       " 'atan',\n",
       " 'atan2',\n",
       " 'atanh',\n",
       " 'cbrt',\n",
       " 'ceil',\n",
       " 'comb',\n",
       " 'copysign',\n",
       " 'cos',\n",
       " 'cosh',\n",
       " 'degrees',\n",
       " 'dist',\n",
       " 'e',\n",
       " 'erf',\n",
       " 'erfc',\n",
       " 'exp',\n",
       " 'exp2',\n",
       " 'expm1',\n",
       " 'fabs',\n",
       " 'factorial',\n",
       " 'floor',\n",
       " 'fmod',\n",
       " 'frexp',\n",
       " 'fsum',\n",
       " 'gamma',\n",
       " 'gcd',\n",
       " 'hypot',\n",
       " 'inf',\n",
       " 'isclose',\n",
       " 'isfinite',\n",
       " 'isinf',\n",
       " 'isnan',\n",
       " 'isqrt',\n",
       " 'lcm',\n",
       " 'ldexp',\n",
       " 'lgamma',\n",
       " 'log',\n",
       " 'log10',\n",
       " 'log1p',\n",
       " 'log2',\n",
       " 'modf',\n",
       " 'nan',\n",
       " 'nextafter',\n",
       " 'perm',\n",
       " 'pi',\n",
       " 'pow',\n",
       " 'prod',\n",
       " 'radians',\n",
       " 'remainder',\n",
       " 'sin',\n",
       " 'sinh',\n",
       " 'sqrt',\n",
       " 'tan',\n",
       " 'tanh',\n",
       " 'tau',\n",
       " 'trunc',\n",
       " 'ulp']"
      ]
     },
     "execution_count": 12,
     "metadata": {},
     "output_type": "execute_result"
    }
   ],
   "source": [
    "import math\n",
    "\n",
    "dir(math) # -> abre uma lista com todo o conteúdo\n"
   ]
  },
  {
   "cell_type": "markdown",
   "id": "23a5111e",
   "metadata": {},
   "source": [
    "## The first group of the math's functions are connected with trigonometry:\n",
    "\n",
    "sin(x) → the sine of x;\n",
    "cos(x) → the cosine of x;\n",
    "tan(x) → the tangent of x.\n",
    "\n",
    "All these functions take one argument (an angle measurement expressed in radians) and return the appropriate result (be careful with tan() - not all arguments are accepted).\n",
    "\n",
    "Of course, there are also their inversed versions:\n",
    "\n",
    "asin(x) → the arcsine of x;\n",
    "acos(x) → the arccosine of x;\n",
    "atan(x) → the arctangent of x.\n",
    "\n",
    "These functions take one argument (mind the domains) and return a measure of an angle in radians.\n",
    "\n",
    "To effectively operate on angle measurements, the math module provides you with the following entities:\n",
    "\n",
    "pi → a constant with a value that is an approximation of π;\n",
    "radians(x) → a function that converts x from degrees to radians;\n",
    "degrees(x) → acting in the other direction (from radians to degrees)"
   ]
  },
  {
   "cell_type": "code",
   "execution_count": 13,
   "id": "7f612179",
   "metadata": {},
   "outputs": [
    {
     "name": "stdout",
     "output_type": "stream",
     "text": [
      "True\n",
      "True\n",
      "True\n",
      "True\n"
     ]
    }
   ],
   "source": [
    "from math import pi, radians, degrees, sin, cos, tan, asin\n",
    "\n",
    "ad = 90\n",
    "ar = radians(ad)\n",
    "ad = degrees(ar)\n",
    "\n",
    "print(ad == 90.)\n",
    "print(ar == pi / 2.)\n",
    "print(sin(ar) / cos(ar) == tan(ar))\n",
    "print(asin(sin(ar)) == ar)\n",
    "    "
   ]
  },
  {
   "cell_type": "markdown",
   "id": "8ec3b57e",
   "metadata": {},
   "source": [
    "sin(x) → o seno de x; \n",
    "cos(x) → o cosseno de x;\n",
    "tan(x) → a tangente de x. \n",
    "asin(x) → o arcoseno de x;\n",
    "acos(x) → o arcocosseno de x;\n",
    "atan(x) → o arcotangente de x.\n"
   ]
  },
  {
   "cell_type": "code",
   "execution_count": 15,
   "id": "eb775d94",
   "metadata": {},
   "outputs": [
    {
     "name": "stdout",
     "output_type": "stream",
     "text": [
      "True\n",
      "True\n",
      "True\n"
     ]
    }
   ],
   "source": [
    "from math import e, exp, log\n",
    "\n",
    "print(pow(e, 1) == exp(log(e)))\n",
    "print(pow(2, 2) == exp(2 * log(2)))\n",
    "print(log(e, e) == exp(0))"
   ]
  },
  {
   "cell_type": "markdown",
   "id": "8d809d65",
   "metadata": {},
   "source": [
    "Another group of the math's functions is formed by functions which are connected with exponentiation:\n",
    "\n",
    "e → a constant with a value that is an approximation of Euler's number (e)\n",
    "exp(x) → finding the value of ex;\n",
    "log(x) → the natural logarithm of x\n",
    "log(x, b) → the logarithm of x to base b\n",
    "log10(x) → the decimal logarithm of x (more precise than log(x, 10)\n",
    "\n",
    "Note: the pow() function:\n",
    "\n",
    "pow(x, y) → finding the value of xy (mind the domains)\n",
    "This is a built-in function, and doesn't have to be imported."
   ]
  },
  {
   "cell_type": "code",
   "execution_count": null,
   "id": "d9e691d1",
   "metadata": {},
   "outputs": [],
   "source": [
    "from math import ceil, floor, trunc\n",
    "\n",
    "x = 1.4\n",
    "y = 2.6\n",
    "\n",
    "print(floor(x), floor(y))\n",
    "print(floor(-x), floor(-y))\n",
    "print(ceil(x), ceil(y))\n",
    "print(ceil(-x), ceil(-y))\n",
    "print(trunc(x), trunc(y))\n",
    "print(trunc(-x), trunc(-y))\n",
    "    "
   ]
  },
  {
   "cell_type": "markdown",
   "id": "62b7f712",
   "metadata": {},
   "source": [
    "The last group consists of some general-purpose functions like:\n",
    "\n",
    "ceil(x) → the ceiling of x (the smallest integer greater than or equal to x)\n",
    "floor(x) → the floor of x (the largest integer less than or equal to x)\n",
    "trunc(x) → the value of x truncated to an integer (be careful - it's not an equivalent either of ceil or floor)\n",
    "factorial(x) → returns x! (x has to be an integral and not a negative)\n",
    "hypot(x, y) → returns the length of the hypotenuse of a right-angle triangle with the leg lengths equal to x and y (the same as sqrt(pow(x, 2) + pow(y, 2)) but more precise)"
   ]
  },
  {
   "cell_type": "markdown",
   "id": "afd80d9e",
   "metadata": {},
   "source": [
    "# Random"
   ]
  },
  {
   "cell_type": "code",
   "execution_count": 16,
   "id": "119de5ea",
   "metadata": {},
   "outputs": [
    {
     "name": "stdout",
     "output_type": "stream",
     "text": [
      "0.993242542406434\n",
      "0.12760300329393792\n",
      "0.5211161986593965\n",
      "0.28917711623442544\n",
      "0.4521679649310363\n",
      "5\n",
      "1\n",
      "4\n",
      "3\n",
      "3\n"
     ]
    }
   ],
   "source": [
    "# Random -> Modulo\n",
    "\n",
    "# função random ->  produz um número flutuante x vindo do intervalo (0.0, 1.0)\n",
    "# - em outras palavras: (0.0 <= x < 1.0).\n",
    "\n",
    "from random import random, randint\n",
    "\n",
    "for i in range(5): # (0.0, 1.0)\n",
    "    print(random()) # \n",
    "\n",
    "for i in range(5):\n",
    "     print(randint(1,5)) #(1 a 5)"
   ]
  },
  {
   "cell_type": "markdown",
   "id": "84a3a811",
   "metadata": {},
   "source": [
    "### Random\n",
    "\n",
    "Para valores aleatórios inteiros, uma das seguintes funções se encaixaria melhor:\n",
    "\n",
    "randrange(fim)\n",
    "\n",
    "randrange(início, fim)\n",
    "\n",
    "randrange(início, fim, passo)\n",
    "\n",
    "randint(esquerda, direita)\n",
    "\n",
    "As três primeiras invocações gerarão um número inteiro\n",
    "retirado (pseudoaleatoriamente) do intervalo (respectivamente):\n",
    "range(fim)\n",
    "range(início, fim)\n",
    "range(início, fim, passo)\n",
    "\n",
    "Observe a exclusão implícita do lado direito!"
   ]
  },
  {
   "cell_type": "code",
   "execution_count": 18,
   "id": "cd28e5e6",
   "metadata": {},
   "outputs": [
    {
     "name": "stdout",
     "output_type": "stream",
     "text": [
      "0 - 0 - 0 - 1\n"
     ]
    }
   ],
   "source": [
    "from random import randrange, randint\n",
    "\n",
    "print(randrange(1), end=' - ') # randrange(fim)\n",
    "\n",
    "print(randrange(0, 1), end=' - ') # randrange(início, fim)\n",
    "\n",
    "print(randrange(0, 1, 1), end=' - ') # randrange(início, fim, passo)\n",
    "\n",
    "print(randint(0, 1)) # (esquerda, direita)\n",
    "\n",
    "# Observe a exclusão implícita do lado direito! Regra do index começar no 0"
   ]
  },
  {
   "cell_type": "code",
   "execution_count": 20,
   "id": "f7684ca0",
   "metadata": {},
   "outputs": [
    {
     "name": "stdout",
     "output_type": "stream",
     "text": [
      "2, 8, 5, 9, 2, 1, 7, 1, 4, 3, "
     ]
    }
   ],
   "source": [
    "# desvantagem: produz valores repetidos:\n",
    "\n",
    "from random import randint\n",
    "\n",
    "for i in range(10):\n",
    "    print(randint(1, 10), end=', ')"
   ]
  },
  {
   "cell_type": "markdown",
   "id": "2cf5d176",
   "metadata": {},
   "source": [
    "## Função seed()\n",
    "\n",
    "A função seed() do módulo random em Python é usada para inicializar o gerador de números aleatórios \n",
    "com uma semente específica. Isso é útil quando você deseja obter uma sequência de números aleatórios\n",
    "que seja previsível e reproduzível.\n",
    "\n",
    "A função seed(0) define a semente do gerador de números aleatórios como 0. \n",
    "Isso significa que qualquer sequência de números aleatórios gerada após essa chamada\n",
    "será a mesma toda vez que você executar o programa, **desde que a semente seja definida como 0.**\n",
    "\n",
    "[1] Reprodutibilidade: Definindo a semente, você garante que a sequência de números aleatórios\n",
    "seja a mesma em cada execução do programa. \n",
    "Isso é útil para testes e depuração, onde você deseja resultados consistentes.\n",
    "\n",
    "[2] Controle: Você tem controle sobre a geração de números aleatórios, \n",
    "    o que pode ser útil em simulações ou algoritmos que dependem de aleatoriedade.\n",
    "    \n",
    "*Essa sequência de números aleatórios é gerada porque a semente foi definida como 0.\n",
    "Se você mudar o valor da semente, a sequência de números gerados será diferente, \n",
    "mas permanecerá consistente para aquele valor de semente.*"
   ]
  },
  {
   "cell_type": "code",
   "execution_count": 22,
   "id": "bd2dcf8f",
   "metadata": {},
   "outputs": [
    {
     "name": "stdout",
     "output_type": "stream",
     "text": [
      "0.8444218515250481\n",
      "0.7579544029403025\n",
      "0.420571580830845\n",
      "0.25891675029296335\n",
      "0.5112747213686085\n"
     ]
    }
   ],
   "source": [
    "from random import random, seed\n",
    "\n",
    "seed(0)\n",
    "\n",
    "for i in range(5):\n",
    "    print(random())\n",
    "    "
   ]
  },
  {
   "cell_type": "code",
   "execution_count": 24,
   "id": "d57b75e1",
   "metadata": {},
   "outputs": [
    {
     "name": "stdout",
     "output_type": "stream",
     "text": [
      "0.13436424411240122\n",
      "0.8474337369372327\n",
      "0.763774618976614\n",
      "0.2550690257394217\n",
      "0.49543508709194095\n"
     ]
    }
   ],
   "source": [
    "from random import random, seed\n",
    "\n",
    "seed(1)\n",
    "\n",
    "for i in range(5):\n",
    "    print(random())"
   ]
  },
  {
   "cell_type": "code",
   "execution_count": 25,
   "id": "9cd4ef9b",
   "metadata": {},
   "outputs": [
    {
     "name": "stdout",
     "output_type": "stream",
     "text": [
      "0.13436424411240122\n",
      "0.8474337369372327\n",
      "0.763774618976614\n",
      "0.2550690257394217\n",
      "0.49543508709194095\n"
     ]
    }
   ],
   "source": [
    "from random import random, seed\n",
    "\n",
    "seed(1)\n",
    "\n",
    "for i in range(5):\n",
    "    print(random())"
   ]
  },
  {
   "cell_type": "markdown",
   "id": "8f77c8df",
   "metadata": {},
   "source": [
    "## Funções - >  choice() e sample()\n",
    "\n",
    "choice(sequência)\n",
    "Escolhe um elemento \"aleatório\" da sequência de entrada e o retorna.\n",
    "\n",
    "\n",
    "sample(sequência, elementos_a_escolher)\n",
    "Constrói uma lista (uma amostra) consistindo dos elementos elementos_a_escolher \"sorteados\" da sequência de entrada.\n",
    "Em outras palavras, a função escolhe alguns dos elementos de entrada, retornando uma lista com a escolha.\n",
    "Os elementos na amostra são colocados em ordem aleatória.\n",
    "\n",
    "**Observação: os elementos_a_escolher não devem ser maiores que o comprimento da sequência de entrada.**\n"
   ]
  },
  {
   "cell_type": "code",
   "execution_count": 26,
   "id": "f978c9ab",
   "metadata": {},
   "outputs": [
    {
     "name": "stdout",
     "output_type": "stream",
     "text": [
      "8\n",
      "[8, 7, 4, 1, 10]\n",
      "[1, 7, 9, 5, 10, 4, 3, 8, 6, 2]\n"
     ]
    }
   ],
   "source": [
    "from random import choice, sample\n",
    "\n",
    "my_list = [1, 2, 3, 4, 5, 6, 7, 8, 9, 10]\n",
    "\n",
    "print(choice(my_list)) # escolhe só um elemento da lista\n",
    "\n",
    "print(sample(my_list, 5)) # escolhe 5 elementos da lista\n",
    "\n",
    "print(sample(my_list, 10))  # escolhe 10 elementos da lista"
   ]
  },
  {
   "cell_type": "markdown",
   "id": "615f57bd",
   "metadata": {},
   "source": [
    "**choice():**\n",
    "\n",
    "Escolhe apenas um elemento por vez.\n",
    "Pode ser repetido se chamado várias vezes em um loop, pois cada chamada é independente.\n",
    "\n",
    "**sample():**\n",
    "\n",
    "Escolhe uma amostra de elementos da lista.\n",
    "Não permite repetição de elementos na amostra selecionada.\n",
    "A amostra deve ser menor ou igual ao tamanho da lista."
   ]
  },
  {
   "cell_type": "code",
   "execution_count": 27,
   "id": "99a05bc1",
   "metadata": {},
   "outputs": [
    {
     "name": "stdout",
     "output_type": "stream",
     "text": [
      "41\n",
      "[4, 3, 84, 70, 2, 49]\n"
     ]
    }
   ],
   "source": [
    "# exemplo loteria\n",
    "\n",
    "todos_numeros = []\n",
    "for i in range(1, 100):\n",
    "    todos_numeros.append(i)\n",
    "    \n",
    "# print(todos_numeros) # for debug\n",
    "\n",
    "# escolhendo um número:\n",
    "print(choice(todos_numeros))\n",
    "\n",
    "# megasena\n",
    "print(sample(todos_numeros, 6))"
   ]
  },
  {
   "cell_type": "markdown",
   "id": "bbba2eed",
   "metadata": {},
   "source": [
    "##  Funções do  platform module\n",
    "\n",
    "O módulo platform fornece acesso aos dados da plataforma subjacente, como hardware,\n",
    "sistema operacional e informações sobre a versão do interpretador Python.\n",
    "\n",
    "A função platform() retorna uma string descrevendo o ambiente, \n",
    "incluindo detalhes sobre o sistema operacional e a arquitetura do hardware.\n",
    "\n",
    "A função machine() retorna o nome genérico do processador que está executando o sistema operacional.\n",
    "\n",
    "python_implementation() retorna uma string indicando a implementação do Python, geralmente CPython, \n",
    "a menos que você esteja usando uma implementação não canônica.\n",
    "\n",
    "python_version_tuple() retorna uma tupla de três elementos contendo a parte principal,\n",
    "secundária e o número do nível de correção da versão do Python."
   ]
  },
  {
   "cell_type": "code",
   "execution_count": 3,
   "id": "503f7d2e",
   "metadata": {},
   "outputs": [
    {
     "data": {
      "text/plain": [
       "'Windows-10-10.0.19045-SP0'"
      ]
     },
     "execution_count": 3,
     "metadata": {},
     "output_type": "execute_result"
    }
   ],
   "source": [
    "from platform import platform\n",
    "\n",
    "platform(aliased = False, terse = False)\n",
    "\n",
    "# aliased → quando definido como True (ou qualquer valor diferente de zero),\n",
    "# pode fazer com que a função apresente os nomes alternativos das camadas subjacentes em vez dos comuns;\n",
    "# terse → quando definido como True (ou qualquer valor diferente de zero),\n",
    "# pode convencer a função a apresentar uma forma mais breve do resultado (se possível)"
   ]
  },
  {
   "cell_type": "code",
   "execution_count": 4,
   "id": "589b634d",
   "metadata": {},
   "outputs": [
    {
     "name": "stdout",
     "output_type": "stream",
     "text": [
      "Windows-10-10.0.19045-SP0\n",
      "Windows-10-10.0.19045-SP0\n",
      "Windows-10\n"
     ]
    }
   ],
   "source": [
    "# A função platform()\n",
    "# O módulo platform permite que você acesse os dados subjacentes da plataforma,\n",
    "# ou seja, informações sobre hardware,\n",
    "# sistema operacional e versão do interpretador.\n",
    "\n",
    "from platform import platform\n",
    "\n",
    "print(platform())# retorna uma string com informações detalhadas sobre o sistema operacional\n",
    "\n",
    "print(platform(1))# o aliased como True. No caso do Windows, isso não altera a saída, \n",
    "                   # porque a string detalhada de informações do sistema já é usada por padrão, igual a 1° opção.\n",
    "    \n",
    "print(platform(0, 1)) # dois argumentos: 0 para aliased (o que significa False) e 1 para terse (o que significa True).\n",
    "                     # Com terse definido como True, a função retorna uma forma mais breve da informação do sistema operacional.\n"
   ]
  },
  {
   "cell_type": "code",
   "execution_count": null,
   "id": "e6389a2d",
   "metadata": {},
   "outputs": [],
   "source": [
    "Windows-10-10.0.19045-SP0\n",
    "Está usando o Windows 10, versão 10.0.19045, sem Service Pack (SP0).\n",
    "\n",
    "Windows-10\n",
    "forma mais breve da informação do sistema operacional:"
   ]
  },
  {
   "cell_type": "code",
   "execution_count": 6,
   "id": "b3ac896a",
   "metadata": {},
   "outputs": [
    {
     "name": "stdout",
     "output_type": "stream",
     "text": [
      "AMD64\n",
      "Intel64 Family 6 Model 60 Stepping 3, GenuineIntel\n"
     ]
    }
   ],
   "source": [
    "# funçã machine()\n",
    "# Para saber o nome genérico do processador que executa seu sistema operacional\n",
    "# junto com Python e seu código\n",
    "\n",
    "from platform import machine\n",
    "print(machine()) # nome generico\n",
    "\n",
    "\n",
    "# para saber o processador\n",
    "\n",
    "from platform import processor\n",
    "print(processor()) # nome completo\n"
   ]
  },
  {
   "cell_type": "code",
   "execution_count": 7,
   "id": "553156d6",
   "metadata": {},
   "outputs": [
    {
     "name": "stdout",
     "output_type": "stream",
     "text": [
      "Windows\n",
      "10.0.19045\n"
     ]
    }
   ],
   "source": [
    "# para saber o sistema\n",
    "from platform import system\n",
    "\n",
    "print(system())\n",
    "\n",
    "# para saber a versão:\n",
    "from platform import version\n",
    "\n",
    "print(version())"
   ]
  },
  {
   "cell_type": "code",
   "execution_count": 8,
   "id": "35497851",
   "metadata": {},
   "outputs": [
    {
     "name": "stdout",
     "output_type": "stream",
     "text": [
      "CPython\n",
      "3\n",
      "11\n",
      "5\n",
      "('3', '11', '5')\n"
     ]
    }
   ],
   "source": [
    "# para saber qual versão do Python estou usando\n",
    "\n",
    "# python_implementation() → retorna uma string denotando a implementação do Python (espere CPython)\n",
    "\n",
    "# python_version_tuple() → retorna uma tupla de três elementos preenchida com:\n",
    "# 1 parte principal da versão do Python;\n",
    "# 2 parte secundária;\n",
    "# 3 número do nível de correção.\n",
    "\n",
    "\n",
    "from platform import python_implementation, python_version_tuple\n",
    "\n",
    "print(python_implementation())\n",
    "\n",
    "for atr in python_version_tuple():\n",
    "    print(atr)\n",
    "    \n",
    "print(python_version_tuple())"
   ]
  },
  {
   "cell_type": "code",
   "execution_count": 9,
   "id": "e3790c6f",
   "metadata": {},
   "outputs": [
    {
     "data": {
      "text/plain": [
       "['DirEntry',\n",
       " 'EX_OK',\n",
       " 'F_OK',\n",
       " 'GenericAlias',\n",
       " 'Mapping',\n",
       " 'MutableMapping',\n",
       " 'O_APPEND',\n",
       " 'O_BINARY',\n",
       " 'O_CREAT',\n",
       " 'O_EXCL',\n",
       " 'O_NOINHERIT',\n",
       " 'O_RANDOM',\n",
       " 'O_RDONLY',\n",
       " 'O_RDWR',\n",
       " 'O_SEQUENTIAL',\n",
       " 'O_SHORT_LIVED',\n",
       " 'O_TEMPORARY',\n",
       " 'O_TEXT',\n",
       " 'O_TRUNC',\n",
       " 'O_WRONLY',\n",
       " 'P_DETACH',\n",
       " 'P_NOWAIT',\n",
       " 'P_NOWAITO',\n",
       " 'P_OVERLAY',\n",
       " 'P_WAIT',\n",
       " 'PathLike',\n",
       " 'R_OK',\n",
       " 'SEEK_CUR',\n",
       " 'SEEK_END',\n",
       " 'SEEK_SET',\n",
       " 'TMP_MAX',\n",
       " 'W_OK',\n",
       " 'X_OK',\n",
       " '_AddedDllDirectory',\n",
       " '_Environ',\n",
       " '__all__',\n",
       " '__builtins__',\n",
       " '__doc__',\n",
       " '__file__',\n",
       " '__loader__',\n",
       " '__name__',\n",
       " '__package__',\n",
       " '__spec__',\n",
       " '_check_methods',\n",
       " '_execvpe',\n",
       " '_exists',\n",
       " '_exit',\n",
       " '_fspath',\n",
       " '_get_exports_list',\n",
       " '_walk',\n",
       " '_wrap_close',\n",
       " 'abc',\n",
       " 'abort',\n",
       " 'access',\n",
       " 'add_dll_directory',\n",
       " 'altsep',\n",
       " 'chdir',\n",
       " 'chmod',\n",
       " 'close',\n",
       " 'closerange',\n",
       " 'cpu_count',\n",
       " 'curdir',\n",
       " 'defpath',\n",
       " 'device_encoding',\n",
       " 'devnull',\n",
       " 'dup',\n",
       " 'dup2',\n",
       " 'environ',\n",
       " 'error',\n",
       " 'execl',\n",
       " 'execle',\n",
       " 'execlp',\n",
       " 'execlpe',\n",
       " 'execv',\n",
       " 'execve',\n",
       " 'execvp',\n",
       " 'execvpe',\n",
       " 'extsep',\n",
       " 'fdopen',\n",
       " 'fsdecode',\n",
       " 'fsencode',\n",
       " 'fspath',\n",
       " 'fstat',\n",
       " 'fsync',\n",
       " 'ftruncate',\n",
       " 'get_exec_path',\n",
       " 'get_handle_inheritable',\n",
       " 'get_inheritable',\n",
       " 'get_terminal_size',\n",
       " 'getcwd',\n",
       " 'getcwdb',\n",
       " 'getenv',\n",
       " 'getlogin',\n",
       " 'getpid',\n",
       " 'getppid',\n",
       " 'isatty',\n",
       " 'kill',\n",
       " 'linesep',\n",
       " 'link',\n",
       " 'listdir',\n",
       " 'lseek',\n",
       " 'lstat',\n",
       " 'makedirs',\n",
       " 'mkdir',\n",
       " 'name',\n",
       " 'open',\n",
       " 'pardir',\n",
       " 'path',\n",
       " 'pathsep',\n",
       " 'pipe',\n",
       " 'popen',\n",
       " 'putenv',\n",
       " 'read',\n",
       " 'readlink',\n",
       " 'remove',\n",
       " 'removedirs',\n",
       " 'rename',\n",
       " 'renames',\n",
       " 'replace',\n",
       " 'rmdir',\n",
       " 'scandir',\n",
       " 'sep',\n",
       " 'set_handle_inheritable',\n",
       " 'set_inheritable',\n",
       " 'spawnl',\n",
       " 'spawnle',\n",
       " 'spawnv',\n",
       " 'spawnve',\n",
       " 'st',\n",
       " 'startfile',\n",
       " 'stat',\n",
       " 'stat_result',\n",
       " 'statvfs_result',\n",
       " 'strerror',\n",
       " 'supports_bytes_environ',\n",
       " 'supports_dir_fd',\n",
       " 'supports_effective_ids',\n",
       " 'supports_fd',\n",
       " 'supports_follow_symlinks',\n",
       " 'symlink',\n",
       " 'sys',\n",
       " 'system',\n",
       " 'terminal_size',\n",
       " 'times',\n",
       " 'times_result',\n",
       " 'truncate',\n",
       " 'umask',\n",
       " 'uname_result',\n",
       " 'unlink',\n",
       " 'unsetenv',\n",
       " 'urandom',\n",
       " 'utime',\n",
       " 'waitpid',\n",
       " 'waitstatus_to_exitcode',\n",
       " 'walk',\n",
       " 'write']"
      ]
     },
     "execution_count": 9,
     "metadata": {},
     "output_type": "execute_result"
    }
   ],
   "source": [
    "# função dir()\n",
    "\n",
    "import os\n",
    "dir(os)\n",
    "\n",
    "# A função dir() mostra uma lista das entidades contidas dentro de um módulo importado.\n"
   ]
  },
  {
   "cell_type": "markdown",
   "id": "24fac6d8",
   "metadata": {},
   "source": [
    "## Resumo\n",
    "\n",
    "O módulo math agrupa mais de 50 símbolos (funções e constantes) que realizam operações matemáticas\n",
    "(como sine(), pow(), factorial()) ou fornecem valores importantes (como π e o símbolo de Euler, e).\n",
    "\n",
    "O módulo random agrupa mais de 60 entidades projetadas para ajudá-lo a usar números pseudoaleatórios. \n",
    "Não se esqueça do prefixo \"random\", pois não existe algo como um número realmente aleatório quando \n",
    "se trata de gerá-los usando os algoritmos do computador.\n",
    "\n",
    "O módulo platform contém cerca de 70 funções que permitem explorar as camadas subjacentes \n",
    "do sistema operacional e do hardware. Usá-las permite conhecer mais sobre\n",
    "o ambiente em que seu código é executado.\n",
    "\n",
    "O Python Module Index\n",
    "(https://docs.python.org/3/py-modindex.html) \n",
    "é um diretório comunitário de módulos disponíveis no universo Python.\n",
    "Se você quiser encontrar um módulo que atenda às suas necessidades, comece sua busca por lá."
   ]
  },
  {
   "cell_type": "markdown",
   "id": "b68e4fa2",
   "metadata": {},
   "source": [
    "## Exercícios"
   ]
  },
  {
   "cell_type": "code",
   "execution_count": 12,
   "id": "ca658ba9",
   "metadata": {},
   "outputs": [],
   "source": [
    "# math.e é uma constante no módulo math que representa o número de Euler (aproximadamente 2.71828).\n",
    "\n",
    "# math.exp(1) é uma função no módulo math que calcula 𝑒 elevado a 𝑥,\n",
    "# onde  𝑥  é o argumento da função. Quando você passa 1 como argumento, ele calcula \n",
    "# 𝑒 elevado a 1 , que é igual ao próprio número de Euler.\n",
    "\n",
    "# math.e == math.exp(1) verifica se a constante e no módulo math é igual ao resultado de exp(1) \n",
    "# no mesmo módulo. Como ambas representam o número de Euler, a comparação deve ser verdadeira.\n",
    "\n",
    "#Question 1: What is the expected value of the result variable after the following code is executed?\n",
    "    \n",
    "import math\n",
    "\n",
    "result = math.e == math.exp(1)\n",
    "\n",
    "# True\n"
   ]
  },
  {
   "cell_type": "code",
   "execution_count": 27,
   "id": "f1b18f48",
   "metadata": {
    "scrolled": true
   },
   "outputs": [
    {
     "name": "stdout",
     "output_type": "stream",
     "text": [
      "0.8444218515250481\n",
      "0.7579544029403025\n",
      "0.420571580830845\n",
      "0.25891675029296335\n",
      "0.5112747213686085\n",
      "7\n"
     ]
    }
   ],
   "source": [
    "#Question 2: (Complete the sentence) Setting the generator's seed with the same\n",
    "# value each time your program is run guarantees that...\n",
    "\n",
    "from random import random, seed, randint\n",
    "\n",
    "seed(0)\n",
    "\n",
    "for i in range(5):\n",
    "    print(random())\n",
    "\n",
    "print(randint(1, 10)) # vai sortear sempre o mesmo número\n",
    "\n",
    "# ... the pseudo-random values emitted from the random module will be exactly the same.\n",
    "\n"
   ]
  },
  {
   "cell_type": "code",
   "execution_count": 29,
   "id": "f347bef5",
   "metadata": {},
   "outputs": [
    {
     "name": "stdout",
     "output_type": "stream",
     "text": [
      "Intel64 Family 6 Model 60 Stepping 3, GenuineIntel\n"
     ]
    }
   ],
   "source": [
    "# Question 3: Which of the platform module's functions will you use \n",
    "# to determine the name of the CPU running inside your computer?\n",
    "\n",
    "#The processor() function.\n",
    "\n",
    "from platform import processor\n",
    "print(processor()) # nome completo\n"
   ]
  },
  {
   "cell_type": "code",
   "execution_count": 30,
   "id": "bc32a02f",
   "metadata": {},
   "outputs": [
    {
     "name": "stdout",
     "output_type": "stream",
     "text": [
      "3\n"
     ]
    }
   ],
   "source": [
    "# Question 4: What is the expected output of the following snippet?\n",
    "\n",
    "import platform\n",
    "\n",
    "print(len(platform.python_version_tuple()))\n"
   ]
  },
  {
   "cell_type": "markdown",
   "id": "a1fc12b4",
   "metadata": {},
   "source": [
    "## package\n",
    "\n",
    "Um package desempenha um papel semelhante ao de uma pasta/diretório no mundo dos arquivos.\n",
    "\n",
    "ver a criação de um package ou de um módulo no arquivo:\n",
    "ex_08_Modulos_2.py"
   ]
  },
  {
   "cell_type": "code",
   "execution_count": 32,
   "id": "637e0342",
   "metadata": {},
   "outputs": [
    {
     "name": "stdout",
     "output_type": "stream",
     "text": [
      "C:\\Users\\bress\\downloads\\Jupyter\n",
      "C:\\Users\\bress\\AppData\\Local\\anaconda3\\python311.zip\n",
      "C:\\Users\\bress\\AppData\\Local\\anaconda3\\DLLs\n",
      "C:\\Users\\bress\\AppData\\Local\\anaconda3\\Lib\n",
      "C:\\Users\\bress\\AppData\\Local\\anaconda3\n",
      "\n",
      "C:\\Users\\bress\\AppData\\Local\\anaconda3\\Lib\\site-packages\n",
      "C:\\Users\\bress\\AppData\\Local\\anaconda3\\Lib\\site-packages\\win32\n",
      "C:\\Users\\bress\\AppData\\Local\\anaconda3\\Lib\\site-packages\\win32\\lib\n",
      "C:\\Users\\bress\\AppData\\Local\\anaconda3\\Lib\\site-packages\\Pythonwin\n"
     ]
    }
   ],
   "source": [
    "import sys\n",
    "\n",
    "for p in sys.path:\n",
    "    print(p)\n",
    "    \n",
    "# O script principal em Python está localizado em C:\\Users\\user\\py\\progs e é chamado de main.py\n",
    "# O módulo a ser importado está localizado em C:\\Users\\user\\py\\modules\n",
    "\n",
    "# Nota: a pasta na qual a execução começa está listada no primeiro elemento do caminho.\n",
    "\n",
    "# Nota novamente: há um arquivo zip listado como um dos elementos do caminho - não é um erro.\n",
    "# O Python é capaz de tratar arquivos zip como pastas comuns - isso pode economizar muito espaço de armazenamento.\n"
   ]
  },
  {
   "cell_type": "code",
   "execution_count": 43,
   "id": "7179b430",
   "metadata": {
    "scrolled": true
   },
   "outputs": [
    {
     "name": "stdout",
     "output_type": "stream",
     "text": [
      "0\n",
      "1\n"
     ]
    }
   ],
   "source": [
    "from sys import path\n",
    "\n",
    "# Use raw string to avoid unicode error\n",
    "path.append(r'C:\\\\Users\\\\bress\\\\OneDrive\\\\Desktop\\\\GIT_HUB\\\\MeusProjetos\\\\Provas-Curso-Python-Certificacao')\n",
    "\n",
    "# module1\n",
    "from module1 import sumlist, prodlist\n",
    "\n",
    "zeroes = [0 for i in range(5)]\n",
    "ones = [1 for i in range(5)]\n",
    "print(module1.sumlist(zeroes))\n",
    "print(module1.prodlist(ones))\n"
   ]
  },
  {
   "cell_type": "code",
   "execution_count": 44,
   "id": "f80f4c89",
   "metadata": {},
   "outputs": [
    {
     "name": "stdout",
     "output_type": "stream",
     "text": [
      "0\n",
      "1\n"
     ]
    }
   ],
   "source": [
    "from sys import path\n",
    "\n",
    "# Use raw string to avoid unicode error\n",
    "path.append(r'C:\\\\Users\\\\bress\\\\OneDrive\\\\Desktop\\\\GIT_HUB\\\\MeusProjetos\\\\Provas-Curso-Python-Certificacao\\\\module1')\n",
    "\n",
    "module1\n",
    "\n",
    "zeroes = [0 for i in range(5)]\n",
    "ones = [1 for i in range(5)]\n",
    "print(module1.sumlist(zeroes))\n",
    "print(module1.prodlist(ones))\n"
   ]
  },
  {
   "cell_type": "markdown",
   "id": "f58ae83e",
   "metadata": {},
   "source": [
    "### Nota\n",
    "\n",
    "Duplicamos a barra invertida (\\) dentro do nome da pasta - você sabe por quê?\n",
    "\n",
    "Porque uma barra invertida é usada para escapar outros caracteres - \n",
    "se você quiser obter apenas uma barra invertida, você tem que escapá-la.\n",
    "Usamos o nome relativo da pasta - isso funcionará se você iniciar o arquivo main.py \n",
    "diretamente de sua pasta de origem, e não funcionará se o diretório atual \n",
    "não corresponder ao caminho relativo; você sempre pode usar um caminho absoluto, assim:\n",
    "\n",
    "path.append('C:\\\\Users\\\\user\\\\py\\\\modules')\n",
    "\n",
    "Usamos o método append() - em efeito, o novo caminho ocupará o último elemento na lista de caminhos; \n",
    "se você não gostar da ideia, pode usar insert() em vez disso.\n"
   ]
  },
  {
   "cell_type": "code",
   "execution_count": 46,
   "id": "82c9f1dc",
   "metadata": {
    "scrolled": true
   },
   "outputs": [
    {
     "name": "stdout",
     "output_type": "stream",
     "text": [
      "Iota\n"
     ]
    }
   ],
   "source": [
    "# trazendo a função de um modulo dentro de um folder\n",
    "\n",
    "from sys import path\n",
    "path.append('C:\\\\Users\\\\bress\\\\OneDrive\\\\Desktop\\\\GIT_HUB\\\\MeusProjetos\\\\Provas-Curso-Python-Certificacao\\\\extra')\n",
    "\n",
    "import extra.iota\n",
    "print(extra.iota.FunI())\n",
    "\n"
   ]
  },
  {
   "cell_type": "code",
   "execution_count": 49,
   "id": "489cd971",
   "metadata": {
    "scrolled": true
   },
   "outputs": [
    {
     "name": "stdout",
     "output_type": "stream",
     "text": [
      "Sigma\n",
      "Tau\n"
     ]
    }
   ],
   "source": [
    "from sys import path\n",
    "\n",
    "path.append('C:\\\\Users\\\\bress\\\\OneDrive\\\\Desktop\\\\GIT_HUB\\\\MeusProjetos\\\\Provas-Curso-Python-Certificacao\\\\extra')\n",
    "\n",
    "import extra.good.best.sigma # caminho dentro do folder 'extra'\n",
    "from extra.good.best.tau import FunT\n",
    "\n",
    "print(extra.good.best.sigma.FunS())\n",
    "print(FunT())\n",
    "\n"
   ]
  },
  {
   "cell_type": "code",
   "execution_count": 51,
   "id": "5ddeb4a9",
   "metadata": {},
   "outputs": [
    {
     "name": "stdout",
     "output_type": "stream",
     "text": [
      "Sigma\n",
      "Alpha\n"
     ]
    }
   ],
   "source": [
    "from sys import path\n",
    "\n",
    "path.append('C:\\\\Users\\\\bress\\\\OneDrive\\\\Desktop\\\\GIT_HUB\\\\MeusProjetos\\\\Provas-Curso-Python-Certificacao\\\\extra')\n",
    "\n",
    "\n",
    "import extra.good.best.sigma as sig\n",
    "import extra.good.alpha as alp\n",
    "\n",
    "print(sig.FunS())\n",
    "print(alp.FunA())\n"
   ]
  },
  {
   "cell_type": "code",
   "execution_count": 53,
   "id": "268c582f",
   "metadata": {},
   "outputs": [
    {
     "name": "stdout",
     "output_type": "stream",
     "text": [
      "Sigma\n",
      "Alpha\n",
      "Iota\n",
      "Beta\n"
     ]
    }
   ],
   "source": [
    "# Acessando a versão zipada, pois é... dá pra usar o zipado...\n",
    "\n",
    "from sys import path\n",
    "\n",
    "path.append('C:\\\\Users\\\\bress\\\\OneDrive\\\\Desktop\\\\GIT_HUB\\\\MeusProjetos\\\\Provas-Curso-Python-Certificacao\\\\extrapack.zip')\n",
    "\n",
    "import extra.good.best.sigma as sig\n",
    "import extra.good.alpha as alp\n",
    "from extra.iota import FunI\n",
    "from extra.good.beta import FunB\n",
    "\n",
    "print(sig.FunS())\n",
    "print(alp.FunA())\n",
    "print(FunI())\n",
    "print(FunB())\n"
   ]
  },
  {
   "cell_type": "markdown",
   "id": "c4f9dde4",
   "metadata": {},
   "source": [
    "## Quiz"
   ]
  },
  {
   "cell_type": "markdown",
   "id": "a21b3f42",
   "metadata": {},
   "source": [
    "## Pergunta 1:\n",
    "Você quer impedir que o usuário do seu módulo execute seu código como um script comum.\n",
    "Como você conseguirá tal efeito?"
   ]
  },
  {
   "cell_type": "code",
   "execution_count": 55,
   "id": "c1785fe6",
   "metadata": {},
   "outputs": [
    {
     "name": "stdout",
     "output_type": "stream",
     "text": [
      "Don't do that!\n"
     ]
    },
    {
     "ename": "SystemExit",
     "evalue": "",
     "output_type": "error",
     "traceback": [
      "An exception has occurred, use %tb to see the full traceback.\n",
      "\u001b[1;31mSystemExit\u001b[0m\n"
     ]
    },
    {
     "name": "stderr",
     "output_type": "stream",
     "text": [
      "C:\\Users\\bress\\AppData\\Local\\anaconda3\\Lib\\site-packages\\IPython\\core\\interactiveshell.py:3534: UserWarning: To exit: use 'exit', 'quit', or Ctrl-D.\n",
      "  warn(\"To exit: use 'exit', 'quit', or Ctrl-D.\", stacklevel=1)\n"
     ]
    }
   ],
   "source": [
    "import sys\n",
    "\n",
    "if __name__ == \"__main__\":\n",
    "    print (\"Don't do that!\")\n",
    "    sys.exit()"
   ]
  },
  {
   "cell_type": "markdown",
   "id": "93d73dc1",
   "metadata": {},
   "source": [
    "## Pergunta 2:\n",
    "Alguns pacotes adicionais e necessários estão armazenados no diretório D:\\Python\\Project\\Modules.\n",
    "Escreva um código garantindo que o diretório seja percorrido pelo Python para encontrar todos os módulos solicitados."
   ]
  },
  {
   "cell_type": "code",
   "execution_count": null,
   "id": "69781e49",
   "metadata": {},
   "outputs": [],
   "source": [
    "import sys\n",
    "\n",
    "# note the double backslashes!\n",
    "sys.path.append(\"D:\\\\Python\\\\Project\\\\Modules\")"
   ]
  },
  {
   "cell_type": "markdown",
   "id": "f5388732",
   "metadata": {},
   "source": [
    "## Pergunta 3:\n",
    "O diretório mencionado no exercício anterior contém uma subárvore com a seguinte estrutura::\n",
    "abc\n",
    " |__ def\n",
    "     |__ mymodule.py\n",
    "\n",
    "Assumindo que D:\\Python\\Project\\Modules foi adicionado com sucesso à lista sys.path, escreva uma diretiva de importação que permita você usar todas as entidades de mymodule.\n",
    "\n",
    "import abc.def.mymodule\n",
    "     "
   ]
  }
 ],
 "metadata": {
  "kernelspec": {
   "display_name": "Python 3 (ipykernel)",
   "language": "python",
   "name": "python3"
  },
  "language_info": {
   "codemirror_mode": {
    "name": "ipython",
    "version": 3
   },
   "file_extension": ".py",
   "mimetype": "text/x-python",
   "name": "python",
   "nbconvert_exporter": "python",
   "pygments_lexer": "ipython3",
   "version": "3.11.5"
  }
 },
 "nbformat": 4,
 "nbformat_minor": 5
}
