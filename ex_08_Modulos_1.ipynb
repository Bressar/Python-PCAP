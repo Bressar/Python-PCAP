{
 "cells": [
  {
   "cell_type": "markdown",
   "id": "ec3bc2d7",
   "metadata": {},
   "source": [
    "## Modules"
   ]
  },
  {
   "cell_type": "code",
   "execution_count": 1,
   "id": "66e01026",
   "metadata": {},
   "outputs": [
    {
     "name": "stdout",
     "output_type": "stream",
     "text": [
      "1.0\n"
     ]
    }
   ],
   "source": [
    "import math\n",
    "print(math.sin(math.pi/2))"
   ]
  },
  {
   "cell_type": "markdown",
   "id": "91d47a2a",
   "metadata": {},
   "source": [
    "### This is the way in which you qualify the names of pi and sin with the name of its originating module:\n",
    "\n",
    "import math\n",
    "\n",
    "math.pi\n",
    "math.sin\n",
    "\n",
    "It's simple, you put:\n",
    "\n",
    "the name of the module (e.g., math)\n",
    "a dot (i.e., .)\n",
    "the name of the entity (e.g., pi)"
   ]
  },
  {
   "cell_type": "code",
   "execution_count": 2,
   "id": "d90d58a5",
   "metadata": {},
   "outputs": [
    {
     "name": "stdout",
     "output_type": "stream",
     "text": [
      "0.99999999\n",
      "1.0\n"
     ]
    }
   ],
   "source": [
    "# the two namespaces (yours and the module's one) can coexist\n",
    "# usando o name_space sin 2 vezes\n",
    "\n",
    "import math\n",
    "\n",
    "def sin(x):\n",
    "    if 2 * x == pi:\n",
    "        return 0.99999999\n",
    "    else:\n",
    "        return None\n",
    "\n",
    "pi = 3.14\n",
    "\n",
    "print(sin(pi/2))\n",
    "print(math.sin(math.pi/2))"
   ]
  },
  {
   "cell_type": "code",
   "execution_count": 3,
   "id": "656d1cc7",
   "metadata": {},
   "outputs": [
    {
     "name": "stdout",
     "output_type": "stream",
     "text": [
      "1.0\n"
     ]
    }
   ],
   "source": [
    "from math import sin, pi\n",
    "\n",
    "print(sin(pi/2))\n",
    "\n",
    "# sin -> seno em radianos"
   ]
  },
  {
   "cell_type": "code",
   "execution_count": 4,
   "id": "463c8b58",
   "metadata": {},
   "outputs": [
    {
     "name": "stdout",
     "output_type": "stream",
     "text": [
      "1.0\n",
      "0.99999999\n"
     ]
    }
   ],
   "source": [
    "# Mesmos nomes, ocorre a substituição na redefinição das variáveis:\n",
    "\n",
    "from math import sin, pi\n",
    "\n",
    "print(sin(pi / 2))\n",
    "\n",
    "pi = 3.14\n",
    "\n",
    "def sin(x):\n",
    "    if 2 * x == pi:\n",
    "        return 0.99999999\n",
    "    else:\n",
    "        return None\n",
    "\n",
    "\n",
    "print(sin(pi / 2))"
   ]
  },
  {
   "cell_type": "code",
   "execution_count": 5,
   "id": "426c1ca5",
   "metadata": {
    "scrolled": true
   },
   "outputs": [
    {
     "name": "stdout",
     "output_type": "stream",
     "text": [
      "0.99999999\n",
      "1.0\n"
     ]
    }
   ],
   "source": [
    "pi = 3.14\n",
    "\n",
    "def sin(x):\n",
    "    if 2 * x == pi:\n",
    "        return 0.99999999\n",
    "    else:\n",
    "        return None\n",
    "\n",
    "\n",
    "print(sin(pi / 2))\n",
    "\n",
    "from math import sin, pi\n",
    "\n",
    "print(sin(pi / 2))\n",
    "\n",
    "# vai usar o valor da última atribuição na variável"
   ]
  },
  {
   "cell_type": "markdown",
   "id": "bfd4b583",
   "metadata": {},
   "source": [
    "## Importando Modulos/bibliotecas\n",
    "\n",
    "**from module import * # importa tudo**\n",
    "\n",
    "\n",
    "**import module as alias # cria um alias**\n",
    "\n",
    "import math as m\n",
    "\n",
    "print(m.sin(m.pi/2))\n",
    "\n",
    "\n",
    "**from module import n as a, m as b, o as c**\n",
    "\n",
    "from math import pi as PI, sin as sine\n",
    "\n",
    "print(sine(PI/2))\n",
    "\n",
    "\n",
    "### pode assim:\n",
    "\n",
    "import mod1\n",
    "import mod2, mod3, mod4\n",
    "\n",
    "### mas em boas praticas se faz assim:\n",
    "\n",
    "import mod2\n",
    "import mod3\n",
    "import mod4"
   ]
  },
  {
   "cell_type": "markdown",
   "id": "5f9e91e8",
   "metadata": {},
   "source": [
    "[1] Se um módulo for importado da maneira abaixo e você quiser acessar qualquer uma de suas entidades, você precisa prefixar o nome da entidade usando a notação de ponto. Por exemplo:\n",
    "\n",
    "**import my_module**\n",
    "\n",
    "result = my_module.my_function(my_module.my_data)\n",
    "\n",
    "\n",
    "[2] **Quando for usando from / import não se usa o ponto ( . )**\n",
    "\n",
    "from module import my_function, my_data\n",
    "\n",
    "result = my_function(my_data)\n",
    "\n",
    "\n",
    "[3] importa tudo from my_module import *\n",
    "\n",
    "result = my_function(my_data)\n",
    "\n",
    "\n",
    "*Observação: esta variante de importação não é recomendada pelos mesmos motivos anteriores (a ameaça de um conflito de nomes é ainda mais perigosa aqui).*\n",
    "\n",
    "\n",
    "[4] Alias from module import my_function as fun, my_data as dat\n",
    "result = fun(dat)\n",
    "\n"
   ]
  },
  {
   "cell_type": "code",
   "execution_count": null,
   "id": "56e0a1ab",
   "metadata": {},
   "outputs": [],
   "source": [
    "# Question 1: \n",
    "#You want to invoke the function make_money()\n",
    "# contained in the module named mint. Your code begins with the following line:\n",
    "\n",
    "import mint\n",
    "\n",
    "mint.make_money()"
   ]
  },
  {
   "cell_type": "code",
   "execution_count": null,
   "id": "6b49748f",
   "metadata": {},
   "outputs": [],
   "source": [
    "# Question 2: \n",
    "# You want to invoke the function make_money() \n",
    "# contained in the module named mint. \n",
    "# Your code begins with the following line:\n",
    "\n",
    "from mint import make_money\n",
    "\n",
    "make_money()"
   ]
  },
  {
   "cell_type": "code",
   "execution_count": null,
   "id": "01399baf",
   "metadata": {},
   "outputs": [],
   "source": [
    "# Question 3:\n",
    "# You've written a function named make_money on your own.\n",
    "# You need to import a function of the same name from the mint module\n",
    "# and don't want to rename any of your previously defined names.\n",
    "# Which variant of the import statement may help you with the issue?\n",
    "\n",
    "from mint import make_money as make_more_money\n"
   ]
  },
  {
   "cell_type": "code",
   "execution_count": null,
   "id": "cba419d8",
   "metadata": {},
   "outputs": [],
   "source": [
    "# Question 4:\n",
    "# What form of the make_money function invocation is valid\n",
    "# if your code starts with the following line?\n",
    "\n",
    "from mint import *\n",
    "\n",
    "make_money()"
   ]
  },
  {
   "cell_type": "markdown",
   "id": "3d0e1b89",
   "metadata": {},
   "source": [
    "## standard modules"
   ]
  },
  {
   "cell_type": "code",
   "execution_count": 11,
   "id": "ade30cfd",
   "metadata": {},
   "outputs": [
    {
     "name": "stdout",
     "output_type": "stream",
     "text": [
      "__doc__ * __loader__ * __name__ * __package__ * __spec__ * acos * acosh * asin * asinh * atan * atan2 * atanh * cbrt * ceil * comb * copysign * cos * cosh * degrees * dist * e * erf * erfc * exp * exp2 * expm1 * fabs * factorial * floor * fmod * frexp * fsum * gamma * gcd * hypot * inf * isclose * isfinite * isinf * isnan * isqrt * lcm * ldexp * lgamma * log * log10 * log1p * log2 * modf * nan * nextafter * perm * pi * pow * prod * radians * remainder * sin * sinh * sqrt * tan * tanh * tau * trunc * ulp * "
     ]
    }
   ],
   "source": [
    "# returns an alphabetically sorted list containing all entities' names available\n",
    "# in the module identified by a name passed to the function as an argument:\n",
    "\n",
    "# - >  dir(module) -> exibe tudo o que tem no modulo -> 'dir()'\n",
    "  \n",
    "import math\n",
    "  \n",
    "for name in dir(math):\n",
    "  print(name, end=\" * \")\n"
   ]
  },
  {
   "cell_type": "code",
   "execution_count": 12,
   "id": "926a4146",
   "metadata": {},
   "outputs": [
    {
     "data": {
      "text/plain": [
       "['__doc__',\n",
       " '__loader__',\n",
       " '__name__',\n",
       " '__package__',\n",
       " '__spec__',\n",
       " 'acos',\n",
       " 'acosh',\n",
       " 'asin',\n",
       " 'asinh',\n",
       " 'atan',\n",
       " 'atan2',\n",
       " 'atanh',\n",
       " 'cbrt',\n",
       " 'ceil',\n",
       " 'comb',\n",
       " 'copysign',\n",
       " 'cos',\n",
       " 'cosh',\n",
       " 'degrees',\n",
       " 'dist',\n",
       " 'e',\n",
       " 'erf',\n",
       " 'erfc',\n",
       " 'exp',\n",
       " 'exp2',\n",
       " 'expm1',\n",
       " 'fabs',\n",
       " 'factorial',\n",
       " 'floor',\n",
       " 'fmod',\n",
       " 'frexp',\n",
       " 'fsum',\n",
       " 'gamma',\n",
       " 'gcd',\n",
       " 'hypot',\n",
       " 'inf',\n",
       " 'isclose',\n",
       " 'isfinite',\n",
       " 'isinf',\n",
       " 'isnan',\n",
       " 'isqrt',\n",
       " 'lcm',\n",
       " 'ldexp',\n",
       " 'lgamma',\n",
       " 'log',\n",
       " 'log10',\n",
       " 'log1p',\n",
       " 'log2',\n",
       " 'modf',\n",
       " 'nan',\n",
       " 'nextafter',\n",
       " 'perm',\n",
       " 'pi',\n",
       " 'pow',\n",
       " 'prod',\n",
       " 'radians',\n",
       " 'remainder',\n",
       " 'sin',\n",
       " 'sinh',\n",
       " 'sqrt',\n",
       " 'tan',\n",
       " 'tanh',\n",
       " 'tau',\n",
       " 'trunc',\n",
       " 'ulp']"
      ]
     },
     "execution_count": 12,
     "metadata": {},
     "output_type": "execute_result"
    }
   ],
   "source": [
    "import math\n",
    "\n",
    "dir(math) # -> abre uma lista com todo o conteúdo\n"
   ]
  },
  {
   "cell_type": "markdown",
   "id": "23a5111e",
   "metadata": {},
   "source": [
    "## The first group of the math's functions are connected with trigonometry:\n",
    "\n",
    "sin(x) → the sine of x;\n",
    "cos(x) → the cosine of x;\n",
    "tan(x) → the tangent of x.\n",
    "\n",
    "All these functions take one argument (an angle measurement expressed in radians) and return the appropriate result (be careful with tan() - not all arguments are accepted).\n",
    "\n",
    "Of course, there are also their inversed versions:\n",
    "\n",
    "asin(x) → the arcsine of x;\n",
    "acos(x) → the arccosine of x;\n",
    "atan(x) → the arctangent of x.\n",
    "\n",
    "These functions take one argument (mind the domains) and return a measure of an angle in radians.\n",
    "\n",
    "To effectively operate on angle measurements, the math module provides you with the following entities:\n",
    "\n",
    "pi → a constant with a value that is an approximation of π;\n",
    "radians(x) → a function that converts x from degrees to radians;\n",
    "degrees(x) → acting in the other direction (from radians to degrees)"
   ]
  },
  {
   "cell_type": "code",
   "execution_count": 13,
   "id": "7f612179",
   "metadata": {},
   "outputs": [
    {
     "name": "stdout",
     "output_type": "stream",
     "text": [
      "True\n",
      "True\n",
      "True\n",
      "True\n"
     ]
    }
   ],
   "source": [
    "from math import pi, radians, degrees, sin, cos, tan, asin\n",
    "\n",
    "ad = 90\n",
    "ar = radians(ad)\n",
    "ad = degrees(ar)\n",
    "\n",
    "print(ad == 90.)\n",
    "print(ar == pi / 2.)\n",
    "print(sin(ar) / cos(ar) == tan(ar))\n",
    "print(asin(sin(ar)) == ar)\n",
    "    "
   ]
  },
  {
   "cell_type": "markdown",
   "id": "8ec3b57e",
   "metadata": {},
   "source": [
    "sin(x) → o seno de x; \n",
    "cos(x) → o cosseno de x;\n",
    "tan(x) → a tangente de x. \n",
    "asin(x) → o arcoseno de x;\n",
    "acos(x) → o arcocosseno de x;\n",
    "atan(x) → o arcotangente de x.\n"
   ]
  },
  {
   "cell_type": "code",
   "execution_count": 15,
   "id": "eb775d94",
   "metadata": {},
   "outputs": [
    {
     "name": "stdout",
     "output_type": "stream",
     "text": [
      "True\n",
      "True\n",
      "True\n"
     ]
    }
   ],
   "source": [
    "from math import e, exp, log\n",
    "\n",
    "print(pow(e, 1) == exp(log(e)))\n",
    "print(pow(2, 2) == exp(2 * log(2)))\n",
    "print(log(e, e) == exp(0))"
   ]
  },
  {
   "cell_type": "markdown",
   "id": "8d809d65",
   "metadata": {},
   "source": [
    "Another group of the math's functions is formed by functions which are connected with exponentiation:\n",
    "\n",
    "e → a constant with a value that is an approximation of Euler's number (e)\n",
    "exp(x) → finding the value of ex;\n",
    "log(x) → the natural logarithm of x\n",
    "log(x, b) → the logarithm of x to base b\n",
    "log10(x) → the decimal logarithm of x (more precise than log(x, 10)\n",
    "\n",
    "Note: the pow() function:\n",
    "\n",
    "pow(x, y) → finding the value of xy (mind the domains)\n",
    "This is a built-in function, and doesn't have to be imported."
   ]
  },
  {
   "cell_type": "code",
   "execution_count": null,
   "id": "d9e691d1",
   "metadata": {},
   "outputs": [],
   "source": [
    "from math import ceil, floor, trunc\n",
    "\n",
    "x = 1.4\n",
    "y = 2.6\n",
    "\n",
    "print(floor(x), floor(y))\n",
    "print(floor(-x), floor(-y))\n",
    "print(ceil(x), ceil(y))\n",
    "print(ceil(-x), ceil(-y))\n",
    "print(trunc(x), trunc(y))\n",
    "print(trunc(-x), trunc(-y))\n",
    "    "
   ]
  },
  {
   "cell_type": "markdown",
   "id": "62b7f712",
   "metadata": {},
   "source": [
    "The last group consists of some general-purpose functions like:\n",
    "\n",
    "ceil(x) → the ceiling of x (the smallest integer greater than or equal to x)\n",
    "floor(x) → the floor of x (the largest integer less than or equal to x)\n",
    "trunc(x) → the value of x truncated to an integer (be careful - it's not an equivalent either of ceil or floor)\n",
    "factorial(x) → returns x! (x has to be an integral and not a negative)\n",
    "hypot(x, y) → returns the length of the hypotenuse of a right-angle triangle with the leg lengths equal to x and y (the same as sqrt(pow(x, 2) + pow(y, 2)) but more precise)"
   ]
  },
  {
   "cell_type": "markdown",
   "id": "afd80d9e",
   "metadata": {},
   "source": [
    "# Random"
   ]
  },
  {
   "cell_type": "code",
   "execution_count": 16,
   "id": "119de5ea",
   "metadata": {},
   "outputs": [
    {
     "name": "stdout",
     "output_type": "stream",
     "text": [
      "0.993242542406434\n",
      "0.12760300329393792\n",
      "0.5211161986593965\n",
      "0.28917711623442544\n",
      "0.4521679649310363\n",
      "5\n",
      "1\n",
      "4\n",
      "3\n",
      "3\n"
     ]
    }
   ],
   "source": [
    "# Random -> Modulo\n",
    "\n",
    "# função random ->  produz um número flutuante x vindo do intervalo (0.0, 1.0)\n",
    "# - em outras palavras: (0.0 <= x < 1.0).\n",
    "\n",
    "from random import random, randint\n",
    "\n",
    "for i in range(5): # (0.0, 1.0)\n",
    "    print(random()) # \n",
    "\n",
    "for i in range(5):\n",
    "     print(randint(1,5)) #(1 a 5)"
   ]
  },
  {
   "cell_type": "markdown",
   "id": "84a3a811",
   "metadata": {},
   "source": [
    "### Random\n",
    "\n",
    "Para valores aleatórios inteiros, uma das seguintes funções se encaixaria melhor:\n",
    "\n",
    "randrange(fim)\n",
    "\n",
    "randrange(início, fim)\n",
    "\n",
    "randrange(início, fim, passo)\n",
    "\n",
    "randint(esquerda, direita)\n",
    "\n",
    "As três primeiras invocações gerarão um número inteiro\n",
    "retirado (pseudoaleatoriamente) do intervalo (respectivamente):\n",
    "range(fim)\n",
    "range(início, fim)\n",
    "range(início, fim, passo)\n",
    "\n",
    "Observe a exclusão implícita do lado direito!"
   ]
  },
  {
   "cell_type": "code",
   "execution_count": 18,
   "id": "cd28e5e6",
   "metadata": {},
   "outputs": [
    {
     "name": "stdout",
     "output_type": "stream",
     "text": [
      "0 - 0 - 0 - 1\n"
     ]
    }
   ],
   "source": [
    "from random import randrange, randint\n",
    "\n",
    "print(randrange(1), end=' - ') # randrange(fim)\n",
    "\n",
    "print(randrange(0, 1), end=' - ') # randrange(início, fim)\n",
    "\n",
    "print(randrange(0, 1, 1), end=' - ') # randrange(início, fim, passo)\n",
    "\n",
    "print(randint(0, 1)) # (esquerda, direita)\n",
    "\n",
    "# Observe a exclusão implícita do lado direito! Regra do index começar no 0"
   ]
  },
  {
   "cell_type": "code",
   "execution_count": 20,
   "id": "f7684ca0",
   "metadata": {},
   "outputs": [
    {
     "name": "stdout",
     "output_type": "stream",
     "text": [
      "2, 8, 5, 9, 2, 1, 7, 1, 4, 3, "
     ]
    }
   ],
   "source": [
    "# desvantagem: produz valores repetidos:\n",
    "\n",
    "from random import randint\n",
    "\n",
    "for i in range(10):\n",
    "    print(randint(1, 10), end=', ')"
   ]
  },
  {
   "cell_type": "markdown",
   "id": "2cf5d176",
   "metadata": {},
   "source": [
    "## Função seed()\n",
    "\n",
    "A função seed() do módulo random em Python é usada para inicializar o gerador de números aleatórios \n",
    "com uma semente específica. Isso é útil quando você deseja obter uma sequência de números aleatórios\n",
    "que seja previsível e reproduzível.\n",
    "\n",
    "A função seed(0) define a semente do gerador de números aleatórios como 0. \n",
    "Isso significa que qualquer sequência de números aleatórios gerada após essa chamada\n",
    "será a mesma toda vez que você executar o programa, **desde que a semente seja definida como 0.**\n",
    "\n",
    "[1] Reprodutibilidade: Definindo a semente, você garante que a sequência de números aleatórios\n",
    "seja a mesma em cada execução do programa. \n",
    "Isso é útil para testes e depuração, onde você deseja resultados consistentes.\n",
    "\n",
    "[2] Controle: Você tem controle sobre a geração de números aleatórios, \n",
    "    o que pode ser útil em simulações ou algoritmos que dependem de aleatoriedade.\n",
    "    \n",
    "*Essa sequência de números aleatórios é gerada porque a semente foi definida como 0.\n",
    "Se você mudar o valor da semente, a sequência de números gerados será diferente, \n",
    "mas permanecerá consistente para aquele valor de semente.*"
   ]
  },
  {
   "cell_type": "code",
   "execution_count": 22,
   "id": "bd2dcf8f",
   "metadata": {},
   "outputs": [
    {
     "name": "stdout",
     "output_type": "stream",
     "text": [
      "0.8444218515250481\n",
      "0.7579544029403025\n",
      "0.420571580830845\n",
      "0.25891675029296335\n",
      "0.5112747213686085\n"
     ]
    }
   ],
   "source": [
    "from random import random, seed\n",
    "\n",
    "seed(0)\n",
    "\n",
    "for i in range(5):\n",
    "    print(random())\n",
    "    "
   ]
  },
  {
   "cell_type": "code",
   "execution_count": 24,
   "id": "d57b75e1",
   "metadata": {},
   "outputs": [
    {
     "name": "stdout",
     "output_type": "stream",
     "text": [
      "0.13436424411240122\n",
      "0.8474337369372327\n",
      "0.763774618976614\n",
      "0.2550690257394217\n",
      "0.49543508709194095\n"
     ]
    }
   ],
   "source": [
    "from random import random, seed\n",
    "\n",
    "seed(1)\n",
    "\n",
    "for i in range(5):\n",
    "    print(random())"
   ]
  },
  {
   "cell_type": "code",
   "execution_count": 25,
   "id": "9cd4ef9b",
   "metadata": {},
   "outputs": [
    {
     "name": "stdout",
     "output_type": "stream",
     "text": [
      "0.13436424411240122\n",
      "0.8474337369372327\n",
      "0.763774618976614\n",
      "0.2550690257394217\n",
      "0.49543508709194095\n"
     ]
    }
   ],
   "source": [
    "from random import random, seed\n",
    "\n",
    "seed(1)\n",
    "\n",
    "for i in range(5):\n",
    "    print(random())"
   ]
  },
  {
   "cell_type": "markdown",
   "id": "8f77c8df",
   "metadata": {},
   "source": [
    "## Funções - >  choice() e sample()\n",
    "\n",
    "choice(sequência)\n",
    "Escolhe um elemento \"aleatório\" da sequência de entrada e o retorna.\n",
    "\n",
    "\n",
    "sample(sequência, elementos_a_escolher)\n",
    "Constrói uma lista (uma amostra) consistindo dos elementos elementos_a_escolher \"sorteados\" da sequência de entrada.\n",
    "Em outras palavras, a função escolhe alguns dos elementos de entrada, retornando uma lista com a escolha.\n",
    "Os elementos na amostra são colocados em ordem aleatória.\n",
    "\n",
    "**Observação: os elementos_a_escolher não devem ser maiores que o comprimento da sequência de entrada.**\n"
   ]
  },
  {
   "cell_type": "code",
   "execution_count": 26,
   "id": "f978c9ab",
   "metadata": {},
   "outputs": [
    {
     "name": "stdout",
     "output_type": "stream",
     "text": [
      "8\n",
      "[8, 7, 4, 1, 10]\n",
      "[1, 7, 9, 5, 10, 4, 3, 8, 6, 2]\n"
     ]
    }
   ],
   "source": [
    "from random import choice, sample\n",
    "\n",
    "my_list = [1, 2, 3, 4, 5, 6, 7, 8, 9, 10]\n",
    "\n",
    "print(choice(my_list)) # escolhe só um elemento da lista\n",
    "\n",
    "print(sample(my_list, 5)) # escolhe 5 elementos da lista\n",
    "\n",
    "print(sample(my_list, 10))  # escolhe 10 elementos da lista"
   ]
  },
  {
   "cell_type": "markdown",
   "id": "615f57bd",
   "metadata": {},
   "source": [
    "**choice():**\n",
    "\n",
    "Escolhe apenas um elemento por vez.\n",
    "Pode ser repetido se chamado várias vezes em um loop, pois cada chamada é independente.\n",
    "\n",
    "**sample():**\n",
    "\n",
    "Escolhe uma amostra de elementos da lista.\n",
    "Não permite repetição de elementos na amostra selecionada.\n",
    "A amostra deve ser menor ou igual ao tamanho da lista."
   ]
  },
  {
   "cell_type": "code",
   "execution_count": 27,
   "id": "99a05bc1",
   "metadata": {},
   "outputs": [
    {
     "name": "stdout",
     "output_type": "stream",
     "text": [
      "41\n",
      "[4, 3, 84, 70, 2, 49]\n"
     ]
    }
   ],
   "source": [
    "# exemplo loteria\n",
    "\n",
    "todos_numeros = []\n",
    "for i in range(1, 100):\n",
    "    todos_numeros.append(i)\n",
    "    \n",
    "# print(todos_numeros) # for debug\n",
    "\n",
    "# escolhendo um número:\n",
    "print(choice(todos_numeros))\n",
    "\n",
    "# megasena\n",
    "print(sample(todos_numeros, 6))"
   ]
  },
  {
   "cell_type": "code",
   "execution_count": null,
   "id": "b8c2a355",
   "metadata": {},
   "outputs": [],
   "source": []
  }
 ],
 "metadata": {
  "kernelspec": {
   "display_name": "Python 3 (ipykernel)",
   "language": "python",
   "name": "python3"
  },
  "language_info": {
   "codemirror_mode": {
    "name": "ipython",
    "version": 3
   },
   "file_extension": ".py",
   "mimetype": "text/x-python",
   "name": "python",
   "nbconvert_exporter": "python",
   "pygments_lexer": "ipython3",
   "version": "3.11.5"
  }
 },
 "nbformat": 4,
 "nbformat_minor": 5
}
