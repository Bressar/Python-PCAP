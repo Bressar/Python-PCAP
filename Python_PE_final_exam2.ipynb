{
 "cells": [
  {
   "cell_type": "markdown",
   "id": "9bcad624",
   "metadata": {},
   "source": [
    "## Question 1\n",
    "Knowing that a function named fun() resides in a module named mod, and was imported using the following statement:\n",
    "\n",
    "\n",
    "from mod import fun\n",
    " \n",
    "Choose the right way to invoke the fun() function:\n",
    "\n",
    "    resposta\n",
    "    **fun()**\n",
    "    \n",
    "    \n",
    "    *mod:fun()*\n",
    "\n",
    "    *mod::fun()*\n",
    "\n",
    "    *mod.fun()*\n"
   ]
  },
  {
   "cell_type": "markdown",
   "id": "e0cfe381",
   "metadata": {},
   "source": [
    "## Question 2\n",
    "What output will appear after running the following snippet?\n",
    "\n",
    "\n",
    "import math\n",
    "print(dir(math))\n",
    "\n",
    "    resposta\n",
    "    **A list of all the entities residing in the math module**\n",
    "\n",
    "\n",
    "    *The number of all the entities residing in the math module*\n",
    "\n",
    "    *An error message*\n",
    "\n",
    "    *A string containing the fully qualified name of the module*\n"
   ]
  },
  {
   "cell_type": "markdown",
   "id": "dfbbb183",
   "metadata": {},
   "source": [
    "## Question 3\n",
    "The compiled Python bytecode is stored in files which have their names ending with:\n",
    "\n",
    "    resposta\n",
    "    **pyc**\n",
    "\n",
    "\n",
    "    *pyb*\n",
    "\n",
    "    *pc*\n",
    "\n",
    "    *py*\n"
   ]
  },
  {
   "cell_type": "markdown",
   "id": "430ddef2",
   "metadata": {},
   "source": [
    "## Question 4\n",
    "Assuming that the following three files: a.py, b.py, and c.py reside in the same directory,\n",
    "what will be the output produced after running the c.py file?"
   ]
  },
  {
   "cell_type": "code",
   "execution_count": null,
   "id": "b65914d4",
   "metadata": {},
   "outputs": [],
   "source": [
    "\n",
    "# file a.py\n",
    "print(\"a\", end='')\n",
    " \n",
    "# file b.py\n",
    "import a\n",
    "print(\"b\", end='')\n",
    " \n",
    "# file c.py\n",
    "print(\"c\", end='') #  -> c, + a (print a), + b (print b)\n",
    "import a\n",
    "import b\n",
    " \n",
    "    resposta\n",
    "    **cab**\n",
    "\n",
    "    \n",
    "    cba\n",
    "\n",
    "    bc\n",
    "\n",
    "    bac\n",
    "\n",
    "# print(\"c\", end='') no arquivo c.py imprime c.\n",
    "# import a dentro de c.py executa o código de a.py, imprimindo a.\n",
    "# import b dentro de c.py imprime b depois de importar a \n",
    "# (mas como a já foi importado anteriormente, o código de a não é executado novamente).\n",
    "# Portanto, a saída final ao executar c.py é cab.\n"
   ]
  },
  {
   "cell_type": "markdown",
   "id": "297ba200",
   "metadata": {},
   "source": [
    "## Question 5\n",
    "What will be the output of the following code, located in the p.py file?\n",
    "\n",
    "\n",
    "print(__name__)\n",
    " \n",
    "\n",
    "    **resposta**\n",
    "    __main__\n",
    "\n",
    "\n",
    "    *p.py*\n",
    "\n",
    "    *main*\n",
    "\n",
    "    *__p.py__*\n"
   ]
  },
  {
   "cell_type": "markdown",
   "id": "cc031816",
   "metadata": {},
   "source": [
    "## Question 6\n",
    "The following statement:\n",
    "\n",
    "\n",
    "from a.b import c\n",
    " \n",
    "causes the import of:\n",
    "\n",
    "\n",
    "    resposta\n",
    "    **entity c from module b from package a**\n",
    "\n",
    "\n",
    "    *entity a from module b from package c*\n",
    "\n",
    "    *entity c from module a from package b*\n",
    "\n",
    "    *entity b from module a from package c*\n",
    "    "
   ]
  },
  {
   "cell_type": "markdown",
   "id": "582e8e6c",
   "metadata": {},
   "source": [
    "## Question 7\n",
    "If there is more than one except: branches after the try: clause, we can say that:\n",
    "\n",
    "\n",
    "    resposta\n",
    "    **not more than one except: block will be executed**\n",
    "\n",
    "\n",
    "    *one or more except: blocks will be executed*\n",
    "\n",
    "    *none of the except: blocks will be executed*\n",
    "\n",
    "    *exactly one except: block will be executed*"
   ]
  },
  {
   "cell_type": "markdown",
   "id": "9a553e3c",
   "metadata": {},
   "source": [
    "## Question 8\n",
    "What is the expected result of the following snippet?\n",
    "\n",
    "\n",
    "try: -> *Dentro do bloco try, uma exceção do tipo Exception é explicitamente levantada usando raise Exception.*\n",
    "    raise Exception \n",
    "except BaseException: -> *Este bloco captura qualquer exceção que seja uma instância de BaseException ou uma de suas subclasses.*\n",
    "    print(\"a\")           *Exception é uma subclass de BaseException. Portanto, o BaseException captura a exceção levantada.*\n",
    "except Exception:\n",
    "    print(\"b\")  -> *se uma exceção já foi capturada pelo bloco except BaseException, os blocos seguintes são ignorados.*\n",
    "except:\n",
    "    print(\"c\")\n",
    " \n",
    "\n",
    "    resposta\n",
    "    **a**\n",
    "\n",
    "\n",
    "    *b*\n",
    "\n",
    "    *1*\n",
    "\n",
    "    *an error message*\n",
    "\n",
    "- 1) A exceção Exception é levantada.\n",
    "\n",
    "- 2) O primeiro bloco except com BaseException captura essa exceção, pois BaseException é um superclasse de Exception.\n",
    "\n",
    "- 3) A execução do código no primeiro bloco except imprime a.\n",
    "\n",
    "- 4) Os blocos except seguintes (except Exception e except:)\n",
    "  são ignorados porque a exceção já foi tratada pelo primeiro bloco.\n",
    "    "
   ]
  },
  {
   "cell_type": "code",
   "execution_count": 2,
   "id": "b1660a76",
   "metadata": {},
   "outputs": [
    {
     "name": "stdout",
     "output_type": "stream",
     "text": [
      "a\n"
     ]
    }
   ],
   "source": [
    "try:\n",
    "    raise Exception\n",
    "except BaseException:\n",
    "    print(\"a\")\n",
    "except Exception:\n",
    "    print(\"b\")\n",
    "except:\n",
    "    print(\"c\")"
   ]
  },
  {
   "cell_type": "markdown",
   "id": "f9a64736",
   "metadata": {},
   "source": [
    "## Question 9\n",
    "The following line of code:\n",
    "\n",
    "\n",
    "for line in open('text.txt', 'rt'):\n",
    " \n",
    "    resposta\n",
    "    **is valid because open returns an iterable object**\n",
    "\n",
    "\n",
    "    *is invalid because open returns a non-iterable object*\n",
    "\n",
    "    *may be valid if line is a list*\n",
    "\n",
    "    *is invalid because open returns nothing*\n"
   ]
  },
  {
   "cell_type": "markdown",
   "id": "4dd4b929",
   "metadata": {},
   "source": [
    "## Question 10\n",
    "What is the expected result of the following snippet?\n",
    "\n",
    "\n",
    "try:\n",
    "    raise Exception\n",
    "except: - > *default 'except:' must be last*\n",
    "    print(\"c\")\n",
    "except BaseException:\n",
    "    print(\"a\")\n",
    "except Exception:\n",
    "    print(\"b\")\n",
    " \n",
    "    resposta\n",
    "    **The code will cause a syntax error**\n",
    "\n",
    "\n",
    "    *b*\n",
    "\n",
    "    *1*\n",
    "\n",
    "    *a*\n",
    "    \n",
    "A ordem correta dos blocos except deve ser sempre da mais específica para a mais genérica.\n",
    "A estrutura correta seria:\n",
    "\n",
    "Primeiro, capturar exceções mais específicas.\n",
    "Em seguida, capturar exceções mais gerais.\n",
    "Finalmente, capturar qualquer exceção não capturada pelos blocos anteriores usando o bloco except:."
   ]
  },
  {
   "cell_type": "code",
   "execution_count": 3,
   "id": "77882d3f",
   "metadata": {},
   "outputs": [
    {
     "ename": "SyntaxError",
     "evalue": "default 'except:' must be last (811548059.py, line 3)",
     "output_type": "error",
     "traceback": [
      "\u001b[1;36m  Cell \u001b[1;32mIn[3], line 3\u001b[1;36m\u001b[0m\n\u001b[1;33m    except:\u001b[0m\n\u001b[1;37m    ^\u001b[0m\n\u001b[1;31mSyntaxError\u001b[0m\u001b[1;31m:\u001b[0m default 'except:' must be last\n"
     ]
    }
   ],
   "source": [
    "try:\n",
    "    raise Exception\n",
    "except:\n",
    "    print(\"c\")\n",
    "except BaseException:\n",
    "    print(\"a\")\n",
    "except Exception:\n",
    "    print(\"b\")"
   ]
  },
  {
   "cell_type": "markdown",
   "id": "59be4d15",
   "metadata": {},
   "source": [
    "## Question 11\n",
    "The following statement:\n",
    "\n",
    "\n",
    "assert var != 0   -> *funciona enquanto var for diferente de 0*\n",
    " \n",
    "\n",
    "    resposta\n",
    "    **will stop the program when var == 0**\n",
    "\n",
    "    *has no effect*\n",
    "\n",
    "    *is erroneous*\n",
    "\n",
    "    *will stop the program when var != 0*\n",
    "    "
   ]
  },
  {
   "cell_type": "markdown",
   "id": "0d8d501d",
   "metadata": {},
   "source": [
    "## Question 12\n",
    "The following code:\n",
    "\n",
    "\n",
    "x = \"\\\\\\\\\"\n",
    "print(len(x))\n",
    " \n",
    "\n",
    "    resposta\n",
    "    **will print 2**\n",
    "\n",
    "\n",
    "    *will cause an error*\n",
    "\n",
    "    *will print 3*\n",
    "\n",
    "    *will print 1*\n"
   ]
  },
  {
   "cell_type": "code",
   "execution_count": 4,
   "id": "a7ea07fe",
   "metadata": {},
   "outputs": [
    {
     "name": "stdout",
     "output_type": "stream",
     "text": [
      "2\n"
     ]
    }
   ],
   "source": [
    "x = \"\\\\\\\\\"\n",
    "print(len(x))"
   ]
  },
  {
   "cell_type": "markdown",
   "id": "111d68c3",
   "metadata": {},
   "source": [
    "## Question 13\n",
    "The following code:\n",
    "\n",
    "\n",
    "x = \"\\\\\\\"\n",
    "print(len(x))\n",
    " \n",
    "    resposta\n",
    "    **will cause an error**\n",
    "\n",
    "\n",
    "    *will print 2*\n",
    "\n",
    "    *will print 3*\n",
    "\n",
    "    *will print 1*\n"
   ]
  },
  {
   "cell_type": "code",
   "execution_count": 9,
   "id": "24810afc",
   "metadata": {},
   "outputs": [
    {
     "ename": "SyntaxError",
     "evalue": "unterminated string literal (detected at line 1) (3285851739.py, line 1)",
     "output_type": "error",
     "traceback": [
      "\u001b[1;36m  Cell \u001b[1;32mIn[9], line 1\u001b[1;36m\u001b[0m\n\u001b[1;33m    x = \"\\\\\\\"\u001b[0m\n\u001b[1;37m        ^\u001b[0m\n\u001b[1;31mSyntaxError\u001b[0m\u001b[1;31m:\u001b[0m unterminated string literal (detected at line 1)\n"
     ]
    }
   ],
   "source": [
    "x = \"\\\\\\\"\n",
    "print(len(x))"
   ]
  },
  {
   "cell_type": "markdown",
   "id": "03a26bcb",
   "metadata": {},
   "source": [
    "## Question 14\n",
    "The following code:\n",
    "\n",
    "\n",
    "print(chr(ord('p') + 2))\n",
    " \n",
    "\n",
    "    resposta\n",
    "    **will print r**\n",
    "\n",
    "\n",
    "    *will print q*\n",
    "\n",
    "    *will print s*\n",
    "\n",
    "    *will print t*\n"
   ]
  },
  {
   "cell_type": "code",
   "execution_count": 10,
   "id": "6c32c74d",
   "metadata": {},
   "outputs": [
    {
     "name": "stdout",
     "output_type": "stream",
     "text": [
      "r\n"
     ]
    }
   ],
   "source": [
    "print(chr(ord('p') + 2))"
   ]
  },
  {
   "cell_type": "markdown",
   "id": "84748e72",
   "metadata": {},
   "source": [
    "## Question 15\n",
    "The following code:\n",
    "\n",
    "\n",
    "print(float(\"1.3\"))\n",
    "\n",
    "    resposta\n",
    "    **will print 1.3**\n",
    "\n",
    "\n",
    "    *will print 1,3*\n",
    "\n",
    "    *will print 13*\n",
    "\n",
    "    *will raise a ValueError exception*\n"
   ]
  },
  {
   "cell_type": "code",
   "execution_count": 11,
   "id": "c44dcd15",
   "metadata": {},
   "outputs": [
    {
     "name": "stdout",
     "output_type": "stream",
     "text": [
      "1.3\n"
     ]
    }
   ],
   "source": [
    "print(float(\"1.3\"))\n"
   ]
  },
  {
   "cell_type": "markdown",
   "id": "55dfd9a6",
   "metadata": {},
   "source": [
    "## Question 16\n",
    "If the class constructor is declared in the following way:\n",
    "\n",
    "Which one of the assignments is invalid?\n",
    "\n",
    "\n",
    "class Class:\n",
    "    def __init__(self, val=0):\n",
    "        pass\n",
    " \n",
    "    resposta\n",
    "    **object = Class(1, 2)** - > *é inválido porque recebe 2 argumentos, e essa classe só tem 1*\n",
    "\n",
    "\n",
    "    *object = Class(None)*\n",
    "\n",
    "    *object = Class()*\n",
    "\n",
    "    *object = Class(1)*\n"
   ]
  },
  {
   "cell_type": "markdown",
   "id": "7f3fdf2e",
   "metadata": {},
   "source": [
    "## Question 17\n",
    "What is the expected output of the following code?\n",
    "\n",
    "\n",
    "class A:\n",
    "    def __init__(self, v=2): -> *inicia com um valor 2 ou um balor fornecido*\n",
    "        self.v = v\n",
    " \n",
    "    def set(self, v=1):-> *o método set muda o valor de v para 1*\n",
    "        self.v += v -> *adiciona + 1 ao valor de v*\n",
    "        return self.v -> *no caso de v=1 retorna 2*\n",
    " \n",
    "a = A() -> *O valor de self.v na instância a é inicializado para 2*\n",
    "b = a -> *a e b são dois nomes para o mesmo objeto*\n",
    "\n",
    "b.set()\n",
    "\n",
    "*O método set() é chamado usando b. Como b é a mesma instância que a,*\n",
    "*o método set() modifica o atributo v da mesma instância.*\n",
    "*O método set() usa o valor padrão de v, que é 1.*\n",
    "*Assim, o valor de self.v na instância é incrementado por 1,*\n",
    "*alterando o valor de 2 para 3.*\n",
    "*O método set() retorna 3, mas o valor retornado não é utilizado.*\n",
    "\n",
    "print(a.v)\n",
    "\n",
    "*O método set() é chamado usando b.*\n",
    "*Como b é a mesma instância que a, o método set() modifica o atributo v da mesma instância.* \n",
    "*O método set() usa o valor padrão de v, que é 1.* \n",
    "*Assim, o valor de self.v na instância é incrementado por 1, alterando o valor de 2 para 3.*\n",
    "*O método set() retorna 3, mas o valor retornado não é utilizado.*\n",
    "*Isso ocorre porque a e b são referências para o mesmo objeto.*\n",
    "*Portanto, qualquer alteração feita através de b afeta diretamente o objeto referenciado por a.*\n",
    " \n",
    "    \n",
    "    resposta\n",
    "    **3**\n",
    "\n",
    "\n",
    "    *2*\n",
    "\n",
    "    *0*\n",
    "\n",
    "    *1*"
   ]
  },
  {
   "cell_type": "code",
   "execution_count": 13,
   "id": "1863a94b",
   "metadata": {},
   "outputs": [
    {
     "name": "stdout",
     "output_type": "stream",
     "text": [
      "3\n"
     ]
    }
   ],
   "source": [
    "class A:\n",
    "    def __init__(self, v=2):\n",
    "        self.v = v\n",
    " \n",
    "    def set(self, v=1):\n",
    "        self.v += v\n",
    "        return self.v\n",
    " \n",
    "a = A()\n",
    "b = a\n",
    "b.set()\n",
    "print(a.v)\n"
   ]
  },
  {
   "cell_type": "markdown",
   "id": "0c445cfe",
   "metadata": {},
   "source": [
    "## Question 18\n",
    "What is the expected output of the following code?\n",
    "\n",
    "\n",
    "class A:\n",
    "    A = 1\n",
    "    def __init__(self):\n",
    "        self.a = 0\n",
    " \n",
    " \n",
    "print(hasattr(A, 'a'))  -> se fosse hasattr(A, 'A') -> seria: True\n",
    " \n",
    "    resposta\n",
    "    **False**\n",
    "\n",
    "\n",
    "    *0*\n",
    "\n",
    "    *True*\n",
    "\n",
    "    *1*"
   ]
  },
  {
   "cell_type": "code",
   "execution_count": 20,
   "id": "3e29526a",
   "metadata": {},
   "outputs": [
    {
     "name": "stdout",
     "output_type": "stream",
     "text": [
      "False\n"
     ]
    }
   ],
   "source": [
    "# a classe A não tem um atributo de classe chamado 'a';\n",
    "# esse atributo é criado somente quando uma instância da classe é inicializada.\n",
    "\n",
    "class A:\n",
    "    A = 1\n",
    "    def __init__(self):\n",
    "        self.a = 0\n",
    " \n",
    " \n",
    "print(hasattr(A, 'a'))\n",
    " "
   ]
  },
  {
   "cell_type": "markdown",
   "id": "03eb9d6c",
   "metadata": {},
   "source": [
    "## Question 19\n",
    "What is the expected result of executing the following code?\n",
    "\n",
    "\n",
    "class A:\n",
    "    pass\n",
    " \n",
    " \n",
    "class B(A):\n",
    "    pass\n",
    " \n",
    " \n",
    "class C(B):\n",
    "    pass\n",
    " \n",
    " \n",
    "print(issubclass(A, C))\n",
    " \n",
    "    resposta\n",
    "    **The code will print False**\n",
    "\n",
    "    \n",
    "    *The code will raise an exception*\n",
    "\n",
    "    *The code will print True*\n",
    "\n",
    "    *The code will print 1*\n"
   ]
  },
  {
   "cell_type": "code",
   "execution_count": 21,
   "id": "aa7caf2b",
   "metadata": {},
   "outputs": [
    {
     "name": "stdout",
     "output_type": "stream",
     "text": [
      "False\n"
     ]
    }
   ],
   "source": [
    "class A:\n",
    "    pass\n",
    " \n",
    " \n",
    "class B(A):\n",
    "    pass\n",
    " \n",
    " \n",
    "class C(B):\n",
    "    pass\n",
    " \n",
    " \n",
    "print(issubclass(A, C))\n",
    " "
   ]
  },
  {
   "cell_type": "markdown",
   "id": "4f85c209",
   "metadata": {},
   "source": [
    "## Question 20\n",
    "The sys.stderr stream is normally associated with:\n",
    "\n",
    "    resposta\n",
    "    **the screen**\n",
    "\n",
    "\n",
    "    *the printer*\n",
    "\n",
    "    *a null device*\n",
    "\n",
    "    *the keyboard*\n",
    "    "
   ]
  },
  {
   "cell_type": "markdown",
   "id": "1a700653",
   "metadata": {},
   "source": [
    "## Question 21\n",
    "What is the expected effect of running the following code?\n",
    "\n",
    "\n",
    "class A:\n",
    "    def __init__(self, v):\n",
    "        self.__a = v + 1\n",
    " \n",
    " \n",
    "a = A(0)\n",
    "print(a.__a) -> *dá erro porque __a está privado*\n",
    " \n",
    "    resposta\n",
    "    **The code will raise an AttributeError exception**\n",
    "\n",
    "\n",
    "    *The code will print 0*\n",
    "\n",
    "    *The code will print 2*\n",
    "\n",
    "    *The code will print 1*\n"
   ]
  },
  {
   "cell_type": "code",
   "execution_count": 22,
   "id": "f1afb915",
   "metadata": {},
   "outputs": [
    {
     "ename": "AttributeError",
     "evalue": "'A' object has no attribute '__a'",
     "output_type": "error",
     "traceback": [
      "\u001b[1;31m---------------------------------------------------------------------------\u001b[0m",
      "\u001b[1;31mAttributeError\u001b[0m                            Traceback (most recent call last)",
      "Cell \u001b[1;32mIn[22], line 7\u001b[0m\n\u001b[0;32m      3\u001b[0m         \u001b[38;5;28mself\u001b[39m\u001b[38;5;241m.\u001b[39m__a \u001b[38;5;241m=\u001b[39m v \u001b[38;5;241m+\u001b[39m \u001b[38;5;241m1\u001b[39m\n\u001b[0;32m      6\u001b[0m a \u001b[38;5;241m=\u001b[39m A(\u001b[38;5;241m0\u001b[39m)\n\u001b[1;32m----> 7\u001b[0m \u001b[38;5;28mprint\u001b[39m(a\u001b[38;5;241m.\u001b[39m__a)\n",
      "\u001b[1;31mAttributeError\u001b[0m: 'A' object has no attribute '__a'"
     ]
    }
   ],
   "source": [
    "class A:\n",
    "    def __init__(self, v):\n",
    "        self.__a = v + 1\n",
    " \n",
    " \n",
    "a = A(0)\n",
    "print(a.__a)"
   ]
  },
  {
   "cell_type": "code",
   "execution_count": 23,
   "id": "6fe6dcf6",
   "metadata": {},
   "outputs": [
    {
     "name": "stdout",
     "output_type": "stream",
     "text": [
      "1\n"
     ]
    }
   ],
   "source": [
    "# Para funcionar\n",
    "\n",
    "class A:\n",
    "    def __init__(self, v):\n",
    "        self.__a = v + 1\n",
    "\n",
    "    def get_a(self):\n",
    "        return self.__a\n",
    " \n",
    "a = A(0)\n",
    "print(a.get_a())  # Isso irá imprimir 1\n"
   ]
  },
  {
   "cell_type": "markdown",
   "id": "01021bb3",
   "metadata": {},
   "source": [
    "## Question 22\n",
    "What is the expected result of executing the following code?\n",
    "\n",
    "\n",
    "class A:\n",
    "    def __init__(self):\n",
    "        pass\n",
    " \n",
    " \n",
    "a = A(1) - > TypeError: A.__init__() takes 1 positional argument but 2 were given\n",
    "print(hasattr(a, 'A'))\n",
    " \n",
    "    reposta\n",
    "    **The code will raise an exception**\n",
    "\n",
    "\n",
    "    *The code will print 1*\n",
    "\n",
    "    *The code will print True*\n",
    "\n",
    "    *The code will print False*\n",
    "    \n",
    "    \n",
    "Como foi passado 1 como argumento para o construtor __init__.\n",
    "Mas o __init__ da classe A não aceita argumentos (exceto self),\n",
    "Python gera um erro do tipo TypeError."
   ]
  },
  {
   "cell_type": "code",
   "execution_count": 24,
   "id": "4e181871",
   "metadata": {},
   "outputs": [
    {
     "ename": "TypeError",
     "evalue": "A.__init__() takes 1 positional argument but 2 were given",
     "output_type": "error",
     "traceback": [
      "\u001b[1;31m---------------------------------------------------------------------------\u001b[0m",
      "\u001b[1;31mTypeError\u001b[0m                                 Traceback (most recent call last)",
      "Cell \u001b[1;32mIn[24], line 6\u001b[0m\n\u001b[0;32m      2\u001b[0m     \u001b[38;5;28;01mdef\u001b[39;00m \u001b[38;5;21m__init__\u001b[39m(\u001b[38;5;28mself\u001b[39m):\n\u001b[0;32m      3\u001b[0m         \u001b[38;5;28;01mpass\u001b[39;00m\n\u001b[1;32m----> 6\u001b[0m a \u001b[38;5;241m=\u001b[39m A(\u001b[38;5;241m1\u001b[39m)\n\u001b[0;32m      7\u001b[0m \u001b[38;5;28mprint\u001b[39m(\u001b[38;5;28mhasattr\u001b[39m(a, \u001b[38;5;124m'\u001b[39m\u001b[38;5;124mA\u001b[39m\u001b[38;5;124m'\u001b[39m))\n",
      "\u001b[1;31mTypeError\u001b[0m: A.__init__() takes 1 positional argument but 2 were given"
     ]
    }
   ],
   "source": [
    "class A:\n",
    "    def __init__(self):\n",
    "        pass\n",
    " \n",
    " \n",
    "a = A(1)\n",
    "print(hasattr(a, 'A'))"
   ]
  },
  {
   "cell_type": "markdown",
   "id": "78edc319",
   "metadata": {},
   "source": [
    "## Question 23\n",
    "What is the expected result of executing the following code?\n",
    "\n",
    "\n",
    "class A:\n",
    "    def a(self):\n",
    "        print('a')\n",
    " \n",
    " \n",
    "class B:\n",
    "    def a(self):\n",
    "        print('b')\n",
    " \n",
    " \n",
    "class C(B, A): -> *C recebe de B e A, mas pela ordem da esquerda para direita, irá 'usar' def a() da classe B*\n",
    "    def c(self):\n",
    "        self.a()\n",
    " \n",
    "o = C()\n",
    "o.c()\n",
    " \n",
    "    Resposta\n",
    "    **The code will print b*\n",
    "    \n",
    "\n",
    "    *The code will raise an exception*\n",
    "\n",
    "    *The code will print c*\n",
    "\n",
    "    *The code will print a*"
   ]
  },
  {
   "cell_type": "code",
   "execution_count": 25,
   "id": "aab07e49",
   "metadata": {},
   "outputs": [
    {
     "name": "stdout",
     "output_type": "stream",
     "text": [
      "b\n"
     ]
    }
   ],
   "source": [
    "class A:\n",
    "    def a(self):\n",
    "        print('a')\n",
    " \n",
    " \n",
    "class B:\n",
    "    def a(self):\n",
    "        print('b')\n",
    " \n",
    " \n",
    "class C(B, A):\n",
    "    def c(self):\n",
    "        self.a()\n",
    " \n",
    " \n",
    "o = C()\n",
    "o.c()\n",
    " "
   ]
  },
  {
   "cell_type": "markdown",
   "id": "4169106b",
   "metadata": {},
   "source": [
    "## Question 24\n",
    "What is the expected result of executing the following code?\n",
    "\n",
    "\n",
    "try:\n",
    "    raise Exception(1, 2, 3) -> *levanta uma exceção explicitamente usando a instrução raise*\n",
    "except Exception as e:\n",
    "     print(len(e.args)) -> *n° de argumentos gerados na tupla*\n",
    " \n",
    "\n",
    "    resposta\n",
    "    **The code will print 3**\n",
    "\n",
    "    \n",
    "    *The code will print 2*\n",
    "\n",
    "    *The code will print 1*\n",
    "\n",
    "    *The code will raise an unhandled exception*\n"
   ]
  },
  {
   "cell_type": "code",
   "execution_count": 26,
   "id": "7bd6981a",
   "metadata": {},
   "outputs": [
    {
     "name": "stdout",
     "output_type": "stream",
     "text": [
      "3\n"
     ]
    }
   ],
   "source": [
    "try:\n",
    "    raise Exception(1, 2, 3)\n",
    "except Exception as e:\n",
    "     print(len(e.args))"
   ]
  },
  {
   "cell_type": "markdown",
   "id": "07eed79c",
   "metadata": {},
   "source": [
    "## Question 25\n",
    "What is the expected result of executing the following code?\n",
    "\n",
    "\n",
    "def my_fun(n):\n",
    "    s = '+'\n",
    "    for i in range(n):\n",
    "        s += s\n",
    "        yield s\n",
    " \n",
    " \n",
    "for x in my_fun(2):\n",
    "    print(x, end='')\n",
    " \n",
    "    resposta\n",
    "    **The code will print ++++++ *\n",
    "\n",
    "\n",
    "    *The code will print + *\n",
    "\n",
    "    *The code will print ++ *\n",
    "\n",
    "    *The code will print +++ *\n",
    "\n",
    "    \n",
    "    \n",
    "Inicialização:\n",
    "s = '+'\n",
    "\n",
    "Primeira Iteração (i = 0):\n",
    "s += s => s torna-se '++'\n",
    "yield s => o gerador produz '++'\n",
    "x = '++', e '++' é impresso.\n",
    "\n",
    "Segunda Iteração (i = 1):\n",
    "s += s => s torna-se '++++'\n",
    "yield s => o gerador produz '++++'\n",
    "x = '++++', e '++++' é impresso.\n",
    "\n",
    "O código define um gerador que dobra uma string '+' a cada iteração\n",
    "e produz o resultado. No caso de my_fun(2), são geradas duas strings:\n",
    "'++' e '++++'. Estas são então impressas consecutivamente,\n",
    "resultando em ++++++ como saída final."
   ]
  },
  {
   "cell_type": "code",
   "execution_count": 27,
   "id": "ca0c448d",
   "metadata": {},
   "outputs": [
    {
     "name": "stdout",
     "output_type": "stream",
     "text": [
      "++++++"
     ]
    }
   ],
   "source": [
    "def my_fun(n):\n",
    "    s = '+'\n",
    "    for i in range(n):\n",
    "        s += s\n",
    "        yield s\n",
    " \n",
    " \n",
    "for x in my_fun(2):\n",
    "    print(x, end='')"
   ]
  },
  {
   "cell_type": "markdown",
   "id": "75b13292",
   "metadata": {},
   "source": [
    "## Question 26\n",
    "What is the expected result of executing the following code?\n",
    "\n",
    "\n",
    "class I:\n",
    "    def __init__(self):\n",
    "        self.s = 'abc'\n",
    "        self.i = 0 - >  *um índice inicializado em 0*\n",
    " \n",
    "    def __iter__(self): -> *O método __iter__ é necessário para tornar um objeto iterável.*\n",
    "        return self        *Ele é chamado quando você começa a iterar sobre o objeto, como em um loop for.*\n",
    "                           *__iter__ simplesmente retorna a própria instância (self),*\n",
    "                           *indicando que a própria classe I é o iterador.*\n",
    " \n",
    "    def __next__(self):\n",
    "        if self.i == len(self.s): -> * verifica se o índice self.i atingiu o comprimento da string*\n",
    "            raise StopIteration   -> * Se sim, ele levanta a exceção StopIteration para indicar o fim da iteração.*\n",
    "        v = self.s[self.i] -> * obtém o caractere atual de self.s usando o índice self.i, \n",
    "        self.i += 1 -> *incrementa self.i, e retorna o caractere obtido.*\n",
    "        return v\n",
    " \n",
    " \n",
    "for x in I(): -> *cria uma instância da classe I e começa a iterar sobre ela.*\n",
    "                 *Durante cada iteração, o loop chama o método __next__ da instância para obter o próximo valor a ser processado.   \n",
    "    print(x, end='') - > *A cada caractere retornado pelo método __next__, ele é impresso com print(x, end='')\n",
    " \n",
    "\n",
    "resposta\n",
    "    **The code will print abc**\n",
    "\n",
    "\n",
    "    *The code will print cba*\n",
    "\n",
    "    *The code will print 210*\n",
    "\n",
    "    *The code will print 012*\n",
    "\n",
    "Primeira Iteração:\n",
    "self.i é 0, self.s[self.i] é 'a'.\n",
    "self.i é incrementado para 1.\n",
    "'a' é retornado e impresso.\n",
    "\n",
    "Segunda Iteração:\n",
    "self.i é 1, self.s[self.i] é 'b'.\n",
    "self.i é incrementado para 2.\n",
    "'b' é retornado e impresso.\n",
    "\n",
    "Terceira Iteração:\n",
    "self.i é 2, self.s[self.i] é 'c'.\n",
    "self.i é incrementado para 3.\n",
    "'c' é retornado e impresso.\n",
    "\n",
    "Quarta Iteração:\n",
    "self.i é 3, igual ao comprimento de self.s.\n",
    "A exceção StopIteration é levantada, sinalizando o fim da iteração.\n"
   ]
  },
  {
   "cell_type": "code",
   "execution_count": 28,
   "id": "0a1efb73",
   "metadata": {},
   "outputs": [
    {
     "name": "stdout",
     "output_type": "stream",
     "text": [
      "abc"
     ]
    }
   ],
   "source": [
    "class I:\n",
    "    def __init__(self):\n",
    "        self.s = 'abc'\n",
    "        self.i = 0\n",
    " \n",
    "    def __iter__(self):\n",
    "        return self\n",
    " \n",
    "    def __next__(self):\n",
    "        if self.i == len(self.s):\n",
    "            raise StopIteration\n",
    "        v = self.s[self.i]\n",
    "        self.i += 1\n",
    "        return v\n",
    " \n",
    " \n",
    "for x in I():\n",
    "    print(x, end='')"
   ]
  },
  {
   "cell_type": "markdown",
   "id": "c1463f1e",
   "metadata": {},
   "source": [
    "## Question 27\n",
    "What is the expected result of executing the following code?\n",
    "\n",
    "\n",
    "def o(p):\n",
    "    def q():\n",
    "        return '*' * p\n",
    "    return q\n",
    " \n",
    " \n",
    "r = o(1) -> chama a função q que foi retornada por o(1), e retorna a string '*'.\n",
    "s = o(2) - > chama a função q que foi retornada por o(2), e retorna a string '**'\n",
    "print(r() + s()) -> imprime a concatenação das duas strings: '*' + '**', que resulta em '***'.\n",
    " \n",
    "    \n",
    "    resultado\n",
    "    The code will print ***\n",
    "\n",
    "\n",
    "    The code will print ****\n",
    "\n",
    "    The code will print **\n",
    "\n",
    "    The code will print *\n"
   ]
  },
  {
   "cell_type": "code",
   "execution_count": 29,
   "id": "059f28cd",
   "metadata": {},
   "outputs": [
    {
     "name": "stdout",
     "output_type": "stream",
     "text": [
      "***\n"
     ]
    }
   ],
   "source": [
    "def o(p):\n",
    "    def q():\n",
    "        return '*' * p\n",
    "    return q\n",
    " \n",
    " \n",
    "r = o(1)\n",
    "s = o(2)\n",
    "print(r() + s())"
   ]
  },
  {
   "cell_type": "markdown",
   "id": "fb640b96",
   "metadata": {},
   "source": [
    "## Question 28\n",
    "If s is a stream opened in read mode, the following line:\n",
    "\n",
    "\n",
    "q = s.read(1)\n",
    " \n",
    "will read:\n",
    "\n",
    "    resposta\n",
    "    **one character from the stream**\n",
    "\n",
    "\n",
    "    *one line from the stream*\n",
    "\n",
    "    *one kilobyte from the stream*\n",
    "\n",
    "    *one buffer from the stream*\n",
    "    "
   ]
  },
  {
   "cell_type": "markdown",
   "id": "fa66aedf",
   "metadata": {},
   "source": [
    "## Question 29\n",
    "Assuming that the open() invocation has gone successfully, the following snippet:\n",
    "\n",
    "\n",
    "for x in open('file', 'rt'):\n",
    "    print(x)\n",
    " \n",
    "will:\n",
    "\n",
    "    resposta\n",
    "    **read the file line by line**\n",
    "\n",
    "\n",
    "    *read the whole file at once*\n",
    "\n",
    "    *cause an exception*\n",
    "\n",
    "    *read the file character by character*\n"
   ]
  },
  {
   "cell_type": "markdown",
   "id": "0bad2a2f",
   "metadata": {},
   "source": [
    "## Question 30\n",
    "If you want to fill a byte array with data read in from a stream, which method can you use?\n",
    "\n",
    "    resposta\n",
    "    **The readinto() method**\n",
    "\n",
    "\n",
    "    *The readbytes() method*\n",
    "\n",
    "    *The read() method*\n",
    "\n",
    "    *The readfrom() method*\n"
   ]
  },
  {
   "cell_type": "markdown",
   "id": "60829ade",
   "metadata": {},
   "source": [
    "## Question 31\n",
    "Which of the following commands would you use to check pip's version? (Select two answers)\n",
    "\n",
    "\n",
    "    resposta\n",
    "    **pip3 --version**\n",
    "\n",
    "    resposta\n",
    "    **pip --version**\n",
    "\n",
    "\n",
    "    *pip-version*\n",
    "\n",
    "    *pip version*\n",
    "    "
   ]
  },
  {
   "cell_type": "markdown",
   "id": "f2adb42b",
   "metadata": {},
   "source": [
    "## Question 32\n",
    "Which pip command would you use to uninstall a previously installed package?\n",
    "\n",
    "    resposta\n",
    "    **pip uninstall packagename**\n",
    "\n",
    "\n",
    "    *pip --uninstall packagename*\n",
    "\n",
    "    *pip delete packagename*\n",
    "\n",
    "    *pip --remove packagename*\n"
   ]
  },
  {
   "cell_type": "markdown",
   "id": "9a99df19",
   "metadata": {},
   "source": [
    "## Question 33\n",
    "Look at the following code:\n",
    "\n",
    "\n",
    "numbers = [0, 2, 7, 9, 10]\n",
    "*Insert line of code here.*\n",
    "print(list(foo))\n",
    " \n",
    "Which line would you insert in order for the program to produce the expected output?\n",
    "\n",
    "[0, 4, 49, 81, 100]\n",
    "Output\n",
    "\n",
    "\n",
    "    resposta\n",
    "    **foo = map(lambda num: num ** 2, numbers)** - > *uso da função map*\n",
    "\n",
    "\n",
    "    *foo = filter(lambda num: num ** 2, numbers)*\n",
    "\n",
    "    *foo = lambda num: num ** 2, numbers*\n",
    "\n",
    "    *foo = lambda num: num * 2, numbers)*\n"
   ]
  },
  {
   "cell_type": "markdown",
   "id": "2a5b219a",
   "metadata": {},
   "source": [
    "O motivo de usar a função map() em vez de filter() no código está relacionado ao propósito de cada\n",
    "uma dessas funções e ao tipo de operação que queremos realizar na lista numbers.\n",
    "\n",
    "Diferença entre map() e filter()\n",
    "\n",
    "**map():**\n",
    "Propósito: Aplica uma função a cada item de um iterável (como uma lista)\n",
    "e retorna um iterador com os resultados da função aplicada.\n",
    "\n",
    "No exemplo: map(lambda num: num ** 2, numbers) aplica a função lambda num: num ** 2 a cada número em numbers,\n",
    "ou seja, eleva cada número ao quadrado. O resultado é uma nova sequência contendo [0, 4, 49, 81, 100].\n",
    "\n",
    "\n",
    "**filter():**\n",
    "Propósito: Aplica uma função que retorna True ou False a cada item de um iterável e retorna\n",
    "um iterador contendo apenas os itens para os quais a função retornou True.\n",
    "\n",
    "No exemplo: filter(lambda num: num ** 2, numbers) aplicaria a função lambda num: num ** 2 a cada número em numbers.\n",
    "Como qualquer número ao quadrado é avaliado como True (exceto o número zero), \n",
    "filter() basicamente retornaria a lista original, excluindo zero, se presente.\n",
    "Ele não altera os valores, mas sim os filtra.\n",
    "\n",
    "    \n",
    "**Resumo:**\n",
    "map() é usado aqui porque você quer transformar cada elemento da lista, elevando-o ao quadrado.\n",
    "O foco está em aplicar uma transformação aos dados.\n",
    "filter() não seria adequado neste caso porque ele serve para selecionar (filtrar)\n",
    "elementos de uma lista com base em uma condição, mas não modifica os valores dos elementos.\n",
    "Portanto, para obter a saída [0, 4, 49, 81, 100], a função map() é a escolha correta,\n",
    "pois transforma todos os elementos, enquanto filter() seria inadequado, já que não realiza transformações,\n",
    "mas apenas seleciona elementos com base em uma condição.\n"
   ]
  },
  {
   "cell_type": "code",
   "execution_count": 30,
   "id": "6300a208",
   "metadata": {},
   "outputs": [
    {
     "name": "stdout",
     "output_type": "stream",
     "text": [
      "[0, 4, 49, 81, 100]\n"
     ]
    }
   ],
   "source": [
    "numbers = [0, 2, 7, 9, 10]\n",
    "foo = map(lambda num: num ** 2, numbers)\n",
    "print(list(foo))"
   ]
  },
  {
   "cell_type": "markdown",
   "id": "37c85163",
   "metadata": {},
   "source": [
    "## Question 34\n",
    "Look at the following code:\n",
    "\n",
    "\n",
    "numbers = [i*i for i in range(5)]  - > cria [0, 1, 4, 9, 16]\n",
    "*Insert line of code here.*\n",
    "print(foo)\n",
    " \n",
    "Which line would you insert in order for the program to produce the expected output?\n",
    "\n",
    "[1, 9]\n",
    "Output\n",
    "\n",
    "    resposta\n",
    "    **foo = list(filter(lambda x: x % 2, numbers))**\n",
    "\n",
    "    *foo = list(filter(lambda x: x / 2, numbers))*\n",
    "\n",
    "    *foo = list(map(lambda x: x // 2, numbers))*\n",
    "\n",
    "    *foo = list(map(lambda x: x % 2, numbers))*\n",
    "\n",
    "\n",
    "filter(): Função que aplica um filtro em uma sequência,\n",
    "mantendo apenas os elementos que retornam True quando aplicados a uma função\n",
    "(neste caso, uma função lambda).\n",
    "\n",
    "lambda x: x % 2: É uma função anônima (lambda) que retorna o valor de x % 2.\n",
    "Isso resulta em True se o número for ímpar (pois o resto da divisão por 2 é 1)\n",
    "e False se for par (o resto é 0).\n",
    "\n",
    "O filter() percorre a lista numbers e mantém apenas os valores ímpares.\n",
    "\n",
    "A lista numbers é [0, 1, 4, 9, 16].\n",
    "Aplicando o filtro, somente os números ímpares (os que dão resto 1 na divisão por 2) permanecem,\n",
    "resultando em foo = [1, 9]."
   ]
  },
  {
   "cell_type": "code",
   "execution_count": 33,
   "id": "e3c6471f",
   "metadata": {},
   "outputs": [
    {
     "name": "stdout",
     "output_type": "stream",
     "text": [
      "[1, 9]\n"
     ]
    }
   ],
   "source": [
    "numbers = [i*i for i in range(5)] # cria [0, 1, 4, 9, 16]\n",
    "foo = list(filter(lambda x: x % 2, numbers))\n",
    "print(foo)\n",
    " "
   ]
  },
  {
   "cell_type": "markdown",
   "id": "39ef7a8c",
   "metadata": {},
   "source": [
    "## Question 35\n",
    "Look at the code below:\n",
    "\n",
    "\n",
    "import random\n",
    " \n",
    "*\n",
    "*Insert lines of code here.*\n",
    "*\n",
    " \n",
    "print(a, b, c)\n",
    " \n",
    "Which lines of code would you insert so that it is possible for the program to output the following result:\n",
    "\n",
    "6 82 0\n",
    "Output\n",
    "\n",
    "    A:\n",
    "    a = random.randrange(10, 100, 3)\n",
    "    b = random.randint(0, 100)\n",
    "    c = random.choice((0, 100, 3))\n",
    "\n",
    "    B:\n",
    "    a = random.choice((0, 100, 3))\n",
    "    b = random.randrange(10, 100, 3)\n",
    "    c = random.randint(0, 100)\n",
    "\n",
    "    C:- > resposta\n",
    "    a = random.randint(0, 100) \n",
    "    b = random.randrange(10, 100, 3)\n",
    "    c = random.choice((0, 100, 3))\n",
    "\n",
    "    D:\n",
    "    a = random.randint(0, 100)\n",
    "    b = random.choice((0, 100, 3))\n",
    "    c = random.randrange(10, 100, 3)\n",
    "\n",
    "\n",
    "    resposta\n",
    "    C\n",
    "\n",
    "    A\n",
    "\n",
    "    D\n",
    "\n",
    "    B\n",
    "\n",
    "    \n",
    "a = random.randint(0, 100) - um número entre 0 e 100 -> 6\n",
    "b = random.randrange(10, 100, 3) um número entre 10 e 100 com um intervalo de 3 em -> 82\n",
    "c = random.choice((0, 100, 3)) escolha entre um dos 3 números -> 0\n"
   ]
  },
  {
   "cell_type": "code",
   "execution_count": 36,
   "id": "b37cd615",
   "metadata": {},
   "outputs": [
    {
     "name": "stdout",
     "output_type": "stream",
     "text": [
      "10 13 16 19 22 25 28 31 34 37 40 43 46 49 52 55 58 61 64 67 70 73 76 79 82 85 88 91 94 97 "
     ]
    }
   ],
   "source": [
    "# números possíveis em randrange(10, 100, 3)\n",
    "\n",
    "for i in range(10, 100, 3):\n",
    "    print(i, end=\" \")\n"
   ]
  },
  {
   "cell_type": "code",
   "execution_count": null,
   "id": "5a085481",
   "metadata": {},
   "outputs": [],
   "source": [
    "## Question 36\n",
    "What is the expected result of the following code?\n",
    "\n",
    "import os\n",
    " \n",
    "os.mkdir('pictures') ->  cria um novo diretório com o nome especificado, pictures.\n",
    "os.chdir('pictures') ->  muda o diretório de trabalho atual para o diretório especificado, que aqui é pictures\n",
    " \n",
    "print(os.getcwd()) -> retorna o caminho (path) do diretório de trabalho atual. Após a mudança para o diretório pictures\n",
    "\n",
    "->  essa função vai imprimir o caminho completo da pasta recém-criada.\n",
    "-> algo como: /home/user/pictures\n",
    "\n",
    "\n",
    "    resposta\n",
    "    **The code will print the path to the created directory**\n",
    "\n",
    "    *The code will print the owner of the created directory*\n",
    "\n",
    "    *The code will print the content of the created directory*\n",
    "\n",
    "    *The code will print the name of the created directory*\n",
    "    "
   ]
  },
  {
   "cell_type": "markdown",
   "id": "b6a7621f",
   "metadata": {},
   "source": [
    "## Question 37\n",
    "What information can be read using the uname function provided by the os module? (Select two answers)\n",
    "\n",
    "\n",
    "    resposta\n",
    "    **Hardware identifier**\n",
    "\n",
    "    resposta\n",
    "    **Operating system name**\n",
    "\n",
    "    *Current path*\n",
    "\n",
    "    *Last login date*\n",
    "\n"
   ]
  },
  {
   "cell_type": "markdown",
   "id": "93d1768b",
   "metadata": {},
   "source": [
    "## Question 38\n",
    "What is the expected result of the following code?\n",
    "\n",
    "\n",
    "from datetime import datetime\n",
    " \n",
    "datetime_1 = datetime(2019, 11, 27, 11, 27, 22)\n",
    "datetime_2 = datetime(2019, 11, 27, 0, 0, 0)\n",
    " \n",
    "print(datetime_1 - datetime_2)\n",
    "\n",
    "    resposta\n",
    "    **11:27:22**\n",
    "\n",
    "    *0 days*\n",
    "\n",
    "    *0 days, 11:27:22*\n",
    "\n",
    "    *11 hours, 27 minutes, 22 seconds*\n"
   ]
  },
  {
   "cell_type": "code",
   "execution_count": 37,
   "id": "370fe39e",
   "metadata": {},
   "outputs": [
    {
     "name": "stdout",
     "output_type": "stream",
     "text": [
      "11:27:22\n"
     ]
    }
   ],
   "source": [
    "from datetime import datetime\n",
    " \n",
    "datetime_1 = datetime(2019, 11, 27, 11, 27, 22)\n",
    "datetime_2 = datetime(2019, 11, 27, 0, 0, 0)\n",
    " \n",
    "print(datetime_1 - datetime_2)"
   ]
  },
  {
   "cell_type": "markdown",
   "id": "9ba5521f",
   "metadata": {},
   "source": [
    "## Question 39\n",
    "What is the expected result of the following code?\n",
    "\n",
    "\n",
    "from datetime import timedelta\n",
    " \n",
    "delta = timedelta(weeks = 1, days = 7, hours = 11)\n",
    "print(delta * 2)\n",
    " \n",
    "\n",
    "    resposta\n",
    "    **28 days, 22:00:00**\n",
    "\n",
    "    *7 days, 22:00:00*\n",
    "\n",
    "    *The code will raise an exception*\n",
    "\n",
    "    *2 weeks, 14 days, 22 hours*\n"
   ]
  },
  {
   "cell_type": "code",
   "execution_count": 38,
   "id": "01bcf4c6",
   "metadata": {},
   "outputs": [
    {
     "name": "stdout",
     "output_type": "stream",
     "text": [
      "28 days, 22:00:00\n"
     ]
    }
   ],
   "source": [
    "from datetime import timedelta\n",
    " \n",
    "delta = timedelta(weeks = 1, days = 7, hours = 11)\n",
    "print(delta * 2)"
   ]
  },
  {
   "cell_type": "raw",
   "id": "b130eafa",
   "metadata": {
    "vscode": {
     "languageId": "raw"
    }
   },
   "source": [
    "## Question 40\n",
    "What is the expected result of the following code?\n",
    "\n",
    "\n",
    "import calendar\n",
    " \n",
    "calendar.setfirstweekday(calendar.SUNDAY)\n",
    "print(calendar.weekheader(3))\n",
    " \n",
    "    resposta\n",
    "    **Sun Mon Tue Wed Thu Fri Sat**\n",
    "\n",
    "    *Tue*\n",
    "\n",
    "    *Su Mo Tu We Th Fr Sa*\n",
    "\n",
    "    *Tu*\n"
   ]
  },
  {
   "cell_type": "code",
   "execution_count": 39,
   "id": "26ab98d9",
   "metadata": {},
   "outputs": [
    {
     "name": "stdout",
     "output_type": "stream",
     "text": [
      "Sun Mon Tue Wed Thu Fri Sat\n"
     ]
    }
   ],
   "source": [
    "import calendar\n",
    " \n",
    "calendar.setfirstweekday(calendar.SUNDAY)\n",
    "print(calendar.weekheader(3))"
   ]
  },
  {
   "cell_type": "code",
   "execution_count": null,
   "id": "ae3c33c6",
   "metadata": {},
   "outputs": [],
   "source": []
  }
 ],
 "metadata": {
  "kernelspec": {
   "display_name": "Python 3 (ipykernel)",
   "language": "python",
   "name": "python3"
  },
  "language_info": {
   "codemirror_mode": {
    "name": "ipython",
    "version": 3
   },
   "file_extension": ".py",
   "mimetype": "text/x-python",
   "name": "python",
   "nbconvert_exporter": "python",
   "pygments_lexer": "ipython3",
   "version": "3.11.5"
  }
 },
 "nbformat": 4,
 "nbformat_minor": 5
}
