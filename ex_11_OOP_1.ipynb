{
 "cells": [
  {
   "cell_type": "code",
   "execution_count": 1,
   "id": "7dc9fead",
   "metadata": {},
   "outputs": [
    {
     "name": "stdout",
     "output_type": "stream",
     "text": [
      "1\n",
      "2\n",
      "3\n"
     ]
    }
   ],
   "source": [
    "# The stack - the procedural approach - Versão em linguagem estruturada\n",
    "\n",
    "# Exemplo em linguagem estruturada\n",
    "\n",
    "stack = []\n",
    "\n",
    "\n",
    "def push(val): # push insere no topo da pilha/stack\n",
    "    stack.append(val)\n",
    "\n",
    "\n",
    "def pop():\n",
    "    val = stack[-1] # val recebe o útimo item da lista\n",
    "    del stack[-1] # deleta o último item\n",
    "    return val # retorna o ultimo valor da lista\n",
    "\n",
    "\n",
    "push(3)\n",
    "push(2)\n",
    "push(1)\n",
    "# stack = [3,2,1]\n",
    "print(pop()) # remove e retorna 1\n",
    "print(pop()) # remove e retorna 2\n",
    "print(pop()) # remove e retorna 3"
   ]
  },
  {
   "cell_type": "code",
   "execution_count": 2,
   "id": "810eba93",
   "metadata": {},
   "outputs": [
    {
     "name": "stdout",
     "output_type": "stream",
     "text": [
      "Hi!\n"
     ]
    }
   ],
   "source": [
    "# The stack - the object approach # Agora em POO\n",
    "\n",
    "class Stack:  # Defining the Stack class.\n",
    "    def __init__(self):  # Defining the constructor function.\n",
    "        print(\"Hi!\")\n",
    "\n",
    "\n",
    "stack_object = Stack()  # Instantiating the object."
   ]
  },
  {
   "cell_type": "code",
   "execution_count": 4,
   "id": "3038eae1",
   "metadata": {},
   "outputs": [
    {
     "name": "stdout",
     "output_type": "stream",
     "text": [
      "0\n"
     ]
    }
   ],
   "source": [
    "class Stack:\n",
    "    def __init__(self):\n",
    "        self.stack_list = []\n",
    "\n",
    "\n",
    "stack_object = Stack()\n",
    "print(len(stack_object.stack_list)) # '.' chama uma função da classe, .stack_list"
   ]
  },
  {
   "cell_type": "code",
   "execution_count": 1,
   "id": "4b7e273b",
   "metadata": {},
   "outputs": [
    {
     "ename": "AttributeError",
     "evalue": "'Stack' object has no attribute '__stack_list'",
     "output_type": "error",
     "traceback": [
      "\u001b[1;31m---------------------------------------------------------------------------\u001b[0m",
      "\u001b[1;31mAttributeError\u001b[0m                            Traceback (most recent call last)",
      "Cell \u001b[1;32mIn[1], line 9\u001b[0m\n\u001b[0;32m      5\u001b[0m         \u001b[38;5;28mself\u001b[39m\u001b[38;5;241m.\u001b[39m__stack_list \u001b[38;5;241m=\u001b[39m [] \u001b[38;5;66;03m# só acrescentar o underscore __\u001b[39;00m\n\u001b[0;32m      8\u001b[0m stack_object \u001b[38;5;241m=\u001b[39m Stack()\n\u001b[1;32m----> 9\u001b[0m \u001b[38;5;28mprint\u001b[39m(\u001b[38;5;28mlen\u001b[39m(stack_object\u001b[38;5;241m.\u001b[39m__stack_list))\n",
      "\u001b[1;31mAttributeError\u001b[0m: 'Stack' object has no attribute '__stack_list'"
     ]
    }
   ],
   "source": [
    "# deixando  a função 'private' com __\n",
    "\n",
    "class Stack:\n",
    "    def __init__(self):\n",
    "        self.__stack_list = [] # só acrescentar o underscore __\n",
    "\n",
    "\n",
    "stack_object = Stack()\n",
    "print(len(stack_object.__stack_list)) # não vai imprimir pq está privatdo, só pode ser acessado dentro da classe \n"
   ]
  },
  {
   "cell_type": "code",
   "execution_count": 6,
   "id": "4a518fb5",
   "metadata": {},
   "outputs": [
    {
     "name": "stdout",
     "output_type": "stream",
     "text": [
      "1\n",
      "2\n",
      "3\n"
     ]
    }
   ],
   "source": [
    "# Versão em POO\n",
    "\n",
    "class Stack:\n",
    "    def __init__(self):\n",
    "        self.__stack_list = []\n",
    "\n",
    "\n",
    "    def push(self, val):\n",
    "        self.__stack_list.append(val)\n",
    "\n",
    "\n",
    "    def pop(self):\n",
    "        val = self.__stack_list[-1]\n",
    "        del self.__stack_list[-1]\n",
    "        return val\n",
    "\n",
    "\n",
    "stack_object = Stack()\n",
    "\n",
    "stack_object.push(3)\n",
    "stack_object.push(2)\n",
    "stack_object.push(1)\n",
    "\n",
    "print(stack_object.pop())\n",
    "print(stack_object.pop())\n",
    "print(stack_object.pop())\n",
    "\n",
    "\n",
    "# Se o método não precisar de nenhum parâmetro, este ainda deve ser especificado (Self).\n",
    "# Se ele for projetado para processar apenas um parâmetro, você precisa especificar dois,\n",
    "# e o papel do primeiro ainda é o mesmo.\n",
    "\n",
    "# Maneira como os métodos são invocados a partir da variável __stack_list.\n",
    "\n",
    "# a primeira etapa entrega o objeto como um todo → self;\n",
    "\n",
    "# em seguida, precisa acessar a lista __stack_list → self.__stack_list;\n",
    "\n",
    "# com __stack_list pronta para ser usada, você pode realizar a terceira e última etapa → self.__stack_list.append(val).\n",
    "\n",
    "# A declaração da classe está completa, e todos os seus componentes foram listados. A classe está pronta para uso."
   ]
  },
  {
   "cell_type": "code",
   "execution_count": 7,
   "id": "669d6ea4",
   "metadata": {},
   "outputs": [
    {
     "name": "stdout",
     "output_type": "stream",
     "text": [
      "3\n"
     ]
    }
   ],
   "source": [
    "# duas pilhas criadas a partir da mesma classe base. Elas funcionam de forma independente\n",
    "\n",
    "class Stack:\n",
    "    def __init__(self):\n",
    "        self.__stack_list = []\n",
    "\n",
    "    def push(self, val):\n",
    "        self.__stack_list.append(val)\n",
    "\n",
    "    def pop(self):\n",
    "        val = self.__stack_list[-1]\n",
    "        del self.__stack_list[-1]\n",
    "        return val\n",
    "\n",
    "\n",
    "stack_object_1 = Stack()\n",
    "stack_object_2 = Stack()\n",
    "\n",
    "stack_object_1.push(3)\n",
    "stack_object_2.push(stack_object_1.pop())\n",
    "\n",
    "print(stack_object_2.pop())"
   ]
  },
  {
   "cell_type": "code",
   "execution_count": 4,
   "id": "fdb2ade7",
   "metadata": {},
   "outputs": [
    {
     "name": "stdout",
     "output_type": "stream",
     "text": [
      "0\n"
     ]
    }
   ],
   "source": [
    "class Stack:\n",
    "    def __init__(self):\n",
    "        self.__stack_list = []\n",
    "\n",
    "    def push(self, val):\n",
    "        self.__stack_list.append(val)\n",
    "\n",
    "    def pop(self):\n",
    "        val = self.__stack_list[-1]\n",
    "        del self.__stack_list[-1]\n",
    "        return val\n",
    "\n",
    "\n",
    "little_stack = Stack()\n",
    "another_stack = Stack()\n",
    "funny_stack = Stack()\n",
    "\n",
    "little_stack.push(1)\n",
    "another_stack.push(little_stack.pop() + 1)\n",
    "funny_stack.push(another_stack.pop() - 2)\n",
    "\n",
    "print(funny_stack.pop())\n",
    "\n",
    "# little_stack.push(1) adiciona o valor 1 à pilha little_stack.\n",
    "\n",
    "# another_stack.push(little_stack.pop() + 1):\n",
    "# Primeiro, remove o valor do topo de little_stack (que é 1) e o retorna.\n",
    "# Em seguida, adiciona 1 ao valor retornado, resultando em 2, que é então adicionado ao topo de another_stack.\n",
    "\n",
    "# funny_stack.push(another_stack.pop() - 2):\n",
    "# Remove o valor do topo de another_stack (que é 2) e o retorna.\n",
    "# Em seguida, subtrai 2 do valor retornado, resultando em 0, que é então adicionado ao topo de funny_stack."
   ]
  },
  {
   "cell_type": "code",
   "execution_count": 9,
   "id": "af177fc2",
   "metadata": {},
   "outputs": [],
   "source": [
    "class Stack:\n",
    "    def __init__(self):\n",
    "        self.__stack_list = []\n",
    "\n",
    "    def push(self, val):\n",
    "        self.__stack_list.append(val)\n",
    "\n",
    "    def pop(self):\n",
    "        val = self.__stack_list[-1]\n",
    "        del self.__stack_list[-1]\n",
    "        return val\n",
    "\n",
    "# EXEMPLO SÓ RECEBENDO OS COMPONENTES DA SUPERCLASSE:\n",
    "\n",
    "# class AddingStack(Stack):\n",
    "#     pass\n",
    "\n",
    "\n",
    "class AddingStack(Stack):\n",
    "    def __init__(self): # CRIA UMA LISTA\n",
    "        Stack.__init__(self) # EM Python é obrigatorio invocar o construtor da superclasse\n",
    "        self.__sum = 0 # SOMA OS DADOS DA LISTA\n",
    "        \n",
    "#  Nota: é geralmente uma prática recomendada invocar o construtor da superclasse antes de qualquer outra inicialização\n",
    "#     que você deseja realizar dentro da subclasse.      "
   ]
  },
  {
   "cell_type": "markdown",
   "id": "f6da177f",
   "metadata": {},
   "source": [
    "De fora da classe nunca exige que você coloque o argumento self na lista de argumentos \n",
    "- invocar um método de dentro da classe exige o uso explícito do argumento self \n",
    "e ele deve ser colocado primeiro na lista."
   ]
  },
  {
   "cell_type": "code",
   "execution_count": 5,
   "id": "cdc1e03b",
   "metadata": {},
   "outputs": [
    {
     "name": "stdout",
     "output_type": "stream",
     "text": [
      "10\n",
      "4\n",
      "3\n",
      "2\n",
      "1\n",
      "0\n"
     ]
    }
   ],
   "source": [
    "class Stack:\n",
    "    def __init__(self):\n",
    "        self.__stackList = []\n",
    "\n",
    "    def push(self, val):\n",
    "        self.__stackList.append(val)\n",
    "\n",
    "    def pop(self):\n",
    "        val = self.__stackList[-1]\n",
    "        del self.__stackList[-1]\n",
    "        return val\n",
    "\n",
    "\n",
    "class AddingStack(Stack):\n",
    "    def __init__(self):\n",
    "        Stack.__init__(self)\n",
    "        self.__sum = 0\n",
    "        \n",
    "    def get_sum(self):\n",
    "        return self.__sum\n",
    "            \n",
    "    def push(self, val):\n",
    "        self.__sum += val # adicionar o valor à variável __sum;\n",
    "        Stack.push(self, val) # empilhar o valor na pilha.\n",
    "        \n",
    "    def pop(self):\n",
    "        val = Stack.pop(self)\n",
    "        self.__sum -= val\n",
    "        return val\n",
    "        \n",
    "# método push e pop foram sobrescritos - o mesmo nome que na superclasse \n",
    "# agora representa uma funcionalidade diferente.\n",
    "\n",
    "stack_object = AddingStack()\n",
    "\n",
    "for i in range(5):\n",
    "    stack_object.push(i)\n",
    "print(stack_object.get_sum())\n",
    "\n",
    "for i in range(5):\n",
    "    print(stack_object.pop())"
   ]
  },
  {
   "cell_type": "markdown",
   "id": "30d97465",
   "metadata": {},
   "source": [
    "## Resumo:\n",
    "\n",
    "Uma pilha é um objeto projetado para armazenar dados usando o modelo LIFO (Last In, First Out).\n",
    "A pilha geralmente realiza pelo menos duas operações, chamadas push() e pop().\n",
    "\n",
    "Implementar a pilha em um modelo procedural levanta vários problemas que podem ser resolvidos\n",
    "pelas técnicas oferecidas pela POO (Programação Orientada a Objetos).\n",
    "\n",
    "Um método de classe é na verdade uma função declarada dentro da classe e \n",
    "capaz de acessar todos os componentes da classe.\n",
    "\n",
    "A parte da classe Python responsável por criar novos objetos é chamada de construtor,\n",
    "e é implementada como um método com o nome __init__.\n",
    "\n",
    "Cada declaração de método de classe deve conter pelo menos um parâmetro (sempre o primeiro),\n",
    "geralmente referido como self, e é usado pelos objetos para se identificarem.\n",
    "\n",
    "Se quisermos ocultar qualquer um dos componentes de uma classe do mundo externo, \n",
    "devemos começar seu nome com __. Esses componentes são chamados de privados.\n"
   ]
  },
  {
   "cell_type": "markdown",
   "id": "8870a3f2",
   "metadata": {},
   "source": [
    "### Question 1:\n",
    "Assuming that there is a class named Snakes,\n",
    "write the very first line of the Python class declaration,\n",
    "expressing the fact that the new class is actually a subclass of Snake.\n",
    "\n",
    "\n",
    "    class Python(Snakes):\n",
    "    "
   ]
  },
  {
   "cell_type": "markdown",
   "id": "6f4974c8",
   "metadata": {},
   "source": [
    "### Question 2:\n",
    "Something is missing from the following declaration – what?\n",
    "\n",
    "class Snakes:\n",
    "    def __init__():\n",
    "        self.sound = 'Sssssss'\n",
    "\n",
    "    The __init__() constructor lacks the obligatory parameter (we should name it self to stay compliant with the standards)."
   ]
  },
  {
   "cell_type": "markdown",
   "id": "ba7bac56",
   "metadata": {},
   "source": [
    "### Question 3: \n",
    "Modify the code to guarantee that the venomous property is private.\n",
    "\n",
    "class Snakes:\n",
    "    def __init__(self):\n",
    "        self.venomous = True\n",
    " \n",
    "\n",
    "The code should look as follows:\n",
    "\n",
    "class Snakes:\n",
    "    def __init__(self):\n",
    "        self.__venomous = True"
   ]
  },
  {
   "cell_type": "code",
   "execution_count": 6,
   "id": "92cc8c73",
   "metadata": {},
   "outputs": [
    {
     "name": "stdout",
     "output_type": "stream",
     "text": [
      "100\n"
     ]
    }
   ],
   "source": [
    "# Exercicio 1\n",
    "\n",
    "class Stack:\n",
    "    def __init__(self):\n",
    "        self.__stk = []\n",
    "\n",
    "    def push(self, val):\n",
    "        self.__stk.append(val)\n",
    "\n",
    "    def pop(self):\n",
    "        val = self.__stk[-1]\n",
    "        del self.__stk[-1]\n",
    "        return val\n",
    "\n",
    "\n",
    "class CountingStack(Stack):\n",
    "    def __init__(self):\n",
    "        super().__init__()  # chama o construtor da superclasse\n",
    "        self.__counter = 0  # inicializa o contador como zero\n",
    "\n",
    "\n",
    "    def get_counter(self):\n",
    "        return self.__counter  # retorna o valor atual do contador\n",
    "\n",
    "\n",
    "    def pop(self):\n",
    "       val = super().pop()  # chama o método pop da superclasse\n",
    "       self.__counter += 1  # incrementa o contador\n",
    "       return val\n",
    "\n",
    "\n",
    "stk = CountingStack()\n",
    "for i in range(100):\n",
    "    stk.push(i)\n",
    "    stk.pop()\n",
    "print(stk.get_counter())\n"
   ]
  },
  {
   "cell_type": "code",
   "execution_count": 11,
   "id": "ab09c833",
   "metadata": {},
   "outputs": [
    {
     "name": "stdout",
     "output_type": "stream",
     "text": [
      "1\n",
      "dog\n",
      "False\n",
      "Queue error\n"
     ]
    }
   ],
   "source": [
    "# Exercicio 2:\n",
    "# Uma fila é um modelo de dados caracterizado pelo termo FIFO: First In – First Out.\n",
    "# Nota: uma fila comum (linha) que você conhece de lojas ou correios funciona exatamente da mesma forma \n",
    "# – um cliente que chegou primeiro também é atendido primeiro.\n",
    "\n",
    "# Sua tarefa é implementar a classe Queue com duas operações básicas:\n",
    "\n",
    "# put(element), que coloca um elemento no final da fila;\n",
    "# get(), que retira um elemento da frente da fila e o retorna como resultado\n",
    "# (a fila não pode estar vazia para que a operação seja realizada com sucesso).\n",
    "\n",
    "# use uma lista como seu armazenamento (assim como fizemos com a pilha);\n",
    "# put() deve adicionar elementos ao final da lista,\n",
    "# enquanto get() deve remover os elementos do início da lista;\n",
    "# defina uma nova exceção chamada QueueError (escolha uma exceção da qual derivar) \n",
    "# e lance-a quando get() tentar operar em uma lista vazia.    \n",
    "    \n",
    "    \n",
    "class QueueError(IndexError):\n",
    "    pass\n",
    "\n",
    "\n",
    "class Queue:\n",
    "    def __init__(self):\n",
    "        self.queue = []\n",
    "\n",
    "    def put(self, elem):\n",
    "        self.queue.insert(0, elem)\n",
    "\n",
    "    def get(self):\n",
    "        if len(self.queue) > 0:\n",
    "            elem = self.queue[-1]\n",
    "            del self.queue[-1]\n",
    "            return elem\n",
    "        else:\n",
    "            raise QueueError\n",
    "\n",
    "\n",
    "que = Queue()\n",
    "que.put(1)\n",
    "que.put(\"dog\")\n",
    "que.put(False)\n",
    "try:\n",
    "    for i in range(4):\n",
    "        print(que.get())\n",
    "except:\n",
    "    print(\"Queue error\")\n",
    "    "
   ]
  },
  {
   "cell_type": "markdown",
   "id": "f57b9419",
   "metadata": {},
   "source": [
    "## variáveis de instância\n",
    "\n",
    "Diferentes objetos da mesma classe podem possuir conjuntos diferentes de propriedades;\n",
    "\n",
    "cada objeto carrega seu próprio conjunto de propriedades – elas não interferem umas nas outras de nenhuma maneira.\n",
    "Essas variáveis (propriedades) são chamadas de variáveis de instância.\n",
    "\n",
    "A palavra \"instância\" sugere que elas estão intimamente conectadas aos objetos (que são instâncias da classe),\n",
    "e não às próprias classes. \n"
   ]
  },
  {
   "cell_type": "markdown",
   "id": "1bec45cf",
   "metadata": {},
   "source": [
    "## # __dict__\n",
    "pode ser usado para visualizar todos os atributos de uma instância de classe. \n",
    "Imprime como um dicionário.\n",
    "Por exemplo:"
   ]
  },
  {
   "cell_type": "code",
   "execution_count": 13,
   "id": "f00e0ed3",
   "metadata": {},
   "outputs": [
    {
     "name": "stdout",
     "output_type": "stream",
     "text": [
      "{'x': 10, 'y': 20}\n"
     ]
    }
   ],
   "source": [
    "class MyClass:\n",
    "    def __init__(self, x, y):\n",
    "        self.x = x\n",
    "        self.y = y\n",
    "\n",
    "obj = MyClass(10, 20)\n",
    "print(obj.__dict__)  # Saída: {'x': 10, 'y': 20}\n"
   ]
  },
  {
   "cell_type": "code",
   "execution_count": 14,
   "id": "181f808e",
   "metadata": {},
   "outputs": [
    {
     "name": "stdout",
     "output_type": "stream",
     "text": [
      "30\n"
     ]
    }
   ],
   "source": [
    "# Modificar Atributos Dinamicamente\n",
    "# adicionar ou modificar atributos de uma instância usando o __dict__:\n",
    "\n",
    "obj.__dict__['z'] = 30\n",
    "print(obj.z)  # Saída: 30\n"
   ]
  },
  {
   "cell_type": "code",
   "execution_count": 15,
   "id": "f1417c33",
   "metadata": {},
   "outputs": [
    {
     "name": "stdout",
     "output_type": "stream",
     "text": [
      "Atributo 'x' existe\n"
     ]
    }
   ],
   "source": [
    "# Verificar Se um Atributo Existe\n",
    "# Verificar se um atributo existe no __dict__:\n",
    "\n",
    "if 'x' in obj.__dict__:\n",
    "    print(\"Atributo 'x' existe\")"
   ]
  },
  {
   "cell_type": "code",
   "execution_count": 16,
   "id": "877ad0f1",
   "metadata": {},
   "outputs": [
    {
     "name": "stdout",
     "output_type": "stream",
     "text": [
      "{'__module__': '__main__', 'a': 1, 'b': 2, '__dict__': <attribute '__dict__' of 'MyClass' objects>, '__weakref__': <attribute '__weakref__' of 'MyClass' objects>, '__doc__': None}\n"
     ]
    }
   ],
   "source": [
    "# Obter Atributos da Classe\n",
    "# Você pode usar o __dict__ em uma classe para obter seus atributos e métodos:\n",
    "\n",
    "class MyClass:\n",
    "    a = 1\n",
    "    b = 2\n",
    "\n",
    "print(MyClass.__dict__)\n"
   ]
  },
  {
   "cell_type": "code",
   "execution_count": 12,
   "id": "40356317",
   "metadata": {},
   "outputs": [
    {
     "name": "stdout",
     "output_type": "stream",
     "text": [
      "{'first': 1}\n",
      "<__main__.ExampleClass object at 0x0000020ADC0E5FD0>\n",
      "{'first': 2, 'second': 3}\n",
      "{'first': 4, 'third': 5}\n"
     ]
    }
   ],
   "source": [
    "# __dict__\n",
    "\n",
    "class ExampleClass:\n",
    "    def __init__(self, val = 1): #  cria incondicionalmente uma variável de instância chamada first,\n",
    "        self.first = val #  e a define com o valor passado pelo primeiro argumento,  (da perspectiva do usuário da classe)\n",
    "                            # ou o segundo argumento (da perspectiva do construtor)\n",
    "\n",
    "    def set_second(self, val):# método que cria outra variável de instância, chamada second;\n",
    "        self.second = val \n",
    "\n",
    "\n",
    "example_object_1 = ExampleClass() # possui apenas a propriedade chamada first;\n",
    "example_object_2 = ExampleClass(2) # possui duas propriedades: first e second;\n",
    "\n",
    "example_object_2.set_second(3) #  foi enriquecido com uma propriedade chamada third apenas no momento, fora do código da classe\n",
    "                                # - isso é possível e totalmente permitido.\n",
    "\n",
    "example_object_3 = ExampleClass(4)\n",
    "example_object_3.third = 5\n",
    "\n",
    "print(example_object_1.__dict__)\n",
    "print(example_object_2.__dict__)\n",
    "print(example_object_3.__dict__)"
   ]
  },
  {
   "cell_type": "code",
   "execution_count": 15,
   "id": "f363f897",
   "metadata": {},
   "outputs": [
    {
     "name": "stdout",
     "output_type": "stream",
     "text": [
      "{'_ExampleClass__first': 1}\n",
      "{'_ExampleClass__first': 2, '_ExampleClass__second': 3}\n",
      "{'_ExampleClass__first': 4, '__third': 5}\n",
      "1\n"
     ]
    }
   ],
   "source": [
    "class ExampleClass:\n",
    "    def __init__(self, val = 1):\n",
    "        self.__first = val\n",
    "\n",
    "    def set_second(self, val = 2):\n",
    "        self.__second = val\n",
    "\n",
    "\n",
    "example_object_1 = ExampleClass()\n",
    "example_object_2 = ExampleClass(2)\n",
    "\n",
    "example_object_2.set_second(3)\n",
    "\n",
    "example_object_3 = ExampleClass(4)\n",
    "example_object_3.__third = 5\n",
    "\n",
    "\n",
    "print(example_object_1.__dict__)\n",
    "print(example_object_2.__dict__)\n",
    "print(example_object_3.__dict__)\n",
    "\n",
    "\n",
    "print(example_object_1._ExampleClass__first)\n",
    "\n",
    "# modificar uma variável de instância de qualquer objeto não tem impacto sobre os demais objetos.\n",
    "# As variáveis de instância são perfeitamente isoladas umas das outras."
   ]
  },
  {
   "cell_type": "markdown",
   "id": "77b655a1",
   "metadata": {},
   "source": [
    "## Variáveis de Classe"
   ]
  },
  {
   "cell_type": "code",
   "execution_count": 16,
   "id": "0ed4b431",
   "metadata": {},
   "outputs": [
    {
     "name": "stdout",
     "output_type": "stream",
     "text": [
      "{'_ExampleClass__first': 1} 3\n",
      "{'_ExampleClass__first': 2} 3\n",
      "{'_ExampleClass__first': 4} 3\n"
     ]
    }
   ],
   "source": [
    "# há uma atribuição na primeira linha da definição da classe – ela define a variável chamada counter como 0;\n",
    "# inicializar a variável dentro da classe, mas fora de qualquer um de seus métodos,\n",
    "# faz com que a variável seja uma variável de classe;\n",
    "# acessar tal variável é semelhante a acessar qualquer atributo de instância – \n",
    "# você pode vê-la no corpo do construtor; como você pode ver, o construtor incrementa a variável em um;\n",
    "# na prática, a variável conta todos os objetos criados.\n",
    "\n",
    "\n",
    "class ExampleClass:\n",
    "    counter = 0 # variavel de classe\n",
    "    def __init__(self, val = 1):\n",
    "        self.__first = val\n",
    "        ExampleClass.counter += 1\n",
    "\n",
    "\n",
    "example_object_1 = ExampleClass()\n",
    "example_object_2 = ExampleClass(2)\n",
    "example_object_3 = ExampleClass(4)\n",
    "\n",
    "print(example_object_1.__dict__, example_object_1.counter)\n",
    "print(example_object_2.__dict__, example_object_2.counter)\n",
    "print(example_object_3.__dict__, example_object_3.counter)\n",
    "\n",
    "# as variáveis de classe não são mostradas no __dict__ de um objeto \n",
    "# (o que é natural, pois variáveis de classe não são partes de um objeto),\n",
    "# mas você sempre pode tentar verificar a variável com o mesmo nome, mas no nível da classe \n",
    "\n",
    "# uma variável de classe sempre apresenta o mesmo valor em todas as instâncias da classe (objetos)."
   ]
  },
  {
   "cell_type": "code",
   "execution_count": 18,
   "id": "5acc6cfe",
   "metadata": {},
   "outputs": [
    {
     "name": "stdout",
     "output_type": "stream",
     "text": [
      "{'__module__': '__main__', 'varia': 1, '__init__': <function ExampleClass.__init__ at 0x0000029A66526840>, '__dict__': <attribute '__dict__' of 'ExampleClass' objects>, '__weakref__': <attribute '__weakref__' of 'ExampleClass' objects>, '__doc__': None}\n",
      "{'__module__': '__main__', 'varia': 2, '__init__': <function ExampleClass.__init__ at 0x0000029A66526840>, '__dict__': <attribute '__dict__' of 'ExampleClass' objects>, '__weakref__': <attribute '__weakref__' of 'ExampleClass' objects>, '__doc__': None}\n",
      "{}\n"
     ]
    }
   ],
   "source": [
    "# variáveis de classe existem mesmo quando nenhuma instância da classe (objeto) foi criada.\n",
    "\n",
    "class ExampleClass:\n",
    "    varia = 1\n",
    "    def __init__(self, val):\n",
    "        ExampleClass.varia = val\n",
    "\n",
    "\n",
    "print(ExampleClass.__dict__)\n",
    "example_object = ExampleClass(2)\n",
    "\n",
    "print(ExampleClass.__dict__)\n",
    "print(example_object.__dict__)\n",
    "\n",
    "# Definimos uma classe chamada ExampleClass.\n",
    "# A classe define uma variável de classe chamada varia.\n",
    "# O construtor da classe define a variável com o valor do parâmetro.\n",
    "\n",
    "# Nomear a variável é o aspecto mais importante do exemplo porque:\n",
    "\n",
    "# Mudar a atribuição para self.varia = val criaria uma variável de instância com o mesmo nome da variável de classe;\n",
    "\n",
    "# Mudar a atribuição para varia = val operaria em uma variável local do método;\n",
    "# (recomendamos fortemente que você teste ambos os casos acima – isso facilitará lembrar a diferença);\n",
    "\n",
    "# A primeira linha do código fora da classe imprime o valor do atributo ExampleClass.varia; \n",
    "# note que usamos o valor antes de qualquer objeto da classe ser instanciado.\n",
    "\n",
    "# Como pode ver, o __dict__ da classe contém muito mais dados do que o do objeto. A maioria deles não é útil agora – o que queremos que você verifique cuidadosamente é o valor atual de varia.\n",
    "\n",
    "# Observe que o __dict__ do objeto está vazio – o objeto não tem variáveis de instância.\n"
   ]
  },
  {
   "cell_type": "markdown",
   "id": "09653941",
   "metadata": {},
   "source": [
    "### Checking an attribute's existence"
   ]
  },
  {
   "cell_type": "code",
   "execution_count": 18,
   "id": "7ecba4ff",
   "metadata": {},
   "outputs": [
    {
     "name": "stdout",
     "output_type": "stream",
     "text": [
      "1\n"
     ]
    },
    {
     "ename": "AttributeError",
     "evalue": "'ExampleClass' object has no attribute 'b'",
     "output_type": "error",
     "traceback": [
      "\u001b[1;31m---------------------------------------------------------------------------\u001b[0m",
      "\u001b[1;31mAttributeError\u001b[0m                            Traceback (most recent call last)",
      "Cell \u001b[1;32mIn[18], line 12\u001b[0m\n\u001b[0;32m      9\u001b[0m example_object \u001b[38;5;241m=\u001b[39m ExampleClass(\u001b[38;5;241m1\u001b[39m)\n\u001b[0;32m     11\u001b[0m \u001b[38;5;28mprint\u001b[39m(example_object\u001b[38;5;241m.\u001b[39ma)\n\u001b[1;32m---> 12\u001b[0m \u001b[38;5;28mprint\u001b[39m(example_object\u001b[38;5;241m.\u001b[39mb)\n",
      "\u001b[1;31mAttributeError\u001b[0m: 'ExampleClass' object has no attribute 'b'"
     ]
    }
   ],
   "source": [
    "class ExampleClass:\n",
    "    def __init__(self, val):\n",
    "        if val % 2 != 0:\n",
    "            self.a = 1\n",
    "        else:\n",
    "            self.b = 1\n",
    "\n",
    "\n",
    "example_object = ExampleClass(1)\n",
    "\n",
    "print(example_object.a)\n",
    "print(example_object.b) # acessar um atributo de objeto (classe) que não existe causa uma exceção AttributeError."
   ]
  },
  {
   "cell_type": "code",
   "execution_count": 17,
   "id": "f7275723",
   "metadata": {},
   "outputs": [
    {
     "name": "stdout",
     "output_type": "stream",
     "text": [
      "1\n"
     ]
    }
   ],
   "source": [
    "class ExampleClass:\n",
    "    def __init__(self, val):\n",
    "        if val % 2 != 0:\n",
    "            self.a = 1\n",
    "        else:\n",
    "            self.b = 1\n",
    "\n",
    "\n",
    "example_object = ExampleClass(1)\n",
    "print(example_object.a)\n",
    "\n",
    "\n",
    "#  try-except oferece a oportunidade de evitar problemas com propriedades inexistentes.\n",
    "try:\n",
    "    print(example_object.b)\n",
    "except AttributeError:\n",
    "    pass"
   ]
  },
  {
   "cell_type": "markdown",
   "id": "152b295d",
   "metadata": {},
   "source": [
    "##  hasattr\n",
    "Python fornece uma função que é capaz de verificar de forma segura se um objeto/classe contém uma propriedade especificada. \n",
    "A função é chamada hasattr e espera dois argumentos:\n",
    "\n",
    "a classe ou o objeto que está sendo verificado;\n",
    "\n",
    "o nome da propriedade cuja existência deve ser verificada\n",
    "(nota: deve ser uma string contendo o nome do atributo, não apenas o nome).\n",
    "\n",
    "A função retorna True ou False."
   ]
  },
  {
   "cell_type": "code",
   "execution_count": 20,
   "id": "fab2056e",
   "metadata": {},
   "outputs": [
    {
     "name": "stdout",
     "output_type": "stream",
     "text": [
      "True\n",
      "True\n",
      "False\n",
      "True\n"
     ]
    }
   ],
   "source": [
    "class ExampleClass:\n",
    "    a = 1\n",
    "    def __init__(self):\n",
    "        self.b = 2\n",
    "\n",
    "\n",
    "example_object = ExampleClass()\n",
    "\n",
    "print(hasattr(example_object, 'b'))\n",
    "print(hasattr(example_object, 'a'))\n",
    "\n",
    "print(hasattr(ExampleClass, 'b')) # False, porque b é uma variável de instância, não uma variável de classe.\n",
    "                                  # A classe não tem uma variável chamada 'b' em seu __dict__.\n",
    "    \n",
    "print(hasattr(ExampleClass, 'a'))"
   ]
  },
  {
   "cell_type": "code",
   "execution_count": 21,
   "id": "cee4fc65",
   "metadata": {},
   "outputs": [
    {
     "name": "stdout",
     "output_type": "stream",
     "text": [
      "True\n",
      "False\n"
     ]
    }
   ],
   "source": [
    "class ExampleClass:\n",
    "    attr = 1\n",
    "\n",
    "print(hasattr(ExampleClass, 'attr'))\n",
    "print(hasattr(ExampleClass, 'prop'))"
   ]
  },
  {
   "cell_type": "markdown",
   "id": "7ea2b34b",
   "metadata": {},
   "source": [
    "## Resumo\n",
    "\n",
    "Uma variável de instância é uma propriedade cuja existência depende da criação de um objeto.\n",
    "Cada objeto pode ter um conjunto diferente de variáveis de instância.\n",
    "Além disso, elas podem ser adicionadas e removidas livremente dos objetos durante seu ciclo de vida.\n",
    "Todas as variáveis de instância de um objeto são armazenadas em um dicionário dedicado chamado __dict__,\n",
    "presente em cada objeto separadamente.\n",
    "\n",
    "Uma variável de instância pode ser privada quando seu nome começa com __,\n",
    "mas não se esqueça de que tal propriedade ainda é acessível de fora da classe usando um nome modificado,\n",
    "construído como _NomeDaClasse__NomeDaPropriedadePrivada.\n",
    "\n",
    "Uma variável de classe é uma propriedade que existe em exatamente uma cópia e não precisa de nenhum objeto\n",
    "criado para ser acessível. Essas variáveis não são exibidas como conteúdo do __dict__.\n",
    "\n",
    "Todas as variáveis de classe de uma classe são armazenadas em um dicionário dedicado chamado __dict__,\n",
    "presente em cada classe separadamente.\n",
    "\n",
    "Uma função chamada hasattr() pode ser usada para determinar se algum objeto/classe\n",
    "contém uma propriedade especificada.\n"
   ]
  },
  {
   "cell_type": "code",
   "execution_count": 1,
   "id": "b6011433",
   "metadata": {},
   "outputs": [
    {
     "name": "stdout",
     "output_type": "stream",
     "text": [
      "{'alpha': 1, '_Sample__delta': 3, 'beta': 2}\n"
     ]
    }
   ],
   "source": [
    "class Sample:\n",
    "    gamma = 0 # Class variable.\n",
    "    def __init__(self):\n",
    "        self.alpha = 1 # Instance variable.\n",
    "        self.__delta = 3 # Private instance variable.\n",
    "\n",
    "\n",
    "obj = Sample()\n",
    "obj.beta = 2  # Another instance variable (existing only inside the \"obj\" instance.)\n",
    "print(obj.__dict__)\n"
   ]
  },
  {
   "cell_type": "markdown",
   "id": "d388f0cc",
   "metadata": {},
   "source": [
    "### Question 1:\n",
    "Which of the Python class properties are instance variables\n",
    "and which are class variables? Which of them are private?\n",
    "\n",
    "class Python:\n",
    "    population = 1\n",
    "    victims = 0\n",
    "    \n",
    "    def __init__(self):\n",
    "        self.length_ft = 3\n",
    "        self.__venomous = False\n",
    "        \n",
    "\"population\" e \"victims\" são variáveis de classe,\n",
    "enquanto \"length\" e \"__venomous\" são variáveis de instância\n",
    "(esta última também é privada).\n"
   ]
  },
  {
   "cell_type": "markdown",
   "id": "2e13859e",
   "metadata": {},
   "source": [
    "### Question 2:\n",
    "Para negar a propriedade __venomous do objeto version_2,\n",
    "ignorando o fato de que a propriedade é privada.\n",
    "\n",
    "    version_2 = Python()\n",
    "\n",
    "version_2._Python__venomous = not version_2._Python__venomous\n"
   ]
  },
  {
   "cell_type": "markdown",
   "id": "a9cc7198",
   "metadata": {},
   "source": [
    "### Question 3: \n",
    "Write an expression which checks if the version_2 object \n",
    "contains an instance property named constrictor (yes, constrictor!).\n",
    "\n",
    "    hasattr(version_2, 'constrictor')\n",
    "    "
   ]
  }
 ],
 "metadata": {
  "kernelspec": {
   "display_name": "Python 3 (ipykernel)",
   "language": "python",
   "name": "python3"
  },
  "language_info": {
   "codemirror_mode": {
    "name": "ipython",
    "version": 3
   },
   "file_extension": ".py",
   "mimetype": "text/x-python",
   "name": "python",
   "nbconvert_exporter": "python",
   "pygments_lexer": "ipython3",
   "version": "3.11.5"
  }
 },
 "nbformat": 4,
 "nbformat_minor": 5
}
