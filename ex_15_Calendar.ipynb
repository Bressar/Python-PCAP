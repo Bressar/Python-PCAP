{
 "cells": [
  {
   "cell_type": "markdown",
   "id": "32aa86e2",
   "metadata": {},
   "source": [
    "## Calendar"
   ]
  },
  {
   "cell_type": "code",
   "execution_count": 2,
   "id": "b4d91410",
   "metadata": {},
   "outputs": [
    {
     "name": "stdout",
     "output_type": "stream",
     "text": [
      "                                  2024\n",
      "\n",
      "      January                   February                   March\n",
      "Mo Tu We Th Fr Sa Su      Mo Tu We Th Fr Sa Su      Mo Tu We Th Fr Sa Su\n",
      " 1  2  3  4  5  6  7                1  2  3  4                   1  2  3\n",
      " 8  9 10 11 12 13 14       5  6  7  8  9 10 11       4  5  6  7  8  9 10\n",
      "15 16 17 18 19 20 21      12 13 14 15 16 17 18      11 12 13 14 15 16 17\n",
      "22 23 24 25 26 27 28      19 20 21 22 23 24 25      18 19 20 21 22 23 24\n",
      "29 30 31                  26 27 28 29               25 26 27 28 29 30 31\n",
      "\n",
      "       April                      May                       June\n",
      "Mo Tu We Th Fr Sa Su      Mo Tu We Th Fr Sa Su      Mo Tu We Th Fr Sa Su\n",
      " 1  2  3  4  5  6  7             1  2  3  4  5                      1  2\n",
      " 8  9 10 11 12 13 14       6  7  8  9 10 11 12       3  4  5  6  7  8  9\n",
      "15 16 17 18 19 20 21      13 14 15 16 17 18 19      10 11 12 13 14 15 16\n",
      "22 23 24 25 26 27 28      20 21 22 23 24 25 26      17 18 19 20 21 22 23\n",
      "29 30                     27 28 29 30 31            24 25 26 27 28 29 30\n",
      "\n",
      "        July                     August                  September\n",
      "Mo Tu We Th Fr Sa Su      Mo Tu We Th Fr Sa Su      Mo Tu We Th Fr Sa Su\n",
      " 1  2  3  4  5  6  7                1  2  3  4                         1\n",
      " 8  9 10 11 12 13 14       5  6  7  8  9 10 11       2  3  4  5  6  7  8\n",
      "15 16 17 18 19 20 21      12 13 14 15 16 17 18       9 10 11 12 13 14 15\n",
      "22 23 24 25 26 27 28      19 20 21 22 23 24 25      16 17 18 19 20 21 22\n",
      "29 30 31                  26 27 28 29 30 31         23 24 25 26 27 28 29\n",
      "                                                    30\n",
      "\n",
      "      October                   November                  December\n",
      "Mo Tu We Th Fr Sa Su      Mo Tu We Th Fr Sa Su      Mo Tu We Th Fr Sa Su\n",
      "    1  2  3  4  5  6                   1  2  3                         1\n",
      " 7  8  9 10 11 12 13       4  5  6  7  8  9 10       2  3  4  5  6  7  8\n",
      "14 15 16 17 18 19 20      11 12 13 14 15 16 17       9 10 11 12 13 14 15\n",
      "21 22 23 24 25 26 27      18 19 20 21 22 23 24      16 17 18 19 20 21 22\n",
      "28 29 30 31               25 26 27 28 29 30         23 24 25 26 27 28 29\n",
      "                                                    30 31\n",
      "\n"
     ]
    }
   ],
   "source": [
    "import calendar\n",
    "print(calendar.calendar(2024))\n",
    "\n",
    "# calendar.prcal(2020) # substitui o print\n",
    "    "
   ]
  },
  {
   "cell_type": "markdown",
   "id": "0e26e603",
   "metadata": {},
   "source": [
    "O resultado exibido é semelhante ao resultado do comando cal disponível no Unix.\n",
    "Para alterar a formatação padrão do calendário, pode-se usar os seguintes parâmetros:\n",
    "\n",
    "w – largura da coluna de datas (padrão: 2)\n",
    "l – número de linhas por semana (padrão: 1)\n",
    "c – número de espaços entre colunas de meses (padrão: 6)\n",
    "m – número de colunas (padrão: 3)\n",
    "\n",
    "A função calendar requer que você especifique o ano, enquanto os outros parâmetros responsáveis\n",
    "pela formatação são opcionais. \n",
    "\n",
    "Uma boa alternativa à função mencionada acima é a função chamada prcal,\n",
    "que também aceita os mesmos parâmetros da função calendar,\n",
    "mas não requer o uso da função print para exibir o calendário.\n",
    "\n",
    "Seu uso se parece com isto:"
   ]
  },
  {
   "cell_type": "code",
   "execution_count": 7,
   "id": "7c3385f2",
   "metadata": {},
   "outputs": [
    {
     "name": "stdout",
     "output_type": "stream",
     "text": [
      "                                  1971\n",
      "\n",
      "      January                   February                   March\n",
      "Mo Tu We Th Fr Sa Su      Mo Tu We Th Fr Sa Su      Mo Tu We Th Fr Sa Su\n",
      "             1  2  3       1  2  3  4  5  6  7       1  2  3  4  5  6  7\n",
      " 4  5  6  7  8  9 10       8  9 10 11 12 13 14       8  9 10 11 12 13 14\n",
      "11 12 13 14 15 16 17      15 16 17 18 19 20 21      15 16 17 18 19 20 21\n",
      "18 19 20 21 22 23 24      22 23 24 25 26 27 28      22 23 24 25 26 27 28\n",
      "25 26 27 28 29 30 31                                29 30 31\n",
      "\n",
      "       April                      May                       June\n",
      "Mo Tu We Th Fr Sa Su      Mo Tu We Th Fr Sa Su      Mo Tu We Th Fr Sa Su\n",
      "          1  2  3  4                      1  2          1  2  3  4  5  6\n",
      " 5  6  7  8  9 10 11       3  4  5  6  7  8  9       7  8  9 10 11 12 13\n",
      "12 13 14 15 16 17 18      10 11 12 13 14 15 16      14 15 16 17 18 19 20\n",
      "19 20 21 22 23 24 25      17 18 19 20 21 22 23      21 22 23 24 25 26 27\n",
      "26 27 28 29 30            24 25 26 27 28 29 30      28 29 30\n",
      "                          31\n",
      "\n",
      "        July                     August                  September\n",
      "Mo Tu We Th Fr Sa Su      Mo Tu We Th Fr Sa Su      Mo Tu We Th Fr Sa Su\n",
      "          1  2  3  4                         1             1  2  3  4  5\n",
      " 5  6  7  8  9 10 11       2  3  4  5  6  7  8       6  7  8  9 10 11 12\n",
      "12 13 14 15 16 17 18       9 10 11 12 13 14 15      13 14 15 16 17 18 19\n",
      "19 20 21 22 23 24 25      16 17 18 19 20 21 22      20 21 22 23 24 25 26\n",
      "26 27 28 29 30 31         23 24 25 26 27 28 29      27 28 29 30\n",
      "                          30 31\n",
      "\n",
      "      October                   November                  December\n",
      "Mo Tu We Th Fr Sa Su      Mo Tu We Th Fr Sa Su      Mo Tu We Th Fr Sa Su\n",
      "             1  2  3       1  2  3  4  5  6  7             1  2  3  4  5\n",
      " 4  5  6  7  8  9 10       8  9 10 11 12 13 14       6  7  8  9 10 11 12\n",
      "11 12 13 14 15 16 17      15 16 17 18 19 20 21      13 14 15 16 17 18 19\n",
      "18 19 20 21 22 23 24      22 23 24 25 26 27 28      20 21 22 23 24 25 26\n",
      "25 26 27 28 29 30 31      29 30                     27 28 29 30 31\n"
     ]
    }
   ],
   "source": [
    "import calendar\n",
    "calendar.prcal(1971)\n"
   ]
  },
  {
   "cell_type": "code",
   "execution_count": 8,
   "id": "e274ba8c",
   "metadata": {},
   "outputs": [
    {
     "name": "stdout",
     "output_type": "stream",
     "text": [
      "   February 2011\n",
      "Mo Tu We Th Fr Sa Su\n",
      "    1  2  3  4  5  6\n",
      " 7  8  9 10 11 12 13\n",
      "14 15 16 17 18 19 20\n",
      "21 22 23 24 25 26 27\n",
      "28\n",
      "\n",
      "   February 2012\n",
      "Mo Tu We Th Fr Sa Su\n",
      "       1  2  3  4  5\n",
      " 6  7  8  9 10 11 12\n",
      "13 14 15 16 17 18 19\n",
      "20 21 22 23 24 25 26\n",
      "27 28 29\n"
     ]
    }
   ],
   "source": [
    "# Só um mês -> calendar.month(ano, mês)\n",
    "\n",
    "import calendar\n",
    "print(calendar.month(2011, 2))\n",
    "\n",
    "calendar.prmonth(2012, 2)\n",
    "    \n",
    "# pode-se alterar a formatação padrão usando os seguintes parâmetros:\n",
    "\n",
    "# w – largura da coluna de datas (padrão: 2)\n",
    "# l – número de linhas por semana (padrão: 1)\n",
    "\n",
    "# Nota: Você também pode usar a função prmonth, que possui os mesmos parâmetros da função month,\n",
    "#       mas não exige o uso da função print para exibir o calendário."
   ]
  },
  {
   "cell_type": "code",
   "execution_count": 11,
   "id": "a4697a41",
   "metadata": {},
   "outputs": [
    {
     "name": "stdout",
     "output_type": "stream",
     "text": [
      "   February 2013\n",
      "Su Mo Tu We Th Fr Sa\n",
      "                1  2\n",
      " 3  4  5  6  7  8  9\n",
      "10 11 12 13 14 15 16\n",
      "17 18 19 20 21 22 23\n",
      "24 25 26 27 28\n"
     ]
    }
   ],
   "source": [
    "### função setfirstweekday()\n",
    "\n",
    "# Por padrão no módulo calendar, o primeiro dia da semana é segunda-feira [0]. \n",
    "# Para alterar esse comportamento se usa setfirstweekday.\n",
    "\n",
    "# O default de calendar é:\n",
    "#         monday -> 0\n",
    "#         tuesday -> 1\n",
    "#         wednesday -> 2\n",
    "#         thursday -> 3\n",
    "#         friday -> 4\n",
    "#         saturday - > 5\n",
    "#         sunday -> 6\n",
    "\n",
    "import calendar\n",
    "\n",
    "calendar.setfirstweekday(calendar.SUNDAY) # o primeiro dia será sempre domingo\n",
    "calendar.prmonth(2013,2)\n",
    "\n",
    "# Obtemos um calendário mostrando o mês de dezembro de 2020, \n",
    "# no qual o primeiro dia de todas as semanas é domingo."
   ]
  },
  {
   "cell_type": "code",
   "execution_count": 14,
   "id": "0cd31802",
   "metadata": {},
   "outputs": [
    {
     "name": "stdout",
     "output_type": "stream",
     "text": [
      "3\n"
     ]
    }
   ],
   "source": [
    "# função weekday()\n",
    "\n",
    "# Retorna o dia da semana como um valor inteiro para o ano, mês e dia fornecidos.\n",
    "\n",
    "import calendar\n",
    "print(calendar.weekday(2020, 12, 24))\n",
    "    \n",
    "# Qual dia da semana cai em 24 de dezembro de 2020."
   ]
  },
  {
   "cell_type": "code",
   "execution_count": 18,
   "id": "a6efc626",
   "metadata": {},
   "outputs": [
    {
     "name": "stdout",
     "output_type": "stream",
     "text": [
      "Su Mo Tu We Th Fr Sa\n"
     ]
    }
   ],
   "source": [
    "# função weekheader()\n",
    "\n",
    "# Se necessário, você pode obter nomes abreviados dos dias da semana usando o método weekheader.\n",
    "\n",
    "# O método weekheader exige que você especifique a largura em caracteres para um dia da semana.\n",
    "\n",
    "# Se a largura fornecida for maior que 3, você ainda receberá os nomes dos dias da semana\n",
    "# abreviados para três caracteres.\n",
    "\n",
    "import calendar\n",
    "print(calendar.weekheader(2))\n",
    "   \n",
    "# Nota: Se alterar o primeiro dia da semana, por exemplo, usando a função setfirstweekday,\n",
    "#       isso afetará o resultado da função weekheader.\n"
   ]
  },
  {
   "cell_type": "code",
   "execution_count": 21,
   "id": "40bbb76f",
   "metadata": {},
   "outputs": [
    {
     "name": "stdout",
     "output_type": "stream",
     "text": [
      "Mo Tu We Th Fr Sa Su\n"
     ]
    }
   ],
   "source": [
    "import calendar\n",
    "calendar.setfirstweekday(calendar.MONDAY)\n",
    "print(calendar.weekheader(2))"
   ]
  },
  {
   "cell_type": "markdown",
   "id": "38bd2ca0",
   "metadata": {},
   "source": [
    "### Como verificamos se um ano é bissexto?\n",
    "\n",
    "O módulo calendar oferece duas funções úteis para verificar se um ano é bissexto.\n",
    "\n",
    "- A primeira, chamada isleap, retorna True se o ano passado como parâmetro for bissexto, ou False caso contrário.\n",
    "- A segunda, chamada leapdays, retorna o número de anos bissextos em um determinado intervalo de anos."
   ]
  },
  {
   "cell_type": "code",
   "execution_count": 22,
   "id": "135bc89f",
   "metadata": {},
   "outputs": [
    {
     "name": "stdout",
     "output_type": "stream",
     "text": [
      "True\n",
      "3\n"
     ]
    }
   ],
   "source": [
    "import calendar\n",
    "\n",
    "print(calendar.isleap(2020))\n",
    "print(calendar.leapdays(2010, 2021))  # Até, mas não incluindo 2021 -> igual a uma lista !range!"
   ]
  },
  {
   "cell_type": "markdown",
   "id": "8cbc53be",
   "metadata": {},
   "source": [
    "## Classes para criar calendários\n",
    "\n",
    "As funções até agora não são tudo o que o módulo calendar oferece.\n",
    "Além delas, podemos usar as seguintes classes:\n",
    "\n",
    "calendar.Calendar – fornece métodos para preparar dados do calendário para formatação;\n",
    "\n",
    "calendar.TextCalendar – é usada para criar calendários em texto regular;\n",
    "\n",
    "calendar.HTMLCalendar – é usada para criar calendários em HTML;\n",
    "\n",
    "calendar.LocalTextCalendar – é uma subclasse da classe calendar.TextCalendar. \n",
    "O construtor dessa classe recebe o parâmetro locale, que é usado para retornar\n",
    "os nomes apropriados dos meses e dias da semana.\n",
    "\n",
    "calendar.LocalHTMLCalendar – é uma subclasse da classe calendar.HTMLCalendar.\n",
    "O construtor dessa classe recebe o parâmetro locale, que é usado para retornar\n",
    "os nomes apropriados dos meses e dias da semana."
   ]
  },
  {
   "cell_type": "code",
   "execution_count": 23,
   "id": "9b51d537",
   "metadata": {},
   "outputs": [
    {
     "name": "stdout",
     "output_type": "stream",
     "text": [
      "6 0 1 2 3 4 5 "
     ]
    }
   ],
   "source": [
    "# Criando um objeto Calendar\n",
    "# O construtor da classe Calendar aceita um parâmetro opcional chamado firstweekday,\n",
    "# que por padrão é igual a 0 (segunda-feira).\n",
    "\n",
    "# O parâmetro firstweekday deve ser um inteiro entre 0 e 6.\n",
    "\n",
    "import calendar  \n",
    "\n",
    "c = calendar.Calendar(calendar.SUNDAY)\n",
    "\n",
    "for weekday in c.iterweekdays():# iterweekdays retorna um iterador para os números dos dias da semana\n",
    "    print(weekday, end=\" \")\n",
    "\n",
    "    \n",
    "# O exemplo de código usa o método iterweekdays da classe Calendar,\n",
    "# que retorna um iterador para os números dos dias da semana.\n",
    "\n",
    "# O primeiro valor retornado é sempre igual ao valor da propriedade firstweekday.\n",
    "# Como no nosso exemplo o primeiro valor retornado é 6, isso significa que a semana começa no domingo."
   ]
  },
  {
   "cell_type": "code",
   "execution_count": 26,
   "id": "1a24aca2",
   "metadata": {},
   "outputs": [
    {
     "name": "stdout",
     "output_type": "stream",
     "text": [
      "2019-10-28 * 2019-10-29 * 2019-10-30 * 2019-10-31 * 2019-11-01 * 2019-11-02 * 2019-11-03 * 2019-11-04 * 2019-11-05 * 2019-11-06 * 2019-11-07 * 2019-11-08 * 2019-11-09 * 2019-11-10 * 2019-11-11 * 2019-11-12 * 2019-11-13 * 2019-11-14 * 2019-11-15 * 2019-11-16 * 2019-11-17 * 2019-11-18 * 2019-11-19 * 2019-11-20 * 2019-11-21 * 2019-11-22 * 2019-11-23 * 2019-11-24 * 2019-11-25 * 2019-11-26 * 2019-11-27 * 2019-11-28 * 2019-11-29 * 2019-11-30 * 2019-12-01 * "
     ]
    }
   ],
   "source": [
    "# método itermonthdates()\n",
    "\n",
    "# A classe Calendar possui vários métodos que retornam um iterador. \n",
    "# Um deles é o método itermonthdates, que requer a especificação do ano e do mês.\n",
    "\n",
    "# Como resultado, todos os dias do mês e ano especificados são retornados,\n",
    "# assim como todos os dias anteriores ao início do mês ou após o final do mês\n",
    "# que são necessários para completar uma semana inteira.\n",
    "\n",
    "# Cada dia é representado por um objeto datetime.date. \n",
    "\n",
    "import calendar  \n",
    "\n",
    "c = calendar.Calendar()\n",
    "\n",
    "for date in c.itermonthdates(2019, 11):\n",
    "    print(date, end=\" * \")\n",
    "\n",
    "\n",
    "# O código exibe todos os dias de novembro de 2019. \n",
    "# Como o primeiro dia de novembro de 2019 foi uma sexta-feira,\n",
    "# os seguintes dias também são retornados para completar a semana:\n",
    "# 28/10/2019 (segunda-feira), 29/10/2019 (terça-feira), 30/10/2019 (quarta-feira) e 31/10/2019 (quinta-feira).\n",
    "\n",
    "# Como o último dia de novembro de 2019 foi um sábado,\n",
    "# para manter a semana completa, um dia adicional é retornado: \n",
    "# 01/12/2019 (domingo)."
   ]
  },
  {
   "cell_type": "code",
   "execution_count": 28,
   "id": "70410dbb",
   "metadata": {},
   "outputs": [
    {
     "name": "stdout",
     "output_type": "stream",
     "text": [
      "0 0 0 0 1 2 3 4 5 6 7 8 9 10 11 12 13 14 15 16 17 18 19 20 21 22 23 24 25 26 27 28 29 30 0 "
     ]
    }
   ],
   "source": [
    "# itermonthdates,\n",
    "\n",
    "# recebe o ano e o mês como parâmetros e retorna um iterador para os dias do mês representados\n",
    "# como objetos datetime.date.\n",
    "\n",
    "c = calendar.Calendar()\n",
    "\n",
    "for iter in c.itermonthdays(2019, 11):\n",
    "    print(iter, end=\" \")\n",
    " \n",
    "# Os zeros retornados como resultado do código de exemplo. \n",
    "# Esses são dias fora do intervalo do mês especificado que são adicionados para manter a semana completa.\n",
    "\n",
    "# Os primeiros quatro zeros representam 28/10/2019 (segunda-feira), 29/10/2019 (terça-feira),\n",
    "# 30/10/2019 (quarta-feira) e 31/10/2019 (quinta-feira). Os números restantes são dias do mês,\n",
    "# exceto o último valor de 0, que substitui a data 01/12/2019 (domingo)."
   ]
  },
  {
   "cell_type": "code",
   "execution_count": null,
   "id": "8b75b9b0",
   "metadata": {},
   "outputs": [],
   "source": [
    "Existem outros 3 métodos semelhantes na classe Calendar que diferem nos dados retornados:\n",
    "\n",
    "itermonthdates2\n",
    "– retorna os dias na forma de tuplas consistindo em um número do dia do mês e um número do dia da semana.\n",
    "\n",
    "itermonthdates3\n",
    "– retorna os dias na forma de tuplas consistindo em um ano, um mês e um número do dia do mês.\n",
    "\n",
    "itermonthdates4\n",
    "– retorna os dias na forma de tuplas consistindo em um ano, um mês, um número do dia do mês e um número do dia da semana."
   ]
  },
  {
   "cell_type": "code",
   "execution_count": 29,
   "id": "11e74b27",
   "metadata": {},
   "outputs": [
    {
     "name": "stdout",
     "output_type": "stream",
     "text": [
      "(0, 0) (0, 1) (0, 2) (0, 3) (1, 4) (2, 5) (3, 6) (4, 0) (5, 1) (6, 2) (7, 3) (8, 4) (9, 5) (10, 6) (11, 0) (12, 1) (13, 2) (14, 3) (15, 4) (16, 5) (17, 6) (18, 0) (19, 1) (20, 2) (21, 3) (22, 4) (23, 5) (24, 6) (25, 0) (26, 1) (27, 2) (28, 3) (29, 4) (30, 5) (0, 6) "
     ]
    }
   ],
   "source": [
    "for iter in c.itermonthdays2(2019, 11):\n",
    "    print(iter, end=\" \")\n",
    " "
   ]
  },
  {
   "cell_type": "code",
   "execution_count": 30,
   "id": "a3b113c5",
   "metadata": {},
   "outputs": [
    {
     "name": "stdout",
     "output_type": "stream",
     "text": [
      "(2019, 10, 28) (2019, 10, 29) (2019, 10, 30) (2019, 10, 31) (2019, 11, 1) (2019, 11, 2) (2019, 11, 3) (2019, 11, 4) (2019, 11, 5) (2019, 11, 6) (2019, 11, 7) (2019, 11, 8) (2019, 11, 9) (2019, 11, 10) (2019, 11, 11) (2019, 11, 12) (2019, 11, 13) (2019, 11, 14) (2019, 11, 15) (2019, 11, 16) (2019, 11, 17) (2019, 11, 18) (2019, 11, 19) (2019, 11, 20) (2019, 11, 21) (2019, 11, 22) (2019, 11, 23) (2019, 11, 24) (2019, 11, 25) (2019, 11, 26) (2019, 11, 27) (2019, 11, 28) (2019, 11, 29) (2019, 11, 30) (2019, 12, 1) "
     ]
    }
   ],
   "source": [
    "for iter in c.itermonthdays3(2019, 11):\n",
    "    print(iter, end=\" \")\n",
    " "
   ]
  },
  {
   "cell_type": "code",
   "execution_count": 31,
   "id": "890c9acf",
   "metadata": {},
   "outputs": [
    {
     "name": "stdout",
     "output_type": "stream",
     "text": [
      "(2019, 10, 28, 0) (2019, 10, 29, 1) (2019, 10, 30, 2) (2019, 10, 31, 3) (2019, 11, 1, 4) (2019, 11, 2, 5) (2019, 11, 3, 6) (2019, 11, 4, 0) (2019, 11, 5, 1) (2019, 11, 6, 2) (2019, 11, 7, 3) (2019, 11, 8, 4) (2019, 11, 9, 5) (2019, 11, 10, 6) (2019, 11, 11, 0) (2019, 11, 12, 1) (2019, 11, 13, 2) (2019, 11, 14, 3) (2019, 11, 15, 4) (2019, 11, 16, 5) (2019, 11, 17, 6) (2019, 11, 18, 0) (2019, 11, 19, 1) (2019, 11, 20, 2) (2019, 11, 21, 3) (2019, 11, 22, 4) (2019, 11, 23, 5) (2019, 11, 24, 6) (2019, 11, 25, 0) (2019, 11, 26, 1) (2019, 11, 27, 2) (2019, 11, 28, 3) (2019, 11, 29, 4) (2019, 11, 30, 5) (2019, 12, 1, 6) "
     ]
    }
   ],
   "source": [
    "for iter in c.itermonthdays4(2019, 11):\n",
    "    print(iter, end=\" \")\n",
    " "
   ]
  },
  {
   "cell_type": "code",
   "execution_count": 32,
   "id": "c07f7c53",
   "metadata": {},
   "outputs": [
    {
     "name": "stdout",
     "output_type": "stream",
     "text": [
      "[(0, 0), (0, 1), (0, 2), (0, 3), (0, 4), (0, 5), (1, 6)]\n",
      "[(2, 0), (3, 1), (4, 2), (5, 3), (6, 4), (7, 5), (8, 6)]\n",
      "[(9, 0), (10, 1), (11, 2), (12, 3), (13, 4), (14, 5), (15, 6)]\n",
      "[(16, 0), (17, 1), (18, 2), (19, 3), (20, 4), (21, 5), (22, 6)]\n",
      "[(23, 0), (24, 1), (25, 2), (26, 3), (27, 4), (28, 5), (29, 6)]\n",
      "[(30, 0), (31, 1), (0, 2), (0, 3), (0, 4), (0, 5), (0, 6)]\n"
     ]
    }
   ],
   "source": [
    "# método monthdays2calendar()\n",
    "\n",
    "# Recebe o ano e o mês e retorna uma lista de semanas em um mês específico.\n",
    "# Cada semana é uma tupla composta por números dos dias e números dos dias da semana. \n",
    "\n",
    "import calendar  \n",
    "\n",
    "c = calendar.Calendar()\n",
    "\n",
    "for data in c.monthdays2calendar(2024, 12):\n",
    "    print(data)\n",
    "\n",
    "# os números dos dias fora do mês são representados por 0,\n",
    "# enquanto os números dos dias da semana variam de 0 a 6,\n",
    "# onde 0 é segunda-feira e 6 é domingo."
   ]
  },
  {
   "cell_type": "markdown",
   "id": "dfbe2c09",
   "metadata": {},
   "source": [
    "** A classe Calendar possui vários outros métodos úteis na documentação**\n",
    "[link:](https://docs.python.org/3/library/calendar.html)"
   ]
  },
  {
   "cell_type": "markdown",
   "id": "51f91937",
   "metadata": {},
   "source": [
    "### Exercício\n",
    "\n",
    "Demos uma breve olhada na classe Calendar.\n",
    "A tarefa é estender sua funcionalidade com um novo método chamado count_weekday_in_year,\n",
    "que recebe um ano e um dia da semana como parâmetros, e então retorna o número de ocorrências \n",
    "de um dia da semana específico no ano.\n",
    "\n",
    "Use as seguintes dicas:\n",
    "\n",
    "- Crie uma classe chamada MyCalendar que estenda a classe Calendar.\n",
    "\n",
    "- Crie o método count_weekday_in_year com os parâmetros ano e dia da semana.\n",
    "\n",
    "- O parâmetro weekday deve ser um valor entre 0 e 6, onde 0 é segunda-feira e 6 é domingo.\n",
    "\n",
    "- O método deve retornar o número de dias como um inteiro.\n",
    "\n",
    "- Na sua implementação, use o método monthdays2calendar da classe Calendar.\n",
    "\n",
    "Os resultados esperados são os seguintes:\n",
    "    \n",
    "**Argumentos de exemplo**\n",
    "\n",
    "    ano=2019, dia_da_semana=0\n",
    "    Saída esperada: 52\n",
    "\n",
    "    ano=2000, dia_da_semana=6\n",
    "    Saída esperada: 53\n",
    "    "
   ]
  },
  {
   "cell_type": "code",
   "execution_count": 36,
   "id": "02f43243",
   "metadata": {},
   "outputs": [
    {
     "name": "stdout",
     "output_type": "stream",
     "text": [
      "52\n",
      "53\n"
     ]
    }
   ],
   "source": [
    "import calendar\n",
    "\n",
    "class MyCalendar(calendar.Calendar):\n",
    "    def count_weekday_in_year(self, year, weekday):\n",
    "        current_month = 1\n",
    "        number_of_days = 0\n",
    "        while (current_month <= 12):\n",
    "            for data in self.monthdays2calendar(year, current_month):\n",
    "                if data[weekday][0] != 0:\n",
    "                    number_of_days = number_of_days + 1\n",
    "\n",
    "            current_month = current_month + 1\n",
    "        return number_of_days\n",
    "\n",
    "    \n",
    "my_calendar = MyCalendar()\n",
    "\n",
    "number_of_days1 = my_calendar.count_weekday_in_year(2019, calendar.MONDAY)\n",
    "print(number_of_days1)\n",
    "\n",
    "\n",
    "number_of_days2 = my_calendar.count_weekday_in_year(2000, calendar.SUNDAY)\n",
    "print(number_of_days2)\n"
   ]
  },
  {
   "cell_type": "markdown",
   "id": "015d915d",
   "metadata": {},
   "source": [
    "## Resumo\n",
    "\n",
    "No módulo calendar, os dias da semana são exibidos de segunda-feira a domingo. Cada dia da semana tem sua representação na forma de um inteiro, onde o primeiro dia da semana (segunda-feira) é representado pelo valor 0, enquanto o último dia da semana (domingo) é representado pelo valor 6."
   ]
  },
  {
   "cell_type": "code",
   "execution_count": 38,
   "id": "4afb7b7b",
   "metadata": {},
   "outputs": [
    {
     "name": "stdout",
     "output_type": "stream",
     "text": [
      "                                  2020\n",
      "\n",
      "      January                   February                   March\n",
      "Mo Tu We Th Fr Sa Su      Mo Tu We Th Fr Sa Su      Mo Tu We Th Fr Sa Su\n",
      "       1  2  3  4  5                      1  2                         1\n",
      " 6  7  8  9 10 11 12       3  4  5  6  7  8  9       2  3  4  5  6  7  8\n",
      "13 14 15 16 17 18 19      10 11 12 13 14 15 16       9 10 11 12 13 14 15\n",
      "20 21 22 23 24 25 26      17 18 19 20 21 22 23      16 17 18 19 20 21 22\n",
      "27 28 29 30 31            24 25 26 27 28 29         23 24 25 26 27 28 29\n",
      "                                                    30 31\n",
      "\n",
      "       April                      May                       June\n",
      "Mo Tu We Th Fr Sa Su      Mo Tu We Th Fr Sa Su      Mo Tu We Th Fr Sa Su\n",
      "       1  2  3  4  5                   1  2  3       1  2  3  4  5  6  7\n",
      " 6  7  8  9 10 11 12       4  5  6  7  8  9 10       8  9 10 11 12 13 14\n",
      "13 14 15 16 17 18 19      11 12 13 14 15 16 17      15 16 17 18 19 20 21\n",
      "20 21 22 23 24 25 26      18 19 20 21 22 23 24      22 23 24 25 26 27 28\n",
      "27 28 29 30               25 26 27 28 29 30 31      29 30\n",
      "\n",
      "        July                     August                  September\n",
      "Mo Tu We Th Fr Sa Su      Mo Tu We Th Fr Sa Su      Mo Tu We Th Fr Sa Su\n",
      "       1  2  3  4  5                      1  2          1  2  3  4  5  6\n",
      " 6  7  8  9 10 11 12       3  4  5  6  7  8  9       7  8  9 10 11 12 13\n",
      "13 14 15 16 17 18 19      10 11 12 13 14 15 16      14 15 16 17 18 19 20\n",
      "20 21 22 23 24 25 26      17 18 19 20 21 22 23      21 22 23 24 25 26 27\n",
      "27 28 29 30 31            24 25 26 27 28 29 30      28 29 30\n",
      "                          31\n",
      "\n",
      "      October                   November                  December\n",
      "Mo Tu We Th Fr Sa Su      Mo Tu We Th Fr Sa Su      Mo Tu We Th Fr Sa Su\n",
      "          1  2  3  4                         1          1  2  3  4  5  6\n",
      " 5  6  7  8  9 10 11       2  3  4  5  6  7  8       7  8  9 10 11 12 13\n",
      "12 13 14 15 16 17 18       9 10 11 12 13 14 15      14 15 16 17 18 19 20\n",
      "19 20 21 22 23 24 25      16 17 18 19 20 21 22      21 22 23 24 25 26 27\n",
      "26 27 28 29 30 31         23 24 25 26 27 28 29      28 29 30 31\n",
      "                          30\n",
      "\n",
      "                                  2021\n",
      "\n",
      "      January                   February                   March\n",
      "Mo Tu We Th Fr Sa Su      Mo Tu We Th Fr Sa Su      Mo Tu We Th Fr Sa Su\n",
      "             1  2  3       1  2  3  4  5  6  7       1  2  3  4  5  6  7\n",
      " 4  5  6  7  8  9 10       8  9 10 11 12 13 14       8  9 10 11 12 13 14\n",
      "11 12 13 14 15 16 17      15 16 17 18 19 20 21      15 16 17 18 19 20 21\n",
      "18 19 20 21 22 23 24      22 23 24 25 26 27 28      22 23 24 25 26 27 28\n",
      "25 26 27 28 29 30 31                                29 30 31\n",
      "\n",
      "       April                      May                       June\n",
      "Mo Tu We Th Fr Sa Su      Mo Tu We Th Fr Sa Su      Mo Tu We Th Fr Sa Su\n",
      "          1  2  3  4                      1  2          1  2  3  4  5  6\n",
      " 5  6  7  8  9 10 11       3  4  5  6  7  8  9       7  8  9 10 11 12 13\n",
      "12 13 14 15 16 17 18      10 11 12 13 14 15 16      14 15 16 17 18 19 20\n",
      "19 20 21 22 23 24 25      17 18 19 20 21 22 23      21 22 23 24 25 26 27\n",
      "26 27 28 29 30            24 25 26 27 28 29 30      28 29 30\n",
      "                          31\n",
      "\n",
      "        July                     August                  September\n",
      "Mo Tu We Th Fr Sa Su      Mo Tu We Th Fr Sa Su      Mo Tu We Th Fr Sa Su\n",
      "          1  2  3  4                         1             1  2  3  4  5\n",
      " 5  6  7  8  9 10 11       2  3  4  5  6  7  8       6  7  8  9 10 11 12\n",
      "12 13 14 15 16 17 18       9 10 11 12 13 14 15      13 14 15 16 17 18 19\n",
      "19 20 21 22 23 24 25      16 17 18 19 20 21 22      20 21 22 23 24 25 26\n",
      "26 27 28 29 30 31         23 24 25 26 27 28 29      27 28 29 30\n",
      "                          30 31\n",
      "\n",
      "      October                   November                  December\n",
      "Mo Tu We Th Fr Sa Su      Mo Tu We Th Fr Sa Su      Mo Tu We Th Fr Sa Su\n",
      "             1  2  3       1  2  3  4  5  6  7             1  2  3  4  5\n",
      " 4  5  6  7  8  9 10       8  9 10 11 12 13 14       6  7  8  9 10 11 12\n",
      "11 12 13 14 15 16 17      15 16 17 18 19 20 21      13 14 15 16 17 18 19\n",
      "18 19 20 21 22 23 24      22 23 24 25 26 27 28      20 21 22 23 24 25 26\n",
      "25 26 27 28 29 30 31      29 30                     27 28 29 30 31\n"
     ]
    }
   ],
   "source": [
    "# Para exibir um calendário de qualquer ano,\n",
    "# chame a função calendar com o ano passado como argumento, por exemplo:\n",
    "\n",
    "import calendar\n",
    "print(calendar.calendar(2020))\n",
    "\n",
    "# Nota: Uma boa alternativa à função mencionada é a função prcal, \n",
    "#     que também aceita os mesmos parâmetros da função calendar, \n",
    "#     mas não requer o uso da função print para exibir o calendário.\n",
    "\n",
    "calendar.prcal(2021)\n"
   ]
  },
  {
   "cell_type": "code",
   "execution_count": 39,
   "id": "c3ea373a",
   "metadata": {},
   "outputs": [
    {
     "name": "stdout",
     "output_type": "stream",
     "text": [
      "   September 2020\n",
      "Mo Tu We Th Fr Sa Su\n",
      "    1  2  3  4  5  6\n",
      " 7  8  9 10 11 12 13\n",
      "14 15 16 17 18 19 20\n",
      "21 22 23 24 25 26 27\n",
      "28 29 30\n",
      "\n",
      "   September 2024\n",
      "Mo Tu We Th Fr Sa Su\n",
      "                   1\n",
      " 2  3  4  5  6  7  8\n",
      " 9 10 11 12 13 14 15\n",
      "16 17 18 19 20 21 22\n",
      "23 24 25 26 27 28 29\n",
      "30\n"
     ]
    }
   ],
   "source": [
    "# Para exibir um calendário de qualquer mês do ano, chame a função month,\n",
    "# passando o ano e o mês como argumentos. Por exemplo:\n",
    "\n",
    "import calendar\n",
    "print(calendar.month(2020, 9))\n",
    "\n",
    "# Nota: Você também pode usar a função prmonth, \n",
    "#     que possui os mesmos parâmetros da função month,\n",
    "#     mas não exige o uso da função print para exibir o calendário.\n",
    "       \n",
    "calendar.prmonth(2024, 9)\n"
   ]
  },
  {
   "cell_type": "code",
   "execution_count": 40,
   "id": "16b1cf97",
   "metadata": {},
   "outputs": [
    {
     "name": "stdout",
     "output_type": "stream",
     "text": [
      "1\n"
     ]
    }
   ],
   "source": [
    "# A função setfirstweekday permite alterar o primeiro dia da semana. \n",
    "# Ela recebe um valor de 0 a 6, onde 0 é domingo e 6 é sábado.\n",
    "\n",
    "# O resultado da função weekday é um dia da semana na forma de\n",
    "# um valor inteiro para um ano, mês e dia específicos:\n",
    "\n",
    "import calendar\n",
    "print(calendar.weekday(2020, 9, 29))  # Isso exibe 1, o que significa terça-feira.\n"
   ]
  },
  {
   "cell_type": "code",
   "execution_count": 42,
   "id": "c0633f72",
   "metadata": {},
   "outputs": [
    {
     "name": "stdout",
     "output_type": "stream",
     "text": [
      "Mo Tu We Th Fr Sa Su\n"
     ]
    }
   ],
   "source": [
    "# A função weekheader retorna os nomes dos dias da semana em uma forma abreviada.\n",
    "# O método weekheader exige que você especifique a largura em caracteres para um dia da semana.\n",
    "# Se a largura fornecida for maior que 3, você ainda receberá os nomes abreviados dos dias da semana\n",
    "# consistindo em apenas três caracteres. Por exemplo:\n",
    "\n",
    "import calendar\n",
    "print(calendar.weekheader(2))  # Isso exibe: Mo Tu We Th Fr Sa Su"
   ]
  },
  {
   "cell_type": "code",
   "execution_count": 43,
   "id": "310d4844",
   "metadata": {},
   "outputs": [
    {
     "name": "stdout",
     "output_type": "stream",
     "text": [
      "True\n",
      "False\n"
     ]
    }
   ],
   "source": [
    "# Uma função muito útil disponível no módulo calendar é a função chamada isleap,\n",
    "# que, como o nome sugere, permite verificar se o ano é bissexto ou não:\n",
    "\n",
    "\n",
    "import calendar\n",
    "\n",
    "print(calendar.isleap(2020))  # Isso exibe: True (2020 é um ano bissexto)\n",
    "print(calendar.isleap(2021))  # Isso exibe: False (2021 não é um ano bissexto)\n"
   ]
  },
  {
   "cell_type": "code",
   "execution_count": 44,
   "id": "2ee84dd3",
   "metadata": {},
   "outputs": [
    {
     "name": "stdout",
     "output_type": "stream",
     "text": [
      "2 3 4 5 6 0 1 "
     ]
    }
   ],
   "source": [
    "# Pode-se um objeto de calendário usando a classe Calendar, que, ao criar o objeto,\n",
    "# permite alterar o primeiro dia da semana com o parâmetro opcional firstweekday.\n",
    "# Por exemplo:\n",
    "\n",
    "import calendar\n",
    "\n",
    "c = calendar.Calendar(2)\n",
    "\n",
    "for weekday in c.iterweekdays():\n",
    "    print(weekday, end=\" \")\n",
    "# Resultado: 2 3 4 5 6 0 1\n",
    "\n",
    "# A função iterweekdays retorna um iterador para os números dos dias da semana.\n",
    "# O primeiro valor retornado é sempre igual ao valor da propriedade firstweekday. \n",
    "# No exemplo acima, com firstweekday definido como 2 (quarta-feira),\n",
    "# a semana começa nesse dia e continua com os valores seguintes.\n"
   ]
  },
  {
   "cell_type": "code",
   "execution_count": 45,
   "id": "d7bd7dc1",
   "metadata": {},
   "outputs": [
    {
     "name": "stdout",
     "output_type": "stream",
     "text": [
      "M T W T F S S\n"
     ]
    }
   ],
   "source": [
    "# Question 1: What is the output of the following snippet?\n",
    "\n",
    "import calendar\n",
    "print(calendar.weekheader(1))"
   ]
  },
  {
   "cell_type": "code",
   "execution_count": 46,
   "id": "a2555440",
   "metadata": {},
   "outputs": [
    {
     "name": "stdout",
     "output_type": "stream",
     "text": [
      "0 1 2 3 4 5 6 "
     ]
    }
   ],
   "source": [
    "# Question 2: What is the output of the following snippet?\n",
    "\n",
    "import calendar\n",
    " \n",
    "c = calendar.Calendar()\n",
    " \n",
    "for weekday in c.iterweekdays():\n",
    "    print(weekday, end=\" \")"
   ]
  },
  {
   "cell_type": "code",
   "execution_count": null,
   "id": "34e4396b",
   "metadata": {},
   "outputs": [],
   "source": []
  }
 ],
 "metadata": {
  "kernelspec": {
   "display_name": "Python 3 (ipykernel)",
   "language": "python",
   "name": "python3"
  },
  "language_info": {
   "codemirror_mode": {
    "name": "ipython",
    "version": 3
   },
   "file_extension": ".py",
   "mimetype": "text/x-python",
   "name": "python",
   "nbconvert_exporter": "python",
   "pygments_lexer": "ipython3",
   "version": "3.11.5"
  }
 },
 "nbformat": 4,
 "nbformat_minor": 5
}
