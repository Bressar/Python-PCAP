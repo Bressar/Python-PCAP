{
 "cells": [
  {
   "cell_type": "markdown",
   "id": "996e92fd",
   "metadata": {},
   "source": [
    "## Question 1\n",
    "What is the output of the following snippet?"
   ]
  },
  {
   "cell_type": "code",
   "execution_count": 1,
   "id": "b98201b5",
   "metadata": {},
   "outputs": [
    {
     "name": "stdout",
     "output_type": "stream",
     "text": [
      "[1, 1, 1, 2]\n"
     ]
    }
   ],
   "source": [
    "my_list = [1, 2]\n",
    "\n",
    "for v in range(2):#  v assumirá os valores 0 e 1), \n",
    "    # A posição -1 refere-se ao penúltimo elemento da lista. \n",
    "    my_list.insert(-1, my_list[v])\n",
    "    # my_list.insert(-1, my_list[0]) -> 1\n",
    "    # [1, 1, 2]\n",
    "    # my_list.insert(-1, my_list[1]) -> 1\n",
    "    # [1, 1, 1, 2]\n",
    "\n",
    "print(my_list)\n"
   ]
  },
  {
   "cell_type": "markdown",
   "id": "043b12b8",
   "metadata": {},
   "source": [
    "## Question 2\n",
    "The meaning of a positional argument is determined by:\n",
    "\n",
    "\n",
    "its value\n",
    "\n",
    "its connection with existing variables\n",
    "\n",
    "the argument’s name specified along with its value\n",
    "\n",
    "resposta correta:\n",
    "- **its position within the argument list**"
   ]
  },
  {
   "cell_type": "markdown",
   "id": "1d428c5d",
   "metadata": {},
   "source": [
    "## Question 3\n",
    "Which of the following sentences are true about the code? (Select two answers)\n",
    "\n",
    "nums = [1, 2, 3]\n",
    "vals = nums\n",
    "\n",
    "- **nums and vals are different names of the same list**\n",
    "\n",
    "- **nums has the same length as vals**"
   ]
  },
  {
   "cell_type": "markdown",
   "id": "b3d2669d",
   "metadata": {},
   "source": [
    "## Question 4\n",
    "An operator able to check whether two values are not equal is coded as:\n",
    "\n",
    "- **!=**\n"
   ]
  },
  {
   "cell_type": "markdown",
   "id": "e6aa56fe",
   "metadata": {},
   "source": [
    "## Question 5\n",
    "The following snippet:\n",
    "\n",
    "\n",
    "def function_1(a):\n",
    "    return None\n",
    " \n",
    " \n",
    "def function_2(a):\n",
    "    return function_1(a) * function_1(a)\n",
    " \n",
    " \n",
    "print(function_2(2))\n",
    "\n",
    "- **will cause a runtime error**"
   ]
  },
  {
   "cell_type": "markdown",
   "id": "0e032bf7",
   "metadata": {},
   "source": [
    "## Question 6\n",
    "The result of the following division:\n",
    "\n",
    "1 // 2 # vai dar 0 e não 0.0 pq é uma divisão inteira\n",
    "\n",
    "**0**"
   ]
  },
  {
   "cell_type": "code",
   "execution_count": 2,
   "id": "5de5bca7",
   "metadata": {},
   "outputs": [
    {
     "name": "stdout",
     "output_type": "stream",
     "text": [
      "0\n"
     ]
    }
   ],
   "source": [
    "print(1//2)"
   ]
  },
  {
   "cell_type": "markdown",
   "id": "32afefe7",
   "metadata": {},
   "source": [
    "## Question 7\n",
    "The following snippet:\n",
    "\n",
    "\n",
    "def func(a, b):\n",
    "    return b ** a\n",
    " \n",
    " \n",
    "print(func(b=2, 2)) # o 'a' precisa ser atribuido primeiro\n",
    "\n",
    "**is erroneous**\n",
    " "
   ]
  },
  {
   "cell_type": "code",
   "execution_count": 3,
   "id": "0d6cea8e",
   "metadata": {
    "scrolled": true
   },
   "outputs": [
    {
     "name": "stdout",
     "output_type": "stream",
     "text": [
      "4\n"
     ]
    }
   ],
   "source": [
    "def func(a, b):\n",
    "    return b ** a\n",
    " \n",
    "print(func(2, b=2))"
   ]
  },
  {
   "cell_type": "markdown",
   "id": "cae73085",
   "metadata": {},
   "source": [
    "## Question 8\n",
    "What value will be assigned to the x variable?\n",
    "\n",
    "z = 0\n",
    "y = 10\n",
    "x = y < z and z > y or y < z and z < y\n",
    "\n",
    "#### x = false or false\n",
    "\n",
    "**False**\n",
    "\n",
    "### Tabela Verdade do Operador OR (or):\n",
    "False or False = False (ou 0 or 0 = 0)\n",
    "False or True = True (ou 0 or 1 = 1)\n",
    "True or False = True (ou 1 or 0 = 1)\n",
    "True or True = True (ou 1 or 1 = 1)"
   ]
  },
  {
   "cell_type": "markdown",
   "id": "3f6688df",
   "metadata": {},
   "source": [
    "## Question 9\n",
    "Which of the following variable names are illegal\n",
    "and will cause the SyntaxError exception? (Select two answers)\n",
    "\n",
    "**in**\n",
    "\n",
    "**for**\n",
    "\n",
    "In -> não é reservada\n",
    "\n",
    "print -> por incrível que pareça print tb não é... "
   ]
  },
  {
   "cell_type": "markdown",
   "id": "8a2bd664",
   "metadata": {},
   "source": [
    "## Question 10\n",
    "What is the output of the following snippet?"
   ]
  },
  {
   "cell_type": "code",
   "execution_count": 6,
   "id": "031717c0",
   "metadata": {},
   "outputs": [
    {
     "name": "stdout",
     "output_type": "stream",
     "text": [
      "[0, 1, 4, 9]\n"
     ]
    }
   ],
   "source": [
    "my_list =  [x * x for x in range(5)]\n",
    "\n",
    "# range(5) gera uma sequência de números de 0 a 4 (total de 5 números).\n",
    "# A sequência é: [0, 1, 2, 3, 4].\n",
    "# Para cada valor de x, calcula-se x * x (ou x ao quadrado).\n",
    "# Quando x = 0: 0 * 0 = 0\n",
    "# Quando x = 1: 1 * 1 = 1\n",
    "# Quando x = 2: 2 * 2 = 4\n",
    "# Quando x = 3: 3 * 3 = 9\n",
    "# Quando x = 4: 4 * 4 = 16\n",
    "\n",
    "# -> [0, 1, 4, 9, 16]\n",
    "# print(my_list)\n",
    "\n",
    "def fun(lst):\n",
    "    del lst[lst[2]]\n",
    "    return lst\n",
    "\n",
    "# lst[2] é 4 (o terceiro elemento da lista).\n",
    "# del lst[4] significa deletar o elemento no índice 4 da lista, ou seja: 16.\n",
    "\n",
    "print(fun(my_list))\n"
   ]
  },
  {
   "cell_type": "markdown",
   "id": "fd89737c",
   "metadata": {},
   "source": [
    "## Question 11\n",
    "What is the output of the following piece of code?\n"
   ]
  },
  {
   "cell_type": "code",
   "execution_count": 59,
   "id": "a4c79761",
   "metadata": {},
   "outputs": [
    {
     "name": "stdout",
     "output_type": "stream",
     "text": [
      "1 1 2\n"
     ]
    }
   ],
   "source": [
    "x = 1\n",
    "y = 2\n",
    "x, y, z = x, x, y\n",
    "z, y, z = x, y, z\n",
    "\n",
    "print(x, y, z)\n",
    "\n"
   ]
  },
  {
   "cell_type": "markdown",
   "id": "a010da17",
   "metadata": {},
   "source": [
    "## Question 12\n",
    "What will be the output of the following snippet?\n",
    "\n",
    "Tabela Verdade do Operador XOR:\n",
    "0 ^ 0 = 0\n",
    "0 ^ 1 = 1\n",
    "1 ^ 0 = 1\n",
    "1 ^ 1 = 0\n",
    "\n",
    "XOR retorna 1 se e somente se os bits de entrada forem diferentes. \n",
    "Caso contrário, retorna 0"
   ]
  },
  {
   "cell_type": "code",
   "execution_count": 8,
   "id": "cd994104",
   "metadata": {},
   "outputs": [
    {
     "name": "stdout",
     "output_type": "stream",
     "text": [
      "0 1\n"
     ]
    }
   ],
   "source": [
    "a = 1\n",
    "b = 0\n",
    "a = a ^ b # a = 1 ^ 0 = 1, a continua sendo 1.\n",
    "b = a ^ b # b = 1 ^ 0 = 1, b agora é 1.\n",
    "a = a ^ b # a = 1 ^ 1 = 0, a agora é 0.\n",
    "\n",
    "print(a, b)\n",
    "\n",
    "# operador bitwise XOR (^) para trocar os valores das variáveis a e b \n",
    "# sem usar uma variável temporária.\n"
   ]
  },
  {
   "cell_type": "markdown",
   "id": "f7d6da09",
   "metadata": {},
   "source": [
    "## Question 13\n",
    "What is the output of the following snippet?"
   ]
  },
  {
   "cell_type": "code",
   "execution_count": 9,
   "id": "f134605e",
   "metadata": {},
   "outputs": [
    {
     "name": "stdout",
     "output_type": "stream",
     "text": [
      "2\n"
     ]
    }
   ],
   "source": [
    "def fun(x):\n",
    "    if x % 2 == 0:\n",
    "        return 1\n",
    "    else:\n",
    "        return 2\n",
    "\n",
    "\n",
    "print(fun(fun(2)))\n"
   ]
  },
  {
   "cell_type": "markdown",
   "id": "0c4512c4",
   "metadata": {},
   "source": [
    "## Question 14\n",
    "Take a look at the snippet and choose the true statement:\n",
    "\n",
    "nums = [1, 2, 3]\n",
    "vals = nums\n",
    "del vals[:]\n",
    " \n",
    "**nums and vals have the same length**\n"
   ]
  },
  {
   "cell_type": "markdown",
   "id": "652ca7bf",
   "metadata": {},
   "source": [
    "## Question 15\n",
    "What is the output of the following piece of code if the user \n",
    "enters two lines containing 3 and 2 respectively?"
   ]
  },
  {
   "cell_type": "code",
   "execution_count": 60,
   "id": "8f4e668c",
   "metadata": {},
   "outputs": [
    {
     "name": "stdout",
     "output_type": "stream",
     "text": [
      "3\n",
      "2\n",
      "0\n"
     ]
    }
   ],
   "source": [
    "x = int(input())\n",
    "y = int(input())\n",
    "x = x % y\n",
    "x = x % y\n",
    "y = y % x\n",
    "print(y)\n"
   ]
  },
  {
   "cell_type": "markdown",
   "id": "916ca8b6",
   "metadata": {},
   "source": [
    "## Question 16\n",
    "What is the output of the following piece of code if the user\n",
    "enters two lines containing 3 and 6 respectively?"
   ]
  },
  {
   "cell_type": "code",
   "execution_count": 11,
   "id": "2a78c0da",
   "metadata": {},
   "outputs": [
    {
     "name": "stdout",
     "output_type": "stream",
     "text": [
      "3\n",
      "6\n",
      "63\n"
     ]
    }
   ],
   "source": [
    "y = input()\n",
    "x = input()\n",
    "print(x + y)\n"
   ]
  },
  {
   "cell_type": "markdown",
   "id": "ed753ae3",
   "metadata": {},
   "source": [
    "## Question 17\n",
    "What is the output of the following piece of code?"
   ]
  },
  {
   "cell_type": "code",
   "execution_count": 12,
   "id": "dbcb9763",
   "metadata": {},
   "outputs": [
    {
     "name": "stdout",
     "output_type": "stream",
     "text": [
      "asepbsepc\n"
     ]
    }
   ],
   "source": [
    "print(\"a\", \"b\", \"c\", sep=\"sep\")\n"
   ]
  },
  {
   "cell_type": "markdown",
   "id": "0e236765",
   "metadata": {},
   "source": [
    "## Question 18\n",
    "What is the output of the following piece of code?"
   ]
  },
  {
   "cell_type": "code",
   "execution_count": 13,
   "id": "e7cd91d6",
   "metadata": {},
   "outputs": [
    {
     "name": "stdout",
     "output_type": "stream",
     "text": [
      "0.2\n"
     ]
    }
   ],
   "source": [
    "x = 1 // 5 + 1 / 5\n",
    "print(x)\n"
   ]
  },
  {
   "cell_type": "markdown",
   "id": "a6a08c60",
   "metadata": {},
   "source": [
    "## Question 19\n",
    "Assuming that my_tuple is a correctly created tuple, the fact that\n",
    "tuples are immutable means that the following instruction:\n",
    "\n",
    "\n",
    "my_tuple[1] = my_tuple[1] + my_tuple[0]\n",
    "\n",
    "\n",
    "**is illegal**\n"
   ]
  },
  {
   "cell_type": "markdown",
   "id": "73896414",
   "metadata": {},
   "source": [
    "## Question 20\n",
    "What is the output of the following piece of code if the user\n",
    "enters two lines containing 2 and 4 respectively?"
   ]
  },
  {
   "cell_type": "code",
   "execution_count": 15,
   "id": "13d0ba69",
   "metadata": {},
   "outputs": [
    {
     "name": "stdout",
     "output_type": "stream",
     "text": [
      "2\n",
      "4\n",
      "2.0\n"
     ]
    }
   ],
   "source": [
    "x = float(input())\n",
    "y = float(input())\n",
    "print(y ** (1 / x))\n",
    "\n",
    "# 4 ** (1/2)\n",
    "# 4 ** 0.5\n",
    "# raiz quadrada de 4 é: 2.0\n"
   ]
  },
  {
   "cell_type": "markdown",
   "id": "ac9c8263",
   "metadata": {},
   "source": [
    "## Question 21\n",
    "What is the output of the following snippet?"
   ]
  },
  {
   "cell_type": "code",
   "execution_count": 16,
   "id": "2d8b4cef",
   "metadata": {},
   "outputs": [
    {
     "name": "stdout",
     "output_type": "stream",
     "text": [
      "one\n"
     ]
    }
   ],
   "source": [
    "dct = {'one': 'two', 'three': 'one', 'two': 'three'}\n",
    "v = dct['three'] # v recebe o valor 'one'.\n",
    "\n",
    "for k in range(len(dct)):\n",
    "    v = dct[v]\n",
    "    \n",
    "# mesmo que as chaves estejam dispostas no dicionário na ordem:\n",
    "# 'one', 'three', 'two', o laço está apenas seguindo a corrente de valores:\n",
    "\n",
    "# 'three' → 'one'\n",
    "# 'one' → 'two'\n",
    "# 'two' → 'three'\n",
    "\n",
    "# A iteração está baseada no valor atual de v sendo usado como uma chave no dicionário,\n",
    "# e não na ordem das chaves dentro do dicionário.\n",
    "    \n",
    "# Primeira iteração:\n",
    "# v atualmente é 'one'.\n",
    "# v = dct['one'] então v se torna 'two'.\n",
    "\n",
    "# Segunda iteração:\n",
    "# v atualmente é 'two'.\n",
    "# v = dct['two'] então v se torna 'three'.\n",
    "\n",
    "# Terceira iteração:\n",
    "# v atualmente é 'three'.\n",
    "# v = dct['three'] então v se torna 'one'.\n",
    "\n",
    "print(v)\n"
   ]
  },
  {
   "cell_type": "code",
   "execution_count": 17,
   "id": "7e39ff76",
   "metadata": {},
   "outputs": [
    {
     "name": "stdout",
     "output_type": "stream",
     "text": [
      "one\n"
     ]
    }
   ],
   "source": [
    "dct = { 'two': 'three', 'one': 'two', 'three': 'one'}\n",
    "v = dct['three']\n",
    "\n",
    "for k in range(len(dct)):\n",
    "    v = dct[v]\n",
    "\n",
    "print(v)\n"
   ]
  },
  {
   "cell_type": "code",
   "execution_count": 19,
   "id": "e234badf",
   "metadata": {},
   "outputs": [
    {
     "name": "stdout",
     "output_type": "stream",
     "text": [
      "one\n"
     ]
    }
   ],
   "source": [
    "dct = {'three': 'one',  'two': 'three', 'one': 'two'}\n",
    "v = dct['three']\n",
    "\n",
    "for k in range(len(dct)):\n",
    "    v = dct[v]\n",
    "\n",
    "print(v)"
   ]
  },
  {
   "cell_type": "markdown",
   "id": "b65b1561",
   "metadata": {},
   "source": [
    "## Question 22\n",
    "How many elements does the lst list contain?\n",
    "\n",
    "lst = [i for i in range(-1, -2)]\n",
    "\n",
    "**0**"
   ]
  },
  {
   "cell_type": "markdown",
   "id": "f6d0e59c",
   "metadata": {},
   "source": [
    "## Question 23\n",
    "Which of the following lines correctly invoke the function defined below? (Select two answers)\n",
    "\n",
    "def fun(a, b, c=0):\n",
    "    # Body of the function.\n",
    "    \n",
    "    fun(b=0, a=0)\n",
    "    ou\n",
    "    fun(0, 1, 2)\n",
    "    \n",
    "    *precisa ter todos os argumentos declarados*"
   ]
  },
  {
   "cell_type": "markdown",
   "id": "8b9c4974",
   "metadata": {},
   "source": [
    "## Question 24\n",
    "What is the output of the following snippet?"
   ]
  },
  {
   "cell_type": "code",
   "execution_count": 23,
   "id": "1569bf71",
   "metadata": {},
   "outputs": [
    {
     "name": "stdout",
     "output_type": "stream",
     "text": [
      "0\n"
     ]
    }
   ],
   "source": [
    "def fun(x, y):\n",
    "    if x == y:\n",
    "        return x\n",
    "    else:\n",
    "        return fun(x, y-1) # a cad iteração diminui 1\n",
    "\n",
    "print(fun(0, 3)) # independente do valor do segundo argumento, sempre dará 0\n",
    "\n",
    "# vai rodar a função 3 vezes até chegar no \"0\""
   ]
  },
  {
   "cell_type": "markdown",
   "id": "a65746d0",
   "metadata": {},
   "source": [
    "## Question 25\n",
    "How many stars (*) will the following snippet send to the console?\n",
    "\n",
    "i = 0\n",
    "while i < i + 2 : # a cada iteração o valor de 'stop' é + 2, \n",
    "    i += 1\n",
    "    print(\"*\")\n",
    "else:\n",
    "    print(\"*\")\n",
    " \n",
    "**the snippet will enter an infinite loop, printing one star per line**"
   ]
  },
  {
   "cell_type": "markdown",
   "id": "c28d8dbf",
   "metadata": {},
   "source": [
    "## Question 26\n",
    "What is the output of the following snippet?"
   ]
  },
  {
   "cell_type": "code",
   "execution_count": 25,
   "id": "0267301b",
   "metadata": {},
   "outputs": [
    {
     "name": "stdout",
     "output_type": "stream",
     "text": [
      "(4,)\n",
      "4\n"
     ]
    }
   ],
   "source": [
    "tup = (1, 2, 4, 8)\n",
    "tup = tup[-2:-1]\n",
    "# print(tup) -> (4,)\n",
    "tup = tup[-1]# -> 4\n",
    "print(tup)\n"
   ]
  },
  {
   "cell_type": "markdown",
   "id": "909a698c",
   "metadata": {},
   "source": [
    "## Question 27\n",
    "What is the output of the following snippet?\n",
    "\n",
    "dd = {\"1\": \"0\", \"0\": \"1\"}\n",
    "for x in dd.vals():\n",
    "    print(x, end=\"\")\n",
    "    \n",
    "**the code is erroneous (the dict object has no vals() method)**"
   ]
  },
  {
   "cell_type": "markdown",
   "id": "0e8dbd36",
   "metadata": {},
   "source": [
    "## Question 28\n",
    "What is the output of the following snippet?"
   ]
  },
  {
   "cell_type": "code",
   "execution_count": 61,
   "id": "b6d4ce92",
   "metadata": {},
   "outputs": [
    {
     "name": "stdout",
     "output_type": "stream",
     "text": [
      "21"
     ]
    }
   ],
   "source": [
    "dct = {}\n",
    "dct['1'] = (1, 2)\n",
    "dct['2'] = (2, 1)\n",
    "\n",
    "for x in dct.keys():\n",
    "    print(dct[x][1], end=\"\")\n"
   ]
  },
  {
   "cell_type": "markdown",
   "id": "849f8b66",
   "metadata": {},
   "source": [
    "## Question 29\n",
    "What is the output of the following snippet?"
   ]
  },
  {
   "cell_type": "code",
   "execution_count": 27,
   "id": "ba5527b3",
   "metadata": {},
   "outputs": [
    {
     "name": "stdout",
     "output_type": "stream",
     "text": [
      "4\n"
     ]
    }
   ],
   "source": [
    "def fun(inp=2, out=3):\n",
    "    return inp * out\n",
    "\n",
    "\n",
    "print(fun(out=2))\n"
   ]
  },
  {
   "cell_type": "markdown",
   "id": "be527d26",
   "metadata": {},
   "source": [
    "## Question 30\n",
    "How many hashes (#) will the following snippet send to the console?"
   ]
  },
  {
   "cell_type": "code",
   "execution_count": 28,
   "id": "56d55306",
   "metadata": {},
   "outputs": [
    {
     "name": "stdout",
     "output_type": "stream",
     "text": [
      "#\n",
      "#\n",
      "#\n"
     ]
    }
   ],
   "source": [
    "lst = [[x for x in range(3)] for y in range(3)]\n",
    "\n",
    "# [x for x in range(3)] -> [0, 1, 2]\n",
    "\n",
    "# for y in range(3) -> vai criar 3 vezes a primeira lista, ou seja:\n",
    "\n",
    "# lst = [\n",
    "#     [0, 1, 2],\n",
    "#     [0, 1, 2],\n",
    "#     [0, 1, 2]\n",
    "#    ]\n",
    "\n",
    "for r in range(3): # r assume os valores 0, 1 e 2, correspondendo aos índices das linhas.\n",
    "    for c in range(3): #  c assume os valores 0, 1 e 2, correspondendo aos índices das colunas.\n",
    "        if lst[r][c] % 2 != 0:\n",
    "            print(\"#\")\n",
    "            \n",
    "# iteração:\n",
    "\n",
    "# Para r = 0:\n",
    "# c = 0: lst[0][0] é 0, que não é ímpar.\n",
    "# c = 1: lst[0][1] é 1, que é ímpar, então imprime #.\n",
    "# c = 2: lst[0][2] é 2, que não é ímpar.\n",
    "\n",
    "# Para r = 1:\n",
    "# c = 0: lst[1][0] é 0, que não é ímpar.\n",
    "# c = 1: lst[1][1] é 1, que é ímpar, então imprime #.\n",
    "# c = 2: lst[1][2] é 2, que não é ímpar.\n",
    "\n",
    "# Para r = 2:\n",
    "# c = 0: lst[2][0] é 0, que não é ímpar.\n",
    "# c = 1: lst[2][1] é 1, que é ímpar, então imprime #.\n",
    "# c = 2: lst[2][2] é 2, que não é ímpar.    \n",
    "\n",
    "#  o código imprime # três vezes, uma para cada ocorrência do número 1 na matriz"
   ]
  },
  {
   "cell_type": "code",
   "execution_count": 62,
   "id": "6934adbb",
   "metadata": {},
   "outputs": [
    {
     "name": "stdout",
     "output_type": "stream",
     "text": [
      "#\n",
      "#\n",
      "#\n"
     ]
    }
   ],
   "source": [
    "lst = [[x for x in range(3)] for y in range(3)]\n",
    "\n",
    "for r in range(3):\n",
    "    for c in range(3):\n",
    "        if lst[r][c] % 2 != 0:\n",
    "            print(\"#\")\n"
   ]
  },
  {
   "cell_type": "markdown",
   "id": "a16f2a76",
   "metadata": {},
   "source": [
    "## Question 31\n",
    "What is the output of the following code if the user enters a 0?"
   ]
  },
  {
   "cell_type": "code",
   "execution_count": 29,
   "id": "3e86b904",
   "metadata": {},
   "outputs": [
    {
     "name": "stdout",
     "output_type": "stream",
     "text": [
      "Enter a value: 0\n",
      "0.0\n"
     ]
    }
   ],
   "source": [
    "try:\n",
    "    value = input(\"Enter a value: \") # 0 é um integer!\n",
    "    print(int(value)/len(value)) # -> 0 / 0\n",
    "except ValueError:\n",
    "    print(\"Bad input...\")\n",
    "except ZeroDivisionError:\n",
    "    print(\"Very bad input...\")\n",
    "except TypeError:\n",
    "    print(\"Very very bad input...\")\n",
    "except:\n",
    "    print(\"Booo!\")\n"
   ]
  },
  {
   "cell_type": "markdown",
   "id": "a5a28f20",
   "metadata": {},
   "source": [
    "## Question 32\n",
    "What is the expected behavior of the following program?\n",
    "\n",
    "**The program will cause a SyntaxError exception.**"
   ]
  },
  {
   "cell_type": "code",
   "execution_count": 30,
   "id": "b1a17fbb",
   "metadata": {},
   "outputs": [
    {
     "ename": "SyntaxError",
     "evalue": "'break' outside loop (3890488564.py, line 3)",
     "output_type": "error",
     "traceback": [
      "\u001b[1;36m  Cell \u001b[1;32mIn[30], line 3\u001b[1;36m\u001b[0m\n\u001b[1;33m    break\u001b[0m\n\u001b[1;37m    ^\u001b[0m\n\u001b[1;31mSyntaxError\u001b[0m\u001b[1;31m:\u001b[0m 'break' outside loop\n"
     ]
    }
   ],
   "source": [
    "try:\n",
    "    print(5/0)\n",
    "    break # não tem nenhum loop para usar o break!! SyntaxError\n",
    "except:\n",
    "    print(\"Sorry, something went wrong...\")\n",
    "except (ValueError, ZeroDivisionError):\n",
    "    print(\"Too bad...\")\n",
    "\n",
    "# The program will cause a SyntaxError exception."
   ]
  },
  {
   "cell_type": "markdown",
   "id": "7b463133",
   "metadata": {},
   "source": [
    "## Question 33\n",
    "What is the expected behavior of the following program?\n",
    "\n",
    "**The program will cause a ValueError exception.**"
   ]
  },
  {
   "cell_type": "code",
   "execution_count": 31,
   "id": "32fd92ec",
   "metadata": {},
   "outputs": [
    {
     "ename": "ValueError",
     "evalue": "tuple.index(x): x not in tuple",
     "output_type": "error",
     "traceback": [
      "\u001b[1;31m---------------------------------------------------------------------------\u001b[0m",
      "\u001b[1;31mValueError\u001b[0m                                Traceback (most recent call last)",
      "Cell \u001b[1;32mIn[31], line 2\u001b[0m\n\u001b[0;32m      1\u001b[0m foo \u001b[38;5;241m=\u001b[39m (\u001b[38;5;241m1\u001b[39m, \u001b[38;5;241m2\u001b[39m, \u001b[38;5;241m3\u001b[39m)\n\u001b[1;32m----> 2\u001b[0m foo\u001b[38;5;241m.\u001b[39mindex(\u001b[38;5;241m0\u001b[39m)\n",
      "\u001b[1;31mValueError\u001b[0m: tuple.index(x): x not in tuple"
     ]
    }
   ],
   "source": [
    "foo = (1, 2, 3)\n",
    "foo.index(0) # 0 não está na tupla\n",
    "\n",
    "# The program will cause a ValueError exception."
   ]
  },
  {
   "cell_type": "code",
   "execution_count": 34,
   "id": "c8de40bb",
   "metadata": {},
   "outputs": [
    {
     "data": {
      "text/plain": [
       "2"
      ]
     },
     "execution_count": 34,
     "metadata": {},
     "output_type": "execute_result"
    }
   ],
   "source": [
    "foo = (1, 2, 3)\n",
    "foo.index(3)# mostra qual é o index do valor valor fornecido"
   ]
  },
  {
   "cell_type": "markdown",
   "id": "1a58cd60",
   "metadata": {},
   "source": [
    "## Question 34\n",
    "Which of the following snippets shows the correct way of handling multiple exceptions\n",
    "in a single except clause?\n",
    "\n",
    "**A**\n"
   ]
  },
  {
   "cell_type": "code",
   "execution_count": null,
   "id": "0b43215a",
   "metadata": {},
   "outputs": [],
   "source": [
    "# A:\n",
    "except (TypeError, ValueError, ZeroDivisionError):\n",
    "    # Some code.\n",
    "    except (TypeError, ValueError, ZeroDivisionError):\n",
    "    print('Erro!')\n",
    "\n",
    "# B:\n",
    "except TypeError, ValueError, ZeroDivisionError:\n",
    "    # Some code.\n",
    "\n",
    "# C:\n",
    "except: (TypeError, ValueError, ZeroDivisionError)\n",
    "    # Some code.\n",
    "\n",
    "# D:\n",
    "except: TypeError, ValueError, ZeroDivisionError\n",
    "    # Some code.\n",
    "\n",
    "# E:\n",
    "except (TypeError, ValueError, ZeroDivisionError)\n",
    "    # Some code.\n",
    "\n",
    "# F:\n",
    "except TypeError, ValueError, ZeroDivisionError\n",
    "    # Some code.\n",
    "\n"
   ]
  },
  {
   "cell_type": "code",
   "execution_count": 47,
   "id": "625c9cf1",
   "metadata": {},
   "outputs": [
    {
     "name": "stdout",
     "output_type": "stream",
     "text": [
      "numero: 5\n"
     ]
    }
   ],
   "source": [
    "# A:\n",
    "try:\n",
    "    num = int(input('numero: '))\n",
    "except (TypeError, ValueError, ZeroDivisionError):\n",
    "    print('Erro!')"
   ]
  },
  {
   "cell_type": "code",
   "execution_count": 48,
   "id": "e5bbe026",
   "metadata": {},
   "outputs": [
    {
     "ename": "SyntaxError",
     "evalue": "multiple exception types must be parenthesized (2411722567.py, line 4)",
     "output_type": "error",
     "traceback": [
      "\u001b[1;36m  Cell \u001b[1;32mIn[48], line 4\u001b[1;36m\u001b[0m\n\u001b[1;33m    except TypeError, ValueError, ZeroDivisionError:\u001b[0m\n\u001b[1;37m           ^\u001b[0m\n\u001b[1;31mSyntaxError\u001b[0m\u001b[1;31m:\u001b[0m multiple exception types must be parenthesized\n"
     ]
    }
   ],
   "source": [
    "# B:\n",
    "try:\n",
    "    num = int(input('numero: '))\n",
    "except TypeError, ValueError, ZeroDivisionError:\n",
    "    print('Erro!')"
   ]
  },
  {
   "cell_type": "code",
   "execution_count": 53,
   "id": "ebea7304",
   "metadata": {},
   "outputs": [
    {
     "ename": "IndentationError",
     "evalue": "unexpected indent (930918405.py, line 5)",
     "output_type": "error",
     "traceback": [
      "\u001b[1;36m  Cell \u001b[1;32mIn[53], line 5\u001b[1;36m\u001b[0m\n\u001b[1;33m    print('Erro!')\u001b[0m\n\u001b[1;37m    ^\u001b[0m\n\u001b[1;31mIndentationError\u001b[0m\u001b[1;31m:\u001b[0m unexpected indent\n"
     ]
    }
   ],
   "source": [
    "# C:\n",
    "try:\n",
    "    num = int(input('numero: '))\n",
    "except: (TypeError, ValueError, ZeroDivisionError) # POSIÇÃO ERRADA DOS \":\"\n",
    "    print('Erro!')\n"
   ]
  },
  {
   "cell_type": "code",
   "execution_count": 55,
   "id": "02669c80",
   "metadata": {},
   "outputs": [
    {
     "ename": "SyntaxError",
     "evalue": "multiple exception types must be parenthesized (219198400.py, line 4)",
     "output_type": "error",
     "traceback": [
      "\u001b[1;36m  Cell \u001b[1;32mIn[55], line 4\u001b[1;36m\u001b[0m\n\u001b[1;33m    except TypeError, ValueError, ZeroDivisionError:\u001b[0m\n\u001b[1;37m           ^\u001b[0m\n\u001b[1;31mSyntaxError\u001b[0m\u001b[1;31m:\u001b[0m multiple exception types must be parenthesized\n"
     ]
    }
   ],
   "source": [
    "# D:\n",
    "try:\n",
    "    num = int(input('numero: '))\n",
    "except: TypeError, ValueError, ZeroDivisionError # FALTARAM OS PARENTENSES\n",
    "    print('Erro!')"
   ]
  },
  {
   "cell_type": "code",
   "execution_count": 56,
   "id": "de89a527",
   "metadata": {},
   "outputs": [
    {
     "ename": "SyntaxError",
     "evalue": "expected ':' (1564070248.py, line 4)",
     "output_type": "error",
     "traceback": [
      "\u001b[1;36m  Cell \u001b[1;32mIn[56], line 4\u001b[1;36m\u001b[0m\n\u001b[1;33m    except (TypeError, ValueError, ZeroDivisionError)\u001b[0m\n\u001b[1;37m                                                     ^\u001b[0m\n\u001b[1;31mSyntaxError\u001b[0m\u001b[1;31m:\u001b[0m expected ':'\n"
     ]
    }
   ],
   "source": [
    "# E:\n",
    "try:\n",
    "    num = int(input('numero: '))\n",
    "except (TypeError, ValueError, ZeroDivisionError) # faltou os \":\"\n",
    "    print('Erro!')"
   ]
  },
  {
   "cell_type": "code",
   "execution_count": 57,
   "id": "bbec37b3",
   "metadata": {
    "scrolled": true
   },
   "outputs": [
    {
     "ename": "SyntaxError",
     "evalue": "invalid syntax (3492115743.py, line 4)",
     "output_type": "error",
     "traceback": [
      "\u001b[1;36m  Cell \u001b[1;32mIn[57], line 4\u001b[1;36m\u001b[0m\n\u001b[1;33m    except TypeError, ValueError, ZeroDivisionError\u001b[0m\n\u001b[1;37m                    ^\u001b[0m\n\u001b[1;31mSyntaxError\u001b[0m\u001b[1;31m:\u001b[0m invalid syntax\n"
     ]
    }
   ],
   "source": [
    "# F:\n",
    "try:\n",
    "    num = int(input('numero: '))\n",
    "except TypeError, ValueError, ZeroDivisionError # sem parentes e sem \":\"\n",
    "    print('Erro!')"
   ]
  },
  {
   "cell_type": "markdown",
   "id": "43a4a943",
   "metadata": {},
   "source": [
    "# Question 35\n",
    "What will happen when you attempt to run the following code?\n",
    "\n",
    "print(Hello, World!)\n",
    "\n",
    "**The code will raise the SyntaxError exception.**"
   ]
  }
 ],
 "metadata": {
  "kernelspec": {
   "display_name": "Python 3 (ipykernel)",
   "language": "python",
   "name": "python3"
  },
  "language_info": {
   "codemirror_mode": {
    "name": "ipython",
    "version": 3
   },
   "file_extension": ".py",
   "mimetype": "text/x-python",
   "name": "python",
   "nbconvert_exporter": "python",
   "pygments_lexer": "ipython3",
   "version": "3.11.5"
  }
 },
 "nbformat": 4,
 "nbformat_minor": 5
}
