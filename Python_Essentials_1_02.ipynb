{
 "cells": [
  {
   "cell_type": "markdown",
   "id": "46cb079a",
   "metadata": {},
   "source": [
    "# Question 1\n",
    "The \\n digraph forces the print() function to:\n",
    "    \n",
    "    break the output line\n",
    "\n",
    "The digraph, called the newline character, causes the current line to end\n",
    "at the point indicated by the digraph, and creates a new line that starts right after it."
   ]
  },
  {
   "cell_type": "code",
   "execution_count": null,
   "id": "108b736c",
   "metadata": {},
   "outputs": [],
   "source": []
  },
  {
   "cell_type": "markdown",
   "id": "3c3c78ed",
   "metadata": {},
   "source": [
    "# Question 2\n",
    "The meaning of the keyword parameter is determined by:\n",
    "    \n",
    "    the argument's name specified along with its value\n",
    "\n",
    "Keyword parameters (also called named parameters) are parameters that have values determined\n",
    "by a keyword name followed by an equals sign (=) and a default value assigned to that keyword name.\n",
    "An example of a keyword argument: def my_function(x=1):.\n",
    "        "
   ]
  },
  {
   "cell_type": "code",
   "execution_count": null,
   "id": "f8c235bf",
   "metadata": {},
   "outputs": [],
   "source": []
  },
  {
   "cell_type": "markdown",
   "id": "3d47013a",
   "metadata": {},
   "source": [
    "# Question 3\n",
    "The value twenty point twelve times ten raised to the power of eight should be written as:\n",
    "    \n",
    "    20.12E8\n",
    "\n",
    "Keeping in mind that Python chooses the most efficient format for presenting numbers,\n",
    "and the letter E is used to mean ten to the power of in scientific notation,\n",
    "the correct way of writing the number 20.12 × 108 is 20.12E8."
   ]
  },
  {
   "cell_type": "code",
   "execution_count": null,
   "id": "dd12e4fb",
   "metadata": {},
   "outputs": [],
   "source": []
  },
  {
   "cell_type": "markdown",
   "id": "cef77133",
   "metadata": {},
   "source": [
    "# Question 4\n",
    "The 0o prefix means that the number after it is denoted as:\n",
    "    \n",
    "    octal\n",
    "    \n",
    "If an integer number is preceded by 0o or 0O, it will be treated as an octal value.\n",
    "For example: 0o246 is an octal number with a decimal value equal to 166.\n",
    "\n",
    "If an integer number is preceded by 0x or 0X, it will be treated as a hexadecimal value.\n",
    "For example: 0x246 is a hexadecimal number with a decimal value equal to 582.\n",
    "\n",
    "Finally, if an integer number is preceded by 0b or 0B, it will be treated as a binary value.\n",
    "For example: 0b1111 is a binary number with a decimal value equal to 15."
   ]
  },
  {
   "cell_type": "code",
   "execution_count": null,
   "id": "323cb21c",
   "metadata": {},
   "outputs": [],
   "source": []
  },
  {
   "cell_type": "markdown",
   "id": "242ce815",
   "metadata": {},
   "source": [
    "# Question 5\n",
    "The ** operator:\n",
    "    \n",
    "    performs exponentiation\n",
    "    \n",
    "The ** operator performs the exponent arithmetic in Python. It is also called the power operator."
   ]
  },
  {
   "cell_type": "code",
   "execution_count": null,
   "id": "159d017e",
   "metadata": {},
   "outputs": [],
   "source": []
  },
  {
   "cell_type": "markdown",
   "id": "16cf040f",
   "metadata": {},
   "source": [
    "# Question 6\n",
    "The result of the following division:\n",
    "    \n",
    "    is equal to 1.0\n",
    "    \n",
    "The / operator is one of the two types of division operator in Python that divides\n",
    "its left operand by its right operand, and returns a floating-point value.\n",
    "\n",
    "The // operator, called the floor division operator, performs a similar operation,\n",
    "but rounds down the result and returns an integer number."
   ]
  },
  {
   "cell_type": "code",
   "execution_count": null,
   "id": "dfff87d0",
   "metadata": {},
   "outputs": [],
   "source": []
  },
  {
   "cell_type": "markdown",
   "id": "fd3d0a8a",
   "metadata": {},
   "source": [
    "# Question 7\n",
    "Which of the following statements are true? (Select two answers)\n",
    "\n",
    "    The ** operator uses right-sided binding.\n",
    "\n",
    "    The right argument of the % operator cannot be zero.\n",
    "    \n",
    "The % operator (modulus) returns the remainder of a division, and because you cannot\n",
    "divide by zero, the right operand must be a non-zero number.\n",
    "Otherwise, a ZeroDivisionException will be raised.\n",
    "\n",
    "The ** operator uses right-sided binding, which means the expression\n",
    "2**2**3 is evaluated from right to left: 2**3 = 8, and 2**8 = 256."
   ]
  },
  {
   "cell_type": "code",
   "execution_count": null,
   "id": "8be62794",
   "metadata": {},
   "outputs": [],
   "source": []
  },
  {
   "cell_type": "markdown",
   "id": "28e0b8d3",
   "metadata": {},
   "source": [
    "# Question 8\n",
    "Left-sided binding determines that the result of the following expression:\n",
    "    \n",
    "    0\n",
    "    \n",
    "Left-sided binding means that the expression is evaluated from left to right:\n",
    "    1 // 2 = 0, and 0 * 3 = 0.\n"
   ]
  },
  {
   "cell_type": "code",
   "execution_count": null,
   "id": "870d8610",
   "metadata": {},
   "outputs": [],
   "source": []
  },
  {
   "cell_type": "markdown",
   "id": "6e514a8b",
   "metadata": {},
   "source": [
    "# Question 9\n",
    "Which of the following variable names are illegal? (Select two answers)\n",
    "\n",
    "    True\n",
    "    and\n",
    "    \n",
    "True and and are Python keywords (reserved words), and they cannot be used as variable names. And since Python is case-sensitive, the names true and TRUE are perfectly legal, though not necessarily the best names."
   ]
  },
  {
   "cell_type": "code",
   "execution_count": null,
   "id": "c03f74fb",
   "metadata": {},
   "outputs": [],
   "source": []
  },
  {
   "cell_type": "markdown",
   "id": "26634db8",
   "metadata": {},
   "source": [
    "# Question 10\n",
    "The print() function can output values of:\n",
    "    \n",
    "    any number of arguments (including zero)\n",
    "    \n",
    "The print() function can take no arguments at all (e.g. print()),\n",
    "three arguments (e.g. print(\"one\", \"two\", \"three\"),\n",
    "or three thousand three hundred thirty three… (though we haven’t actually checked it!).\n",
    "    "
   ]
  },
  {
   "cell_type": "code",
   "execution_count": null,
   "id": "724d87fa",
   "metadata": {},
   "outputs": [],
   "source": []
  },
  {
   "cell_type": "markdown",
   "id": "3142742b",
   "metadata": {},
   "source": [
    "# Question 11\n",
    "What is the output of the following snippet?\n",
    "\n",
    "    2 1"
   ]
  },
  {
   "cell_type": "code",
   "execution_count": 3,
   "id": "7611abd2",
   "metadata": {},
   "outputs": [
    {
     "name": "stdout",
     "output_type": "stream",
     "text": [
      "2 1\n"
     ]
    }
   ],
   "source": [
    "x = 1\n",
    "y = 2\n",
    "z = x\n",
    "x = y\n",
    "y = z\n",
    "print(x, y)\n"
   ]
  },
  {
   "cell_type": "code",
   "execution_count": null,
   "id": "2014ff8d",
   "metadata": {},
   "outputs": [],
   "source": []
  },
  {
   "cell_type": "markdown",
   "id": "83ef9083",
   "metadata": {},
   "source": [
    "# Question 12\n",
    "What is the output of the following snippet if the user enters two lines \n",
    "containing 2 and 4 respectively?\n",
    "\n",
    "    24\n",
    "    \n",
    "1. the input() function reads the arguments entered by the user (2 and 4 respectively) and converts them to strings,\n",
    "1. variables x and y are assigned the strings inputted by the user,\n",
    "1. the print() function outputs the result of the concatenation operation to the screen (the process of adding/merging strings): \"2\" + \"4\"; the + operator adds a string to another string, and outputs 24.\n",
    "    "
   ]
  },
  {
   "cell_type": "code",
   "execution_count": 4,
   "id": "74418a6f",
   "metadata": {},
   "outputs": [
    {
     "name": "stdout",
     "output_type": "stream",
     "text": [
      "2\n",
      "4\n",
      "24\n"
     ]
    }
   ],
   "source": [
    "x = input()\n",
    "y = input()\n",
    "print(x + y)"
   ]
  },
  {
   "cell_type": "code",
   "execution_count": null,
   "id": "96e965e8",
   "metadata": {},
   "outputs": [],
   "source": []
  },
  {
   "cell_type": "markdown",
   "id": "44c59ef7",
   "metadata": {},
   "source": [
    "# Question 13\n",
    "What is the output of the following snippet if the user enters two lines\n",
    "containing 2 and 4 respectively?\n",
    "\n",
    "x = int(input())\n",
    "y = int(input())\n",
    " \n",
    "x = x // y\n",
    "y = y // x\n",
    " \n",
    "print(y)\n",
    "\n",
    "    the code will cause a runtime error\n",
    "    \n",
    "- the x variable is assigned the integer value of 2 (2 is inputted by the user,\n",
    "   converted to a string by the input() function, and then converted to an integer by the int() function)\n",
    "\n",
    "- the y variable is assigned the integer value of 4 (4 is inputted by the user,\n",
    "   converted to a string by the input() function, and then converted to an integer by the int() function)\n",
    "\n",
    "- an operation is performed resulting in the x variable being assigned the value of 0 (2 // 4=0)\n",
    "\n",
    "- an operation is being performed, but a ZeroDivisionException is raised,\n",
    "    because the // operator cannot accept 0 as its right operand. The program is terminated.\n",
    " \n"
   ]
  },
  {
   "cell_type": "code",
   "execution_count": null,
   "id": "111115bb",
   "metadata": {},
   "outputs": [],
   "source": []
  },
  {
   "cell_type": "markdown",
   "id": "6dfb4323",
   "metadata": {},
   "source": [
    "# Question 14\n",
    "What is the output of the following snippet if the user enters two lines containing 2 and 4 respectively?\n",
    "\n",
    "    8.0\n",
    "    \n",
    "- the x variable is assigned the integer value of 2 (2 is inputted by the user, converted to a string by the input() function, and then converted to an integer by the int() function)\n",
    "- the y variable is assigned the integer value of 4 (4 is inputted by the user, converted to a string by the input() function, and then converted to an integer by the int() function)\n",
    "- an operation is performed resulting in the x variable being assigned the value of 0.5 (2 / 4 = 0.5)\n",
    "- an operation is performed resulting in the y variable being assigned the value of 8.0 (4 / 0.5 = 8.0)\n",
    "- the value assigned to the y variable (8.0) is printed to the screen."
   ]
  },
  {
   "cell_type": "code",
   "execution_count": 5,
   "id": "8b54077a",
   "metadata": {},
   "outputs": [
    {
     "name": "stdout",
     "output_type": "stream",
     "text": [
      "2\n",
      "4\n",
      "8.0\n"
     ]
    }
   ],
   "source": [
    "x = int(input())\n",
    "y = int(input())\n",
    "\n",
    "x = x / y\n",
    "y = y / x\n",
    "\n",
    "print(y)\n"
   ]
  },
  {
   "cell_type": "code",
   "execution_count": null,
   "id": "184b01e7",
   "metadata": {},
   "outputs": [],
   "source": []
  },
  {
   "cell_type": "markdown",
   "id": "39419140",
   "metadata": {},
   "source": [
    "# Question 15\n",
    "What is the output of the following snippet if the user enters two lines containing 11 and 4 respectively?\n",
    "\n",
    "    1\n",
    "    "
   ]
  },
  {
   "cell_type": "code",
   "execution_count": 7,
   "id": "44ccc35b",
   "metadata": {},
   "outputs": [
    {
     "name": "stdout",
     "output_type": "stream",
     "text": [
      "11\n",
      "4\n",
      "1\n",
      "3\n",
      "3\n",
      "1\n"
     ]
    }
   ],
   "source": [
    "x = int(input())\n",
    "y = int(input())\n",
    "\n",
    "x = x % y\n",
    "x = x % y\n",
    "y = y % x\n",
    "\n",
    "print(y)\n",
    "\n",
    "#print(11 % 4)\n",
    "#print(3 % 4)\n",
    "#print(4 % 3)\n"
   ]
  },
  {
   "cell_type": "markdown",
   "id": "b6ee3f4c",
   "metadata": {},
   "source": [
    "# Question 16\n",
    "What is the output of the following snippet if the user enters two lines containing 3 and 6 respectively?\n",
    "\n",
    "    333333\n"
   ]
  },
  {
   "cell_type": "code",
   "execution_count": 8,
   "id": "200448eb",
   "metadata": {},
   "outputs": [
    {
     "name": "stdout",
     "output_type": "stream",
     "text": [
      "3\n",
      "6\n",
      "333333\n"
     ]
    }
   ],
   "source": [
    "x = input()\n",
    "y = int(input())\n",
    "\n",
    "print(x * y)\n",
    "\n"
   ]
  },
  {
   "cell_type": "code",
   "execution_count": null,
   "id": "0c87de05",
   "metadata": {},
   "outputs": [],
   "source": []
  },
  {
   "cell_type": "markdown",
   "id": "260550f4",
   "metadata": {},
   "source": [
    "# Question 17\n",
    "What is the output of the following snippet?\n",
    "\n",
    "    1*1*1\n"
   ]
  },
  {
   "cell_type": "code",
   "execution_count": 9,
   "id": "d42a2d65",
   "metadata": {},
   "outputs": [
    {
     "name": "stdout",
     "output_type": "stream",
     "text": [
      "1*1*1\n"
     ]
    }
   ],
   "source": [
    "z = y = x = 1\n",
    "print(x, y, z, sep='*')\n"
   ]
  },
  {
   "cell_type": "code",
   "execution_count": null,
   "id": "a02497cd",
   "metadata": {},
   "outputs": [],
   "source": []
  },
  {
   "cell_type": "markdown",
   "id": "f77a14e4",
   "metadata": {},
   "source": [
    "# Question 18\n",
    "What is the output of the following snippet?\n",
    "\n",
    "y = 2 + 3 * 5.\n",
    "print(Y)\n",
    "\n",
    "    the snippet will cause an execution error\n",
    "    \n",
    "Python is case-sensitive, so y and Y are two different variables.\n",
    "Since the program attempts to print to the screen a value associated with a variable\n",
    "that does not exist in the local namespace, Python doesn’t recognize it,\n",
    "and a NameError exception is raised.    "
   ]
  },
  {
   "cell_type": "code",
   "execution_count": null,
   "id": "761daece",
   "metadata": {},
   "outputs": [],
   "source": []
  },
  {
   "cell_type": "markdown",
   "id": "12bc5f06",
   "metadata": {},
   "source": [
    "# Question 19\n",
    "What is the output of the following snippet?\n",
    "\n",
    "    17.5\n",
    "    \n",
    "first, the 4 ** 2 expression is evaluated with 16 as the result,\n",
    "second, the 1 / 2 expression is evaluated with 0.5 as the result,\n",
    "third, the 3 // 3 expression is evaluated with 1 as the result,\n",
    "finally, the three values are added (0.5 + 1 + 16), and the resulting value (17.5) is assigned to the x variable and printed to the screen."
   ]
  },
  {
   "cell_type": "code",
   "execution_count": 10,
   "id": "a89bfa9e",
   "metadata": {},
   "outputs": [
    {
     "name": "stdout",
     "output_type": "stream",
     "text": [
      "17.5\n"
     ]
    }
   ],
   "source": [
    "x = 1 / 2 + 3 // 3 + 4 ** 2\n",
    "print(x)\n"
   ]
  },
  {
   "cell_type": "code",
   "execution_count": null,
   "id": "fedf29c6",
   "metadata": {},
   "outputs": [],
   "source": []
  },
  {
   "cell_type": "markdown",
   "id": "324b5756",
   "metadata": {},
   "source": [
    "# Question 20\n",
    "What is the output of the following snippet if the user enters two lines containing 2 and 4 respectively?\n",
    "    \n",
    "    6"
   ]
  },
  {
   "cell_type": "code",
   "execution_count": 11,
   "id": "b59932d3",
   "metadata": {},
   "outputs": [
    {
     "name": "stdout",
     "output_type": "stream",
     "text": [
      "2\n",
      "4\n",
      "6\n"
     ]
    }
   ],
   "source": [
    "x = int(input())\n",
    "y = int(input())\n",
    "\n",
    "print(x + y)\n",
    "\n"
   ]
  },
  {
   "cell_type": "code",
   "execution_count": null,
   "id": "3672ec3e",
   "metadata": {},
   "outputs": [],
   "source": []
  },
  {
   "cell_type": "code",
   "execution_count": null,
   "id": "97789d8c",
   "metadata": {},
   "outputs": [],
   "source": []
  }
 ],
 "metadata": {
  "kernelspec": {
   "display_name": "Python 3 (ipykernel)",
   "language": "python",
   "name": "python3"
  },
  "language_info": {
   "codemirror_mode": {
    "name": "ipython",
    "version": 3
   },
   "file_extension": ".py",
   "mimetype": "text/x-python",
   "name": "python",
   "nbconvert_exporter": "python",
   "pygments_lexer": "ipython3",
   "version": "3.11.5"
  }
 },
 "nbformat": 4,
 "nbformat_minor": 5
}
