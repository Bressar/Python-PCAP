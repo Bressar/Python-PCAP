{
 "cells": [
  {
   "cell_type": "markdown",
   "id": "97c01878",
   "metadata": {},
   "source": [
    "## Question 1\n",
    "\n",
    "Entering the try: block implies that:\n",
    "        \n",
    "     some of the instructions from this block may not be executed\n",
    "    "
   ]
  },
  {
   "cell_type": "markdown",
   "id": "68312a63",
   "metadata": {},
   "source": [
    "## Question 2\n",
    "\n",
    "The unnamed except: block:\n",
    "\n",
    "    must be the last one\n",
    "    "
   ]
  },
  {
   "cell_type": "markdown",
   "id": "252cbae3",
   "metadata": {},
   "source": [
    "## Question 3\n",
    "\n",
    "The top‑most Python exception is called:\n",
    "\n",
    "    BaseException\n",
    "    "
   ]
  },
  {
   "cell_type": "markdown",
   "id": "8096bb79",
   "metadata": {},
   "source": [
    "## Question 4\n",
    "\n",
    "The following statement:\n",
    "\n",
    "    assert var == 0 # meio que a mesma coisa que while True...\n",
    "\n",
    "    will stop the program when var != 0\n",
    "\n",
    "*A instrução assert var == 0 vai parar o programa imediatamente \n",
    "se a condição var == 0 não for avaliada como verdadeira.\n",
    "Isso significa que se o valor da variável var for diferente de zero,\n",
    "o programa será interrompido imediatamente e uma exceção de asserção será levantada.*"
   ]
  },
  {
   "cell_type": "markdown",
   "id": "60fb0a4a",
   "metadata": {},
   "source": [
    "## Question 5\n",
    "\n",
    "What is the expected output of the following code?"
   ]
  },
  {
   "cell_type": "code",
   "execution_count": null,
   "id": "7ef2e505",
   "metadata": {},
   "outputs": [],
   "source": [
    "try:\n",
    "    print(\"5\"/0) # divisão de uma string -> ValueError\n",
    "except ArithmeticError:\n",
    "    print(\"arith\")\n",
    "except ZeroDivisionError:\n",
    "    print(\"zero\")\n",
    "except:\n",
    "    print(\"some\")\n",
    " "
   ]
  },
  {
   "cell_type": "markdown",
   "id": "63d9f735",
   "metadata": {},
   "source": [
    "## Question 6\n",
    "Which of the following are examples of built-in concrete Python exceptions? (Select two answers)\n",
    "\n",
    "    **IndexError**\n",
    "\n",
    "    **ImportError**\n",
    "    \n",
    "Ambas essas exceções são específicas e concretas, fazendo parte da biblioteca padrão do Python\n",
    "e são usadas para lidar com condições de erro específicas:\n",
    "\n",
    "IndexError: Levantada quando um índice de uma sequência está fora do intervalo.\n",
    "ImportError: Levantada quando uma declaração de importação tem problemas ao tentar carregar um módulo.    "
   ]
  },
  {
   "cell_type": "markdown",
   "id": "5f0eda6a",
   "metadata": {},
   "source": [
    "## Question 7\n",
    "\n",
    "ASCII is:\n",
    "\n",
    "    short for American Standard Code for Information Interchange\n",
    "    "
   ]
  },
  {
   "cell_type": "markdown",
   "id": "23524f66",
   "metadata": {},
   "source": [
    "## Question 8\n",
    "\n",
    "UTF‑8 is:\n",
    "\n",
    "    a form of encoding Unicode code points\n",
    "    "
   ]
  },
  {
   "cell_type": "markdown",
   "id": "6148c056",
   "metadata": {},
   "source": [
    "## Question 9\n",
    "\n",
    "UNICODE is a standard:\n",
    "\n",
    "    like ASCII, but much more expansive\n",
    "    "
   ]
  },
  {
   "cell_type": "markdown",
   "id": "8a35335f",
   "metadata": {},
   "source": [
    "## Question 10\n",
    "\n",
    "The following code prints:\n"
   ]
  },
  {
   "cell_type": "code",
   "execution_count": null,
   "id": "2781d491",
   "metadata": {},
   "outputs": [],
   "source": [
    "x = '\\''\n",
    "print(len(x))\n",
    " \n",
    " "
   ]
  },
  {
   "cell_type": "markdown",
   "id": "d9a91ce1",
   "metadata": {},
   "source": [
    "## Question 11\n",
    "\n",
    "The following code prints:"
   ]
  },
  {
   "cell_type": "code",
   "execution_count": null,
   "id": "b2d51826",
   "metadata": {},
   "outputs": [],
   "source": [
    "print(ord('c') - ord('a'))\n",
    "\n"
   ]
  },
  {
   "cell_type": "markdown",
   "id": "9b9ec7e1",
   "metadata": {},
   "source": [
    "## Question 12\n",
    "\n",
    "The following code prints:"
   ]
  },
  {
   "cell_type": "code",
   "execution_count": null,
   "id": "8ce86e32",
   "metadata": {},
   "outputs": [],
   "source": [
    "print(chr(ord('z') ‑ 2)) # deu erro do jeito que estava na prova! Jupyter não curtiu :()"
   ]
  },
  {
   "cell_type": "code",
   "execution_count": null,
   "id": "41b374c6",
   "metadata": {},
   "outputs": [],
   "source": [
    "# assim funcionou:\n",
    "\n",
    "a = (ord('z') - 2)\n",
    "print(a)\n",
    "\n",
    "print(chr(a))\n"
   ]
  },
  {
   "cell_type": "markdown",
   "id": "81d4e648",
   "metadata": {},
   "source": [
    "## Question 13\n",
    "\n",
    "The following code prints:"
   ]
  },
  {
   "cell_type": "code",
   "execution_count": 1,
   "id": "0e17842c",
   "metadata": {},
   "outputs": [
    {
     "name": "stdout",
     "output_type": "stream",
     "text": [
      "abcabcabcxyz\n"
     ]
    }
   ],
   "source": [
    "print(3 * 'abc' + 'xyz')\n"
   ]
  },
  {
   "cell_type": "markdown",
   "id": "9cb575c2",
   "metadata": {},
   "source": [
    "## Question 14\n",
    "\n",
    "The following code prints:"
   ]
  },
  {
   "cell_type": "code",
   "execution_count": 2,
   "id": "aec73c68",
   "metadata": {},
   "outputs": [
    {
     "name": "stdout",
     "output_type": "stream",
     "text": [
      "False\n"
     ]
    }
   ],
   "source": [
    "print('Mike' > \"Mikey\")\n"
   ]
  },
  {
   "cell_type": "markdown",
   "id": "489e27bc",
   "metadata": {},
   "source": [
    "## Question 15\n",
    "\n",
    "The following code prints:"
   ]
  },
  {
   "cell_type": "code",
   "execution_count": 3,
   "id": "c2c6aa12",
   "metadata": {},
   "outputs": [
    {
     "ename": "ValueError",
     "evalue": "could not convert string to float: '1, 3'",
     "output_type": "error",
     "traceback": [
      "\u001b[1;31m---------------------------------------------------------------------------\u001b[0m",
      "\u001b[1;31mValueError\u001b[0m                                Traceback (most recent call last)",
      "Cell \u001b[1;32mIn[3], line 1\u001b[0m\n\u001b[1;32m----> 1\u001b[0m \u001b[38;5;28mprint\u001b[39m(\u001b[38;5;28mfloat\u001b[39m(\u001b[38;5;124m\"\u001b[39m\u001b[38;5;124m1, 3\u001b[39m\u001b[38;5;124m\"\u001b[39m))\n",
      "\u001b[1;31mValueError\u001b[0m: could not convert string to float: '1, 3'"
     ]
    }
   ],
   "source": [
    "print(float(\"1, 3\"))\n",
    "\n"
   ]
  }
 ],
 "metadata": {
  "kernelspec": {
   "display_name": "Python 3 (ipykernel)",
   "language": "python",
   "name": "python3"
  },
  "language_info": {
   "codemirror_mode": {
    "name": "ipython",
    "version": 3
   },
   "file_extension": ".py",
   "mimetype": "text/x-python",
   "name": "python",
   "nbconvert_exporter": "python",
   "pygments_lexer": "ipython3",
   "version": "3.11.5"
  }
 },
 "nbformat": 4,
 "nbformat_minor": 5
}
