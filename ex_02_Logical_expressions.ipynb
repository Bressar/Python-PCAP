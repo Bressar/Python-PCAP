{
 "cells": [
  {
   "cell_type": "code",
   "execution_count": 2,
   "id": "69796cb3",
   "metadata": {},
   "outputs": [
    {
     "name": "stdout",
     "output_type": "stream",
     "text": [
      "True\n",
      "True\n",
      "True\n",
      "True\n"
     ]
    }
   ],
   "source": [
    "var = 1\n",
    "\n",
    "print(var > 0)\n",
    "\n",
    "print(not (var <= 0))\n",
    "\n",
    "print(var != 0)\n",
    "\n",
    "print(not (var == 0))"
   ]
  },
  {
   "cell_type": "code",
   "execution_count": 4,
   "id": "d7ddbc4b",
   "metadata": {},
   "outputs": [
    {
     "data": {
      "text/plain": [
       "True"
      ]
     },
     "execution_count": 4,
     "metadata": {},
     "output_type": "execute_result"
    }
   ],
   "source": [
    "p= 1\n",
    "q = 2\n",
    "\n",
    "not (p and q) == (not p) or (not q)"
   ]
  },
  {
   "cell_type": "code",
   "execution_count": 5,
   "id": "ed83e1f0",
   "metadata": {},
   "outputs": [
    {
     "data": {
      "text/plain": [
       "False"
      ]
     },
     "execution_count": 5,
     "metadata": {},
     "output_type": "execute_result"
    }
   ],
   "source": [
    "not (p or q) == (not p) and (not q)"
   ]
  },
  {
   "cell_type": "markdown",
   "id": "5c788b22",
   "metadata": {},
   "source": [
    "Devemos acrescentar que nenhum desses operadores de dois argumentos pode ser utilizado\n",
    "na forma abreviada conhecida como op=.\n",
    "Essa exceção é digna de ser lembrada."
   ]
  },
  {
   "cell_type": "markdown",
   "id": "e981e26a",
   "metadata": {},
   "source": [
    "Operadores bit a bit\n",
    "No entanto, existem quatro operadores que permitem manipular bits individuais de dados. Eles são chamados de operadores bit a bit.\n",
    "\n",
    "Eles abrangem todas as operações mencionadas anteriormente no contexto lógico e um operador adicional. Este é o operador xor (como em ou exclusivo), e é representado como ^ (circunflexo).\n",
    "\n",
    "Aqui estão todos eles:\n",
    "\n",
    "& (e comercial) - conjunção bit a bit;\n",
    "| (barra) - disjunção bit a bit;\n",
    "~ (til) - negação bit a bit;\n",
    "^ (circunflexo) - ou exclusivo bit a bit (xor)."
   ]
  },
  {
   "cell_type": "code",
   "execution_count": 6,
   "id": "8b3cde48",
   "metadata": {
    "scrolled": true
   },
   "outputs": [
    {
     "name": "stdout",
     "output_type": "stream",
     "text": [
      "17 68 8\n"
     ]
    }
   ],
   "source": [
    " # operadores de deslocamento [>>] direita e [<<] esquerda\n",
    "var = 17\n",
    "\n",
    "var_left = var << 2 # 17 em binário é 10001.\n",
    "# 10001 deslocado para a esquerda se torna 1000100, que é o equivalente a 68 em decimal.\n",
    "\n",
    "10001 deslocado para a esquerda se torna 1000100, que é o equivalente a 68 em decimal.\n",
    "\n",
    "var_right = var >> 1  # 17 em binário é 10001.\n",
    "# 10001 deslocado para a direita se torna 01000, que é o equivalente a 8 em decimal.\n",
    "\n",
    "print(var, var_left, var_right)\n"
   ]
  },
  {
   "cell_type": "markdown",
   "id": "e8db5407",
   "metadata": {},
   "source": [
    "17 >> 1 → 17 // 2 (17 dividido por 2 elevado à potência de 1) → 8 (deslocar para a direita em um bit é o mesmo que divisão inteira por dois)\n",
    "17 << 2 → 17 * 4 (17 multiplicado por 2 elevado à potência de 2) → 68 (deslocar para a esquerda em dois bits é o mesmo que multiplicação inteira por quatro)"
   ]
  },
  {
   "cell_type": "markdown",
   "id": "1affcb43",
   "metadata": {},
   "source": [
    "Python suporta os seguintes operadores lógicos:\n",
    "\n",
    "and → se ambos os operandos forem verdadeiros, a condição é verdadeira,\n",
    "por exemplo, (True and True) é True,\n",
    "or → se qualquer um dos operandos for verdadeiro, a condição é verdadeira,\n",
    "por exemplo, (True or False) é True,\n",
    "not → retorna falso se o resultado for verdadeiro e retorna verdadeiro se o resultado for falso,\n",
    "por exemplo, not True é False."
   ]
  },
  {
   "cell_type": "code",
   "execution_count": null,
   "id": "5e597c91",
   "metadata": {},
   "outputs": [],
   "source": [
    "bit a bit para manipular bits individuais de dados. Os seguintes dados de exemplo:\n",
    "\n",
    "x = 15, que é 0000 1111 em binário,\n",
    "y = 16, que é 0001 0000 em binário.\n",
    "\n",
    "serão usados para ilustrar o significado dos operadores bit a bit em Python. Analise os exemplos abaixo:\n",
    "\n",
    "& faz uma operação de \"e\" bit a bit, por exemplo, x & y = 0, que é 0000 0000 em binário,\n",
    "\n",
    "| faz uma operação de \"ou\" bit a bit, por exemplo, x | y = 31, que é 0001 1111 em binário,\n",
    "\n",
    "˜ faz uma operação de \"não\" bit a bit, por exemplo, ˜ x = 240, que é 1111 0000 em binário,\n",
    "\n",
    "^ faz uma operação de \"ou exclusivo\" bit a bit, por exemplo, x ^ y = 31, que é 0001 1111 em binário,\n",
    "\n",
    "faz um deslocamento bit a bit para a direita, por exemplo, y >> 1 = 8, que é 0000 1000 em binário,\n",
    "\n",
    "<< faz um deslocamento bit a bit para a esquerda, por exemplo, y << 3 = 128, que é 1000 0000 em binário.\n",
    "\n",
    "*-16 (decimal do complemento de 2 assinado) -- leia mais sobre a operação de complemento de dois.\n",
    "\n",
    "\n"
   ]
  },
  {
   "cell_type": "code",
   "execution_count": 8,
   "id": "bf0f8bd0",
   "metadata": {},
   "outputs": [
    {
     "name": "stdout",
     "output_type": "stream",
     "text": [
      "False\n"
     ]
    }
   ],
   "source": [
    "# exemplo1\n",
    "x = 1\n",
    "y = 0\n",
    "\n",
    "z = ((x == y) and (x == y)) or not(x == y)\n",
    "print(not(z))"
   ]
  },
  {
   "cell_type": "code",
   "execution_count": 9,
   "id": "b0d7e920",
   "metadata": {},
   "outputs": [
    {
     "name": "stdout",
     "output_type": "stream",
     "text": [
      "0 5 -5 1 1 16\n"
     ]
    }
   ],
   "source": [
    "# exemplo 2\n",
    "x = 4\n",
    "y = 1\n",
    "\n",
    "a = x & y\n",
    "b = x | y\n",
    "c = ~x  # tricky!\n",
    "d = x ^ 5\n",
    "e = x >> 2\n",
    "f = x << 2\n",
    "\n",
    "print(a, b, c, d, e, f)"
   ]
  },
  {
   "cell_type": "markdown",
   "id": "80791a68",
   "metadata": {},
   "source": [
    "a = x & y\n",
    "Nessa linha, estamos aplicando o operador bit a bit \"AND\" entre x e y.\n",
    "O operador \"&\" retorna 1 apenas para os bits que estão ativados em ambas as variáveis.\n",
    "Como 4 em binário é 100 e 1 em binário é 001, o resultado da operação bit a bit \"AND\" será 000,\n",
    "ou seja, 0 em decimal. Então, a será igual a 0."
   ]
  },
  {
   "cell_type": "markdown",
   "id": "1f16af1e",
   "metadata": {},
   "source": [
    "b = x | y\n",
    "Aqui, estamos aplicando o operador bit a bit \"OR\" entre x e y.\n",
    "O operador \"|\" retorna 1 para os bits que estão ativados em pelo menos uma das variáveis.\n",
    "Como 4 em binário é 100 e 1 em binário é 001, o resultado da operação bit a bit \"OR\" será 101,\n",
    "ou seja, 5 em decimal. Então, b será igual a 5."
   ]
  },
  {
   "cell_type": "markdown",
   "id": "d54d12f8",
   "metadata": {},
   "source": [
    "c = ~x\n",
    "Aqui, estamos aplicando o operador bit a bit \"NOT\" em x.\n",
    "O operador \"~\" inverte todos os bits de um número.\n",
    "Como 4 em binário é 100, a operação de \"NOT\" resultará em 011,\n",
    "que é -5 em complemento de dois (interpretação de complemento de dois).\n",
    "Então, c será igual a -5."
   ]
  },
  {
   "cell_type": "markdown",
   "id": "ed73a5fd",
   "metadata": {},
   "source": [
    "d = x ^ 5\n",
    "Nessa linha, estamos aplicando o operador bit a bit \"XOR\" entre x e 5.\n",
    "O operador \"^\" retorna 1 apenas para os bits que estão ativados em uma das variáveis,\n",
    "mas não em ambas. Como 4 em binário é 100 e 5 em binário é 101,\n",
    "o resultado da operação bit a bit \"XOR\" será 001, ou seja, 1 em decimal.\n",
    "Então, d será igual a 1."
   ]
  },
  {
   "cell_type": "markdown",
   "id": "5780146c",
   "metadata": {},
   "source": [
    "e = x >> 2\n",
    "Aqui, estamos fazendo um deslocamento para a direita de x por 2 bits.\n",
    "Isso basicamente significa que estamos dividindo x por 2 elevado à potência de 2.\n",
    "Como 4 em binário é 100, o deslocamento para a direita em 2 bits resultará em 001,\n",
    "que é 1 em decimal. Então, e será igual a 1."
   ]
  },
  {
   "cell_type": "markdown",
   "id": "6d29ca38",
   "metadata": {},
   "source": [
    "f = x << 2\n",
    "Nessa linha, estamos fazendo um deslocamento para a esquerda de x por 2 bits.\n",
    "Isso basicamente significa que estamos multiplicando x por 2 elevado à potência de 2.\n",
    "Como 4 em binário é 100, o deslocamento para a esquerda em 2 bits resultará em 10000,\n",
    "que é 16 em decimal. Então, f será igual a 16."
   ]
  }
 ],
 "metadata": {
  "kernelspec": {
   "display_name": "Python 3 (ipykernel)",
   "language": "python",
   "name": "python3"
  },
  "language_info": {
   "codemirror_mode": {
    "name": "ipython",
    "version": 3
   },
   "file_extension": ".py",
   "mimetype": "text/x-python",
   "name": "python",
   "nbconvert_exporter": "python",
   "pygments_lexer": "ipython3",
   "version": "3.11.5"
  }
 },
 "nbformat": 4,
 "nbformat_minor": 5
}
