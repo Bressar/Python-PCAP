{
 "cells": [
  {
   "cell_type": "markdown",
   "id": "7386f821",
   "metadata": {},
   "source": [
    "# Comparing strings"
   ]
  },
  {
   "cell_type": "code",
   "execution_count": null,
   "id": "202b79ad",
   "metadata": {},
   "outputs": [],
   "source": [
    "'alpha' == 'alpha'\n",
    "'alpha' != 'Alpha'\n",
    "\n",
    "# Ambas comparações resultam em True:"
   ]
  },
  {
   "cell_type": "code",
   "execution_count": null,
   "id": "b157295c",
   "metadata": {},
   "outputs": [],
   "source": [
    "'alpha' < 'alphabet'\n",
    "\n",
    "# a string mais longa é considerada maior"
   ]
  },
  {
   "cell_type": "code",
   "execution_count": null,
   "id": "be57d247",
   "metadata": {},
   "outputs": [],
   "source": [
    "'beta' > 'Beta'\n",
    "\n",
    "# letras maiúsculas são consideradas menores que letras minúsculas, pq em Asc as maiusculas vem 'primeiro' na ordem numerica"
   ]
  },
  {
   "cell_type": "code",
   "execution_count": null,
   "id": "ce55494c",
   "metadata": {},
   "outputs": [],
   "source": [
    "'10' == '010'"
   ]
  },
  {
   "cell_type": "code",
   "execution_count": null,
   "id": "d3869844",
   "metadata": {},
   "outputs": [],
   "source": [
    "'10' > '010'"
   ]
  },
  {
   "cell_type": "code",
   "execution_count": null,
   "id": "98be3664",
   "metadata": {},
   "outputs": [],
   "source": [
    "'10' > '8'"
   ]
  },
  {
   "cell_type": "code",
   "execution_count": null,
   "id": "d45786f8",
   "metadata": {},
   "outputs": [],
   "source": [
    "'20' < '8'"
   ]
  },
  {
   "cell_type": "code",
   "execution_count": null,
   "id": "35abc078",
   "metadata": {},
   "outputs": [],
   "source": [
    "'20' < '80'"
   ]
  },
  {
   "cell_type": "code",
   "execution_count": null,
   "id": "756bcedf",
   "metadata": {},
   "outputs": [],
   "source": [
    "# Comparando com números\n",
    "\n",
    "'10' == 10\n",
    "'10' != 10\n",
    "'10' == 1\n",
    "'10' != 1\n",
    "'10' > 10\n",
    "\n",
    "# False\n",
    "# True\n",
    "# False\n",
    "# True\n",
    "# TypeError exception\n",
    "\n",
    "# string == number is always False;\n",
    "# string != number is always True;\n",
    "# string >= number always raises an exception."
   ]
  },
  {
   "cell_type": "code",
   "execution_count": null,
   "id": "c98d6ace",
   "metadata": {},
   "outputs": [],
   "source": [
    "#Sorting -> função sorted() deixa na ordem ascendente\n",
    "\n",
    "greek = ['omega', 'alpha', 'pi', 'gamma']\n",
    "\n",
    "first_greek = ['omega', 'alpha', 'pi', 'gamma']\n",
    "first_greek_2 = sorted(first_greek)\n",
    "\n",
    "print(first_greek)\n",
    "print(first_greek_2)\n",
    "\n",
    "print()\n"
   ]
  },
  {
   "cell_type": "code",
   "execution_count": null,
   "id": "3c2ca256",
   "metadata": {},
   "outputs": [],
   "source": [
    "# Sem criar uma nova lista, usando .sort()\n",
    "\n",
    "second_greek = ['omega', 'alpha', 'pi', 'gamma']\n",
    "print(second_greek)\n",
    "\n",
    "second_greek.sort()\n",
    "print(second_greek)\n",
    "  \n",
    "# sorted(), cria uma nova lista ordenada;\n",
    "# sort(), ordena a lista in situ\n"
   ]
  },
  {
   "cell_type": "code",
   "execution_count": null,
   "id": "9171df3b",
   "metadata": {},
   "outputs": [],
   "source": [
    "# Strings vs. numbers - casting\n",
    "\n",
    "#de int para str\n",
    "\n",
    "itg = 13\n",
    "flt = 1.3\n",
    "si = str(itg)\n",
    "sf = str(flt)\n",
    "\n",
    "print(si + ' ' + sf)\n",
    "\n",
    "# de str para int\n",
    "\n",
    "si = '13'\n",
    "sf = '1.3'\n",
    "itg = int(si)\n",
    "flt = float(sf)\n",
    "\n",
    "print(itg + flt)\n",
    "    "
   ]
  },
  {
   "cell_type": "code",
   "execution_count": null,
   "id": "f31c5da9",
   "metadata": {},
   "outputs": [],
   "source": [
    "# Cifra de César – mais detalhes aqui: https://en.wikipedia.org/wiki/Caesar_cipher.\n",
    "\n",
    "# Cada letra da mensagem é substituída pela sua próxima consequente (A torna-se B, B torna-se C, e assim por diante).\n",
    "# A única exceção é Z, que se torna A.\n",
    "\n",
    "text = input(\"Escreva a mensagem: \")\n",
    "cipher = ''\n",
    "for char in text: # percorre todos os caracteres da string\n",
    "    if not char.isalpha(): # Se não for uma letra, pula o loop\n",
    "        continue\n",
    "    char = char.upper() # deixa em maiúscula\n",
    "    code = ord(char) + 1 # passa para code point e acrescenta +1\n",
    "    if code > ord('Z'): # se o cde point for maior que Z, passa pro A\n",
    "        code = ord('A')\n",
    "    cipher += chr(code) # sifra recebe letra por letra, já convertida em caracter novamente\n",
    "\n",
    "print(cipher)"
   ]
  },
  {
   "cell_type": "code",
   "execution_count": 1,
   "id": "0dfe21d1",
   "metadata": {},
   "outputs": [
    {
     "name": "stdout",
     "output_type": "stream",
     "text": [
      "Enter your cryptogram: BWFDBFTBS\n",
      "AVECAESAR\n"
     ]
    }
   ],
   "source": [
    "# agora decripitando:\n",
    "\n",
    "cipher = input('Enter your cryptogram: ')\n",
    "text = ''\n",
    "for char in cipher:\n",
    "    if not char.isalpha():\n",
    "        continue\n",
    "    char = char.upper()\n",
    "    code = ord(char) - 1\n",
    "    if code < ord('A'):\n",
    "        code = ord('Z')\n",
    "    text += chr(code)\n",
    "\n",
    "print(text)"
   ]
  },
  {
   "cell_type": "code",
   "execution_count": 7,
   "id": "ef6c0061",
   "metadata": {},
   "outputs": [
    {
     "name": "stdout",
     "output_type": "stream",
     "text": [
      "Digite uma sequência de números - separados com espaços: 56 76 89\n",
      "O total é: 221.0\n"
     ]
    }
   ],
   "source": [
    "# Processador de números\n",
    "\n",
    "line = input(\"Digite uma sequência de números - separados com espaços: \")\n",
    "strings = line.split() # transforma em uma lista de item, eliminado assim os espaços\n",
    "total = 0\n",
    "\n",
    "# print(strings)\n",
    "\n",
    "try:\n",
    "    for substr in strings: # para cada item na lista\n",
    "        total += float(substr) # converte de string para float e soma no contador 'total'\n",
    "    print(\"O total é:\", total)\n",
    "except:\n",
    "    print(substr, \"não é um número.\")\n",
    "    "
   ]
  },
  {
   "cell_type": "code",
   "execution_count": 9,
   "id": "fa0234a0",
   "metadata": {},
   "outputs": [
    {
     "name": "stdout",
     "output_type": "stream",
     "text": [
      "Enter IBAN, please: FR76 30003 03620 00020216907 50\n",
      "IBAN entered is valid.\n"
     ]
    }
   ],
   "source": [
    "# Validador de IBAN\n",
    "\n",
    "# Um número de conta compatível com IBAN consiste em:\n",
    "\n",
    "# um código de país de duas letras retirado do padrão ISO 3166-1 (por exemplo, FR para França, \n",
    "# GB para Grã-Bretanha, DE para Alemanha, e assim por diante)\n",
    "\n",
    "# dois dígitos de verificação usados para realizar verificações de validade – testes rápidos e simples,\n",
    "# mas não totalmente confiáveis, que mostram se um número é inválido (distorcido por um erro de digitação)\n",
    "# ou parece estar correto;\n",
    "\n",
    "# o número de conta real (até 30 caracteres alfanuméricos – o comprimento dessa parte depende do país)\n",
    "# O padrão diz que a validação requer os seguintes passos (de acordo com a Wikipedia):\n",
    "\n",
    "# (pass0 1) Verifique se o comprimento total do IBAN está correto conforme o país\n",
    "# (este programa não fará isso, mas você pode modificar o código para atender a esse requisito,\n",
    "#  se desejar; nota: você precisa ensinar ao código todos os comprimentos usados na Europa)\n",
    "\n",
    "# (pass0 2) Mova os quatro caracteres iniciais para o final da string \n",
    "# (ou seja, o código do país e os dígitos de verificação)\n",
    "\n",
    "# (pass0 3) Substitua cada letra na string por dois dígitos, expandindo assim a string,\n",
    "# onde A = 10, B = 11 ... Z = 35;\n",
    "\n",
    "# (pass0 4) Interprete a string como um número inteiro decimal e calcule o restante \n",
    "# desse número dividindo-o por 97; se o restante for 1, o teste do dígito de verificação \n",
    "# é aprovado e o IBAN pode ser válido.\n",
    "\n",
    "# IBAN Validator.\n",
    "\n",
    "iban = input(\"Enter IBAN, please: \")\n",
    "# peça ao usuário para inserir o IBAN (o número pode conter espaços, \n",
    "# pois eles melhoram significativamente a legibilidade do número...\n",
    "\n",
    "iban = iban.replace(' ','') \n",
    "# removendo os espaços em branco\n",
    "\n",
    "if not iban.isalnum():\n",
    "    print(\"You have entered invalid characters.\")\n",
    "# o IBAN inserido deve consistir apenas de dígitos e letras    \n",
    "    \n",
    "elif len(iban) < 15:\n",
    "    print(\"IBAN entered is too short.\")\n",
    "# o IBAN não deve ser menor que 15 caracteres (esta é a variante mais curta, usada na Noruega)\n",
    "\n",
    "elif len(iban) > 31:\n",
    "    print(\"IBAN entered is too long.\")\n",
    "#o IBAN não pode ter mais que 31 caracteres (esta é a variante mais longa, usada em Malta)\n",
    "\n",
    "else:\n",
    "    iban = (iban[4:] + iban[0:4]).upper()\n",
    "    # move os quatro caracteres iniciais para o final do número e converta todas as letras para maiúsculas \n",
    "    iban2 = ''\n",
    "    #variável usada para completar o número, criada substituindo as letras por dígitos \n",
    "    for ch in iban:\n",
    "        if ch.isdigit():# se o caractere for um dígito\n",
    "            iban2 += ch # é feita a cópia \n",
    "        else: # caso contrário...\n",
    "            iban2 += str(10 + ord(ch) - ord('A')) # .converta-o em dois dígitos \n",
    "    iban = int(iban2) # transforma em um número inteiro\n",
    "    if iban % 97 == 1: # o resto da divisão do iban2 por 97 é igual a 1?\n",
    "        print(\"IBAN entered is valid.\") # se sim, então sucesso;\n",
    "    else:\n",
    "        print(\"IBAN entered is invalid.\") # se não, número inválido\n",
    "\n",
    "# British: GB72 HBZU 7006 7212 1253 00\n",
    "# French: FR76 30003 03620 00020216907 50\n",
    "# German: DE02100100100152517108"
   ]
  },
  {
   "cell_type": "code",
   "execution_count": 10,
   "id": "2ef7407c",
   "metadata": {},
   "outputs": [
    {
     "name": "stdout",
     "output_type": "stream",
     "text": [
      "Escreva a mensagem: banana 123\n",
      "Digite o valor de deslocamento (1..25): 2\n",
      "dcpcpc 123\n"
     ]
    }
   ],
   "source": [
    "# Cifra de César - versão 2\n",
    "# Aceita maiúsculas e minúsculas e pede um valor de distância entre uma letra\n",
    "\n",
    "\n",
    "text = input(\"Escreva a mensagem: \")\n",
    "\n",
    "# Insira um valor de deslocamento válido (repita até conseguir)).\n",
    "shift = 0\n",
    "\n",
    "while shift == 0:\n",
    "    try:    \n",
    "        shift = int(input(\"Digite o valor de deslocamento (1..25): \"))\n",
    "        if shift not in range(1,26):\n",
    "        \traise ValueError\n",
    "    except ValueError:\n",
    "        shift = 0\n",
    "    if shift == 0:\n",
    "        print(\"Valor de deslocamento incorreto!\")\n",
    "\n",
    "cipher = ''\n",
    "\n",
    "for char in text:\n",
    "    # Is it a letter?\n",
    "    if char.isalpha():\n",
    "        # Shift its code.\n",
    "        code = ord(char) + shift\n",
    "        # Find the code of the first letter (upper- or lower-case)\n",
    "        if char.isupper():\n",
    "            first = ord('A')\n",
    "        else:\n",
    "            first = ord('a')\n",
    "        # Make correction.\n",
    "        code -= first\n",
    "        code %= 26\n",
    "        # Append the encoded character to the message.\n",
    "        cipher += chr(first + code)\n",
    "    else:\n",
    "        # Append the original character to the message.\n",
    "        cipher += char\n",
    "\n",
    "print(cipher)\n",
    "    "
   ]
  },
  {
   "cell_type": "code",
   "execution_count": 11,
   "id": "319cf10d",
   "metadata": {
    "scrolled": true
   },
   "outputs": [
    {
     "name": "stdout",
     "output_type": "stream",
     "text": [
      "Escreva o texto: Ten animals I slam in a net\n",
      "É um palíndromo\n"
     ]
    }
   ],
   "source": [
    "# Palindromos\n",
    "\n",
    "# modelo de lista invertida -> text[::-1]\n",
    "\n",
    "text = input(\"Escreva o texto: \")\n",
    "\n",
    "# Remove todos espaços...\n",
    "text = text.replace(' ','')\n",
    "\n",
    "if len(text) > 1 and text.upper() == text[::-1].upper():\n",
    "    # Se o comprimento do texto (depois da remoção dos espaços) é maior que 1 (len(text) > 1).\n",
    "    # Se o texto, convertido para maiúsculas (text.upper()), é igual à sua versão invertida\n",
    "    # e também convertida para maiúsculas (text[::-1].upper()).\n",
    "\tprint(\"É um palíndromo\")\n",
    "else:\n",
    "\tprint(\"Não é um palíndromo\")\n"
   ]
  },
  {
   "cell_type": "code",
   "execution_count": 24,
   "id": "f0d33314",
   "metadata": {},
   "outputs": [
    {
     "name": "stdout",
     "output_type": "stream",
     "text": [
      "Digite a 1° string: marrocos\n",
      "Digite a 2° string: socorram\n",
      "MARROCOS e SOCORRAM são um anagrama\n"
     ]
    }
   ],
   "source": [
    "# Anagramas\n",
    "\n",
    "str_1 = input(\"Digite a 1° string: \").upper().strip()\n",
    "str_2 = input(\"Digite a 2° string: \").upper().strip()\n",
    "\n",
    "str_1 = str_1.replace(' ', '')\n",
    "str_2 =str_2.replace(' ', '')\n",
    "\n",
    "# list_1 = str_1.split() # só funciona se a string tiver + de uma palavra\n",
    "# list_2 = str_2.split()\n",
    "\n",
    "list_1 = sorted(list(str_1))\n",
    "list_2 = sorted(list(str_2))\n",
    "\n",
    "# list_1.sort()\n",
    "# list_2.sort()\n",
    "\n",
    "# print(list_1) # for debug\n",
    "# print(list_2)\n",
    "\n",
    "palavra_1 = ''.join(list_1)\n",
    "palavra_2 = ''.join(list_2)\n",
    "\n",
    "if palavra_1 == palavra_2:\n",
    "    print(f'{str_1} e {str_2} são um anagrama')\n",
    "else:\n",
    "     print(f'{str_1} e {str_2} não são um anagrama')   \n"
   ]
  },
  {
   "cell_type": "code",
   "execution_count": 23,
   "id": "06bbc0af",
   "metadata": {},
   "outputs": [
    {
     "name": "stdout",
     "output_type": "stream",
     "text": [
      "Digite a 1° string: marrocos\n",
      "Digite a 2° string: socorram\n",
      "marrocos e socorram são um anagrama\n"
     ]
    }
   ],
   "source": [
    "# Versão pro\n",
    "\n",
    "str_1 = input(\"Digite a 1° string: \")\n",
    "str_2 = input(\"Digite a 2° string: \")\n",
    "\n",
    "strx_1 = ''.join(sorted(list(str_1.upper().replace(' ',''))))\n",
    "strx_2 = ''.join(sorted(list(str_2.upper().replace(' ',''))))\n",
    "if len(strx_1) > 0 and strx_1 == strx_2:\n",
    "\tprint(f'{str_1} e {str_2} são um anagrama')\n",
    "else:\n",
    "\tprint(f'{str_1} e {str_2} não são um anagrama')\n",
    "    "
   ]
  },
  {
   "cell_type": "code",
   "execution_count": null,
   "id": "4b654e26",
   "metadata": {},
   "outputs": [],
   "source": [
    "# Dígito da Vida\n",
    "\n",
    "# exemplo:\n",
    "\n",
    "# 1º de Janeiro de 2017 = 2017 01 01\n",
    "# 2 + 0 + 1 + 7 + 0 + 1 + 0 + 1 = 12\n",
    "# 1 + 2 = 3\n",
    "# 3 é o dígito que procurávamos e encontramos.\n",
    "\n",
    "# peça ao usuário sua data de nascimento\n",
    "# (no formato YYYYMMDD, ou YYYYDDMM, ou MMDDYYYY – na verdade, a ordem dos dígitos não importa)\n",
    "# exiba o Dígito da Vida para a data."
   ]
  },
  {
   "cell_type": "code",
   "execution_count": 46,
   "id": "a7837033",
   "metadata": {},
   "outputs": [
    {
     "name": "stdout",
     "output_type": "stream",
     "text": [
      "Insira sua data de nascimento no formato [YYYYMMDD]: hgh tyty kffs\n",
      "Digite uma data válida!\n",
      "Insira sua data de nascimento no formato [YYYYMMDD]: gdfr 23 67\n",
      "Digite uma data válida!\n",
      "Insira sua data de nascimento no formato [YYYYMMDD]: 1939  11   22\n",
      "Digite uma data válida!\n",
      "Insira sua data de nascimento no formato [YYYYMMDD]: 19391122\n",
      "['1', '9', '3', '9', '1', '1', '2', '2']\n",
      "[1, 9, 3, 9, 1, 1, 2, 2]\n",
      "O Dígito da Vida é 10\n",
      "19391122\n"
     ]
    }
   ],
   "source": [
    "while True:\n",
    "    try:\n",
    "        nascimento = int(input('Insira sua data de nascimento no formato [YYYYMMDD]: '))\n",
    "        numeros = str(nascimento)\n",
    "        numeros_lista = []\n",
    "        lista_inteiros = []\n",
    "        soma = 0\n",
    "        soma_str = ''\n",
    "        soma_2 = 0\n",
    "        for i in numeros:\n",
    "            numeros_lista.append(i)\n",
    "#         print(numeros_lista) for debug\n",
    "\n",
    "        for i in numeros_lista:\n",
    "             lista_inteiros.append(int(i))\n",
    "        soma = sum(lista_inteiros)\n",
    "#         print(lista_inteiros)  for debug      \n",
    "\n",
    "        if  0 < soma < 9:\n",
    "            print(f'O Dígito da Vida é {soma}')\n",
    "            break\n",
    "        else:\n",
    "            soma_str = str(soma)\n",
    "            for i in soma_str:\n",
    "                soma_2 += int(i)\n",
    "            print(f'O Dígito da Vida é {soma_2}')\n",
    "            break\n",
    "    except:\n",
    "        print('Digite uma data válida!')\n",
    "\n",
    "    \n",
    "print(f'Data de nascimento: {nascimento}')\n",
    "# print(digito_vida)\n",
    "# print(numeros_lista)\n",
    "# print(sum(lista_inteiros))"
   ]
  },
  {
   "cell_type": "code",
   "execution_count": 50,
   "id": "24b2c40e",
   "metadata": {},
   "outputs": [
    {
     "name": "stdout",
     "output_type": "stream",
     "text": [
      "Insira sua data de nascimento (no formato: YYYYMMDD or YYYYDDMM, 8 digitos): 19710902\n",
      "19710902\n",
      "29\n",
      "11\n",
      "Seu digito da vida é: 2\n"
     ]
    }
   ],
   "source": [
    "# versão pro\n",
    "\n",
    "date = input(\"Insira sua data de nascimento (no formato: YYYYMMDD or YYYYDDMM, 8 digitos): \")\n",
    "if len(date) != 8 or not date.isdigit():\n",
    "    print(\"Invalid date format.\")\n",
    "else:\n",
    "    while len(date) > 1: # quando date for maior que um caracter, pára o loop\n",
    "        the_sum = 0\n",
    "        for dig in date:\n",
    "            the_sum += int(dig) # vai somando os números até chegar em 1 digito\n",
    "        print(date)\n",
    "        date = str(the_sum)\n",
    "    print(\"Seu digito da vida é: \" + date)"
   ]
  },
  {
   "cell_type": "code",
   "execution_count": 51,
   "id": "a1a6af02",
   "metadata": {},
   "outputs": [
    {
     "name": "stdout",
     "output_type": "stream",
     "text": [
      "Escreva a palavra que você quer encontrar: mamão\n",
      "Digite a string na qual você deseja procurar: bdfgstr manahdtmão hsgrdrd\n",
      "Yes\n"
     ]
    }
   ],
   "source": [
    "# Encontre a palavra\n",
    "\n",
    "word = input(\"Escreva a palavra que você quer encontrar: \").upper()\n",
    "strn = input(\"Digite a string na qual você deseja procurar: \").upper()\n",
    "\n",
    "found = True\n",
    "start = 0\n",
    "\n",
    "for ch in word:\n",
    "\tpos = strn.find(ch, start) \n",
    "\tif pos < 0:\n",
    "\t\tfound = False\n",
    "\t\tbreak\n",
    "\tstart = pos + 1\n",
    "if found:\n",
    "\tprint(\"Yes\")\n",
    "else:\n",
    "\tprint(\"No\")\n",
    "\t   "
   ]
  },
  {
   "cell_type": "code",
   "execution_count": 52,
   "id": "e50318b3",
   "metadata": {},
   "outputs": [
    {
     "name": "stdout",
     "output_type": "stream",
     "text": [
      "Digite a linha #1: 295743861\n",
      "Digite a linha #2: 431865927\n",
      "Digite a linha #3: 876192543\n",
      "Digite a linha #4: 387459216\n",
      "Digite a linha #5: 612387495\n",
      "Digite a linha #6: 549216738\n",
      "Digite a linha #7: 763524189\n",
      "Digite a linha #8: 928671354\n",
      "Digite a linha #9: 154938672\n",
      "Sim\n"
     ]
    }
   ],
   "source": [
    "# Sudoku \n",
    "\n",
    "# é um quebra-cabeça de colocação de números jogado em um tabuleiro 9x9. \n",
    "# O jogador deve preencher o tabuleiro de uma maneira muito específica:\n",
    "\n",
    "# cada linha do tabuleiro deve conter todos os dígitos de 0 a 9 (a ordem não importa)\n",
    "# cada coluna do tabuleiro deve conter todos os dígitos de 0 a 9 (novamente, a ordem não importa)\n",
    "# cada um dos nove \"blocos\" 3x3 (vamos chamá-los de \"sub-quadrados\") da tabela deve conter todos os dígitos de 0 a 9.\n",
    "# Se precisar de mais detalhes, você pode encontrá-los aqui.\n",
    "\n",
    "# Um programa que:\n",
    "\n",
    "# leia 9 linhas do Sudoku, cada uma contendo 9 dígitos\n",
    "# (verifique cuidadosamente se os dados inseridos são válidos)\n",
    "# exiba \"Sim\" se o Sudoku for válido, e \"Não\" caso contrário.\n",
    "\n",
    "\n",
    "# Uma função que verifica se uma lista passada como argumento contém\n",
    "# nove dígitos de '1' a '9'.\n",
    "def checkset(digs):\n",
    "    return sorted(list(digs)) == [chr(x + ord('0')) for x in range(1, 10)]\n",
    "\n",
    "\n",
    "# Uma lista de linhas representando o sudoku.\n",
    "rows = [ ]\n",
    "for r in range(9):\n",
    "    ok = False\n",
    "    while not ok:\n",
    "        row = input(\"Digite a linha #\" + str(r + 1) + \": \")\n",
    "        ok = len(row) == 9 or row.isdigit()\n",
    "        if not ok:\n",
    "            print(\"Dados da linha incorretos - são necessários 9 dígitos\")\n",
    "    rows.append(row)\n",
    "\n",
    "ok = True\n",
    "\n",
    "# Verifica se todas as linhas são válidas.\n",
    "for r in range(9):\n",
    "    if not checkset(rows[r]):\n",
    "        ok = False\n",
    "        break\n",
    "\n",
    "# Verifica se todas as colunas são válidas.\t\n",
    "if ok:\n",
    "    for c in range(9):\n",
    "        col = []\n",
    "        for r in range(9):\n",
    "            col.append(rows[r][c])\n",
    "        if not checkset(col):\n",
    "            ok = False\n",
    "            break\n",
    "\n",
    "# Verifica se todos os sub-quadrados (3x3) são válidos.\n",
    "if ok:\n",
    "    for r in range(0, 9, 3):\n",
    "        for c in range(0, 9, 3):\n",
    "            sqr = ''\n",
    "            # Cria uma string contendo todos os dígitos de um sub-quadrado.\n",
    "            for i in range(3):\n",
    "                sqr += rows[r+i][c:c+3]\n",
    "            if not checkset(list(sqr)):\n",
    "                ok = False\n",
    "                break\n",
    "\n",
    "# Imprime o veredito final.\n",
    "if ok:\n",
    "    print(\"Sim\")\n",
    "else:\n",
    "    print(\"Não\")\n"
   ]
  },
  {
   "cell_type": "code",
   "execution_count": null,
   "id": "607dc5fa",
   "metadata": {},
   "outputs": [],
   "source": []
  }
 ],
 "metadata": {
  "kernelspec": {
   "display_name": "Python 3 (ipykernel)",
   "language": "python",
   "name": "python3"
  },
  "language_info": {
   "codemirror_mode": {
    "name": "ipython",
    "version": 3
   },
   "file_extension": ".py",
   "mimetype": "text/x-python",
   "name": "python",
   "nbconvert_exporter": "python",
   "pygments_lexer": "ipython3",
   "version": "3.11.5"
  }
 },
 "nbformat": 4,
 "nbformat_minor": 5
}
