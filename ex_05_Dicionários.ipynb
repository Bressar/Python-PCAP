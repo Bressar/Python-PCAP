{
 "cells": [
  {
   "cell_type": "markdown",
   "id": "7734d481",
   "metadata": {},
   "source": [
    "# Dictionaries\n",
    "\n",
    "each key must be unique - it's not possible to have more than one key of the same value;\n",
    "\n",
    "a key may be any immutable type of object: it can be a number (integer or float), or even a string, but not a list;\n",
    "    \n",
    "a dictionary is not a list - a list contains a set of numbered values, while a dictionary holds pairs of values;\n",
    "\n",
    "the len() function works for dictionaries, too - it returns the numbers of key-value elements in the dictionary;\n",
    "\n",
    "a dictionary is a one-way tool - if you have an English-French dictionary,\n",
    "you can look for French equivalents of English terms, but not vice versa."
   ]
  },
  {
   "cell_type": "code",
   "execution_count": 14,
   "id": "4e49af3c",
   "metadata": {
    "scrolled": true
   },
   "outputs": [
    {
     "name": "stdout",
     "output_type": "stream",
     "text": [
      "{'cat': 'chat', 'dog': 'chien', 'horse': 'cheval', 'bird': 'oiseau'}\n",
      "{'boss': 5551234567, 'Suzy': 22657854310}\n",
      "{}\n",
      "chat\n",
      "22657854310\n"
     ]
    }
   ],
   "source": [
    "dictionary = {\"cat\": \"chat\",\n",
    "              \"dog\": \"chien\",\n",
    "              \"horse\": \"cheval\",\n",
    "             \"bird\": \"oiseau\"}\n",
    "\n",
    "phone_numbers = {'boss': 5551234567,\n",
    "                 'Suzy': 22657854310}\n",
    "\n",
    "empty_dictionary = {}\n",
    "\n",
    "print(dictionary)\n",
    "print(phone_numbers)\n",
    "print(empty_dictionary)\n",
    "\n",
    "print(dictionary['cat'])\n",
    "print(phone_numbers['Suzy'])\n"
   ]
  },
  {
   "cell_type": "code",
   "execution_count": 15,
   "id": "481db12a",
   "metadata": {},
   "outputs": [
    {
     "name": "stdout",
     "output_type": "stream",
     "text": [
      "cat -> gato\n",
      "lion is not in dictionary\n",
      "horse -> cavalo\n"
     ]
    }
   ],
   "source": [
    "animais = {\n",
    "            \"cat\": \"gato\",\n",
    "            \"dog\": \"cão\",\n",
    "            \"horse\": \"cavalo\",\n",
    "            \"bear\": \"urso\"\n",
    "            }\n",
    "\n",
    "words = ['cat', 'lion', 'horse']\n",
    "\n",
    "for word in words:\n",
    "    if word in animais:\n",
    "        print(word, \"->\", animais[word])\n",
    "    else:\n",
    "        print(word, \"is not in dictionary\")"
   ]
  },
  {
   "cell_type": "code",
   "execution_count": 16,
   "id": "0c59f771",
   "metadata": {},
   "outputs": [
    {
     "name": "stdout",
     "output_type": "stream",
     "text": [
      "cat\n",
      "dog\n",
      "horse\n",
      "bird\n"
     ]
    }
   ],
   "source": [
    "# Imprimindo as keys do dicionario: .keys()\n",
    "\n",
    "for key in dictionary.keys():\n",
    "    print(key)"
   ]
  },
  {
   "cell_type": "code",
   "execution_count": 17,
   "id": "b7fbd1a4",
   "metadata": {},
   "outputs": [
    {
     "name": "stdout",
     "output_type": "stream",
     "text": [
      "chat\n",
      "chien\n",
      "cheval\n"
     ]
    }
   ],
   "source": [
    "#### imprimindo os valuews: .values()\n",
    "\n",
    "dictionary = {\"cat\": \"chat\", \"dog\": \"chien\", \"horse\": \"cheval\"}\n",
    "\n",
    "for french in dictionary.values():\n",
    "    print(french)"
   ]
  },
  {
   "cell_type": "code",
   "execution_count": 18,
   "id": "9a86ce35",
   "metadata": {},
   "outputs": [
    {
     "name": "stdout",
     "output_type": "stream",
     "text": [
      "cat -> chat\n",
      "dog -> chien\n",
      "horse -> cheval\n"
     ]
    }
   ],
   "source": [
    "#### Imprimindo as keys e os values do dicionario \n",
    "\n",
    "for key in dictionary.keys():\n",
    "    print(key, \"->\", dictionary[key])\n",
    "    "
   ]
  },
  {
   "cell_type": "code",
   "execution_count": 21,
   "id": "0110f97b",
   "metadata": {},
   "outputs": [
    {
     "name": "stdout",
     "output_type": "stream",
     "text": [
      "cat -> chat\n",
      "dog -> chien\n",
      "horse -> cheval\n",
      "bird -> oiseau\n"
     ]
    }
   ],
   "source": [
    "### Usando .tems() pra impimir keys e values\n",
    "\n",
    "dictionary = {\"cat\": \"chat\", \n",
    "              \"dog\": \"chien\", \n",
    "              \"horse\": \"cheval\",\n",
    "             \"bird\": \"oiseau\"}\n",
    "\n",
    "for key, value in dictionary.items(): # indica keys e values no loop for\n",
    "    print(key, \"->\", value)\n",
    "    "
   ]
  },
  {
   "cell_type": "code",
   "execution_count": 22,
   "id": "d17397fd",
   "metadata": {},
   "outputs": [
    {
     "name": "stdout",
     "output_type": "stream",
     "text": [
      "bird -> oiseau\n",
      "cat -> chat\n",
      "dog -> chien\n",
      "horse -> cheval\n"
     ]
    }
   ],
   "source": [
    "#### colocando o dicionario em ordem alfabetica\n",
    "\n",
    "for key in sorted(dictionary.keys()):\n",
    "    print(key, \"->\", dictionary[key])\n",
    "    "
   ]
  },
  {
   "cell_type": "code",
   "execution_count": 23,
   "id": "38ac13c0",
   "metadata": {},
   "outputs": [
    {
     "name": "stdout",
     "output_type": "stream",
     "text": [
      "cat -> minou\n",
      "dog -> chien\n",
      "horse -> cheval\n"
     ]
    }
   ],
   "source": [
    "#### Mudando values em um dicionário\n",
    "\n",
    "dictionary = {\"cat\": \"chat\", \"dog\": \"chien\", \"horse\": \"cheval\"}\n",
    "\n",
    "dictionary['cat'] = 'minou' # key \"cat\" recebe: \"minou\"\n",
    "\n",
    "for key, value in dictionary.items(): # indica keys e values no loop for\n",
    "    print(key, \"->\", value)"
   ]
  },
  {
   "cell_type": "code",
   "execution_count": 31,
   "id": "d804610c",
   "metadata": {},
   "outputs": [
    {
     "name": "stdout",
     "output_type": "stream",
     "text": [
      "{'cat': 'chat', 'dog': 'chien', 'horse': 'cheval', 'swan': 'cygne'}\n"
     ]
    }
   ],
   "source": [
    "#### Adding a new key\n",
    "\n",
    "dictionary = {\"cat\": \"chat\", \"dog\": \"chien\", \"horse\": \"cheval\"}\n",
    "\n",
    "dictionary['swan'] = 'cygne' # inclui no fim do dicionário\n",
    "print(dictionary)"
   ]
  },
  {
   "cell_type": "code",
   "execution_count": 32,
   "id": "13937d0a",
   "metadata": {},
   "outputs": [
    {
     "name": "stdout",
     "output_type": "stream",
     "text": [
      "{'cat': 'chat', 'dog': 'chien', 'horse': 'cheval', 'duck': 'canard'}\n"
     ]
    }
   ],
   "source": [
    "#### Adding a new key usando update()\n",
    "\n",
    "dictionary = {\"cat\": \"chat\", \"dog\": \"chien\", \"horse\": \"cheval\"}\n",
    "\n",
    "dictionary.update({\"duck\": \"canard\"})\n",
    "print(dictionary)\n"
   ]
  },
  {
   "cell_type": "code",
   "execution_count": 33,
   "id": "3a5583b3",
   "metadata": {},
   "outputs": [
    {
     "name": "stdout",
     "output_type": "stream",
     "text": [
      "{'cat': 'chat', 'horse': 'cheval'}\n"
     ]
    }
   ],
   "source": [
    "# Removing a key - using del\n",
    "\n",
    "dictionary = {\"cat\": \"chat\", \"dog\": \"chien\", \"horse\": \"cheval\"}\n",
    "\n",
    "del dictionary['dog']\n",
    "print(dictionary)\n",
    "\n",
    "#Note: removing a non-existing key causes an error."
   ]
  },
  {
   "cell_type": "code",
   "execution_count": 36,
   "id": "0c83e781",
   "metadata": {},
   "outputs": [
    {
     "name": "stdout",
     "output_type": "stream",
     "text": [
      "{'cat': 'chat', 'dog': 'chien'}\n"
     ]
    }
   ],
   "source": [
    "# remove the last item in a dictionary, you can use the popitem()\n",
    "\n",
    "dictionary = {\"cat\": \"chat\", \"dog\": \"chien\", \"horse\": \"cheval\"}\n",
    "\n",
    "dictionary.popitem() # elimia o ultimo item\n",
    "\n",
    "print(dictionary)    # outputs: {'cat': 'chat', 'dog': 'chien'}\n"
   ]
  },
  {
   "cell_type": "code",
   "execution_count": 24,
   "id": "644a487b",
   "metadata": {},
   "outputs": [
    {
     "name": "stdout",
     "output_type": "stream",
     "text": [
      "Escreva o nome do aluno: Maria Bonita\n",
      "Escreva a nota do aluno (0-10): 9\n",
      "Escreva o nome do aluno: Lampião\n",
      "Escreva a nota do aluno (0-10): 5\n",
      "Escreva o nome do aluno: Corisco\n",
      "Escreva a nota do aluno (0-10): 7\n",
      "Escreva o nome do aluno: Maria Bonita\n",
      "Escreva a nota do aluno (0-10): 4\n",
      "Escreva o nome do aluno: Corisco\n",
      "Escreva a nota do aluno (0-10): 2\n",
      "Escreva o nome do aluno: Lampião\n",
      "Escreva a nota do aluno (0-10): 3\n",
      "Escreva o nome do aluno:  \n",
      "Escreva a nota do aluno (0-10): 25\n",
      "Corisco : 4.5\n",
      "Lampião : 4.0\n",
      "Maria Bonita : 6.5\n",
      "Maria Bonita -> (9, 4)\n",
      "Lampião -> (5, 3)\n",
      "Corisco -> (7, 2)\n"
     ]
    }
   ],
   "source": [
    "# Tuplas e dicionarios juntos\n",
    "\n",
    "turma_alunos = {} # os values de dicionario serão tuplas de notas\n",
    "\n",
    "\n",
    "while True:\n",
    "    nome = input(\"Escreva o nome do aluno: \")\n",
    "    if nome == '':\n",
    "        break\n",
    "        \n",
    "    score = int(input(\"Escreva a nota do aluno (0-10): \"))\n",
    "    if score not in range(0, 11):\n",
    "        break\n",
    "        \n",
    "    if nome in turma_alunos:\n",
    "        turma_alunos[nome] += (score,) # se o nome existe a nota  vai para score\n",
    "    else:\n",
    "        turma_alunos[nome] = (score,) # se o nome não existe ele é criado nesse momento\n",
    "        \n",
    "for nome in sorted(turma_alunos.keys()):\n",
    "    adding = 0\n",
    "    counter = 0\n",
    "    for score in turma_alunos[nome]: # itera sobre cada nome de aluno\n",
    "        adding += score # soma as notas\n",
    "        counter += 1 # contador da quantidade de notas\n",
    "    print(nome, \":\", adding / counter) # soma das notas / quantidade de notas\n",
    "    \n",
    "# for debug\n",
    "for key, value in turma_alunos.items():\n",
    "    print(key, \"->\", value)\n"
   ]
  },
  {
   "cell_type": "markdown",
   "id": "354c079b",
   "metadata": {},
   "source": [
    "# Revisão"
   ]
  },
  {
   "cell_type": "code",
   "execution_count": 46,
   "id": "f9a24790",
   "metadata": {},
   "outputs": [
    {
     "name": "stdout",
     "output_type": "stream",
     "text": [
      "soil\n",
      "water\n",
      "\n",
      "\n",
      "lock\n",
      "\n",
      "\n",
      "{'Adam': 3456783958}\n",
      "{}\n"
     ]
    }
   ],
   "source": [
    "# criando um dicionario:\n",
    "my_dictionary = {\n",
    "    \"key1\": \"value1\",\n",
    "    \"key2\": \"value2\",\n",
    "    \"key3\": \"value3\",\n",
    "    }\n",
    "\n",
    "# acessando os dados\n",
    "\n",
    "pol_eng_dictionary = {\n",
    "    \"kwiat\": \"flower\",\n",
    "    \"woda\": \"water\",\n",
    "    \"gleba\": \"soil\"\n",
    "    }\n",
    "\n",
    "item_1 = pol_eng_dictionary[\"gleba\"]    # ex. 1\n",
    "print(item_1)    # outputs: soil\n",
    "\n",
    "item_2 = pol_eng_dictionary.get(\"woda\")\n",
    "print(item_2)    # outputs: water\n",
    "\n",
    "print(\"\\n\")\n",
    "\n",
    "# Modificando Values\n",
    "\n",
    "pol_eng_dictionary = {\n",
    "    \"zamek\": \"castle\",\n",
    "    \"woda\": \"water\",\n",
    "    \"gleba\": \"soil\"\n",
    "    }\n",
    "\n",
    "pol_eng_dictionary[\"zamek\"] = \"lock\"\n",
    "item = pol_eng_dictionary[\"zamek\"]    \n",
    "print(item)  # outputs: lock\n",
    "\n",
    "print(\"\\n\")\n",
    "# Adicionando ou removendo keys e values\n",
    "\n",
    "phonebook = {}    # an empty dictionary\n",
    "\n",
    "phonebook[\"Adam\"] = 3456783958    # create/add a key-value pair\n",
    "print(phonebook)    # outputs: {'Adam': 3456783958}\n",
    "\n",
    "del phonebook[\"Adam\"]\n",
    "print(phonebook)    # outputs: {}\n"
   ]
  },
  {
   "cell_type": "code",
   "execution_count": 47,
   "id": "66b2d008",
   "metadata": {},
   "outputs": [
    {
     "name": "stdout",
     "output_type": "stream",
     "text": [
      "{'kwiat': 'flower', 'gleba': 'soil'}\n",
      "{'kwiat': 'flower'}\n"
     ]
    }
   ],
   "source": [
    "# usando o .update() para adicinar key/value ou o popitem() para remover o último elemento\n",
    "\n",
    "pol_eng_dictionary = {\"kwiat\": \"flower\"}\n",
    "\n",
    "pol_eng_dictionary.update({\"gleba\": \"soil\"}) # adiciona\n",
    "print(pol_eng_dictionary)    # outputs: {'kwiat': 'flower', 'gleba': 'soil'}\n",
    "\n",
    "pol_eng_dictionary.popitem() # remove o ultimo\n",
    "print(pol_eng_dictionary)    # outputs: {'kwiat': 'flower'}"
   ]
  },
  {
   "cell_type": "code",
   "execution_count": 52,
   "id": "485d7481",
   "metadata": {},
   "outputs": [
    {
     "name": "stdout",
     "output_type": "stream",
     "text": [
      "zamek\n",
      "woda\n",
      "gleba\n",
      "\n",
      "\n",
      "Pol/Eng -> zamek : castle\n",
      "Pol/Eng -> woda : water\n",
      "Pol/Eng -> gleba : soil\n",
      "\n",
      "\n",
      "castle\n",
      "water\n",
      "soil\n"
     ]
    }
   ],
   "source": [
    "# usando loop for \n",
    "# em keys\n",
    "\n",
    "pol_eng_dictionary = {\n",
    "    \"zamek\": \"castle\",\n",
    "    \"woda\": \"water\",\n",
    "    \"gleba\": \"soil\"\n",
    "    }\n",
    "\n",
    "for item in pol_eng_dictionary:\n",
    "    print(item) \n",
    "\n",
    "# outputs: zamek\n",
    "#          woda\n",
    "#          gleba\n",
    "\n",
    "print(\"\\n\")\n",
    "# Loop for para keys and values, usar o .items()\n",
    "\n",
    "for key, value in pol_eng_dictionary.items():\n",
    "    print(\"Pol/Eng ->\", key, \":\", value)\n",
    "    \n",
    "print(\"\\n\")\n",
    "# Loop for para values, usar o .values()\n",
    "\n",
    "for value in pol_eng_dictionary.values():\n",
    "    print(value)\n",
    "    \n",
    "    "
   ]
  },
  {
   "cell_type": "code",
   "execution_count": 25,
   "id": "0a54e569",
   "metadata": {},
   "outputs": [
    {
     "name": "stdout",
     "output_type": "stream",
     "text": [
      "Yes\n",
      "No\n"
     ]
    }
   ],
   "source": [
    "# Verificando se existe no dicionario, in e not in, só vale para key\n",
    "\n",
    "pol_eng_dictionary = {\n",
    "    \"zamek\": \"castle\",\n",
    "    \"woda\": \"water\",\n",
    "    \"gleba\": \"soil\"\n",
    "    }\n",
    "\n",
    "if \"zamek\" in pol_eng_dictionary:\n",
    "    print(\"Yes\")\n",
    "else:\n",
    "    print(\"No\")\n",
    "    \n",
    "    \n",
    "if \"castle\" in pol_eng_dictionary: # só vale para KEY\n",
    "    print(\"Yes\")\n",
    "else:\n",
    "    print(\"No\")\n"
   ]
  },
  {
   "cell_type": "code",
   "execution_count": 58,
   "id": "3c9d0d7d",
   "metadata": {},
   "outputs": [
    {
     "name": "stdout",
     "output_type": "stream",
     "text": [
      "3\n",
      "2\n",
      "0\n"
     ]
    }
   ],
   "source": [
    "# apagando um item ou um dicionario inteiro usando del e .clear()\n",
    "\n",
    "pol_eng_dictionary = {\n",
    "    \"zamek\": \"castle\",\n",
    "    \"woda\": \"water\",\n",
    "    \"gleba\": \"soil\"\n",
    "    }\n",
    "\n",
    "print(len(pol_eng_dictionary))    # outputs: 3\n",
    "\n",
    "del pol_eng_dictionary[\"zamek\"]    # remove an item\n",
    "print(len(pol_eng_dictionary))    # outputs: 2\n",
    "\n",
    "pol_eng_dictionary.clear()   # removes all the items\n",
    "print(len(pol_eng_dictionary))    # outputs: 0\n",
    "\n",
    "del pol_eng_dictionary    # removes the dictionary\n",
    "\n",
    "\n",
    "# copiando um dicionario usando o .copy()\n",
    "\n",
    "pol_eng_dictionary = {\n",
    "    \"zamek\": \"castle\",\n",
    "    \"woda\": \"water\",\n",
    "    \"gleba\": \"soil\"\n",
    "    }\n",
    "\n",
    "copy_dictionary = pol_eng_dictionary.copy()"
   ]
  },
  {
   "cell_type": "code",
   "execution_count": 61,
   "id": "8bb8e375",
   "metadata": {},
   "outputs": [
    {
     "name": "stdout",
     "output_type": "stream",
     "text": [
      "{'Adam Smith': 'A', 'Judy Paxton': 'B+', 'Mary Louis': 'A', 'Patrick White': 'C'}\n"
     ]
    }
   ],
   "source": [
    "# Unindo Dicionarios\n",
    "\n",
    "d1 = {'Adam Smith': 'A', 'Judy Paxton': 'B+'}\n",
    "d2 = {'Mary Louis': 'A', 'Patrick White': 'C'}\n",
    "d3 = {}\n",
    "\n",
    "for item in (d1, d2):\n",
    "    d3.update(item)\n",
    "    \n",
    "print(d3)"
   ]
  },
  {
   "cell_type": "code",
   "execution_count": 62,
   "id": "730c8558",
   "metadata": {},
   "outputs": [
    {
     "name": "stdout",
     "output_type": "stream",
     "text": [
      "('car', 'Ford', 'flower', 'Tulip')\n",
      "{'green': '#008000', 'blue': '#0000FF'}\n"
     ]
    }
   ],
   "source": [
    "# cast to tuple/dict\n",
    "\n",
    "my_list = [\"car\", \"Ford\", \"flower\", \"Tulip\"]\n",
    "\n",
    "t =  tuple(my_list)\n",
    "print(t)\n",
    "\n",
    "\n",
    "colors = ((\"green\", \"#008000\"), (\"blue\", \"#0000FF\"))\n",
    "\n",
    "colors_dictionary = dict(colors) # tupla para dicionario\n",
    "\n",
    "print(colors_dictionary)"
   ]
  },
  {
   "cell_type": "code",
   "execution_count": 26,
   "id": "66aaeecc",
   "metadata": {},
   "outputs": [
    {
     "name": "stdout",
     "output_type": "stream",
     "text": [
      "{'A': 1, 'B': 2}\n",
      "{}\n"
     ]
    }
   ],
   "source": [
    "# Usando copy, funciona igual copiar uma lista ex:\n",
    "# lista_copy = lista[:]\n",
    "\n",
    "my_dictionary = {\"A\": 1, \"B\": 2}\n",
    "\n",
    "copy_my_dictionary = my_dictionary.copy() # faz a cópia\n",
    "\n",
    "my_dictionary.clear() # limpa os dados\n",
    "\n",
    "print(copy_my_dictionary)\n",
    "print(my_dictionary)"
   ]
  },
  {
   "cell_type": "code",
   "execution_count": 64,
   "id": "2dba8dd3",
   "metadata": {},
   "outputs": [
    {
     "name": "stdout",
     "output_type": "stream",
     "text": [
      "{}\n"
     ]
    }
   ],
   "source": [
    "# Se apenas instaciar, tudo que é feito no original vale para a cópia e vice-versa\n",
    "\n",
    "my_dictionary = {\"A\": 1, \"B\": 2}\n",
    "\n",
    "copy_my_dictionary = my_dictionary \n",
    "\n",
    "my_dictionary.clear()\n",
    "\n",
    "print(copy_my_dictionary)"
   ]
  },
  {
   "cell_type": "code",
   "execution_count": 65,
   "id": "1cfc85c9",
   "metadata": {},
   "outputs": [
    {
     "name": "stdout",
     "output_type": "stream",
     "text": [
      "white : (255, 255, 255)\n",
      "grey : (128, 128, 128)\n",
      "red : (255, 0, 0)\n",
      "green : (0, 128, 0)\n"
     ]
    }
   ],
   "source": [
    "# Imprimindo keys and values:\n",
    "colors = {\n",
    "    \"white\": (255, 255, 255),\n",
    "    \"grey\": (128, 128, 128),\n",
    "    \"red\": (255, 0, 0),\n",
    "    \"green\": (0, 128, 0)\n",
    "    }\n",
    "\n",
    "for col, rgb in colors.items():\n",
    "    print(col, \":\", rgb)"
   ]
  },
  {
   "cell_type": "code",
   "execution_count": 68,
   "id": "530ef9d0",
   "metadata": {},
   "outputs": [
    {
     "name": "stdout",
     "output_type": "stream",
     "text": [
      "cat : chat\n",
      "dog : chien\n",
      "horse : cheval\n"
     ]
    }
   ],
   "source": [
    "dic2 = {'Nome': 'Mane', 'Idade': 123} # dicionario\n",
    "\n",
    "def visualizar_dict(nome_dict):\n",
    "    for key, value in nome_dict.items():\n",
    "        print(f'{key} : {value}')\n",
    "\n",
    "visualizar_dict(dic2)"
   ]
  },
  {
   "cell_type": "code",
   "execution_count": null,
   "id": "1f73a379",
   "metadata": {},
   "outputs": [],
   "source": []
  }
 ],
 "metadata": {
  "kernelspec": {
   "display_name": "Python 3 (ipykernel)",
   "language": "python",
   "name": "python3"
  },
  "language_info": {
   "codemirror_mode": {
    "name": "ipython",
    "version": 3
   },
   "file_extension": ".py",
   "mimetype": "text/x-python",
   "name": "python",
   "nbconvert_exporter": "python",
   "pygments_lexer": "ipython3",
   "version": "3.11.5"
  }
 },
 "nbformat": 4,
 "nbformat_minor": 5
}
