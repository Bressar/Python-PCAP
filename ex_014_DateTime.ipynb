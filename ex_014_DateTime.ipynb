{
 "cells": [
  {
   "cell_type": "markdown",
   "id": "b7acaab8",
   "metadata": {},
   "source": [
    "# Date Time"
   ]
  },
  {
   "cell_type": "code",
   "execution_count": 2,
   "id": "93a5bbfd",
   "metadata": {},
   "outputs": [
    {
     "name": "stdout",
     "output_type": "stream",
     "text": [
      "Today: 2024-09-03\n",
      "Year: 2024\n",
      "Month: 9\n",
      "Day: 3\n"
     ]
    }
   ],
   "source": [
    "from datetime import date \n",
    "\n",
    "hoje = date.today()\n",
    "\n",
    "print(\"Today:\", hoje)\n",
    "print(\"Year:\", hoje.year)\n",
    "print(\"Month:\", hoje.month)\n",
    "print(\"Day:\", hoje.day)\n",
    "\n",
    "\n",
    "# O método today retorna um objeto de data que representa a data local atual.\n",
    "# Observe que o objeto de data possui três atributos: year, month, e day.\n",
    "\n",
    "# Cuidado! Esses atributos são somente leitura."
   ]
  },
  {
   "cell_type": "code",
   "execution_count": 2,
   "id": "183d42df",
   "metadata": {},
   "outputs": [
    {
     "name": "stdout",
     "output_type": "stream",
     "text": [
      "2024-08-30\n"
     ]
    }
   ],
   "source": [
    "# Para criar um objeto de data, passar os parâmetros year, month, e day da seguinte forma:\n",
    "\n",
    "from datetime import date\n",
    "\n",
    "my_date = date(2024, 8, 30)\n",
    "print(my_date)\n"
   ]
  },
  {
   "cell_type": "markdown",
   "id": "fa645fb1",
   "metadata": {},
   "source": [
    "### Criando um objeto de data a partir de um timestamp\n",
    "\n",
    "A classe date nos dá a capacidade de criar um objeto de data a partir de um timestamp.\n",
    "\n",
    "No Unix, o timestamp expressa o número de segundos desde 1º de janeiro de 1970, 00:00:00 (UTC).\n",
    "Essa data é chamada de Unix epoch, porque é a partir desse momento que a contagem do tempo\n",
    "começou nos sistemas Unix.\n",
    "\n",
    "O timestamp é, na verdade, a diferença entre uma data específica (incluindo o horário)\n",
    "e 1º de janeiro de 1970, 00:00:00 (UTC), expressa em segundos.\n",
    "\n",
    "Para criar um objeto de data a partir de um timestamp,\n",
    "devemos passar um timestamp Unix para o método fromtimestamp.\n",
    "\n",
    "Para esse propósito, podemos usar o módulo time, que fornece funções relacionadas ao tempo.\n",
    "Uma delas é uma função chamada time(), que retorna o número de segundos\n",
    "desde 1º de janeiro de 1970 até o momento atual na forma de um número flutuante. \n",
    "\n",
    "Veja o exemplo"
   ]
  },
  {
   "cell_type": "code",
   "execution_count": 3,
   "id": "370a25fa",
   "metadata": {},
   "outputs": [
    {
     "name": "stdout",
     "output_type": "stream",
     "text": [
      "Timestamp: 1725365758.6294224\n",
      "Date: 2024-09-03\n"
     ]
    }
   ],
   "source": [
    "from datetime import date\n",
    "import time\n",
    "# time() retorna o número de segundos desde 1º de janeiro de 1970 até o momento atual na forma de um número flutuante.\n",
    "\n",
    "timestamp = time.time()\n",
    "print(\"Timestamp:\", timestamp)\n",
    "\n",
    "data = date.fromtimestamp(timestamp)\n",
    "print(\"Date:\", data)\n",
    "    "
   ]
  },
  {
   "cell_type": "markdown",
   "id": "cbf3c445",
   "metadata": {},
   "source": [
    "### Criando um objeto de data usando o formato ISO\n",
    "\n",
    "O método fromisoformat, aceita uma data no formato YYYY-MM-DD, conforme o padrão ISO 8601.\n",
    "O padrão ISO 8601 define como a data e a hora são representadas.\n",
    "\n",
    "**Ao substituir a data, certifique-se de adicionar 0 antes de um mês\n",
    "ou dia que seja expresso por um número menor que 10.**\n",
    "\n",
    "YYYY - year (e.g., 1990)\n",
    "MM - month (e.g., 11)\n",
    "DD - day (e.g., 18)\n"
   ]
  },
  {
   "cell_type": "code",
   "execution_count": 4,
   "id": "86942892",
   "metadata": {},
   "outputs": [
    {
     "name": "stdout",
     "output_type": "stream",
     "text": [
      "1991-02-05\n",
      "2011-02-03\n",
      "1939-02-03\n",
      "1939-11-03\n",
      "1939-11-22\n",
      "1971-09-02\n"
     ]
    }
   ],
   "source": [
    "# replace() method\n",
    "\n",
    "from datetime import date\n",
    "\n",
    "data = date(1991, 2, 5)\n",
    "print(data)\n",
    "\n",
    "data = data.replace(year=2011, month=2, day=3)\n",
    "print(data)\n",
    " \n",
    "    \n",
    "# Os parâmetros ano, mês e dia são opcionais.\n",
    "# Você pode passar apenas um parâmetro para o método replace,\n",
    "# por exemplo, o ano, ou todos os três, como no exemplo.\n",
    "\n",
    "data = data.replace(year=1939)\n",
    "print(data)\n",
    "\n",
    "data = data.replace(month=11)\n",
    "print(data)\n",
    "\n",
    "data = data.replace(day = 22)\n",
    "print(data)\n",
    "\n",
    "data = data.replace(1971, 9, 2)\n",
    "print(data)\n"
   ]
  },
  {
   "cell_type": "code",
   "execution_count": 5,
   "id": "1be9b4d7",
   "metadata": {},
   "outputs": [
    {
     "name": "stdout",
     "output_type": "stream",
     "text": [
      "4\n"
     ]
    }
   ],
   "source": [
    "# Dia da semana -> 0 is Monday and 6 is Sunday\n",
    "\n",
    "from datetime import date\n",
    "\n",
    "d = date(2024, 8, 30) # sexta-feira\n",
    "print(d.weekday())\n"
   ]
  },
  {
   "cell_type": "code",
   "execution_count": 6,
   "id": "62df856c",
   "metadata": {},
   "outputs": [
    {
     "name": "stdout",
     "output_type": "stream",
     "text": [
      "5\n"
     ]
    }
   ],
   "source": [
    "# A classe date possui um método semelhante chamado isoweekday() -> ISO 85601 specification,\n",
    "# que também retorna o dia da semana como um número inteiro,\n",
    "# mas 1 é segunda-feira e 7 é domingo:\n",
    "\n",
    "from datetime import date\n",
    "\n",
    "d = date(2024, 8, 30)\n",
    "print(d.isoweekday())  # sexta-feira\n"
   ]
  },
  {
   "cell_type": "code",
   "execution_count": 7,
   "id": "ab169317",
   "metadata": {},
   "outputs": [
    {
     "name": "stdout",
     "output_type": "stream",
     "text": [
      "Time: 14:53:20.000001\n",
      "Hour: 14\n",
      "Minute: 53\n",
      "Second: 20\n",
      "Microsecond: 1\n"
     ]
    }
   ],
   "source": [
    "# Criando time objects\n",
    "\n",
    "from datetime import time\n",
    "\n",
    "t = time(14, 53, 20, 1)\n",
    "\n",
    "print(\"Time:\", t)\n",
    "print(\"Hour:\", t.hour)\n",
    "print(\"Minute:\", t.minute)\n",
    "print(\"Second:\", t.second)\n",
    "print(\"Microsecond:\", t.microsecond)\n",
    "  \n",
    "# In the example, we passed four parameters to the class constructor:\n",
    "#     hour, minute, second, and microsecond.\n",
    "# Each of them can be accessed using the class attributes.\n"
   ]
  },
  {
   "cell_type": "code",
   "execution_count": 8,
   "id": "b35ef3ff",
   "metadata": {},
   "outputs": [
    {
     "name": "stdout",
     "output_type": "stream",
     "text": [
      "I'm very tired. I have to take a nap. See you later.\n",
      "I slept well! I feel great!\n"
     ]
    }
   ],
   "source": [
    "# time.sleep() # em segundos\n",
    "\n",
    "import time\n",
    "\n",
    "class Student:\n",
    "    def take_nap(self, seconds):\n",
    "        print(\"I'm very tired. I have to take a nap. See you later.\")\n",
    "        time.sleep(seconds)\n",
    "        print(\"I slept well! I feel great!\")\n",
    "\n",
    "student = Student()\n",
    "student.take_nap(5)\n"
   ]
  },
  {
   "cell_type": "code",
   "execution_count": 9,
   "id": "443d7fd0",
   "metadata": {},
   "outputs": [
    {
     "name": "stdout",
     "output_type": "stream",
     "text": [
      "Mon Nov  4 14:53:00 2019\n"
     ]
    }
   ],
   "source": [
    "# A função ctime()\n",
    "# O módulo time fornece uma função chamada ctime, \n",
    "# que converte o tempo em segundos desde 1º de janeiro de 1970 (Unix epoch) para uma string.\n",
    "\n",
    "import time\n",
    "\n",
    "timestamp = 1572879180\n",
    "print(time.ctime(timestamp))\n",
    "\n",
    "# November 4, 2019 at 14:53:00.\n",
    "    "
   ]
  },
  {
   "cell_type": "code",
   "execution_count": 10,
   "id": "0af4094d",
   "metadata": {},
   "outputs": [
    {
     "name": "stdout",
     "output_type": "stream",
     "text": [
      "Tue Sep  3 13:16:05 2024\n"
     ]
    }
   ],
   "source": [
    "# Também é possível chamar a função ctime sem especificar o tempo em segundos.\n",
    "# Nesse caso, o horário atual será retornado:\n",
    "\n",
    "import time\n",
    "print(time.ctime())\n"
   ]
  },
  {
   "cell_type": "markdown",
   "id": "8c1df204",
   "metadata": {},
   "source": [
    "## funções gmtime() e localtime()\n",
    "\n",
    "Algumas das funções disponíveis no módulo time exigem conhecimento da classe struct_time,\n",
    "mas antes de conhecê-las, vamos ver como a classe se apresenta:\n",
    "\n",
    "time.struct_time:\n",
    " "
   ]
  },
  {
   "cell_type": "code",
   "execution_count": 11,
   "id": "73d5eef2",
   "metadata": {},
   "outputs": [
    {
     "ename": "SyntaxError",
     "evalue": "invalid syntax (4061061599.py, line 1)",
     "output_type": "error",
     "traceback": [
      "\u001b[1;36m  Cell \u001b[1;32mIn[11], line 1\u001b[1;36m\u001b[0m\n\u001b[1;33m    time.struct_time:\u001b[0m\n\u001b[1;37m                     ^\u001b[0m\n\u001b[1;31mSyntaxError\u001b[0m\u001b[1;31m:\u001b[0m invalid syntax\n"
     ]
    }
   ],
   "source": [
    "time.struct_time:\n",
    "    tm_year   # Specifies the year.\n",
    "    tm_mon    # Specifies the month (value from 1 to 12)\n",
    "    tm_mday   # Specifies the day of the month (value from 1 to 31)\n",
    "    tm_hour   # Specifies the hour (value from 0 to 23)\n",
    "    tm_min    # Specifies the minute (value from 0 to 59)\n",
    "    tm_sec    # Specifies the second (value from 0 to 61 )\n",
    "    tm_wday    # Specifies the weekday (value from 0 to 6)\n",
    "    tm_yday   # Specifies the year day (value from 1 to 366)\n",
    "    tm_isdst  # Specifies whether daylight saving time applies (1 – yes, 0 – no, -1 – it isn't known)\n",
    "    tm_zone   # Specifies the timezone name (value in an abbreviated form)\n",
    "    tm_gmtoff # Specifies the offset east of UTC (value in seconds)\n"
   ]
  },
  {
   "cell_type": "markdown",
   "id": "5f2b5346",
   "metadata": {},
   "source": [
    "A classe struct_time também permite o acesso aos valores usando índices.\n",
    "O índice 0 retorna o valor em tm_year, enquanto o índice 8 retorna o valor em tm_isdst.\n",
    "\n",
    "As exceções são tm_zone e tm_gmtoff, que não podem ser acessadas usando índices."
   ]
  },
  {
   "cell_type": "code",
   "execution_count": null,
   "id": "57a634da",
   "metadata": {},
   "outputs": [
    {
     "name": "stdout",
     "output_type": "stream",
     "text": [
      "time.struct_time(tm_year=2019, tm_mon=11, tm_mday=4, tm_hour=14, tm_min=53, tm_sec=0, tm_wday=0, tm_yday=308, tm_isdst=0)\n",
      "time.struct_time(tm_year=2019, tm_mon=11, tm_mday=4, tm_hour=14, tm_min=53, tm_sec=0, tm_wday=0, tm_yday=308, tm_isdst=0)\n"
     ]
    }
   ],
   "source": [
    "import time\n",
    "\n",
    "timestamp = 1572879180\n",
    "print(time.gmtime(timestamp))\n",
    "print(time.localtime(timestamp))\n"
   ]
  },
  {
   "cell_type": "markdown",
   "id": "d98faa20",
   "metadata": {},
   "source": [
    "*O exemplo mostra duas funções que convertem o tempo decorrido desde o Unix epoch para um objeto struct_time.\n",
    "A diferença entre elas é que a função gmtime retorna o objeto struct_time em UTC,\n",
    "enquanto a função localtime retorna o horário local.*\n",
    "\n",
    "**Para a função gmtime, o atributo tm_isdst é sempre 0.**"
   ]
  },
  {
   "cell_type": "code",
   "execution_count": null,
   "id": "b33a5966",
   "metadata": {},
   "outputs": [
    {
     "name": "stdout",
     "output_type": "stream",
     "text": [
      "time.struct_time(tm_year=2024, tm_mon=8, tm_mday=30, tm_hour=21, tm_min=22, tm_sec=11, tm_wday=4, tm_yday=243, tm_isdst=0)\n",
      "time.struct_time(tm_year=2024, tm_mon=8, tm_mday=30, tm_hour=22, tm_min=22, tm_sec=11, tm_wday=4, tm_yday=243, tm_isdst=1)\n"
     ]
    }
   ],
   "source": [
    "import time\n",
    "\n",
    "timestamp = 1725052931\n",
    "print(time.gmtime(timestamp))\n",
    "print(time.localtime(timestamp))\n",
    "\n",
    "# tm_hour !="
   ]
  },
  {
   "cell_type": "code",
   "execution_count": null,
   "id": "fdb36d69",
   "metadata": {},
   "outputs": [
    {
     "name": "stdout",
     "output_type": "stream",
     "text": [
      "Mon Nov  4 14:53:00 2019\n",
      "1572879180.0\n"
     ]
    }
   ],
   "source": [
    "# funções asctime() e mktime()\n",
    "    \n",
    "# O módulo time possui funções que esperam um objeto struct_time\n",
    "# ou uma tupla que armazena valores de acordo com os índices\n",
    "# apresentados ao discutir a classe struct_time. \n",
    "\n",
    "import time\n",
    "\n",
    "timestamp = 1572879180\n",
    "st = time.gmtime(timestamp)\n",
    "\n",
    "print(time.asctime(st))\n",
    "print(time.mktime((2019, 11, 4, 14, 53, 0, 0, 308, 0)))\n",
    "    "
   ]
  },
  {
   "cell_type": "markdown",
   "id": "4563a470",
   "metadata": {},
   "source": [
    "A primeira das funções, chamada asctime, converte um objeto struct_time ou uma tupla em uma string.\n",
    "Observe que a conhecida função gmtime é usada para obter o objeto struct_time.\n",
    "Se você não fornecer um argumento para a função asctime,\n",
    "o horário retornado pela função localtime será utilizado.\n",
    "\n",
    "A segunda função, chamada mktime, converte um objeto struct_time ou uma tupla \n",
    "que expressa o horário local para o número de segundos desde o Unix epoch.\n",
    "No nosso exemplo, passamos uma tupla para ela, que consiste nos seguintes valores:\n",
    "    \n",
    "2019 => tm_year\n",
    "11 => tm_mon\n",
    "4 => tm_mday\n",
    "14 => tm_hour\n",
    "53 => tm_min\n",
    "0 => tm_sec\n",
    "0 => tm_wday\n",
    "308 => tm_yday\n",
    "0 => tm_isdst\n"
   ]
  },
  {
   "cell_type": "code",
   "execution_count": null,
   "id": "94429376",
   "metadata": {},
   "outputs": [
    {
     "name": "stdout",
     "output_type": "stream",
     "text": [
      "2024-08-30 23:14:10\n"
     ]
    }
   ],
   "source": [
    "## Criando objetos datetime\n",
    "\n",
    "# No módulo datetime, a data e a hora podem ser representadas separadamente ou como um único objeto.\n",
    "# A classe que combina data e hora é chamada datetime.\n",
    "\n",
    "# datetime(year, month, day, hour, minute, second, microsecond, tzinfo, fold)\n",
    "\n",
    "import datetime\n",
    "# Corrigido: removido tzinfo ou passado como None\n",
    "data = datetime.datetime(year=2024, month=8, day=30, hour=23, minute=14, second=10, microsecond=0, fold=0)\n",
    "print(data)"
   ]
  },
  {
   "cell_type": "code",
   "execution_count": null,
   "id": "e0dfd629",
   "metadata": {},
   "outputs": [],
   "source": [
    "### Métodos que retornam a data e hora atuais\n",
    "\n",
    "A classe datetime possui vários métodos que retornam a data e hora atuais. Esses métodos são:\n",
    "\n",
    "today() — retorna a data e hora local atual com o atributo tzinfo definido como None;\n",
    "\n",
    "now() — retorna a data e hora local atual, da mesma forma que o método today,\n",
    "a menos que um argumento opcional tz seja passado para ele.\n",
    "O argumento desse método deve ser um objeto da subclasse tzinfo;\n",
    "\n",
    "utcnow() — retorna a data e hora UTC atual com o atributo tzinfo definido como None.\n"
   ]
  },
  {
   "cell_type": "code",
   "execution_count": null,
   "id": "8b1427cb",
   "metadata": {},
   "outputs": [
    {
     "name": "stdout",
     "output_type": "stream",
     "text": [
      "today: 2024-08-30 23:23:06.438484\n",
      "now: 2024-08-30 23:23:06.438484\n",
      "utcnow: 2024-08-30 22:23:06.438484\n"
     ]
    }
   ],
   "source": [
    "from datetime import datetime\n",
    "\n",
    "print(\"today:\", datetime.today())\n",
    "print(\"now:\", datetime.now())\n",
    "print(\"utcnow:\", datetime.utcnow())\n",
    "\n",
    "# o resultado de todos os três métodos é o mesmo (utcnow dá 1 hora a menos no fuso de PT).\n",
    "# As pequenas diferenças são causadas pelo tempo decorrido entre as chamadas subsequentes."
   ]
  },
  {
   "cell_type": "code",
   "execution_count": null,
   "id": "098ca46b",
   "metadata": {},
   "outputs": [
    {
     "name": "stdout",
     "output_type": "stream",
     "text": [
      "Timestamp: 1601819700.0\n"
     ]
    }
   ],
   "source": [
    "# Obtendo um timestamp\n",
    "\n",
    "# Existem muitos conversores disponíveis na Internet que podem calcular um timestamp\n",
    "# com base em uma data e hora fornecidas, mas como podemos fazer isso no módulo datetime?\n",
    "\n",
    "from datetime import datetime\n",
    "\n",
    "dt = datetime(2020, 10, 4, 14, 55)\n",
    "print(\"Timestamp:\", dt.timestamp())\n",
    "\n",
    "# O método timestamp retorna um valor flutuante que expressa o número de segundos decorridos entre\n",
    "# a data e hora indicadas pelo objeto datetime e 1º de janeiro de 1970, 00:00:00 (UTC)."
   ]
  },
  {
   "cell_type": "markdown",
   "id": "7efb672c",
   "metadata": {},
   "source": [
    "## Strftime\n",
    "\n",
    "### Formatação de data e hora\n",
    "\n",
    "Todas as classes do módulo datetime apresentadas até agora possuem um método chamado strftime.\n",
    "Este é um método muito importante, pois nos permite retornar a data e a hora no formato que especificamos.\n",
    "\n",
    "O método strftime recebe apenas um argumento na forma de uma string que especifica um formato\n",
    "que pode consistir em diretivas.\n",
    "\n",
    "Uma diretiva é uma string composta pelo caractere % (porcentagem) e uma letra minúscula ou maiúscula.\n",
    "Por exemplo, a diretiva %Y representa o ano com o século como um número decimal.\n",
    "Vamos ver isso em um exemplo. "
   ]
  },
  {
   "cell_type": "code",
   "execution_count": null,
   "id": "ae107216",
   "metadata": {},
   "outputs": [
    {
     "name": "stdout",
     "output_type": "stream",
     "text": [
      "2020/01/04\n",
      "2020-01-04\n"
     ]
    }
   ],
   "source": [
    "from datetime import date\n",
    "\n",
    "d = date(2020, 1, 4)\n",
    "print(d.strftime('%Y/%m/%d'))\n",
    "print(d)\n",
    "\n",
    "# %Y – retorna o ano com o século como um número decimal. No nosso exemplo, é 2020.\n",
    "# %m – retorna o mês como um número decimal com zero à esquerda. No nosso exemplo, é 01.\n",
    "# %d – retorna o dia como um número decimal com zero à esquerda. No nosso exemplo, é 04.\n",
    "\n",
    "# todas as diretivas : https://docs.python.org/3/library/datetime.html#strftime-and-strptime-format-codes"
   ]
  },
  {
   "cell_type": "code",
   "execution_count": null,
   "id": "d47c2969",
   "metadata": {},
   "outputs": [
    {
     "name": "stdout",
     "output_type": "stream",
     "text": [
      "14:53:00\n",
      "20/November/04 14:53:00\n"
     ]
    }
   ],
   "source": [
    "from datetime import time\n",
    "from datetime import datetime\n",
    "\n",
    "t = time(14, 53)\n",
    "print(t.strftime(\"%H:%M:%S\"))\n",
    "\n",
    "dt = datetime(2020, 11, 4, 14, 53)\n",
    "print(dt.strftime(\"%y/%B/%d %H:%M:%S\"))\n",
    "    "
   ]
  },
  {
   "cell_type": "markdown",
   "id": "3828c7c0",
   "metadata": {},
   "source": [
    "### A função strftime() no módulo time\n",
    "\n",
    "A função strftime está disponível no módulo time.\n",
    "Ela difere um pouco dos métodos strftime nas classes fornecidas pelo módulo datetime,\n",
    "porque, além do argumento de formato, também pode aceitar (opcionalmente) uma tupla ou um objeto struct_time.\n",
    "\n",
    "Se você não passar uma tupla ou um objeto struct_time, a formatação será feita usando a hora local atual. "
   ]
  },
  {
   "cell_type": "code",
   "execution_count": null,
   "id": "46d52b43",
   "metadata": {},
   "outputs": [
    {
     "name": "stdout",
     "output_type": "stream",
     "text": [
      "2019/11/04 14:53:00\n",
      "2024/08/30 23:40:31\n"
     ]
    }
   ],
   "source": [
    "import time\n",
    "\n",
    "timestamp = 1572879180\n",
    "st = time.gmtime(timestamp)\n",
    "\n",
    "print(time.strftime(\"%Y/%m/%d %H:%M:%S\", st))\n",
    "print(time.strftime(\"%Y/%m/%d %H:%M:%S\")) # formatação será feita usando a hora local atual\n"
   ]
  },
  {
   "cell_type": "markdown",
   "id": "cea7632e",
   "metadata": {},
   "source": [
    "### O método strptime()\n",
    "\n",
    "Saber como criar um formato pode ser útil ao usar um método chamado strptime na classe datetime.\n",
    "Ao contrário do método strftime, que formata um objeto datetime para uma string,\n",
    "o strptime cria um objeto datetime a partir de uma string que representa uma data e hora.\n",
    "\n",
    "O método strptime exige que você especifique o formato no qual você salvou a data e a hora. \n"
   ]
  },
  {
   "cell_type": "code",
   "execution_count": null,
   "id": "bd3fc999",
   "metadata": {},
   "outputs": [
    {
     "name": "stdout",
     "output_type": "stream",
     "text": [
      "2019-11-04 14:53:00\n",
      "time.struct_time(tm_year=2019, tm_mon=11, tm_mday=4, tm_hour=14, tm_min=53, tm_sec=0, tm_wday=0, tm_yday=308, tm_isdst=-1)\n"
     ]
    }
   ],
   "source": [
    "from datetime import datetime\n",
    "print(datetime.strptime(\"2019/11/04 14:53:00\", \"%Y/%m/%d %H:%M:%S\"))\n",
    "\n",
    "\n",
    "# Cuidado, porque se o formato que você especificar não corresponder à data e hora na string,\n",
    "# será levantado um ValueError.\n",
    "\n",
    "# Nota: No módulo time, você pode encontrar uma função chamada strptime,\n",
    "# que analisa uma string representando um horário para um objeto struct_time.\n",
    "# Seu uso é análogo ao método strptime na classe datetime:\n",
    "\n",
    "import time\n",
    "print(time.strptime(\"2019/11/04 14:53:00\", \"%Y/%m/%d %H:%M:%S\"))\n"
   ]
  },
  {
   "cell_type": "markdown",
   "id": "0b835fda",
   "metadata": {},
   "source": [
    "## timedelta\n",
    "\n",
    "Operações com data e hora\n",
    "Para realizar alguns cálculos com a data e a hora.\n",
    "classe chamada timedelta no módulo datetime.\n",
    "\n",
    "Para criar um objeto timedelta, basta realizar uma subtração entre objetos date ou datetime.\n"
   ]
  },
  {
   "cell_type": "code",
   "execution_count": null,
   "id": "70ce072b",
   "metadata": {},
   "outputs": [
    {
     "name": "stdout",
     "output_type": "stream",
     "text": [
      "366 days, 0:00:00\n",
      "365 days, 9:07:00\n"
     ]
    }
   ],
   "source": [
    "from datetime import date\n",
    "from datetime import datetime\n",
    "\n",
    "d1 = date(2020, 11, 4)\n",
    "d2 = date(2019, 11, 4)\n",
    "\n",
    "print(d1 - d2)\n",
    "\n",
    "dt1 = datetime(2020, 11, 4, 0, 0, 0)\n",
    "dt2 = datetime(2019, 11, 4, 14, 53, 0)\n",
    "\n",
    "print(dt1 - dt2)\n",
    "    "
   ]
  },
  {
   "cell_type": "markdown",
   "id": "0e22eaa6",
   "metadata": {},
   "source": [
    "## Criando objetos timedelta\n",
    "\n",
    "Argumentos aceitos pelo construtor da classe, que são:\n",
    "days, seconds, microseconds, milliseconds, minutes, hours e weeks.\n",
    "Cada um deles é opcional e tem o valor padrão 0.\n"
   ]
  },
  {
   "cell_type": "code",
   "execution_count": null,
   "id": "73fce4d9",
   "metadata": {},
   "outputs": [
    {
     "name": "stdout",
     "output_type": "stream",
     "text": [
      "16 days, 3:00:00\n"
     ]
    }
   ],
   "source": [
    "from datetime import timedelta\n",
    "\n",
    "delta = timedelta(weeks=2, days=2, hours=3)\n",
    "print(delta)\n",
    "    "
   ]
  },
  {
   "cell_type": "code",
   "execution_count": null,
   "id": "546c3f76",
   "metadata": {},
   "outputs": [
    {
     "name": "stdout",
     "output_type": "stream",
     "text": [
      "Days: 16\n",
      "Seconds: 10800\n",
      "Microseconds: 0\n"
     ]
    }
   ],
   "source": [
    "# O resultado de 16 dias é obtido convertendo o argumento weeks em dias (2 semanas = 14 dias)\n",
    "# e adicionando o argumento days (2 dias). Isso é comportamento normal,\n",
    "# porque o objeto timedelta armazena internamente apenas dias, segundos e microssegundos.\n",
    "# Da mesma forma, o argumento hours é convertido em minutos. Veja o exemplo abaixo:\n",
    "\n",
    "from datetime import timedelta\n",
    "\n",
    "delta = timedelta(weeks=2, days=2, hours=3)\n",
    "print(\"Days:\", delta.days)\n",
    "print(\"Seconds:\", delta.seconds)\n",
    "print(\"Microseconds:\", delta.microseconds)\n",
    "\n"
   ]
  },
  {
   "cell_type": "code",
   "execution_count": null,
   "id": "eba1fad4",
   "metadata": {},
   "outputs": [
    {
     "name": "stdout",
     "output_type": "stream",
     "text": [
      "16 days, 2:00:00\n",
      "32 days, 4:00:00\n",
      "2019-11-05\n",
      "2019-11-05 18:53:00\n"
     ]
    }
   ],
   "source": [
    "from datetime import timedelta\n",
    "from datetime import date\n",
    "from datetime import datetime\n",
    "\n",
    "delta = timedelta(weeks=2, days=2, hours=2)\n",
    "print(delta)\n",
    "\n",
    "delta2 = delta * 2\n",
    "print(delta2)\n",
    "\n",
    "d = date(2019, 10, 4) + delta2\n",
    "print(d)\n",
    "\n",
    "dt = datetime(2019, 10, 4, 14, 53) + delta2\n",
    "print(dt)\n",
    "    "
   ]
  },
  {
   "cell_type": "markdown",
   "id": "2887e5b4",
   "metadata": {},
   "source": [
    "### Exercício:\n",
    "\n",
    "Escreva um programa que crie um objeto datetime para o dia 4 de novembro de 2020, 14:53:00.\n",
    "O objeto criado deve chamar o método strftime com o formato adequado para exibir o seguinte resultado:\n",
    "    \n",
    "    2020/11/04 14:53:00\n",
    "    20/November/04 14:53:00 PM\n",
    "    Wed, 2020 Nov 04\n",
    "    Wednesday, 2020 November 04\n",
    "    Weekday: 3\n",
    "    Day of the year: 309\n",
    "    Week number of the year: 44\n",
    "    \n",
    "*Nota: Cada linha de resultado deve ser criada chamando o método strftime \n",
    "com pelo menos uma diretiva no argumento de formato.*"
   ]
  },
  {
   "cell_type": "code",
   "execution_count": 3,
   "id": "56b33f0e",
   "metadata": {},
   "outputs": [
    {
     "name": "stdout",
     "output_type": "stream",
     "text": [
      "2020/11/04 14:53:00\n",
      "20/November/04 14:53:00 PM\n",
      "Wed, 2020 Nov 04 \n",
      "Wednesday, 2020 November 04 \n",
      "Weekday: 3\n",
      "Dia do ano: 309\n",
      "Número da semana do ano: 44\n"
     ]
    }
   ],
   "source": [
    "from datetime import datetime\n",
    "\n",
    "minha_data = datetime(2020, 11, 4, 14, 53)\n",
    "#print(minha_data)\n",
    "\n",
    "print(minha_data.strftime(\"%Y/%m/%d %H:%M:%S\"))\n",
    "print(minha_data.strftime(\"%y/%B/%d %H:%M:%S %p\"))\n",
    "print(minha_data.strftime(\"%a, %Y %b %d \"))\n",
    "print(minha_data.strftime(\"%A, %Y %B %d \"))\n",
    "print(minha_data.strftime(\"Weekday: %w\")) # conta a domingo como 0\n",
    "print(minha_data.strftime(\"Dia do ano: %j\"))\n",
    "print(minha_data.strftime(\"Número da semana do ano: %U\"))\n"
   ]
  },
  {
   "cell_type": "code",
   "execution_count": 4,
   "id": "fbee5cb7",
   "metadata": {},
   "outputs": [
    {
     "name": "stdout",
     "output_type": "stream",
     "text": [
      "2024/09/03 13:28:16\n",
      "24/September/03 13:28:16 PM\n",
      "Tue, 2024 Sep 03 \n",
      "Tuesday, 2024 September 03 \n",
      "Weekday: 2\n",
      "Dia do ano: 247\n",
      "Número da semana do ano: 35\n"
     ]
    }
   ],
   "source": [
    "from datetime import datetime \n",
    "\n",
    "hoje = datetime.now() # datetime.now() para obter a data e hora atuais\n",
    "\n",
    "print(hoje.strftime(\"%Y/%m/%d %H:%M:%S\"))\n",
    "print(hoje.strftime(\"%y/%B/%d %H:%M:%S %p\"))\n",
    "print(hoje.strftime(\"%a, %Y %b %d \"))\n",
    "print(hoje.strftime(\"%A, %Y %B %d \"))\n",
    "print(hoje.strftime(\"Weekday: %w\"))\n",
    "print(hoje.strftime(\"Dia do ano: %j\"))\n",
    "print(hoje.strftime(\"Número da semana do ano: %U\"))\n"
   ]
  },
  {
   "cell_type": "markdown",
   "id": "d8919eb7",
   "metadata": {},
   "source": [
    "## Resumo"
   ]
  },
  {
   "cell_type": "code",
   "execution_count": 5,
   "id": "c55fa54a",
   "metadata": {},
   "outputs": [
    {
     "name": "stdout",
     "output_type": "stream",
     "text": [
      "Year: 2020\n",
      "Month: 9\n",
      "Day: 29\n"
     ]
    }
   ],
   "source": [
    "#Para criar um date object, deve passar: year, month, e day:\n",
    "\n",
    "from datetime import date\n",
    "\n",
    "my_date = date(2020, 9, 29)\n",
    "print(\"Year:\", my_date.year) # Year: 2020\n",
    "print(\"Month:\", my_date.month) # Month: 9\n",
    "print(\"Day:\", my_date.day) # Day: 29\n",
    "\n",
    "# O objeto de data possui três atributos (somente leitura): ano, mês e dia."
   ]
  },
  {
   "cell_type": "code",
   "execution_count": 6,
   "id": "cc7adf55",
   "metadata": {},
   "outputs": [
    {
     "name": "stdout",
     "output_type": "stream",
     "text": [
      "Today: 2024-09-03\n"
     ]
    }
   ],
   "source": [
    "# O método today retorna um date object representando a data local atual:\n",
    "\n",
    "from datetime import date\n",
    "print(\"Today:\", date.today()) # Displays: Today: 2020-09-29\n"
   ]
  },
  {
   "cell_type": "code",
   "execution_count": 7,
   "id": "7265953b",
   "metadata": {},
   "outputs": [
    {
     "name": "stdout",
     "output_type": "stream",
     "text": [
      "1725366509.0887306\n",
      "2024-09-03\n"
     ]
    }
   ],
   "source": [
    "# No Unix, o timestamp expressa o número de segundos desde 1º de janeiro de 1970, 00:00:00 (UTC).\n",
    "# Essa data é chamada de \"época Unix\", porque foi quando começou a contagem do tempo nos sistemas Unix.\n",
    "# O timestamp é, na verdade, a diferença entre uma data específica (incluindo o horário)\n",
    "# e 1º de janeiro de 1970, 00:00:00 (UTC), expressa em segundos. Para criar um objeto de data a partir\n",
    "# de um timestamp, devemos passar um timestamp Unix para o método fromtimestamp:\n",
    "\n",
    "from datetime import date\n",
    "import time\n",
    "\n",
    "timestamp = time.time()\n",
    "d = date.fromtimestamp(timestamp)\n",
    "\n",
    "print(timestamp)\n",
    "print(d)\n",
    "\n",
    "# Nota: A função time retorna o número de segundos desde 1º de janeiro de 1970\n",
    "#       até o momento atual na forma de um número float."
   ]
  },
  {
   "cell_type": "code",
   "execution_count": 8,
   "id": "26e43627",
   "metadata": {},
   "outputs": [
    {
     "name": "stdout",
     "output_type": "stream",
     "text": [
      "Hour: 13\n",
      "Minute: 22\n",
      "Second: 20\n"
     ]
    }
   ],
   "source": [
    "# O construtor da classe time aceita 6 argumentos:\n",
    "#  (hour, minute, second, microsecond, tzinfo, and fold). \n",
    "# cada um desses argumentos são opcionais\n",
    "\n",
    "from datetime import time\n",
    " \n",
    "t = time(13, 22, 20)\n",
    " \n",
    "print(\"Hour:\", t.hour) # Hour: 13\n",
    "print(\"Minute:\", t.minute) # Minute: 22\n",
    "print(\"Second:\", t.second) # Second: 20"
   ]
  },
  {
   "cell_type": "code",
   "execution_count": 9,
   "id": "d95660c0",
   "metadata": {},
   "outputs": [
    {
     "name": "stdout",
     "output_type": "stream",
     "text": [
      "Vai Corinthians!\n"
     ]
    }
   ],
   "source": [
    "# sleep function, suspende a execução do programa a partir de um número de segundos fornecidos:\n",
    "\n",
    "import time\n",
    " \n",
    "time.sleep(5)\n",
    "print(\"Vai Corinthians!\") # This text will be displayed after 5 seconds.\n",
    " "
   ]
  },
  {
   "cell_type": "code",
   "execution_count": 10,
   "id": "bc95163c",
   "metadata": {},
   "outputs": [
    {
     "name": "stdout",
     "output_type": "stream",
     "text": [
      "Datetime: 2020-09-29 13:51:00\n"
     ]
    }
   ],
   "source": [
    "# No módulo datetime, a data e a hora podem ser representadas como objetos separados ou como um único objeto.\n",
    "# A classe que combina data e hora é chamada de datetime.\n",
    "# Todos os argumentos passados para o construtor são atribuídos a atributos de classe somente leitura.\n",
    "# Esses atributos são:\n",
    "# year (ano), month (mês), day (dia), hour (hora), minute (minuto), second (segundo),\n",
    "# microsecond (microssegundo), tzinfo (informações de fuso horário) e fold (dobramento).\n",
    "\n",
    "from datetime import datetime\n",
    "\n",
    "dt = datetime(2020, 9, 29, 13, 51)\n",
    "print(\"Datetime:\", dt) # Displays: Datetime: 2020-09-29 13:51:00\n"
   ]
  },
  {
   "cell_type": "code",
   "execution_count": 11,
   "id": "c75ca788",
   "metadata": {},
   "outputs": [
    {
     "name": "stdout",
     "output_type": "stream",
     "text": [
      "2020/09/29\n"
     ]
    }
   ],
   "source": [
    "# O método strftime aceita apenas um argumento, que é uma string especificando\n",
    "# um formato que pode consistir em diretivas.\n",
    "# Uma diretiva é uma string composta pelo caractere % (percentual) seguido por uma letra maiúscula ou minúscula.\n",
    "\n",
    "# Abaixo estão algumas diretivas úteis:\n",
    "\n",
    "# %Y – retorna o ano com o século como um número decimal;\n",
    "# %m – retorna o mês como um número decimal com zero à esquerda;\n",
    "# %d – retorna o dia como um número decimal com zero à esquerda;\n",
    "# %H – retorna a hora como um número decimal com zero à esquerda;\n",
    "# %M – retorna o minuto como um número decimal com zero à esquerda;\n",
    "# %S – retorna o segundo como um número decimal com zero à esquerda.\n",
    "\n",
    "from datetime import date\n",
    "\n",
    "d = date(2020, 9, 29)\n",
    "print(d.strftime('%Y/%m/%d')) # Displays: 2020/09/29\n"
   ]
  },
  {
   "cell_type": "code",
   "execution_count": 12,
   "id": "a1890b44",
   "metadata": {},
   "outputs": [
    {
     "name": "stdout",
     "output_type": "stream",
     "text": [
      "366 days, 0:00:00\n",
      "732 days, 0:00:00\n"
     ]
    }
   ],
   "source": [
    "# É possível realizar cálculos em objetos date e datetime, por exemplo:\n",
    "\n",
    "from datetime import date\n",
    "\n",
    "d1 = date(2020, 11, 4)\n",
    "d2 = date(2019, 11, 4)\n",
    "\n",
    "d = d1 - d2\n",
    "print(d)  # Exibe: 366 days, 0:00:00.\n",
    "print(d * 2)  # Exibe: 732 days, 0:00:00.\n",
    "\n",
    "# O resultado da subtração é retornado como um objeto timedelta,\n",
    "# que expressa a diferença em dias entre as duas datas no exemplo acima.\n",
    "\n",
    "# Observe que a diferença em horas, minutos e segundos também é exibida.\n",
    "# O objeto timedelta pode ser usado para cálculos adicionais (por exemplo, você pode multiplicá-lo por 2)."
   ]
  },
  {
   "cell_type": "code",
   "execution_count": 13,
   "id": "55825333",
   "metadata": {},
   "outputs": [
    {
     "name": "stdout",
     "output_type": "stream",
     "text": [
      "14:53:00\n"
     ]
    }
   ],
   "source": [
    "# Question 1: What is the output of the following snippet?\n",
    "\n",
    "from datetime import time\n",
    " \n",
    "t = time(14, 53)\n",
    "print(t.strftime(\"%H:%M:%S\"))\n"
   ]
  },
  {
   "cell_type": "code",
   "execution_count": 14,
   "id": "6b5a99e4",
   "metadata": {},
   "outputs": [
    {
     "name": "stdout",
     "output_type": "stream",
     "text": [
      "1 day, 0:00:00\n"
     ]
    }
   ],
   "source": [
    "# Question 2: What is the output of the following snippet?\n",
    "\n",
    "from datetime import datetime\n",
    " \n",
    "dt1 = datetime(2020, 9, 29, 14, 41, 0)\n",
    "dt2 = datetime(2020, 9, 28, 14, 41, 0)\n",
    " \n",
    "print(dt1 - dt2)\n",
    " "
   ]
  },
  {
   "cell_type": "markdown",
   "id": "1aa4c90e",
   "metadata": {},
   "source": []
  }
 ],
 "metadata": {
  "kernelspec": {
   "display_name": "Python 3 (ipykernel)",
   "language": "python",
   "name": "python3"
  },
  "language_info": {
   "codemirror_mode": {
    "name": "ipython",
    "version": 3
   },
   "file_extension": ".py",
   "mimetype": "text/x-python",
   "name": "python",
   "nbconvert_exporter": "python",
   "pygments_lexer": "ipython3",
   "version": "3.11.5"
  }
 },
 "nbformat": 4,
 "nbformat_minor": 5
}
