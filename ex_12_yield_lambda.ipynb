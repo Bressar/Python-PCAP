{
 "cells": [
  {
   "cell_type": "code",
   "execution_count": null,
   "id": "a521e4be",
   "metadata": {},
   "outputs": [],
   "source": [
    "# Generators -> Iteradores\n",
    "# trecho de código especializado capaz de produzir uma série de valores e controlar o processo de iteração\n",
    "\n",
    "\n",
    "# __iter__() que deve retornar o próprio objeto e que é invocado uma vez\n",
    "# (é necessário para o Python iniciar a iteração com sucesso);\n",
    "\n",
    "# __next__() que tem a intenção de retornar o próximo valor\n",
    "# (primeiro, segundo, e assim por diante) da série desejada\n",
    "# – ele será invocado pelas instruções for/in para passar para a próxima iteração;\n",
    "# se não houver mais valores a fornecer, o método deve gerar a exceção StopIteration.\n",
    "\n",
    "\n",
    "# mais comum:\n",
    "\n",
    "#     for i in range(5):\n",
    "#     print(i)\n",
    "\n",
    "\n",
    "\n",
    "# __iter__()\n",
    "''' retorna um iterador para o objeto fornecido como argumento.\n",
    "Um iterador é um objeto que implementa os métodos __iter__() e __next__(), \n",
    "permitindo que você itere sobre os elementos do objeto em um loop for. \n",
    "Por exemplo, ao chamar iter(objeto), você obtém um iterador para esse objeto, \n",
    "que pode ser usado para iterar sobre seus elementos em um loop for.\n",
    "'''\n",
    "\n",
    "# __next__()\n",
    "'''Usada para obter o próximo elemento de um iterador.\n",
    "Quando chamada, ela invoca o método __next__() do iterador fornecido como argumento.\n",
    "Se não houver mais elementos para fornecer, next() levanta a exceção StopIteration.\n",
    "Essa função é comumente usada em conjunto com um loop while para iterar sobre todos\n",
    "os elementos de um iterador.\n",
    "'''\n",
    "\n",
    "class Fib: # calculo fibonacci\n",
    "    def __init__(self, nn):\n",
    "        print(\"__init__\")\n",
    "        self.__n = nn # __n para armazenar o limite da série\n",
    "        self.__i = 0  # __i para rastrear o número de Fibonacci atual\n",
    "        self.__p1 = self.__p2 = 1 # para salvar os dois números anteriores\n",
    "\n",
    "    def __iter__(self):\n",
    "        print(\"__iter__\")\n",
    "        return self\n",
    "\n",
    "    def __next__(self):\n",
    "        print(\"__next__\")\t\t\t\t\n",
    "        self.__i += 1\n",
    "        if self.__i > self.__n:\n",
    "            raise StopIteration\n",
    "        if self.__i in [1, 2]:\n",
    "            return 1\n",
    "        ret = self.__p1 + self.__p2\n",
    "        self.__p1, self.__p2 = self.__p2, ret\n",
    "        return ret\n",
    "\n",
    "\n",
    "for i in Fib(10):\n",
    "    print(i)\n",
    "    \n",
    "    \n",
    "# primeiro, o objeto iterador é instanciado;\n",
    "\n",
    "# em seguida, o Python invoca o método __iter__ para obter acesso ao iterador propriamente dito;\n",
    "\n",
    "# o método __next__ é invocado onze vezes – as primeiras dez vezes produzem valores úteis,\n",
    "# enquanto a décima primeira encerra a iteração."
   ]
  },
  {
   "cell_type": "code",
   "execution_count": 2,
   "id": "fa3e5eac",
   "metadata": {},
   "outputs": [
    {
     "name": "stdout",
     "output_type": "stream",
     "text": [
      "Class iter\n",
      "1\n",
      "1\n",
      "2\n",
      "3\n",
      "5\n",
      "8\n",
      "13\n",
      "21\n"
     ]
    }
   ],
   "source": [
    "class Fib:\n",
    "    def __init__(self, nn):\n",
    "        self.__n = nn\n",
    "        self.__i = 0\n",
    "        self.__p1 = self.__p2 = 1\n",
    "\n",
    "    def __iter__(self):\n",
    "        print(\"Fib iter\")\n",
    "        return self\n",
    "\n",
    "    def __next__(self):\n",
    "        self.__i += 1\n",
    "        if self.__i > self.__n:\n",
    "            raise StopIteration\n",
    "        if self.__i in [1, 2]:\n",
    "            return 1\n",
    "        ret = self.__p1 + self.__p2\n",
    "        self.__p1, self.__p2 = self.__p2, ret\n",
    "        return ret\n",
    "\n",
    "\n",
    "class Class:\n",
    "    def __init__(self, n):\n",
    "        self.__iter = Fib(n)\n",
    "\n",
    "    def __iter__(self):\n",
    "        print(\"Class iter\")\n",
    "        return self.__iter\n",
    "\n",
    "\n",
    "object = Class(8)\n",
    "\n",
    "for i in object:\n",
    "    print(i)\n",
    "    "
   ]
  },
  {
   "cell_type": "code",
   "execution_count": 9,
   "id": "9dba85fd",
   "metadata": {
    "scrolled": true
   },
   "outputs": [
    {
     "name": "stdout",
     "output_type": "stream",
     "text": [
      "0\n",
      "1\n",
      "2\n",
      "3\n",
      "4\n"
     ]
    },
    {
     "data": {
      "text/plain": [
       "<generator object fun_yield at 0x000001CB25AC6E90>"
      ]
     },
     "execution_count": 9,
     "metadata": {},
     "output_type": "execute_result"
    }
   ],
   "source": [
    " # yield\n",
    "'''\n",
    "Quando uma função contém a palavra-chave yield, ela se torna um gerador.\n",
    "Isso significa que, em vez de retornar um valor imediatamente e encerrar a execução,\n",
    "a função pode pausar sua execução e retornar um valor,\n",
    "enquanto mantém seu estado interno intacto para a próxima chamada.\n",
    "'''    \n",
    "    \n",
    "def fun_return(n):\n",
    "    for i in range(n):\n",
    "        return i # quebra a execução na 1° iteração\n",
    "\n",
    "def fun_yield(n):\n",
    "    for i in range(n):\n",
    "        yield i\n",
    "\n",
    "for v in fun_yield(5):\n",
    "    print(v)\n",
    "\n",
    "# fun_yield(5) # se chamar só a função só a localização da variável na memória\n"
   ]
  },
  {
   "cell_type": "markdown",
   "id": "84247894",
   "metadata": {},
   "source": [
    "Substituímos return por yield. Essa pequena alteração transforma a função em um gerador,\n",
    "e a execução da instrução yield tem efeitos muito interessantes.\n",
    "\n",
    "Primeiro, ela fornece o valor da expressão especificada após a palavra-chave yield,\n",
    "assim como return, mas sem perder o estado da função.\n",
    "\n",
    "Todos os valores das variáveis são \"congelados\" e aguardam a próxima invocação,\n",
    "quando a execução é retomada (não iniciada do zero, como acontece após um return).\n",
    "\n",
    "Há uma limitação importante: uma função assim não deve ser invocada explicitamente,\n",
    "    pois – na verdade – ela não é mais uma função; é um objeto gerador.\n",
    "\n",
    "A invocação retornará o identificador do objeto, não a série que esperamos do gerador.\n",
    "\n",
    "Pelos mesmos motivos, a função anterior (a que usava return) só pode ser invocada explicitamente\n",
    "e não deve ser usada como um gerador.\n"
   ]
  },
  {
   "cell_type": "code",
   "execution_count": 6,
   "id": "900f989a",
   "metadata": {},
   "outputs": [
    {
     "data": {
      "text/plain": [
       "0"
      ]
     },
     "execution_count": 6,
     "metadata": {},
     "output_type": "execute_result"
    }
   ],
   "source": [
    "def fun_return(n):\n",
    "    for i in range(n):\n",
    "        return i # quebra a execução na 1° iteração, pára no 0\n",
    "    \n",
    "fun_return(5)       "
   ]
  },
  {
   "cell_type": "code",
   "execution_count": 10,
   "id": "80d537d3",
   "metadata": {},
   "outputs": [
    {
     "name": "stdout",
     "output_type": "stream",
     "text": [
      "1\n",
      "2\n",
      "4\n",
      "8\n",
      "16\n",
      "32\n",
      "64\n",
      "128\n"
     ]
    }
   ],
   "source": [
    "def powers_of_2(n): # números elevados a 2\n",
    "    power = 1\n",
    "    for i in range(n): # vai retornar: 1, 2, 3, 4...até o numero\n",
    "        yield power # passa o valor para power\n",
    "        power *= 2 # faz valor * valor\n",
    "\n",
    "for v in powers_of_2(8): \n",
    "    print(v)\n"
   ]
  },
  {
   "cell_type": "code",
   "execution_count": 12,
   "id": "6e54f51e",
   "metadata": {},
   "outputs": [
    {
     "name": "stdout",
     "output_type": "stream",
     "text": [
      "[1, 2, 4, 8, 16]\n"
     ]
    }
   ],
   "source": [
    "def powers_of_2(n): # números elevados a 2\n",
    "    power = 1\n",
    "    for i in range(n): # vai retornar: 1, 2, 3, 4...até o numero\n",
    "        yield power # passa o valor para power\n",
    "        power *= 2 # faz valor * valor\n",
    "\n",
    "\n",
    "t = [x for x in powers_of_2(5)] # imprime como lista\n",
    "\n",
    "print(t)\n"
   ]
  },
  {
   "cell_type": "code",
   "execution_count": 13,
   "id": "e2f67e5a",
   "metadata": {},
   "outputs": [
    {
     "name": "stdout",
     "output_type": "stream",
     "text": [
      "[1, 2, 4]\n"
     ]
    }
   ],
   "source": [
    "def powers_of_2(n): # números elevados a 2\n",
    "    power = 1\n",
    "    for i in range(n): # vai retornar: 1, 2, 3, 4...até o numero\n",
    "        yield power # passa o valor para power\n",
    "        power *= 2 # faz valor * valor\n",
    "        \n",
    "l = list(powers_of_2(3)) # cria uma lista de verdade\n",
    "\n",
    "print(l)\n"
   ]
  },
  {
   "cell_type": "code",
   "execution_count": 14,
   "id": "0e49700e",
   "metadata": {
    "scrolled": true
   },
   "outputs": [
    {
     "name": "stdout",
     "output_type": "stream",
     "text": [
      "1\n",
      "2\n",
      "4\n",
      "8\n"
     ]
    }
   ],
   "source": [
    "for i in range(20):\n",
    "    if i in powers_of_2(4): # usando 'in' para imprimir só um 'trecho especifico'\n",
    "        print(i)\n",
    "        "
   ]
  },
  {
   "cell_type": "code",
   "execution_count": 15,
   "id": "53ae5d88",
   "metadata": {},
   "outputs": [
    {
     "name": "stdout",
     "output_type": "stream",
     "text": [
      "[1, 1, 2, 3, 5, 8, 13, 21, 34, 55]\n"
     ]
    }
   ],
   "source": [
    "# Gerador de Fibonacci\n",
    "\n",
    "# p = pp = 1: Inicializa as duas primeiras variáveis da\n",
    "# sequência de Fibonacci (p e pp) com o valor 1,\n",
    "# que representam os dois primeiros números de Fibonacci.\n",
    "\n",
    "# O loop for i in range(n) itera n vezes, onde i representa\n",
    "# o índice da iteração atual (0 a n-1).\n",
    "\n",
    "# Condições no loop:\n",
    "# Se i é 0 ou 1 (os dois primeiros números da sequência),\n",
    "# a função usa yield 1 para retornar 1 como o próximo número de Fibonacci.\n",
    "\n",
    "# Para índices maiores que 1, a sequência de Fibonacci começa a ser calculada:\n",
    "# n = p + pp: Calcula o próximo número de Fibonacci como a soma dos dois anteriores (p e pp).\n",
    "# pp, p = p, n: Atualiza os valores de pp e p. Agora, pp assume o valor de p,\n",
    "# e p assume o valor do novo número de Fibonacci calculado (n).\n",
    "\n",
    "# yield n: Retorna o próximo número de Fibonacci.\n",
    "    \n",
    "    \n",
    "def fibonacci(n):\n",
    "    p = pp = 1\n",
    "    for i in range(n):\n",
    "        if i in [0, 1]:\n",
    "            yield 1\n",
    "        else:\n",
    "            n = p + pp\n",
    "            pp, p = p, n\n",
    "            yield n\n",
    "\n",
    "fibs = list(fibonacci(10))\n",
    "print(fibs)\n"
   ]
  },
  {
   "cell_type": "markdown",
   "id": "84897754",
   "metadata": {},
   "source": [
    "### Listas:"
   ]
  },
  {
   "cell_type": "code",
   "execution_count": 25,
   "id": "dfa1d843",
   "metadata": {},
   "outputs": [
    {
     "name": "stdout",
     "output_type": "stream",
     "text": [
      "[1, 10, 100, 1000, 10000, 100000]\n",
      "[1, 10, 100, 1000, 10000, 100000]\n"
     ]
    }
   ],
   "source": [
    "# usando loop for para acrescentar multiplos valores\n",
    "\n",
    "list_1 = []\n",
    "\n",
    "for ex in range(6):\n",
    "    list_1.append(10 ** ex)\n",
    "\n",
    "list_2 = [10 ** ex for ex in range(6)]\n",
    "\n",
    "print(list_1)\n",
    "print(list_2)\n",
    "\n",
    "# primeiro valor da lista é 1, porque 10 ** 0 -> 1\n",
    "# Pegadinha! todo número elevado a 0 resulta em  1\n"
   ]
  },
  {
   "cell_type": "code",
   "execution_count": 23,
   "id": "39bde977",
   "metadata": {},
   "outputs": [
    {
     "name": "stdout",
     "output_type": "stream",
     "text": [
      "1\n",
      "10\n",
      "100\n",
      "1000\n",
      "10000\n",
      "100000\n"
     ]
    }
   ],
   "source": [
    "for ex in range(6):\n",
    "    print(10 ** ex)"
   ]
  },
  {
   "cell_type": "code",
   "execution_count": 24,
   "id": "411a54ed",
   "metadata": {},
   "outputs": [
    {
     "name": "stdout",
     "output_type": "stream",
     "text": [
      "1\n"
     ]
    }
   ],
   "source": [
    "print(10 ** 0)"
   ]
  },
  {
   "cell_type": "code",
   "execution_count": 26,
   "id": "47e0c1db",
   "metadata": {},
   "outputs": [
    {
     "name": "stdout",
     "output_type": "stream",
     "text": [
      "[1, 0, 1, 0, 1, 0, 1, 0, 1, 0]\n"
     ]
    }
   ],
   "source": [
    "# Listas usando condições para acrescentar itens:\n",
    "the_list = []\n",
    "\n",
    "for x in range(10):\n",
    "    the_list.append(1 if x % 2 == 0 else 0) # se for impar=1, par=0\n",
    "\n",
    "print(the_list)"
   ]
  },
  {
   "cell_type": "code",
   "execution_count": 28,
   "id": "0cbe06f3",
   "metadata": {},
   "outputs": [
    {
     "name": "stdout",
     "output_type": "stream",
     "text": [
      "[1, 0, 1, 0, 1, 0, 1, 0, 1, 0]\n"
     ]
    }
   ],
   "source": [
    "the_list_1 = [1 if x % 2 == 0 else 0 for x in range(10)]\n",
    "\n",
    "print(the_list_1)"
   ]
  },
  {
   "cell_type": "code",
   "execution_count": 29,
   "id": "c9c305a7",
   "metadata": {},
   "outputs": [
    {
     "name": "stdout",
     "output_type": "stream",
     "text": [
      "1 0 1 0 1 0 1 0 1 0 \n",
      "1 0 1 0 1 0 1 0 1 0 \n",
      "10\n",
      "<generator object <genexpr> at 0x000001CB23FE0E10>\n"
     ]
    }
   ],
   "source": [
    "the_list = [1 if x % 2 == 0 else 0 for x in range(10)] # criou-se uma lista\n",
    "\n",
    "the_generator = (1 if x % 2 == 0 else 0 for x in range(10)) # apenas apresentou valores\n",
    "\n",
    "for v in the_list:\n",
    "    print(v, end=\" \")\n",
    "print()\n",
    "\n",
    "for v in the_generator:\n",
    "    print(v, end=\" \")\n",
    "print()\n",
    "\n",
    "print(len(the_list))\n",
    "\n",
    "print(the_generator) # cria apenas um espaço de variável na memória do pc\n",
    "\n",
    "# print(len(the_generator)) !Dá ERRO!\n"
   ]
  },
  {
   "cell_type": "markdown",
   "id": "442856c8",
   "metadata": {},
   "source": [
    "## Lambda\n",
    "\n",
    "A função lambda serve para simplificar o código, tornando-o mais claro e fácil de entender.\n",
    "\n",
    "Uma função lambda é uma função sem nome (função anônima). Claro, essa afirmação imediatamente levanta a questão: como você usa algo que não pode ser identificado?\n",
    "\n",
    "Pode-se nomear tal função se realmente precisar, mas, na verdade, em muitos casos, a função lambda pode existir e funcionar permanecendo completamente incógnita.\n",
    "\n",
    "A declaração da função lambda não se assemelha de nenhuma forma a uma declaração de função normal – veja:\n",
    "\n",
    "    lambda parâmetros: expressão\n",
    "    \n",
    "Tal cláusula retorna o valor da expressão levando em consideração o valor atual do argumento da lambda.\n"
   ]
  },
  {
   "cell_type": "code",
   "execution_count": 30,
   "id": "eff84e9e",
   "metadata": {},
   "outputs": [
    {
     "name": "stdout",
     "output_type": "stream",
     "text": [
      "4 4\n",
      "1 1\n",
      "0 0\n",
      "1 1\n",
      "4 4\n"
     ]
    }
   ],
   "source": [
    "# A primeira lambda é uma função anônima sem parâmetros que sempre retorna 2.\n",
    "# Como a atribuímos a uma variável chamada two, podemos dizer que a função não\n",
    "# é mais anônima, e podemos usar o nome para invocá-la.\n",
    "\n",
    "# A segunda é uma função anônima com um parâmetro que retorna o valor\n",
    "# do argumento elevado ao quadrado. Também a nomeamos dessa forma.\n",
    "\n",
    "# A terceira lambda recebe dois parâmetros e retorna o valor do\n",
    "# primeiro elevado à potência do segundo. O nome da variável que armazena a lambda\n",
    "# fala por si só. \n",
    "# Não usamos pow para evitar confusão com a função embutida de mesmo nome e propósito.\n",
    "\n",
    "\n",
    "two = lambda: 2\n",
    "sqr = lambda x: x * x\n",
    "pwr = lambda x, y: x ** y\n",
    "\n",
    "for a in range(-2, 3):\n",
    "    print(sqr(a), end=\" \")\n",
    "    print(pwr(a, two()))\n",
    "\n"
   ]
  },
  {
   "cell_type": "code",
   "execution_count": 32,
   "id": "1cae1f27",
   "metadata": {},
   "outputs": [
    {
     "name": "stdout",
     "output_type": "stream",
     "text": [
      "4 4\n",
      "9 9\n",
      "16 16\n"
     ]
    }
   ],
   "source": [
    "\n",
    "two = lambda: 2\n",
    "sqr = lambda x: x * x\n",
    "pwr = lambda x, y: x ** y\n",
    "\n",
    "for a in range(2, 5):\n",
    "    print(sqr(a), end=\" \")\n",
    "    print(pwr(a, two()))\n"
   ]
  },
  {
   "cell_type": "markdown",
   "id": "9e8e3c3d",
   "metadata": {},
   "source": [
    "### Como usar lambdas e para quê?\n",
    "\n",
    "O mais interessante sobre lambdas é que você pode usá-las em sua forma pura \n",
    "– como partes anônimas do código destinadas a avaliar um resultado.\n",
    "\n",
    "Imagine que precisamos de uma função (vamos chamá-la de print_function)\n",
    "que imprime os valores de uma determinada (outra) função para um conjunto\n",
    "de argumentos selecionados.\n",
    "\n",
    "Queremos que print_function seja universal – ela deve aceitar um conjunto\n",
    "de argumentos colocado em uma lista e uma função a ser avaliada,\n",
    "ambos como argumentos – não queremos codificar nada de forma fixa.\n"
   ]
  },
  {
   "cell_type": "code",
   "execution_count": 34,
   "id": "9b83ee0a",
   "metadata": {},
   "outputs": [
    {
     "name": "stdout",
     "output_type": "stream",
     "text": [
      "f(-2)=18\n",
      "f(-1)=8\n",
      "f(0)=2\n",
      "f(1)=0\n",
      "f(2)=2\n"
     ]
    }
   ],
   "source": [
    "# A função print_function() recebe dois parâmetros:\n",
    "\n",
    "# O primeiro, uma lista de argumentos para os quais queremos imprimir os resultados;\n",
    "\n",
    "# O segundo, uma função que deve ser invocada tantas vezes quanto o número de valores\n",
    "# coletados no primeiro parâmetro.\n",
    "\n",
    "# Observação: também definimos uma função chamada poly()\n",
    "# – esta é a função cujos valores vamos imprimir.\n",
    "\n",
    "# O cálculo que a função realiza não é muito sofisticado\n",
    "# – é um polinômio (daí o nome) da forma:\n",
    "\n",
    "#     f(x)=2 ** 2 −4x + 2\n",
    "    \n",
    "# O nome da função é então passado para print_function()\n",
    "# junto com um conjunto de cinco argumentos diferentes -> (-2, -1, 0, 1, 2,) -> range(-2, 3)\n",
    "# – o conjunto é criado com uma cláusula de compreensão de lista.    \n",
    "    \n",
    "    \n",
    "def print_function(args, fun):\n",
    "    for x in args:\n",
    "        print('f(', x,')=', fun(x), sep='')\n",
    "\n",
    "\n",
    "def poly(x):\n",
    "    return 2 * x**2 - 4 * x + 2\n",
    "\n",
    "\n",
    "print_function([x for x in range(-2, 3)], poly)\n"
   ]
  },
  {
   "cell_type": "code",
   "execution_count": 35,
   "id": "e2baff97",
   "metadata": {},
   "outputs": [
    {
     "name": "stdout",
     "output_type": "stream",
     "text": [
      "f(-2)=18\n",
      "f(-1)=8\n",
      "f(0)=2\n",
      "f(1)=0\n",
      "f(2)=2\n"
     ]
    }
   ],
   "source": [
    "# Usando lambda\n",
    "\n",
    "# lambda substitui a função def poly(x)\n",
    "\n",
    "def print_function(args, fun):\n",
    "    for x in args:\n",
    "        print('f(', x,')=', fun(x), sep='')\n",
    "\n",
    "print_function([x for x in range(-2, 3)], lambda x: 2 * x**2 - 4 * x + 2)\n"
   ]
  },
  {
   "cell_type": "markdown",
   "id": "5931efd2",
   "metadata": {},
   "source": [
    "## Lambda e a função  map()\n",
    "\n",
    "A função map() aplica a função passada pelo seu primeiro argumento\n",
    "a todos os elementos do seu segundo argumento e retorna um iterador\n",
    "que entrega todos os resultados de função subsequentes.\n",
    "\n",
    "Você pode usar o iterador resultante em um loop,\n",
    "ou convertê-lo em uma lista usando a função list().\n",
    "\n",
    "    map(function, list) -> recebe 2 argumentos\n",
    "    "
   ]
  },
  {
   "cell_type": "code",
   "execution_count": 41,
   "id": "f237dd00",
   "metadata": {},
   "outputs": [
    {
     "name": "stdout",
     "output_type": "stream",
     "text": [
      "Lista 1:\n",
      " [0, 1, 2, 3, 4]\n",
      "\n",
      "Lista 2:\n",
      " [1, 2, 4, 8, 16]\n",
      "\n",
      "1 4 16 64 256 "
     ]
    }
   ],
   "source": [
    "# lista_1 com valores de 0 a 4;\n",
    "# map junto com a primeira lambda para criar uma nova lista\n",
    "# na qual todos os elementos foram avaliados como 2 elevado à potência retirada\n",
    "# do elemento correspondente da lista_1;\n",
    "\n",
    "# lista_2 é impressa em seguida;\n",
    "\n",
    "# na próxima etapa, a função map() aproveita o gerador\n",
    "# que ela retorna e para imprimir diretamente todos os valores que ela entrega;\n",
    "# a segunda lambda apenas eleva ao quadrado cada elemento de lista_2.\n",
    "\n",
    "\n",
    "list_1 = [x for x in range(5)] # gera uma sequência de números de 0 a 4.\n",
    "\n",
    "list_2 = list(map(lambda x: 2 ** x, list_1))\n",
    "\n",
    "# A função map() aplica a função lambda lambda x: 2 ** x a cada elemento de list_1.\n",
    "# Esta função lambda eleva 2 à potência de cada elemento de list_1.\n",
    "# Os resultados são coletados em uma lista e armazenados em list_2.\n",
    "# Portanto, list_2 será [1, 2, 4, 8, 16], pois:\n",
    "# 2^0 = 1\n",
    "# 2^1 = 2\n",
    "# 2^2 = 4\n",
    "# 2^3 = 8\n",
    "# 2^4 = 16\n",
    "\n",
    "print(f\"Lista 1:\\n {list_1}\")\n",
    "print()\n",
    "\n",
    "print(f\"Lista 2:\\n {list_2}\")\n",
    "print()\n",
    "\n",
    "for x in map(lambda x: x * x, list_2):\n",
    "    print(x, end=' ')\n",
    "    \n",
    "# Neste loop for, map() é novamente usado para aplicar a função lambda\n",
    "# lambda x: x * x a cada elemento de list_2.\n",
    "# Esta função lambda calcula o quadrado de cada elemento.\n",
    "# Os resultados são então impressos, separados por espaços.\n",
    "# Saída do Loop:\n",
    "\n",
    "# O loop imprime:\n",
    "# 1^2 = 1\n",
    "# 2^2 = 4\n",
    "# 4^2 = 16\n",
    "# 8^2 = 64\n",
    "# 16^2 = 256\n",
    "    \n"
   ]
  },
  {
   "cell_type": "markdown",
   "id": "e2c4f7f6",
   "metadata": {},
   "source": [
    "# Lambdas e a função filter()\n",
    "Função que pode ser aprimorada pela aplicação de uma lambda é a filter().\n",
    "\n",
    "Ela espera o mesmo tipo de argumentos que o map(), mas faz algo diferente\n",
    "- ela filtra seu segundo argumento enquanto é guiada pelas direções provenientes\n",
    "da função especificada como o primeiro argumento\n",
    "(a função é invocada para cada elemento da lista, assim como no map()).\n",
    "\n",
    "Os elementos que retornam True da função passam pelo filtro - os outros são rejeitados."
   ]
  },
  {
   "cell_type": "code",
   "execution_count": 43,
   "id": "710a0568",
   "metadata": {},
   "outputs": [
    {
     "name": "stdout",
     "output_type": "stream",
     "text": [
      "[10, 2, 5, 3, 10]\n",
      "[10, 2, 10]\n"
     ]
    }
   ],
   "source": [
    "from random import seed, randint\n",
    "\n",
    "seed()\n",
    "data = [randint(-10,10) for x in range(5)]\n",
    "filtered = list(filter(lambda x: x > 0 and x % 2 == 0, data))\n",
    "# lista é filtrada, e apenas os números que são pares e maiores que zero são aceitos.\n",
    "\n",
    "\n",
    "print(data)\n",
    "print(filtered)\n",
    "\n",
    "\n",
    "# O exemplo no editor mostra a função filter() em ação.\n",
    "\n",
    "# Observação: nós fizemos uso do módulo random para inicializar o gerador de números aleatórios\n",
    "# (não confundir com os geradores que acabamos de falar) com a função seed()\n",
    "# e para produzir cinco valores inteiros aleatórios de -10 a 10 usando a função randint().\n"
   ]
  },
  {
   "cell_type": "markdown",
   "id": "2777b2c3",
   "metadata": {},
   "source": [
    "## Closures"
   ]
  },
  {
   "cell_type": "code",
   "execution_count": 44,
   "id": "5005ee0e",
   "metadata": {},
   "outputs": [
    {
     "ename": "SyntaxError",
     "evalue": "invalid syntax (2409632907.py, line 13)",
     "output_type": "error",
     "traceback": [
      "\u001b[1;36m  Cell \u001b[1;32mIn[44], line 13\u001b[1;36m\u001b[0m\n\u001b[1;33m    As duas últimas linhas causarão uma exceção NameError\u001b[0m\n\u001b[1;37m       ^\u001b[0m\n\u001b[1;31mSyntaxError\u001b[0m\u001b[1;31m:\u001b[0m invalid syntax\n"
     ]
    }
   ],
   "source": [
    "# closure é uma técnica que permite armazenar valores\n",
    "# apesar do fato de que o contexto no qual eles foram criados não existe mais. \n",
    "\n",
    "def outer(par):\n",
    "    loc = par\n",
    "\n",
    "var = 1\n",
    "outer(var)\n",
    "\n",
    "print(par)\n",
    "print(loc)\n",
    "\n",
    "# As duas últimas linhas causarão uma exceção NameError\n",
    "# - nem par nem loc são acessíveis fora da função.\n",
    "# Ambas as variáveis existem somente quando a função outer() está sendo executada."
   ]
  },
  {
   "cell_type": "code",
   "execution_count": 46,
   "id": "7d4f6d2c",
   "metadata": {},
   "outputs": [
    {
     "name": "stdout",
     "output_type": "stream",
     "text": [
      "1\n"
     ]
    }
   ],
   "source": [
    "def outer(par):\n",
    "    loc = par\n",
    "\n",
    "    def inner():\n",
    "        return loc\n",
    "    return inner\n",
    "'''\n",
    "inner() só pode ser invocada de dentro de outer().\n",
    "Podemos dizer que inner() é uma ferramenta privada de outer() \n",
    "- nenhuma outra parte do código pode acessá-la.\n",
    "'''\n",
    "# A função inner() retorna o valor da variável acessível dentro de seu escopo,\n",
    "# pois inner() pode usar qualquer uma das entidades disponíveis para outer().\n",
    "\n",
    "# A função outer() retorna a própria função inner(); mais precisamente,\n",
    "# ela retorna uma cópia da função inner(), a que foi congelada no momento\n",
    "# da invocação de outer(). Essa função congelada contém todo o seu ambiente,\n",
    "# incluindo o estado de todas as variáveis locais, o que significa que o valor\n",
    "# de loc é mantido com sucesso, embora outer() tenha deixado de existir há muito tempo.\n",
    "\n",
    "\n",
    "var = 1\n",
    "fun = outer(var)\n",
    "print(fun())"
   ]
  },
  {
   "cell_type": "code",
   "execution_count": 47,
   "id": "d492b7be",
   "metadata": {},
   "outputs": [
    {
     "name": "stdout",
     "output_type": "stream",
     "text": [
      "0 0 0\n",
      "1 1 1\n",
      "2 4 8\n",
      "3 9 27\n",
      "4 16 64\n"
     ]
    }
   ],
   "source": [
    "# closure\n",
    "\n",
    "# Pode-se criar quantos closures desejar usando o mesmo trecho de código.\n",
    "# Isso é feito com uma função chamada make_closure().\n",
    "\n",
    "# Note:\n",
    "# O primeiro closure obtido de make_closure() define\n",
    "# uma ferramenta que eleva ao quadrado o seu argumento;\n",
    "\n",
    "# O segundo é projetado para elevar o argumento ao cubo.\n",
    "\n",
    "def make_closure(par):\n",
    "    loc = par\n",
    "\n",
    "    def power(p):\n",
    "        return p ** loc\n",
    "    return power\n",
    "\n",
    "\n",
    "fsqr = make_closure(2)\n",
    "fcub = make_closure(3)\n",
    "\n",
    "for i in range(5):\n",
    "    print(i, fsqr(i), fcub(i))\n"
   ]
  },
  {
   "cell_type": "markdown",
   "id": "7ff62a27",
   "metadata": {},
   "source": [
    "## Resumo\n",
    "\n",
    "- 1) Um iterador é um objeto de uma classe que fornece pelo menos dois métodos (sem contar o construtor):\n",
    "    __iter__() é invocado uma vez quando o iterador é criado e retorna o próprio objeto do iterador;\n",
    "    __next__() é invocado para fornecer o valor da próxima iteração e levanta a exceção StopIteration quando a iteração chega ao fim.\n",
    "\n",
    "- 2) A instrução yield pode ser usada apenas dentro de funções. A instrução yield suspende a execução da função e faz com que a função retorne o argumento do yield como resultado. Tal função não pode ser invocada de maneira regular – seu único propósito é ser usada como um gerador (ou seja, em um contexto que requer uma série de valores, como um loop for).\n",
    "\n",
    "- 3) Uma expressão condicional é uma expressão construída usando o operador if-else. \n",
    "    Por exemplo:\n",
    "\n",
    "    print(True if 0 >= 0 else False)\n",
    "        \n",
    "   *exibe True*\n",
    "\n",
    "- 4) Uma compreensão de lista se torna um gerador quando usada dentro de parênteses\n",
    "    (quando usada dentro de colchetes, ela produz uma lista regular). Por exemplo:\n",
    "\n",
    "    for x in (el * 2 for el in range(5)):\n",
    "\n",
    "    *exibe os valores gerados pelo gerador.*\n",
    "    \n",
    "- 5) Uma função lambda é uma ferramenta para criar funções anônimas. Por exemplo:\n",
    "\n",
    "    def foo(x, f):\n",
    "        return f(x)\n",
    " \n",
    "    print(foo(9, lambda x: x ** 0.5)) -> output 3.0\n",
    "    \n",
    "- 6. The filter(fun, list) function creates a copy of those list elements,\n",
    "     which cause the fun function to return True.\n",
    "     The function's result is a generator providing the new list content element by element.\n",
    "     For example:\n",
    "     \n",
    "    short_list = [1, \"Python\", -1, \"Monty\"]\n",
    "    new_list = list(filter(lambda s: isinstance(s, str), short_list))\n",
    "    print(new_list)\n",
    "    \n",
    "    outputs ['Python', 'Monty'].\n",
    "\n",
    "- 7) Um closure é uma técnica que permite armazenar valores,\n",
    "     mesmo que o contexto no qual eles foram criados não exista mais.\n",
    "     Por exemplo:\n",
    "     \n",
    "     outputs <b>Monty Python</b>\n",
    "     "
   ]
  },
  {
   "cell_type": "markdown",
   "id": "fe934754",
   "metadata": {},
   "source": [
    "## Exercícios"
   ]
  },
  {
   "cell_type": "code",
   "execution_count": 48,
   "id": "f8ef9899",
   "metadata": {},
   "outputs": [
    {
     "name": "stdout",
     "output_type": "stream",
     "text": [
      "a e i o u y   "
     ]
    }
   ],
   "source": [
    "# Ex 01 What is the expected output of the following code?\n",
    "\n",
    "class Vowels:\n",
    "    def __init__(self):\n",
    "        self.vow = \"aeiouy \"  # Yes, we know that y is not always considered a vowel.\n",
    "        self.pos = 0\n",
    "\n",
    "    def __iter__(self):\n",
    "        return self\n",
    "\n",
    "    def __next__(self):\n",
    "        if self.pos == len(self.vow):\n",
    "            raise StopIteration\n",
    "        self.pos += 1\n",
    "        return self.vow[self.pos - 1]\n",
    "\n",
    "\n",
    "vowels = Vowels()\n",
    "for v in vowels:\n",
    "    print(v, end=' ')\n"
   ]
  },
  {
   "cell_type": "code",
   "execution_count": 50,
   "id": "8dc8523f",
   "metadata": {},
   "outputs": [
    {
     "name": "stdout",
     "output_type": "stream",
     "text": [
      "[1, 3, 3, 5]\n"
     ]
    }
   ],
   "source": [
    "# Ex 02 Write a lambda function, \n",
    "# setting the least significant bit of its integer argument,\n",
    "# and apply it to the map() function to produce the string 1 3 3 5 on the console.\n",
    "\n",
    "\n",
    "any_list = [1, 2, 3, 4]\n",
    "\n",
    "even_list = list(map(lambda n: n | 1, any_list)) # Ess é osso!!\n",
    "\n",
    "print(even_list)\n"
   ]
  },
  {
   "cell_type": "markdown",
   "id": "14152e0a",
   "metadata": {},
   "source": [
    "### Explicação do exercício 2\n",
    "\n",
    "any_list = [1, 2, 3, 4] ->  temos uma lista chamada any_list com quatro elementos: [1, 2, 3, 4].\n",
    "\n",
    "- Uso de map com uma função lambda:\n",
    "\n",
    "    even_list = list(map(lambda n: n | 1, any_list))\n",
    "\n",
    "lambda n: n | 1: Aqui, estamos definindo uma função lambda que recebe um argumento n.\n",
    "Essa função realiza a operação de bitwise OR (|) entre n e 1.\n",
    "\n",
    "n | 1: A operação | é uma operação bitwise OR (ou inclusivo).\n",
    "No contexto de números inteiros, essa operação compara cada bit dos dois números\n",
    "e retorna 1 se pelo menos um dos bits for 1, caso contrário retorna 0.\n",
    "\n",
    "como essa operação funciona com os elementos da lista:\n",
    "\n",
    "1 | 1: Em binário, 1 é 0001. Fazer OR com 1 (0001) resulta em 1 (0001).\n",
    "2 | 1: Em binário, 2 é 0010. Fazer OR com 1 (0001) resulta em 3 (0011).\n",
    "3 | 1: Em binário, 3 é 0011. Fazer OR com 1 (0001) resulta em 3 (0011).\n",
    "4 | 1: Em binário, 4 é 0100. Fazer OR com 1 (0001) resulta em 5 (0101).\n",
    "\n",
    " Portanto, a função lambda transforma cada número da lista em um número ímpar\n",
    "(ou deixa ele como está, se já for ímpar).\n",
    "\n",
    "map(lambda n: n | 1, any_list):\n",
    "    O map aplica a função lambda a cada elemento da lista any_list.\n",
    "    O resultado será uma sequência de valores onde cada elemento foi transformado de acordo com a função lambda.\n",
    "\n",
    "list(...): Converte o resultado do map (que é um iterável) de volta para uma lista.\n",
    "\n",
    "    print(even_list)\n",
    "\n",
    "**Resumindo:**\n",
    "    \n",
    "Esse código transforma cada número da lista original no número ímpar mais próximo.\n",
    "\n",
    "[1, 3, 3, 5]\n",
    "1 permanece 1.\n",
    "2 foi transformado em 3.\n",
    "3 permanece 3.\n",
    "4 foi transformado em 5.\n"
   ]
  },
  {
   "cell_type": "code",
   "execution_count": 49,
   "id": "4a3fc0b6",
   "metadata": {},
   "outputs": [
    {
     "name": "stdout",
     "output_type": "stream",
     "text": [
      "And*Now*for*Something*Completely*Different\n"
     ]
    }
   ],
   "source": [
    "# Ex 03 What is the expected output of the following code?\n",
    "\n",
    "def replace_spaces(replacement='*'):\n",
    "    def new_replacement(text):\n",
    "        return text.replace(' ', replacement)\n",
    "    return new_replacement\n",
    "\n",
    "\n",
    "stars = replace_spaces()\n",
    "print(stars(\"And Now for Something Completely Different\"))\n"
   ]
  },
  {
   "cell_type": "code",
   "execution_count": null,
   "id": "7e9cd6f3",
   "metadata": {},
   "outputs": [],
   "source": [
    "### Explicação do exercício 3\n",
    "\n",
    "    def replace_spaces(replacement='*'):\n",
    "    \n",
    "Uma função que aceita um parâmetro opcional replacement, que tem como valor padrão o caractere '*'.\n",
    "Essa função, quando chamada, retorna outra função\n",
    "(um conceito chamado \"função de ordem superior\" ou \"função geradora de funções\").\n",
    "\n",
    "\n",
    "    def new_replacement(text):\n",
    "        return text.replace(' ', replacement)\n",
    "    \n",
    "new_replacement é uma função interna (ou função aninhada) dentro de replace_spaces.\n",
    "Essa função aceita um argumento text, que espera ser uma string.\n",
    "\n",
    "Dentro de new_replacement, a função text.replace(' ', replacement) é chamada.\n",
    "Isso significa que todos os espaços (' ') na string text serão substituídos pelo valor de replacement (no caso *).\n",
    "\n",
    "    return new_replacement\n",
    "\n",
    "A função replace_spaces não retorna um valor diretamente, mas sim a função new_replacement definida dentro dela.\n",
    "Isso cria uma função personalizada que já \"lembra\" qual o caractere de substituição (replacement) será usado.\n",
    "\n",
    "    stars = replace_spaces()\n",
    "    \n",
    "Aqui, a função replace_spaces() é chamada sem nenhum argumento, \n",
    "então o valor padrão '*' é usado para o parâmetro replacement.\n",
    "\n",
    "O resultado dessa chamada é a função new_replacement (com o caractere de substituição definido como '*'),\n",
    "que é atribuída à variável stars.\n",
    "\n",
    "\n",
    "    print(stars(\"And Now for Something Completely Different\"))\n",
    "\n",
    "Quando stars é chamada com a string \"And Now for Something Completely Different\",\n",
    "ela substitui todos os espaços nessa string pelo caractere '*'.\n",
    "\n",
    "O resultado será a string \"And*Now*for*Something*Completely*Different\".\n"
   ]
  },
  {
   "cell_type": "markdown",
   "id": "d8b1af28",
   "metadata": {},
   "source": [
    "# Uso de lambda\n",
    "\n",
    "- Guia de Estilo para Código Python, recomenda que lambdas não devem ser atribuídas a variáveis,\n",
    "mas sim devem ser definidas como funções.\n",
    "\n",
    "- Isso significa que é melhor usar uma declaração def\n",
    "e evitar o uso de uma declaração de atribuição que vincula uma expressão lambda \n",
    "a um identificador. Analise o código abaixo:\n",
    "    \n",
    "## Recommended:\n",
    "def f(x): return 3*x\n",
    "\n",
    "\n",
    "## Not recommended:\n",
    "f = lambda x: 3*x\n",
    "\n",
    "\n",
    "*A vinculação de lambdas a identificadores geralmente duplica a funcionalidade da instrução def. No entanto, o uso de instruções def gera mais linhas de código.*\n",
    "\n",
    "*É importante entender que, na realidade, as coisas frequentemente seguem seus próprios caminhos, que nem sempre obedecem às convenções ou recomendações formais. Decidir seguir essas convenções ou não dependerá de vários fatores: suas preferências, outras convenções adotadas, diretrizes internas da empresa, compatibilidade com o código existente, etc. Esteja ciente disso.*"
   ]
  },
  {
   "cell_type": "code",
   "execution_count": null,
   "id": "afb97f62",
   "metadata": {},
   "outputs": [],
   "source": []
  },
  {
   "cell_type": "code",
   "execution_count": null,
   "id": "db806a73",
   "metadata": {},
   "outputs": [],
   "source": []
  }
 ],
 "metadata": {
  "kernelspec": {
   "display_name": "Python 3 (ipykernel)",
   "language": "python",
   "name": "python3"
  },
  "language_info": {
   "codemirror_mode": {
    "name": "ipython",
    "version": 3
   },
   "file_extension": ".py",
   "mimetype": "text/x-python",
   "name": "python",
   "nbconvert_exporter": "python",
   "pygments_lexer": "ipython3",
   "version": "3.11.5"
  }
 },
 "nbformat": 4,
 "nbformat_minor": 5
}
