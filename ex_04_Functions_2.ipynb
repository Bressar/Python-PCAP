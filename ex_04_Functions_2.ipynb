{
 "cells": [
  {
   "cell_type": "markdown",
   "id": "61ec13df",
   "metadata": {},
   "source": [
    "## Functions and scopes\n",
    "\n",
    "Uma variável existente fora de uma função, tem um escopo dentro dos corpos das funções,\n",
    "excluindo aquelas que definem uma variável com o mesmo nome."
   ]
  },
  {
   "cell_type": "code",
   "execution_count": 1,
   "id": "62f51233",
   "metadata": {},
   "outputs": [
    {
     "name": "stdout",
     "output_type": "stream",
     "text": [
      "Do I know that variable? 1\n",
      "1\n"
     ]
    }
   ],
   "source": [
    "# variável definida fora da função\n",
    "\n",
    "def my_function():\n",
    "    print(\"Do I know that variable?\", var)\n",
    "\n",
    "var = 1\n",
    "\n",
    "my_function()\n",
    "print(var)\n",
    "\n",
    "# Uma variável existente fora de uma função tem escopo dentro do corpo da função, \n",
    "# exceto aquelas que definem uma variável com o mesmo nome, como no próximo exemplo."
   ]
  },
  {
   "cell_type": "code",
   "execution_count": 3,
   "id": "684b365a",
   "metadata": {},
   "outputs": [
    {
     "name": "stdout",
     "output_type": "stream",
     "text": [
      "Do I know that variable? 2\n",
      "1\n"
     ]
    }
   ],
   "source": [
    "# variável local: 'dentro da função'\n",
    "\n",
    "def my_function():\n",
    "    var = 2\n",
    "    print(\"Do I know that variable?\", var)\n",
    "\n",
    "var = 1\n",
    "\n",
    "my_function()\n",
    "print(var)"
   ]
  },
  {
   "cell_type": "code",
   "execution_count": 2,
   "id": "de5cb9d0",
   "metadata": {},
   "outputs": [
    {
     "name": "stdout",
     "output_type": "stream",
     "text": [
      "Eu peguei 1\n",
      "Eu tenho 2\n",
      "1\n"
     ]
    }
   ],
   "source": [
    "def my_function(n):\n",
    "    print(\"Eu peguei\", n)\n",
    "    n += 1\n",
    "    print(\"Eu tenho\", n) # valor novo de [n] só vale dentro da função\n",
    "\n",
    "var = 1\n",
    "\n",
    "my_function(var)\n",
    "print(var)\n"
   ]
  },
  {
   "cell_type": "code",
   "execution_count": 4,
   "id": "1ee8f2d7",
   "metadata": {},
   "outputs": [
    {
     "name": "stdout",
     "output_type": "stream",
     "text": [
      "Do I know that variable? 2\n",
      "2\n"
     ]
    }
   ],
   "source": [
    "# Variável GLOBAL, vale em todo o código e 'atropela' qq variavel com o mesmo nome.\n",
    "\n",
    "def my_function():\n",
    "    global var # apesar de definida dentro da função, ela vale em todo o código (scope)\n",
    "    var = 2\n",
    "    print(\"Do I know that variable?\", var)\n",
    "\n",
    "\n",
    "var = 1 # terá o valor substituído pelo valor da variavel GOLOBAL\n",
    "\n",
    "my_function()\n",
    "print(var)\n"
   ]
  },
  {
   "cell_type": "code",
   "execution_count": 5,
   "id": "212fc3ef",
   "metadata": {},
   "outputs": [
    {
     "name": "stdout",
     "output_type": "stream",
     "text": [
      "Print #1: [2, 3]\n",
      "Print #2: [2, 3]\n",
      "Print #3: [0, 1]\n",
      "Print #4: [2, 3]\n",
      "Print #5: [2, 3]\n"
     ]
    }
   ],
   "source": [
    "def my_function(my_list_1):\n",
    "    print(\"Print #1:\", my_list_1)# vai imprimir o valor que for atribuido para my_list_1 na chamada da função\n",
    "    print(\"Print #2:\", my_list_2)\n",
    "    my_list_1 = [0, 1] # substitui o parametro que for atribuido para my_list_1\n",
    "    print(\"Print #3:\", my_list_1) # vai impimir sempre: [0, 1]\n",
    "    print(\"Print #4:\", my_list_2)\n",
    "\n",
    "\n",
    "my_list_2 = [2, 3]\n",
    "\n",
    "my_function(my_list_2) # recebe my_list_2, como parametro no ligar de my list_1\n",
    "\n",
    "print(\"Print #5:\", my_list_2)"
   ]
  },
  {
   "cell_type": "code",
   "execution_count": 6,
   "id": "e6de1532",
   "metadata": {},
   "outputs": [
    {
     "name": "stdout",
     "output_type": "stream",
     "text": [
      "Print #1: [2, 3]\n",
      "Print #2: [2, 3]\n",
      "Print #3: [3]\n",
      "Print #4: [3]\n",
      "Print #5: [3]\n"
     ]
    }
   ],
   "source": [
    "# Apagando um index dentro de uma função\n",
    "\n",
    "def my_function(my_list_1):\n",
    "    print(\"Print #1:\", my_list_1)\n",
    "    print(\"Print #2:\", my_list_2)\n",
    "    del my_list_1[0]  # Pay attention to this line.\n",
    "    print(\"Print #3:\", my_list_1)\n",
    "    print(\"Print #4:\", my_list_2)\n",
    "\n",
    "\n",
    "my_list_2 = [2, 3]\n",
    "my_function(my_list_2)# a função apaga o index 0 da lista, apartir de onde foi alocada\n",
    "print(\"Print #5:\", my_list_2) # incluisve da variavel externa à função"
   ]
  },
  {
   "cell_type": "markdown",
   "id": "14624eae",
   "metadata": {},
   "source": [
    "## Review"
   ]
  },
  {
   "cell_type": "code",
   "execution_count": 7,
   "id": "7674c14e",
   "metadata": {},
   "outputs": [
    {
     "name": "stdout",
     "output_type": "stream",
     "text": [
      "I got 1\n",
      "I have 2\n",
      "1\n"
     ]
    }
   ],
   "source": [
    "def my_function(n):\n",
    "    print(\"I got\", n)\n",
    "    n += 1\n",
    "    print(\"I have\", n)\n",
    "\n",
    "\n",
    "var = 1\n",
    "my_function(var)\n",
    "print(var)"
   ]
  },
  {
   "cell_type": "code",
   "execution_count": 8,
   "id": "86b1341d",
   "metadata": {},
   "outputs": [
    {
     "name": "stdout",
     "output_type": "stream",
     "text": [
      "14\n"
     ]
    }
   ],
   "source": [
    "var = 2\n",
    "\n",
    "def mult_by_var(x):\n",
    "    return x * var\n",
    "\n",
    "print(mult_by_var(7))    # outputs: 14"
   ]
  },
  {
   "cell_type": "code",
   "execution_count": 9,
   "id": "7c0eedf7",
   "metadata": {},
   "outputs": [
    {
     "name": "stdout",
     "output_type": "stream",
     "text": [
      "35\n"
     ]
    }
   ],
   "source": [
    "def mult(x):\n",
    "    var = 5\n",
    "    return x * var\n",
    "\n",
    "print(mult(7))    # outputs: 35"
   ]
  },
  {
   "cell_type": "code",
   "execution_count": 10,
   "id": "47427190",
   "metadata": {},
   "outputs": [
    {
     "name": "stdout",
     "output_type": "stream",
     "text": [
      "49\n"
     ]
    }
   ],
   "source": [
    "def mult(x):\n",
    "    var = 7 # quando a variável é determinda dentro da função, ela predomina\n",
    "    return x * var\n",
    "\n",
    "var = 3 \n",
    "print(mult(7))    # outputs: 49"
   ]
  },
  {
   "cell_type": "code",
   "execution_count": 12,
   "id": "26dd4519",
   "metadata": {},
   "outputs": [
    {
     "name": "stdout",
     "output_type": "stream",
     "text": [
      "11\n"
     ]
    },
    {
     "ename": "NameError",
     "evalue": "name 'var1' is not defined",
     "output_type": "error",
     "traceback": [
      "\u001b[1;31m---------------------------------------------------------------------------\u001b[0m",
      "\u001b[1;31mNameError\u001b[0m                                 Traceback (most recent call last)",
      "Cell \u001b[1;32mIn[12], line 7\u001b[0m\n\u001b[0;32m      3\u001b[0m     \u001b[38;5;28;01mreturn\u001b[39;00m x \u001b[38;5;241m+\u001b[39m var1\n\u001b[0;32m      6\u001b[0m \u001b[38;5;28mprint\u001b[39m(adding(\u001b[38;5;241m4\u001b[39m))    \u001b[38;5;66;03m# outputs: 11\u001b[39;00m\n\u001b[1;32m----> 7\u001b[0m \u001b[38;5;28mprint\u001b[39m(var1)\n",
      "\u001b[1;31mNameError\u001b[0m: name 'var1' is not defined"
     ]
    }
   ],
   "source": [
    "def adding(x):\n",
    "    var1 = 7\n",
    "    return x + var1\n",
    "\n",
    "print(adding(4))    # outputs: 11\n",
    "print(var1)    # NameError pq a variável só existe dentro da função"
   ]
  },
  {
   "cell_type": "code",
   "execution_count": 15,
   "id": "529b8538",
   "metadata": {},
   "outputs": [
    {
     "name": "stdout",
     "output_type": "stream",
     "text": [
      "2\n",
      "5\n",
      "5\n"
     ]
    }
   ],
   "source": [
    "# se a variável for global, ela irá existir mesmo que seja criada dentro de uma função\n",
    "\n",
    "var = 2\n",
    "print(var)    # outputs: 2\n",
    "\n",
    "def return_var():\n",
    "    global var # só vai atribuir o valor daqui pra frente pq é Global\n",
    "    var = 5\n",
    "    return var\n",
    "\n",
    "\n",
    "print(return_var())    # outputs: 5 -> ao rodar a função o valor 5 foi atribuído a var\n",
    "\n",
    "print(var)    # outputs: 5"
   ]
  },
  {
   "cell_type": "code",
   "execution_count": 16,
   "id": "18f2f53b",
   "metadata": {},
   "outputs": [
    {
     "ename": "NameError",
     "evalue": "name 'alt' is not defined",
     "output_type": "error",
     "traceback": [
      "\u001b[1;31m---------------------------------------------------------------------------\u001b[0m",
      "\u001b[1;31mNameError\u001b[0m                                 Traceback (most recent call last)",
      "Cell \u001b[1;32mIn[16], line 6\u001b[0m\n\u001b[0;32m      2\u001b[0m     alt \u001b[38;5;241m=\u001b[39m \u001b[38;5;241m1\u001b[39m\n\u001b[0;32m      3\u001b[0m     \u001b[38;5;28mprint\u001b[39m(\u001b[38;5;124m\"\u001b[39m\u001b[38;5;124mHello, World!\u001b[39m\u001b[38;5;124m\"\u001b[39m)\n\u001b[1;32m----> 6\u001b[0m \u001b[38;5;28mprint\u001b[39m(alt)\n",
      "\u001b[1;31mNameError\u001b[0m: name 'alt' is not defined"
     ]
    }
   ],
   "source": [
    "def message():\n",
    "    alt = 1\n",
    "    print(\"Hello, World!\")\n",
    "\n",
    "# Vai dar erro!!!\n",
    "print(alt) # variável só foi definida dentro da função\n"
   ]
  },
  {
   "cell_type": "code",
   "execution_count": 17,
   "id": "d2884a1c",
   "metadata": {},
   "outputs": [
    {
     "name": "stdout",
     "output_type": "stream",
     "text": [
      "2\n",
      "1\n"
     ]
    }
   ],
   "source": [
    "a = 1\n",
    "\n",
    "def fun():\n",
    "    a = 2\n",
    "    print(a)\n",
    "\n",
    "fun()\n",
    "print(a) # não receb o novo valor pq 'a' dentro da função não é uma variável Global"
   ]
  },
  {
   "cell_type": "code",
   "execution_count": 18,
   "id": "474af421",
   "metadata": {},
   "outputs": [
    {
     "name": "stdout",
     "output_type": "stream",
     "text": [
      "2\n",
      "3\n"
     ]
    }
   ],
   "source": [
    "a = 1\n",
    "\n",
    "def fun():\n",
    "    global a\n",
    "    a = 2\n",
    "    print(a)\n",
    "\n",
    "fun() # aqui recebe o valor de dentro da função a = 2\n",
    "\n",
    "a = 3 # recebe um novo valor\n",
    "\n",
    "print(a) # imprime o novo valor de a"
   ]
  },
  {
   "cell_type": "code",
   "execution_count": 3,
   "id": "9ce1819e",
   "metadata": {},
   "outputs": [
    {
     "name": "stdout",
     "output_type": "stream",
     "text": [
      "2\n",
      "2\n",
      "4\n"
     ]
    }
   ],
   "source": [
    "a = 1\n",
    "\n",
    "def fun():\n",
    "    global a # será sempr o valor global, no caso o a = 2\n",
    "    a = 2\n",
    "    print(a)\n",
    "\n",
    "a = 3\n",
    "\n",
    "fun() # o valor global na função sobrepoe a atribuição anterior\n",
    "\n",
    "print(a)\n",
    "\n",
    "a= 4\n",
    "\n",
    "print(a)"
   ]
  },
  {
   "cell_type": "markdown",
   "id": "7e9efe5e",
   "metadata": {},
   "source": [
    "## Exercícios"
   ]
  },
  {
   "cell_type": "code",
   "execution_count": 5,
   "id": "232668fd",
   "metadata": {},
   "outputs": [
    {
     "name": "stdout",
     "output_type": "stream",
     "text": [
      "19.28\n"
     ]
    }
   ],
   "source": [
    "# indice de massa corporea - Body Mass Index (BMI)\n",
    "\n",
    "def bmi(weight, height):\n",
    "    bmi = weight / height ** 2\n",
    "    return round(bmi,2)\n",
    "\n",
    "\n",
    "print(bmi(52.5, 1.65))"
   ]
  },
  {
   "cell_type": "code",
   "execution_count": 7,
   "id": "a275e6e2",
   "metadata": {},
   "outputs": [
    {
     "name": "stdout",
     "output_type": "stream",
     "text": [
      "None\n",
      "24.622960911049557\n"
     ]
    }
   ],
   "source": [
    "# barra invertida (\\) Se usá-lo no código e terminar uma linha com ele, \n",
    "# ele dirá ao Python para continuar a linha de código na próxima linha.\n",
    "\n",
    "def bmi(weight, height):\n",
    "    if height < 1.0 or height > 2.5 or \\ # uso do backlash\n",
    "    weight < 20 or weight > 200:\n",
    "        return None\n",
    "\n",
    "    return weight / height ** 2\n",
    "\n",
    "\n",
    "print(bmi(352.5, 1.65))\n",
    "\n",
    "print(bmi(72, 1.71))"
   ]
  },
  {
   "cell_type": "code",
   "execution_count": 8,
   "id": "12eeb3a1",
   "metadata": {},
   "outputs": [
    {
     "name": "stdout",
     "output_type": "stream",
     "text": [
      "0.45\n"
     ]
    }
   ],
   "source": [
    "# Libras para Kg\n",
    "\n",
    "# 1 lb = 0.45359237 kg\n",
    "# lb_to_kg\n",
    "\n",
    "def lb_to_kg(lb):\n",
    "    return round((lb * 0.45359237), 2)\n",
    "\n",
    "\n",
    "print(lb_to_kg(1))"
   ]
  },
  {
   "cell_type": "code",
   "execution_count": 24,
   "id": "3ecb8832",
   "metadata": {},
   "outputs": [
    {
     "name": "stdout",
     "output_type": "stream",
     "text": [
      "0.3302\n",
      "1.8288000000000002\n"
     ]
    }
   ],
   "source": [
    "#Pés para metro e polegadas para centimetro\n",
    "# 1 ft = 0.3048 m, and 1 in = 2.54 cm = 0.0254 m.\n",
    "\n",
    "def ft_and_inch_to_m(ft, inch):\n",
    "    return ft * 0.3048 + inch * 0.0254\n",
    "\n",
    "\n",
    "print(ft_and_inch_to_m(1, 1))\n",
    "\n",
    "print(ft_and_inch_to_m(6, 0))"
   ]
  },
  {
   "cell_type": "code",
   "execution_count": 25,
   "id": "d7730568",
   "metadata": {},
   "outputs": [
    {
     "name": "stdout",
     "output_type": "stream",
     "text": [
      "1.8288000000000002\n"
     ]
    }
   ],
   "source": [
    "def ft_and_inch_to_m(ft, inch = 0.0):\n",
    "    return ft * 0.3048 + inch * 0.0254\n",
    "\n",
    "\n",
    "print(ft_and_inch_to_m(6))"
   ]
  },
  {
   "cell_type": "code",
   "execution_count": 9,
   "id": "c22c2dcf",
   "metadata": {},
   "outputs": [
    {
     "name": "stdout",
     "output_type": "stream",
     "text": [
      "27.565214082533313\n"
     ]
    }
   ],
   "source": [
    "# fazendo o BMI a partir das medidas gringas.. pés e libras... oh my gosh\n",
    "\n",
    "def ft_and_inch_to_m(ft, inch = 0.0):\n",
    "    return ft * 0.3048 + inch * 0.0254\n",
    "\n",
    "\n",
    "def lb_to_kg(lb):\n",
    "    return lb * 0.45359237\n",
    "\n",
    "\n",
    "def bmi(weight, height):\n",
    "    if height < 1.0 or height > 2.5 or weight < 20 or weight > 200:\n",
    "        return None\n",
    "    \n",
    "    return weight / height ** 2\n",
    "\n",
    "\n",
    "print(bmi(weight = lb_to_kg(176), height = ft_and_inch_to_m(5, 7)))"
   ]
  },
  {
   "cell_type": "code",
   "execution_count": 10,
   "id": "f588d7cf",
   "metadata": {},
   "outputs": [
    {
     "name": "stdout",
     "output_type": "stream",
     "text": [
      "True\n",
      "False\n"
     ]
    }
   ],
   "source": [
    "#função para saber se um triângulo é válido\n",
    "\n",
    "# the sum of two arbitrary sides has to be longer than the third side.\n",
    "\n",
    "def is_a_triangle(a, b, c):\n",
    "    if a + b <= c:\n",
    "        return False\n",
    "    if b + c <= a:\n",
    "        return False\n",
    "    if c + a <= b:\n",
    "        return False\n",
    "    return True\n",
    "\n",
    "print(is_a_triangle(1, 1, 1))\n",
    "print(is_a_triangle(1, 1, 3))\n"
   ]
  },
  {
   "cell_type": "code",
   "execution_count": 11,
   "id": "01b7ea72",
   "metadata": {},
   "outputs": [
    {
     "name": "stdout",
     "output_type": "stream",
     "text": [
      "True\n",
      "False\n"
     ]
    }
   ],
   "source": [
    "def is_a_triangle(a, b, c):\n",
    "    if a + b <= c or b + c <= a or c + a <= b:\n",
    "        return False\n",
    "    return True\n",
    "\n",
    "print(is_a_triangle(1, 1, 1))\n",
    "print(is_a_triangle(1, 1, 3))\n"
   ]
  },
  {
   "cell_type": "code",
   "execution_count": 13,
   "id": "aaeeb776",
   "metadata": {},
   "outputs": [
    {
     "name": "stdout",
     "output_type": "stream",
     "text": [
      "Enter the first side's length: 12\n",
      "Enter the second side's length: 12\n",
      "Enter the third side's length: 12\n",
      "Yes, it can be a triangle.\n"
     ]
    }
   ],
   "source": [
    "def is_a_triangle(a, b, c):\n",
    "    return a + b > c and b + c > a and c + a > b\n",
    "\n",
    "a = float(input('Enter the first side\\'s length: '))\n",
    "b = float(input('Enter the second side\\'s length: '))\n",
    "c = float(input('Enter the third side\\'s length: '))\n",
    "\n",
    "if is_a_triangle(a, b, c):\n",
    "    print('Yes, it can be a triangle.')\n",
    "else:\n",
    "    print('No, it can\\'t be a triangle.')"
   ]
  },
  {
   "cell_type": "code",
   "execution_count": 15,
   "id": "618bdec1",
   "metadata": {},
   "outputs": [
    {
     "name": "stdout",
     "output_type": "stream",
     "text": [
      "True\n",
      "False\n"
     ]
    }
   ],
   "source": [
    "# Hipotenusa # Pythagorean theorem: c2 = a2 + b2\n",
    "\n",
    "def is_a_triangle(a, b, c):\n",
    "    return a + b > c and b + c > a and c + a > b\n",
    "\n",
    "\n",
    "def is_a_right_triangle(a, b, c):\n",
    "    if not is_a_triangle(a, b, c):\n",
    "        return False\n",
    "    if c > a and c > b:\n",
    "        return c ** 2 == a ** 2 + b ** 2\n",
    "    if a > b and a > c:\n",
    "        return a ** 2 == b ** 2 + c ** 2\n",
    "print(is_a_right_triangle(5, 3, 4))\n",
    "print(is_a_right_triangle(1, 3, 4))\n",
    "\n"
   ]
  },
  {
   "cell_type": "code",
   "execution_count": 31,
   "id": "e3885d3b",
   "metadata": {},
   "outputs": [
    {
     "name": "stdout",
     "output_type": "stream",
     "text": [
      "0.49999999999999983\n"
     ]
    }
   ],
   "source": [
    "# Area do triângulo\n",
    "\n",
    "def is_a_triangle(a, b, c):\n",
    "    return a + b > c and b + c > a and c + a > b\n",
    "\n",
    "\n",
    "def heron(a, b, c): # função da area\n",
    "    p = (a + b + c) / 2\n",
    "    return (p * (p - a) * (p - b) * (p - c)) ** 0.5\n",
    "\n",
    "\n",
    "def area_of_triangle(a, b, c):\n",
    "    if not is_a_triangle(a, b, c):\n",
    "        return None\n",
    "    return heron(a, b, c)\n",
    "\n",
    "\n",
    "print(area_of_triangle(1., 1., 2. ** .5))"
   ]
  },
  {
   "cell_type": "code",
   "execution_count": 32,
   "id": "7f400f0a",
   "metadata": {},
   "outputs": [
    {
     "name": "stdout",
     "output_type": "stream",
     "text": [
      "1 1\n",
      "2 2\n",
      "3 6\n",
      "4 24\n",
      "5 120\n"
     ]
    }
   ],
   "source": [
    "# Fatorial\n",
    "\n",
    "def factorial_function(n):\n",
    "    if n < 0:\n",
    "        return None\n",
    "    if n < 2:\n",
    "        return 1\n",
    "    \n",
    "    product = 1\n",
    "    for i in range(2, n + 1):\n",
    "        product *= i\n",
    "    return product\n",
    "\n",
    "\n",
    "for n in range(1, 6):  # testing\n",
    "    print(n, factorial_function(n))\n",
    "    "
   ]
  },
  {
   "cell_type": "code",
   "execution_count": 33,
   "id": "0b524a78",
   "metadata": {},
   "outputs": [
    {
     "name": "stdout",
     "output_type": "stream",
     "text": [
      "1 -> 1\n",
      "2 -> 1\n",
      "3 -> 2\n",
      "4 -> 3\n",
      "5 -> 5\n",
      "6 -> 8\n",
      "7 -> 13\n",
      "8 -> 21\n",
      "9 -> 34\n"
     ]
    }
   ],
   "source": [
    "# Fibonacci\n",
    "\n",
    "def fib(n):\n",
    "    if n < 1:\n",
    "        return None\n",
    "    if n < 3:\n",
    "        return 1\n",
    "\n",
    "    elem_1 = elem_2 = 1\n",
    "    the_sum = 0\n",
    "    for i in range(3, n + 1):\n",
    "        the_sum = elem_1 + elem_2\n",
    "        elem_1, elem_2 = elem_2, the_sum\n",
    "    return the_sum\n",
    "\n",
    "\n",
    "for n in range(1, 10):  # testing\n",
    "    print(n, \"->\", fib(n))"
   ]
  },
  {
   "cell_type": "code",
   "execution_count": 35,
   "id": "43c869a9",
   "metadata": {},
   "outputs": [
    {
     "name": "stdout",
     "output_type": "stream",
     "text": [
      "24\n"
     ]
    }
   ],
   "source": [
    "# Mais fatorial\n",
    "\n",
    "# Recursive implementation of the factorial function.\n",
    "\n",
    "def factorial(n):\n",
    "    if n == 1:    # The base case (termination condition.)\n",
    "        return 1\n",
    "    else:\n",
    "        return n * factorial(n - 1)\n",
    "\n",
    "\n",
    "print(factorial(4)) # 4 * 3 * 2 * 1 = 24"
   ]
  },
  {
   "cell_type": "code",
   "execution_count": 36,
   "id": "fc4d2c36",
   "metadata": {},
   "outputs": [
    {
     "name": "stdout",
     "output_type": "stream",
     "text": [
      "56\n"
     ]
    }
   ],
   "source": [
    "def fun(a):\n",
    "    if a > 30:\n",
    "        return 3\n",
    "    else: # chamada recursiva à própria função fun, passando como argumento a + 3.\n",
    "        return a + fun(a + 3)\n",
    "\n",
    "print(fun(25))\n",
    "\n",
    "# Primeira chamada: fun(25)\n",
    "\n",
    "# a é 25, que não é maior que 30.\n",
    "# Retorna 25 + fun(28). -> 25 + 3\n",
    "# Segunda chamada: fun(28)\n",
    "\n",
    "# a é 28, que não é maior que 30.\n",
    "# Retorna 28 + fun(31).\n",
    "# Terceira chamada: fun(31)\n",
    "\n",
    "# a é 31, que é maior que 30.\n",
    "# Retorna 3.\n",
    "# Combinação dos resultados\n",
    "# Agora, combinamos os resultados das chamadas recursivas:\n",
    "\n",
    "# fun(31) retorna 3.\n",
    "# fun(28) retorna 28 + 3, que é 31.\n",
    "# fun(25) retorna 25 + 31, que é 56.\n",
    "# Resultado final\n",
    "# Assim, a expressão print(fun(25)) imprimirá 56.\n",
    "\n",
    "# Resumo do processo\n",
    "# fun(25) → 25 + fun(28)\n",
    "# fun(28) → 28 + fun(31)\n",
    "# fun(31) → 3\n",
    "# fun(28) → 28 + 3 → 31\n",
    "# fun(25) → 25 + 31 → 56\n",
    "# Portanto, a saída do código será 56."
   ]
  },
  {
   "cell_type": "code",
   "execution_count": null,
   "id": "fe67acdb",
   "metadata": {},
   "outputs": [],
   "source": []
  }
 ],
 "metadata": {
  "kernelspec": {
   "display_name": "Python 3 (ipykernel)",
   "language": "python",
   "name": "python3"
  },
  "language_info": {
   "codemirror_mode": {
    "name": "ipython",
    "version": 3
   },
   "file_extension": ".py",
   "mimetype": "text/x-python",
   "name": "python",
   "nbconvert_exporter": "python",
   "pygments_lexer": "ipython3",
   "version": "3.11.5"
  }
 },
 "nbformat": 4,
 "nbformat_minor": 5
}
