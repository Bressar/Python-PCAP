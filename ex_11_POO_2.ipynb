{
 "cells": [
  {
   "cell_type": "code",
   "execution_count": null,
   "id": "7d7ed370",
   "metadata": {},
   "outputs": [],
   "source": [
    "#  um método é uma função incorporada dentro de uma classe.\n",
    "\n",
    "#  requisito fundamental – um método é obrigado a ter pelo menos um parâmetro \n",
    "# (não existem métodos sem parâmetros – um método pode ser invocado sem um argumento,\n",
    "#  mas não pode ser declarado sem parâmetros).\n",
    "\n",
    "class Classy:\n",
    "    def method(self, par): # declarando um argumento\n",
    "        print(\"method:\", par)\n",
    "\n",
    "\n",
    "obj = Classy()\n",
    "obj.method(1)\n",
    "obj.method(2)\n",
    "obj.method(3)"
   ]
  },
  {
   "cell_type": "code",
   "execution_count": null,
   "id": "4e1d231c",
   "metadata": {},
   "outputs": [],
   "source": [
    "# O primeiro (ou único) parâmetro geralmente é chamado de self.\n",
    "# O nome self sugere o propósito do parâmetro \n",
    "# – ele identifica o objeto para o qual o método é invocado.\n",
    "\n",
    "class Classy:\n",
    "    def method(self):\n",
    "        print(\"method\")\n",
    "\n",
    "obj = Classy()\n",
    "obj.method()"
   ]
  },
  {
   "cell_type": "code",
   "execution_count": null,
   "id": "a231709f",
   "metadata": {},
   "outputs": [],
   "source": [
    "class Classy:\n",
    "    varia = 2\n",
    "    def method(self):\n",
    "        print(self.varia, self.var)\n",
    "\n",
    "\n",
    "obj = Classy() # não aceita parametro na chamada do metodo\n",
    "\n",
    "obj.var = 3 # cria-se um valor novo para a variavel self.var\n",
    "\n",
    "obj.method() # self.varia = 2, sel.var = ao que for determinado\n",
    "\n"
   ]
  },
  {
   "cell_type": "code",
   "execution_count": null,
   "id": "9b0edee3",
   "metadata": {},
   "outputs": [],
   "source": [
    "# O parâmetro self também é usado para invocar outros métodos\n",
    "# de objeto/classe de dentro da classe.\n",
    "\n",
    "class Classy:\n",
    "    def other(self):\n",
    "        print(\"other\")\n",
    "\n",
    "    def method(self):\n",
    "        print(\"method\")\n",
    "        self.other() # um metodo entro de outro metodo\n",
    "\n",
    "\n",
    "obj = Classy()\n",
    "obj.method()"
   ]
  },
  {
   "cell_type": "code",
   "execution_count": null,
   "id": "ce9087bd",
   "metadata": {},
   "outputs": [],
   "source": [
    "# Metodo construtor\n",
    "# Se uma classe tiver um construtor, ele é invocado automaticamente\n",
    "# e implicitamente quando o objeto da classe é instanciado.\n",
    "\n",
    "\n",
    "class Classy:\n",
    "    def __init__(self, value):\n",
    "        self.var = value\n",
    "\n",
    "\n",
    "obj_1 = Classy(\"Texto\") # quando tem o construtor é posível declarar um argumento na criação de um objeto da classe\n",
    "\n",
    "print(obj_1.var)\n",
    "\n",
    "\n",
    "# O construtor:\n",
    "# não pode retornar um valor, pois ele é projetado para retornar apenas um objeto recém-criado e nada mais;\n",
    "# não pode ser invocado diretamente, seja a partir do objeto ou de dentro da classe \n",
    "# ( pode invocar um construtor a partir de qualquer subclasse do objeto, "
   ]
  },
  {
   "cell_type": "code",
   "execution_count": null,
   "id": "8938e034",
   "metadata": {},
   "outputs": [],
   "source": [
    "class Classy:\n",
    "    def __init__(self, value = None):\n",
    "        self.var = value\n",
    "\n",
    "\n",
    "obj_1 = Classy(\"object\")\n",
    "obj_2 = Classy()\n",
    "\n",
    "print(obj_1.var)\n",
    "print(obj_2.var)"
   ]
  },
  {
   "cell_type": "code",
   "execution_count": null,
   "id": "c9215a10",
   "metadata": {},
   "outputs": [],
   "source": [
    "# um método cujo nome começa com __ está (parcialmente) oculto.\n",
    "\n",
    "class Classy:\n",
    "    def visible(self):\n",
    "        print(\"visible\")\n",
    "    \n",
    "    def __hidden(self):\n",
    "        print(\"hidden\")\n",
    "\n",
    "\n",
    "obj = Classy()\n",
    "obj.visible()\n",
    "\n",
    "try:\n",
    "    obj.__hidden()\n",
    "except:\n",
    "    print(\"failed\")\n",
    "\n",
    "obj._Classy__hidden()\n",
    "# para imprimir o 'protected' precisa da classe e do  __ antes do metodo...\n"
   ]
  },
  {
   "cell_type": "code",
   "execution_count": null,
   "id": "a16b8485",
   "metadata": {},
   "outputs": [],
   "source": [
    "# Usando o metdo dict\n",
    "\n",
    "class Classy:\n",
    "    varia = 1\n",
    "    def __init__(self):\n",
    "        self.var = 2 # mostra isso!!\n",
    "\n",
    "    def method(self):\n",
    "        pass\n",
    "\n",
    "    def __hidden(self):\n",
    "        pass\n",
    "\n",
    "\n",
    "obj = Classy()\n",
    "\n",
    "print(obj.__dict__) # mostra só a variavel interna do construtor\n",
    "\n",
    "print()\n",
    "\n",
    "print(Classy.__dict__) # mostra tudo que existe na classe"
   ]
  },
  {
   "cell_type": "code",
   "execution_count": null,
   "id": "31121851",
   "metadata": {},
   "outputs": [],
   "source": [
    "#  Para encontrar a classe de um determinado objeto, \n",
    "# pode usar uma função chamada type(), que é capaz (entre outras coisas) \n",
    "# de encontrar a classe que foi usada para instanciar qualquer objeto.\n",
    "\n",
    "class Classy:\n",
    "    pass\n",
    "\n",
    "print(Classy.__name__)\n",
    "obj = Classy()\n",
    "print(type(obj).__name__)\n",
    "    \n",
    "print(obj.__name__)  # isso dá erro!! "
   ]
  },
  {
   "cell_type": "code",
   "execution_count": null,
   "id": "932fda59",
   "metadata": {},
   "outputs": [],
   "source": [
    "#  __module__ também é uma string – ela armazena o nome do módulo que contém a definição da classe.\n",
    "\n",
    "class Classy:\n",
    "    pass\n",
    "\n",
    "\n",
    "print(Classy.__module__)\n",
    "obj = Classy()\n",
    "print(obj.__module__)\n",
    " \n",
    "    \n",
    "# qualquer módulo chamado __main__ na verdade não é um módulo, mas sim o arquivo que está sendo executado no momento."
   ]
  },
  {
   "cell_type": "code",
   "execution_count": null,
   "id": "9db5e24f",
   "metadata": {},
   "outputs": [],
   "source": [
    "# __bases__ é uma tupla. A tupla contém classes (não os nomes das classes) que são superclasses diretas da classe.\n",
    "\n",
    "# A ordem é a mesma usada na definição da classe.\n",
    "# Apenas um exemplo muito básico, para destacar como a herança funciona.\n",
    "\n",
    "# Nota: apenas classes têm esse atributo – objetos não o possuem.\n",
    "\n",
    "# Definimos uma função chamada printbases(), projetada para apresentar o conteúdo da tupla de forma clara.\n",
    "\n",
    "class SuperOne:\n",
    "    pass\n",
    "\n",
    "\n",
    "class SuperTwo:\n",
    "    pass\n",
    "\n",
    "\n",
    "class Sub(SuperOne, SuperTwo):\n",
    "    pass\n",
    "\n",
    "\n",
    "def printBases(cls):\n",
    "    print('( ', end='')\n",
    "\n",
    "    for x in cls.__bases__:\n",
    "        print(x.__name__, end=' ')\n",
    "    print(')')\n",
    "\n",
    "\n",
    "printBases(SuperOne)\n",
    "printBases(SuperTwo)\n",
    "printBases(Sub)\n",
    "    \n",
    "# Nota: uma classe sem superclasses explícitas aponta para object (uma classe predefinida do Python)\n",
    "# como seu ancestral direto.    "
   ]
  },
  {
   "cell_type": "code",
   "execution_count": null,
   "id": "7527d476",
   "metadata": {},
   "outputs": [],
   "source": [
    "# Usando ' name' mostra o nome da classe\n",
    "# o atributo name está ausente do objeto - ele existe apenas dentro das classes.\n",
    "\n",
    "# Para  encontrar a classe de um objeto específico, pode usar uma função chamada type(),\n",
    "# que é capaz (entre outras coisas) de encontrar uma classe que foi usada\n",
    "# para instanciar qualquer objeto.\n",
    "\n",
    "class Bananarama:\n",
    "    pass\n",
    "\n",
    "print(Bananarama.__name__)\n",
    "obj = Bananarama()\n",
    "print(type(obj).__name__) # mostra a classe de onde o objeto é uma instância\n"
   ]
  },
  {
   "cell_type": "code",
   "execution_count": null,
   "id": "30cd7745",
   "metadata": {},
   "outputs": [],
   "source": [
    "# module também é uma string - ela armazena o nome do módulo que contém a definição da classe.\n",
    "\n",
    "# qualquer módulo chamado main na verdade não é um módulo, \n",
    "# mas o arquivo que está sendo executado no momento.\n",
    "\n",
    "class Classy:\n",
    "    pass\n",
    "\n",
    "print(Classy.__module__)\n",
    "obj = Classy()\n",
    "print(obj.__module__)\n"
   ]
  },
  {
   "cell_type": "code",
   "execution_count": null,
   "id": "1ccc5cb7",
   "metadata": {},
   "outputs": [],
   "source": [
    "#  bases é uma tupla. A tupla contém classes (não nomes de classes)\n",
    "# que são superclasses diretas para a classe.\n",
    "\n",
    "# Observação: apenas classes têm esse atributo - objetos não.\n",
    "\n",
    "class SuperOne:\n",
    "    pass\n",
    "\n",
    "\n",
    "class SuperTwo:\n",
    "    pass\n",
    "\n",
    "\n",
    "class Sub(SuperOne, SuperTwo):\n",
    "    pass\n",
    "\n",
    "\n",
    "def printBases(nome_da_classe):\n",
    "    print('( ', end='')\n",
    "\n",
    "    for x in nome_da_classe.__bases__:\n",
    "        print(x.__name__, end=' ')\n",
    "    print(')')\n",
    "\n",
    "\n",
    "printBases(SuperOne)\n",
    "printBases(SuperTwo)\n",
    "printBases(Sub)"
   ]
  },
  {
   "cell_type": "markdown",
   "id": "f23d9b79",
   "metadata": {},
   "source": [
    "# Reflexão e introspecção\n",
    "Todos esses meios permitem ao programador Python realizar duas atividades importantes específicas\n",
    "de muitas linguagens orientadas a objetos. Elas são:\n",
    "\n",
    "introspecção, que é a capacidade de um programa examinar o tipo ou propriedades\n",
    "de um objeto em tempo de execução;\n",
    "\n",
    "reflexão, que vai um passo além e é a capacidade de um programa manipular os valores,\n",
    "propriedades e/ou funções de um objeto em tempo de execução.\n",
    "\n",
    "Em outras palavras, você não precisa conhecer uma definição completa de classe/objeto\n",
    "para manipular o objeto, pois o objeto e/ou sua classe contêm os metadados que permitem\n",
    "reconhecer suas características durante a execução do programa."
   ]
  },
  {
   "cell_type": "code",
   "execution_count": null,
   "id": "3c00cecf",
   "metadata": {},
   "outputs": [],
   "source": [
    "class MyClass:\n",
    "    pass\n",
    "\n",
    "obj = MyClass()\n",
    "obj.a = 1\n",
    "obj.b = 2\n",
    "obj.i = 3\n",
    "obj.ireal = 3.5\n",
    "obj.integer = 4\n",
    "obj.z = 5\n",
    "\n",
    "\n",
    "# A função chamada incIntsI() recebe um objeto de qualquer classe,\n",
    "# examina seu conteúdo para encontrar todos os atributos inteiros\n",
    "# com nomes que começam com i e os incrementa em um.\n",
    "\n",
    "def incIntsI(obj):\n",
    "    for name in obj.__dict__.keys():\n",
    "        if name.startswith('i'):\n",
    "            val = getattr(obj, name)\n",
    "            if isinstance(val, int):\n",
    "                setattr(obj, name, val + 1)\n",
    "\n",
    "\n",
    "print(obj.__dict__)\n",
    "\n",
    "incIntsI(obj)\n",
    "\n",
    "print(obj.__dict__)\n",
    "\n"
   ]
  },
  {
   "cell_type": "code",
   "execution_count": null,
   "id": "c3195d96",
   "metadata": {},
   "outputs": [],
   "source": [
    "# Se uma classe contém um construtor (um método chamado init),\n",
    "# ela não pode retornar nenhum valor e não pode ser invocada diretamente.\n",
    "\n",
    "class Sample:\n",
    "    def __init__(self):\n",
    "        self.name = Sample.__name__\n",
    "    def myself(self):\n",
    "        print(\"My name is \" + self.name + \" living in a \" + Sample.__module__)\n",
    "\n",
    "\n",
    "obj = Sample()\n",
    "obj.myself()"
   ]
  },
  {
   "cell_type": "code",
   "execution_count": null,
   "id": "2bff778b",
   "metadata": {},
   "outputs": [],
   "source": [
    "class Snake:\n",
    "    def __init__(self, victims):\n",
    "        self.victims = victims\n",
    "\n",
    "    def increment(self):\n",
    "        self.victims += 1\n",
    "        \n",
    "cobra1 = Snake(5) # define o valor para victims\n",
    "cobra1.increment() # += 1 ao valor\n",
    "print(cobra1.victims) # imprime o novo valor da variavel victims"
   ]
  },
  {
   "cell_type": "code",
   "execution_count": null,
   "id": "6dc07e25",
   "metadata": {},
   "outputs": [],
   "source": [
    "class Snake:\n",
    "    pass\n",
    "\n",
    "\n",
    "class Python(Snake):\n",
    "    pass\n",
    "\n",
    "\n",
    "print(Python.__name__, 'is a', Snake.__name__)\n",
    "print(Python.__bases__[0].__name__, 'can be a', Python.__name__)"
   ]
  },
  {
   "cell_type": "code",
   "execution_count": null,
   "id": "134871bb",
   "metadata": {},
   "outputs": [],
   "source": [
    "# Ex 01 - mostra 1 segundo a frente e um segundo atrás do valor fornecido\n",
    "\n",
    "class Timer:\n",
    "    def __init__(self, hours=0, minutes=0, seconds=0):\n",
    "        self.__hours = hours\n",
    "        self.__minutes = minutes\n",
    "        self.__seconds = seconds\n",
    "\n",
    "    def __str__(self):\n",
    "        return f\"{self.__format_time(self.__hours)}:{self.__format_time(self.__minutes)}:{self.__format_time(self.__seconds)}\"\n",
    "\n",
    "    def next_second(self):\n",
    "        self.__seconds += 1\n",
    "        if self.__seconds == 60:\n",
    "            self.__seconds = 0\n",
    "            self.__minutes += 1\n",
    "            if self.__minutes == 60:\n",
    "                self.__minutes = 0\n",
    "                self.__hours += 1\n",
    "                if self.__hours == 24:\n",
    "                    self.__hours = 0\n",
    "\n",
    "    def prev_second(self):\n",
    "        self.__seconds -= 1\n",
    "        if self.__seconds == -1:\n",
    "            self.__seconds = 59\n",
    "            self.__minutes -= 1\n",
    "            if self.__minutes == -1:\n",
    "                self.__minutes = 59\n",
    "                self.__hours -= 1\n",
    "                if self.__hours == -1:\n",
    "                    self.__hours = 23\n",
    "\n",
    "    def __format_time(self, time):\n",
    "        return f\"0{time}\" if time < 10 else str(time)\n",
    "\n",
    "\n",
    "timer = Timer(23, 59, 59)\n",
    "print(f'horário atual ->  {timer}')\n",
    "timer.next_second()\n",
    "print(f'horário futuro ->  {timer}')\n",
    "timer.prev_second()\n",
    "print(f'horário pasado - >  {timer}')\n"
   ]
  },
  {
   "cell_type": "code",
   "execution_count": 1,
   "id": "04cacae1",
   "metadata": {},
   "outputs": [
    {
     "name": "stdout",
     "output_type": "stream",
     "text": [
      "23:59:59\n",
      "00:00:00\n",
      "23:59:59\n"
     ]
    }
   ],
   "source": [
    "# Versão melhorada:\n",
    "\n",
    "def two_digits(val):\n",
    "    s = str(val)\n",
    "    if len(s) == 1:\n",
    "        s = '0' + s\n",
    "    return s\n",
    "\n",
    "\n",
    "class Timer:\n",
    "    def __init__(self, hours=0, minutes=0, seconds=0):\n",
    "        self.__hours = hours\n",
    "        self.__minutes = minutes\n",
    "        self.__seconds = seconds\n",
    "\n",
    "    def __str__(self):\n",
    "        return two_digits(self.__hours) + \":\" + \\\n",
    "               two_digits(self.__minutes) + \":\" + \\\n",
    "               two_digits(self.__seconds)\n",
    "\n",
    "    def next_second(self):\n",
    "        self.__seconds += 1\n",
    "        if self.__seconds > 59:\n",
    "            self.__seconds = 0\n",
    "            self.__minutes += 1\n",
    "            if self.__minutes > 59:\n",
    "                self.__minutes = 0\n",
    "                self.__hours += 1\n",
    "                if self.__hours > 23:\n",
    "                    self.__hours = 0\n",
    "\n",
    "    def prev_second(self):\n",
    "        self.__seconds -= 1\n",
    "        if self.__seconds < 0:\n",
    "            self.__seconds = 59\n",
    "            self.__minutes -= 1\n",
    "            if self.__minutes < 0:\n",
    "                self.__minutes = 59\n",
    "                self.__hours -= 1\n",
    "                if self.__hours < 0:\n",
    "                    self.__hours = 23\n",
    "\n",
    "\n",
    "timer = Timer(23, 59, 59)\n",
    "print(timer)\n",
    "timer.next_second()\n",
    "print(timer)\n",
    "timer.prev_second()\n",
    "print(timer)\n",
    "    "
   ]
  },
  {
   "cell_type": "code",
   "execution_count": 4,
   "id": "483e9024",
   "metadata": {},
   "outputs": [
    {
     "name": "stdout",
     "output_type": "stream",
     "text": [
      "Mon\n",
      "********************\n",
      "Tue\n",
      "********************\n",
      "Sun\n",
      "********************\n",
      "Sinto muito, não posso responder...\n"
     ]
    }
   ],
   "source": [
    "# Ex 02\n",
    "\n",
    "class WeekDayError(Exception):\n",
    "    pass\n",
    "\n",
    "class Weeker:\n",
    "    DAYS_OF_WEEK = ['Mon', 'Tue', 'Wed', 'Thu', 'Fri', 'Sat', 'Sun']\n",
    "\n",
    "    def __init__(self, day): # construtor recebe 1 parâmetro (nome do dia) e confere se ele existe na lista\n",
    "        if day not in self.DAYS_OF_WEEK:\n",
    "            raise WeekDayError(\"Invalid day of the week\") \n",
    "        self.__day = day\n",
    "\n",
    "    def __str__(self):\n",
    "        return self.__day\n",
    "    \n",
    "    def add_days(self, n):  # recebe 1 parâmetro (numero do dia)\n",
    "        current_index = self.DAYS_OF_WEEK.index(self.__day)\n",
    "        new_index = (current_index + n) % 7 # % 7 garante que o novo índice esteja dentro do intervalo de 0 a 6\n",
    "        self.__day = self.DAYS_OF_WEEK[new_index]\n",
    "\n",
    "    def subtract_days(self, n):\n",
    "        current_index = self.DAYS_OF_WEEK.index(self.__day)\n",
    "        new_index = (current_index - n) % 7\n",
    "        self.__day = self.DAYS_OF_WEEK[new_index]\n",
    "    \n",
    "    \n",
    "\"\"\"método add_days da classe Weeker. Ele recebe um parâmetro n, que representa o número de dias\n",
    "    a serem adicionados ao dia atual armazenado no objeto.\n",
    "\n",
    "O que cada linha faz:\n",
    "\n",
    "current_index = self.DAYS_OF_WEEK.index(self.__day): Esta linha encontra o índice do dia atual\n",
    "(self.__day) na lista de dias da semana (self.DAYS_OF_WEEK). Isso nos dá a posição do dia atual na lista.\n",
    "\n",
    "new_index = (current_index + n) % 7: Esta linha calcula o novo índice do dia após adicionar n dias ao índice atual.\n",
    "Como há 7 dias na semana, o operador % 7 garante que o novo índice esteja dentro do intervalo de 0 a 6, \n",
    "permitindo que a semana \"dê a volta\" quando ultrapassar o último dia.\n",
    "\n",
    "self.__day = self.DAYS_OF_WEEK[new_index]: Esta linha atualiza o dia armazenado no objeto para\n",
    "o novo dia correspondente ao novo índice calculado na linha anterior.\n",
    "Isso significa que o dia do objeto agora será o dia correspondente ao novo índice na lista de dias da semana.  \"\"\"  \n",
    "\n",
    "\n",
    "\n",
    "try:\n",
    "    weekday = Weeker('Mon')# determina qual é o dia da semana, se existe, imprime\n",
    "    print(weekday)\n",
    "    print('*' * 20)\n",
    "    \n",
    "    weekday.add_days(15) # a contar de 'Mon', 15 dias no futuro dá terça-feira\n",
    "    print(weekday)\n",
    "    print('*' * 20)\n",
    "    \n",
    "    weekday.subtract_days(23) #  # a contar de 'Mon', 23 dias para trás dá domingo 'Sun'\n",
    "    print(weekday)\n",
    "    print('*' * 20)\n",
    "    \n",
    "    weekday = Weeker('Monday')# não existe, dá erro\n",
    "    print('*' * 20)\n",
    "    \n",
    "except WeekDayError:\n",
    "    print(\"Sinto muito, não posso responder...\")\n"
   ]
  },
  {
   "cell_type": "code",
   "execution_count": null,
   "id": "664cf154",
   "metadata": {},
   "outputs": [],
   "source": [
    "import math\n",
    "\n",
    "class Point:\n",
    "    def __init__(self, x=0.0, y=0.0):\n",
    "        self.__x = x\n",
    "        self.__y = y\n",
    "\n",
    "    def getx(self):\n",
    "        return self.__x\n",
    "\n",
    "    def gety(self):\n",
    "        return self.__y\n",
    "\n",
    "    def distance_from_xy(self, x, y):\n",
    "        return math.hypot(self.getx() - x, self.gety() - y)\n",
    "\n",
    "    def distance_from_point(self, point):\n",
    "        return math.hypot(self.getx() - point.getx(), self.gety() - point.gety())\n",
    "\n",
    "# Example usage:\n",
    "point1 = Point(1, 1)\n",
    "point2 = Point(2, 2)\n",
    "print(point1.distance_from_xy(2, 2))  # Output: 1.4142135623730951\n",
    "print(point1.distance_from_point(point2))  # Output: 1.4142135623730951\n"
   ]
  },
  {
   "cell_type": "markdown",
   "id": "5b2ee661",
   "metadata": {},
   "source": [
    "## Herança - Inheritance "
   ]
  },
  {
   "cell_type": "code",
   "execution_count": 5,
   "id": "7d9ede1c",
   "metadata": {},
   "outputs": [
    {
     "name": "stdout",
     "output_type": "stream",
     "text": [
      "<__main__.Star object at 0x00000216180583D0>\n"
     ]
    }
   ],
   "source": [
    "# Herança\n",
    "\n",
    "# assim imprime apenas onde a variavel está alocada na memória do computador\n",
    "class Star: \n",
    "    def __init__(self, name, galaxy):\n",
    "        self.name = name\n",
    "        self.galaxy = galaxy\n",
    "\n",
    "\n",
    "sun = Star(\"Sun\", \"Milky Way\")\n",
    "print(sun)"
   ]
  },
  {
   "cell_type": "code",
   "execution_count": 6,
   "id": "9cceb6a8",
   "metadata": {},
   "outputs": [
    {
     "name": "stdout",
     "output_type": "stream",
     "text": [
      "Sun in Milky Way\n"
     ]
    }
   ],
   "source": [
    "# Função __str__()\n",
    "\n",
    "class Star:\n",
    "    def __init__(self, name, galaxy):\n",
    "        self.name = name\n",
    "        self.galaxy = galaxy\n",
    "\n",
    "    def __str__(self): # converte os dados para uma String\n",
    "        return self.name + ' in ' + self.galaxy\n",
    "\n",
    "\n",
    "sun = Star(\"Sun\", \"Milky Way\")\n",
    "print(sun)"
   ]
  },
  {
   "cell_type": "code",
   "execution_count": 7,
   "id": "55ca6c85",
   "metadata": {},
   "outputs": [
    {
     "name": "stdout",
     "output_type": "stream",
     "text": [
      "True\tFalse\tFalse\t\n",
      "True\tTrue\tFalse\t\n",
      "True\tTrue\tTrue\t\n"
     ]
    }
   ],
   "source": [
    "# issubclass() retorna True/False\n",
    "\n",
    "# Cada classe é considerada uma subclasse de si mesma.\n",
    "\n",
    "class Vehicle:\n",
    "    pass\n",
    "\n",
    "class LandVehicle(Vehicle):\n",
    "    pass\n",
    "\n",
    "class TrackedVehicle(LandVehicle):\n",
    "    pass\n",
    "\n",
    "\n",
    "# issubclass() retorna True/False\n",
    "\n",
    "for cls1 in [Vehicle, LandVehicle, TrackedVehicle]:\n",
    "    for cls2 in [Vehicle, LandVehicle, TrackedVehicle]:\n",
    "        print(issubclass(cls1, cls2), end=\"\\t\")\n",
    "    print()\n",
    "    \n",
    "\n",
    "# Existem dois loops aninhados. O objetivo deles é verificar todos os possíveis pares ordenados de classes \n",
    "# e imprimir os resultados da verificação para determinar se o par corresponde à relação de subclasse-superclasse."
   ]
  },
  {
   "cell_type": "code",
   "execution_count": 8,
   "id": "01506e5e",
   "metadata": {},
   "outputs": [
    {
     "name": "stdout",
     "output_type": "stream",
     "text": [
      "True\tFalse\tFalse\t\n",
      "True\tTrue\tFalse\t\n",
      "True\tTrue\tTrue\t\n"
     ]
    }
   ],
   "source": [
    "# isinstance()\n",
    "\n",
    "# A função retorna True se o objeto for uma instância da classe, ou False caso contrário.\n",
    "\n",
    "# Ser uma instância de uma classe significa que o objeto está contido na classe ou em uma de suas superclasses.\n",
    "\n",
    "# Se uma subclasse contém pelo menos o mesmo conjunto de características que qualquer uma de suas superclasses,\n",
    "# isso significa que objetos da subclasse podem fazer o mesmo que objetos derivados da superclasse,\n",
    "# ou seja, é uma instância de sua própria classe e de qualquer uma de suas superclasses.\n",
    "\n",
    "class Vehicle:\n",
    "    pass\n",
    "\n",
    "\n",
    "class LandVehicle(Vehicle):\n",
    "    pass\n",
    "\n",
    "\n",
    "class TrackedVehicle(LandVehicle):\n",
    "    pass\n",
    "\n",
    "\n",
    "my_vehicle = Vehicle()\n",
    "my_land_vehicle = LandVehicle()\n",
    "my_tracked_vehicle = TrackedVehicle()\n",
    "\n",
    "for obj in [my_vehicle, my_land_vehicle, my_tracked_vehicle]:\n",
    "    for cls in [Vehicle, LandVehicle, TrackedVehicle]:\n",
    "        print(isinstance(obj, cls), end=\"\\t\")\n",
    "    print()\n"
   ]
  },
  {
   "cell_type": "code",
   "execution_count": 9,
   "id": "1768f720",
   "metadata": {},
   "outputs": [
    {
     "name": "stdout",
     "output_type": "stream",
     "text": [
      "False\n",
      "False\n",
      "True\n",
      "1 2 1\n"
     ]
    }
   ],
   "source": [
    "# Inheritance: the is operator\n",
    "\n",
    "# O operador is verifica se duas variáveis se referem ao mesmo objeto.\n",
    "\n",
    "# Não se esqueça de que as variáveis não armazenam os próprios objetos,\n",
    "# mas apenas os identificadores que apontam para a memória interna do Python.\n",
    "\n",
    "# Atribuir o valor de uma variável de objeto a outra variável não copia o objeto,\n",
    "# mas apenas seu identificador. É por isso que um operador como is pode ser muito útil em circunstâncias particulares.\n",
    "\n",
    "class SampleClass:\n",
    "    def __init__(self, val):\n",
    "        self.val = val\n",
    "\n",
    "\n",
    "object_1 = SampleClass(0)\n",
    "object_2 = SampleClass(2)\n",
    "object_3 = object_1\n",
    "object_3.val += 1\n",
    "\n",
    "print(object_1 is object_2) # False\n",
    "print(object_2 is object_3) # False\n",
    "print(object_3 is object_1) # True\n",
    "print(object_1.val, object_2.val, object_3.val) # object = 1(pq obj3 == obj1), então 1 e 3 são val 1\n",
    "\n"
   ]
  },
  {
   "cell_type": "code",
   "execution_count": 13,
   "id": "61d2e5d6",
   "metadata": {},
   "outputs": [
    {
     "name": "stdout",
     "output_type": "stream",
     "text": [
      "True False\n",
      "False\n",
      "Mary had a little lamb\n",
      "Mary had a little lamb\n"
     ]
    }
   ],
   "source": [
    "\"\"\"\n",
    "embora string_1 e string_2 tenham o mesmo conteúdo (\"Mary had a little lamb\"),\n",
    "elas não são o mesmo objeto na memória. string_1 foi modificada através\n",
    "da operação de concatenação, enquanto string_2 manteve seu valor original.\n",
    "Portanto, string_1 is string_2 retorna False.\n",
    "\"\"\"\n",
    "string_1 = \"Mary had a little \"\n",
    "string_2 = \"Mary had a little lamb\"\n",
    "string_1 += \"lamb\"\n",
    "\n",
    "string_3 = string_1 # continua False!!\n",
    "\n",
    "print(string_1 == string_2, string_1 is string_2)\n",
    "\n",
    "print(string_2 is string_3) # False\n",
    "print(string_2)\n",
    "print(string_3)"
   ]
  },
  {
   "cell_type": "code",
   "execution_count": 16,
   "id": "81295726",
   "metadata": {},
   "outputs": [
    {
     "name": "stdout",
     "output_type": "stream",
     "text": [
      "My name is Eminem.\n"
     ]
    }
   ],
   "source": [
    "# Como o Python encontra propriedades e métodos\n",
    "\n",
    "class Super:\n",
    "    def __init__(self, name):\n",
    "        self.name = name\n",
    "\n",
    "    def __str__(self):\n",
    "        return \"My name is \" + self.name + \".\"\n",
    "\n",
    "\n",
    "class Sub(Super):\n",
    "    def __init__(self, name):\n",
    "        Super.__init__(self, name) # Sub Herda o método  __str__() de Super\n",
    "\n",
    "\n",
    "objeto = Sub(\"Eminem\")\n",
    "\n",
    "print(objeto)"
   ]
  },
  {
   "cell_type": "code",
   "execution_count": 17,
   "id": "13724dac",
   "metadata": {},
   "outputs": [
    {
     "name": "stdout",
     "output_type": "stream",
     "text": [
      "My name is Oldaque.\n"
     ]
    }
   ],
   "source": [
    "# Usando super().__init__(nome)\n",
    "\n",
    "# Para não precisar fazer a gambiarra do código acima:\n",
    "\n",
    "class Super:\n",
    "    def __init__(self, name):\n",
    "        self.name = name\n",
    "\n",
    "    def __str__(self):\n",
    "        return \"My name is \" + self.name + \".\"\n",
    "\n",
    "\n",
    "class Sub(Super):# escolhe de que classe herda\n",
    "    def __init__(self, name):\n",
    "        super().__init__(name)\n",
    "\n",
    "\n",
    "obj = Sub(\"Oldaque\")\n",
    "\n",
    "print(obj)\n"
   ]
  },
  {
   "cell_type": "code",
   "execution_count": 18,
   "id": "91ecb64d",
   "metadata": {},
   "outputs": [
    {
     "name": "stdout",
     "output_type": "stream",
     "text": [
      "2\n",
      "1\n"
     ]
    }
   ],
   "source": [
    "# Testing properties: class variables.\n",
    "class Super:\n",
    "    supVar = 1\n",
    "\n",
    "\n",
    "class Sub(Super): # herda de Super a variável supVar = 1\n",
    "    subVar = 2 \n",
    "\n",
    "\n",
    "obj = Sub()\n",
    "\n",
    "print(obj.subVar) # sua própria variável\n",
    "print(obj.supVar) # a variável da classe Super"
   ]
  },
  {
   "cell_type": "code",
   "execution_count": 22,
   "id": "57a20ae0",
   "metadata": {},
   "outputs": [
    {
     "name": "stdout",
     "output_type": "stream",
     "text": [
      "12\n",
      "11\n"
     ]
    }
   ],
   "source": [
    "# Testing properties: instance variables.\n",
    "class Super:\n",
    "    def __init__(self):\n",
    "        self.supVar = 11\n",
    "\n",
    "\n",
    "class Sub(Super):\n",
    "    def __init__(self):\n",
    "        super().__init__() # se  classe pai tiver construtor precisa usar o super() para chamá-lo\n",
    "        self.subVar = 12\n",
    "\n",
    "\n",
    "obj = Sub()\n",
    "\n",
    "print(obj.subVar)\n",
    "print(obj.supVar)\n"
   ]
  },
  {
   "cell_type": "markdown",
   "id": "ec9bf8cc",
   "metadata": {},
   "source": [
    "Agora é possível formular uma declaração geral descrevendo o comportamento do Python.\n",
    "\n",
    "Quando você tenta acessar qualquer entidade de um objeto, o Python tentará (nesta ordem):\n",
    "\n",
    "Encontrá-la dentro do próprio objeto;\n",
    "\n",
    "Encontrá-la em todas as classes envolvidas na linha de herança do objeto, de baixo para cima;\n",
    "\n",
    "Se ambas as tentativas falharem, uma exceção (AttributeError) será lançada.\n",
    "\n",
    "A primeira condição pode exigir um pouco mais de atenção. Como você sabe,\n",
    "todos os objetos que derivam de uma classe particular podem ter conjuntos diferentes de atributos, \n",
    "e alguns desses atributos podem ser adicionados ao objeto muito tempo após sua criação.\n",
    "\n",
    "O exemplo abaixo resume isso em uma linha de herança de três níveis."
   ]
  },
  {
   "cell_type": "code",
   "execution_count": 23,
   "id": "217ea31b",
   "metadata": {},
   "outputs": [
    {
     "name": "stdout",
     "output_type": "stream",
     "text": [
      "100 101 102\n",
      "200 201 202\n",
      "300 301 302\n"
     ]
    }
   ],
   "source": [
    "class Level1:\n",
    "    variable_1 = 100\n",
    "    def __init__(self):\n",
    "        self.var_1 = 101\n",
    "\n",
    "    def fun_1(self):\n",
    "        return 102\n",
    "\n",
    "\n",
    "class Level2(Level1):\n",
    "    variable_2 = 200\n",
    "    def __init__(self):\n",
    "        super().__init__()\n",
    "        self.var_2 = 201\n",
    "    \n",
    "    def fun_2(self):\n",
    "        return 202\n",
    "\n",
    "\n",
    "class Level3(Level2):\n",
    "    variable_3 = 300\n",
    "    def __init__(self):\n",
    "        super().__init__()\n",
    "        self.var_3 = 301\n",
    "\n",
    "    def fun_3(self):\n",
    "        return 302\n",
    "\n",
    "\n",
    "obj = Level3()\n",
    "\n",
    "print(obj.variable_1, obj.var_1, obj.fun_1())\n",
    "print(obj.variable_2, obj.var_2, obj.fun_2())\n",
    "print(obj.variable_3, obj.var_3, obj.fun_3())"
   ]
  },
  {
   "cell_type": "markdown",
   "id": "f9efa676",
   "metadata": {},
   "source": [
    "## herança múltipla\n",
    "ocorre quando uma classe tem mais de uma superclasse. \n",
    "Sintaticamente, essa herança é apresentada como uma lista de superclasses separadas por vírgulas\n",
    "e colocadas entre parênteses após o nome da nova classe – assim abaixo:\n",
    "    "
   ]
  },
  {
   "cell_type": "code",
   "execution_count": 24,
   "id": "f2f634ec",
   "metadata": {},
   "outputs": [
    {
     "name": "stdout",
     "output_type": "stream",
     "text": [
      "10 11\n",
      "20 21\n"
     ]
    }
   ],
   "source": [
    "# Herança de 2 superclasses:\n",
    "\n",
    "class SuperA:\n",
    "    var_a = 10\n",
    "    def fun_a(self):\n",
    "        return 11\n",
    "\n",
    "\n",
    "class SuperB:\n",
    "    var_b = 20\n",
    "    def fun_b(self):\n",
    "        return 21\n",
    "\n",
    "\n",
    "class Sub(SuperA, SuperB):\n",
    "    pass\n",
    "\n",
    "\n",
    "obj = Sub()\n",
    "\n",
    "print(obj.var_a, obj.fun_a())\n",
    "print(obj.var_b, obj.fun_b())\n",
    "\n",
    "\n",
    "# A classe Sub tem duas superclasses: SuperA e SuperB.\n",
    "# Isso significa que a classe Sub herda todas as características \n",
    "# oferecidas tanto por SuperA quanto por SuperB.\n"
   ]
  },
  {
   "cell_type": "code",
   "execution_count": 25,
   "id": "ef137a9d",
   "metadata": {},
   "outputs": [
    {
     "name": "stdout",
     "output_type": "stream",
     "text": [
      "200 201\n"
     ]
    }
   ],
   "source": [
    "# overriding\n",
    "\n",
    "# Python procura por uma entidade de baixo para cima e fica \n",
    "# com a primeira entidade do nome desejado. Polimorfismo roots!!\n",
    "\n",
    "class Level1:\n",
    "    var = 100\n",
    "    def fun(self):\n",
    "        return 101\n",
    "\n",
    "\n",
    "class Level2(Level1):\n",
    "    var = 200\n",
    "    def fun(self):\n",
    "        return 201\n",
    "\n",
    "\n",
    "class Level3(Level2):\n",
    "    pass\n",
    "\n",
    "\n",
    "obj = Level3()\n",
    "\n",
    "print(obj.var, obj.fun())"
   ]
  },
  {
   "cell_type": "markdown",
   "id": "1fcdf1b0",
   "metadata": {},
   "source": [
    "Python procura componentes de objetos na seguinte ordem:\n",
    "\n",
    "dentro do próprio objeto;\n",
    "em suas superclasses, de baixo para cima;\n",
    "se houver mais de uma classe em um determinado caminho de herança,\n",
    "o Python as percorre da esquerda para a direita."
   ]
  },
  {
   "cell_type": "code",
   "execution_count": 26,
   "id": "8672d305",
   "metadata": {},
   "outputs": [
    {
     "name": "stdout",
     "output_type": "stream",
     "text": [
      "L LL RR Left\n"
     ]
    }
   ],
   "source": [
    "class Left:\n",
    "    var = \"L\"\n",
    "    var_left = \"LL\"\n",
    "    def fun(self):\n",
    "        return \"Left\"\n",
    "\n",
    "\n",
    "class Right:\n",
    "    var = \"R\"\n",
    "    var_right = \"RR\"\n",
    "    def fun(self):\n",
    "        return \"Right\"\n",
    "\n",
    "\n",
    "class Sub(Left, Right): # escolhe da esquerda para a direita\n",
    "    pass\n",
    "\n",
    "\n",
    "obj = Sub()\n",
    "\n",
    "print(obj.var, obj.var_left, obj.var_right, obj.fun())\n"
   ]
  },
  {
   "cell_type": "code",
   "execution_count": 27,
   "id": "26b6d538",
   "metadata": {},
   "outputs": [
    {
     "name": "stdout",
     "output_type": "stream",
     "text": [
      "R LL RR Right\n"
     ]
    }
   ],
   "source": [
    "class Left:\n",
    "    var = \"L\"\n",
    "    var_left = \"LL\"\n",
    "    def fun(self):\n",
    "        return \"Left\"\n",
    "\n",
    "\n",
    "class Right:\n",
    "    var = \"R\"\n",
    "    var_right = \"RR\"\n",
    "    def fun(self):\n",
    "        return \"Right\"\n",
    "\n",
    "\n",
    "class Sub(Right, Left): # escolhe da esquerda para a direita\n",
    "    pass\n",
    "\n",
    "\n",
    "obj = Sub()\n",
    "\n",
    "print(obj.var, obj.var_left, obj.var_right, obj.fun())"
   ]
  },
  {
   "cell_type": "markdown",
   "id": "414eab06",
   "metadata": {},
   "source": [
    "## Como construir uma hierarquia de classes"
   ]
  },
  {
   "cell_type": "code",
   "execution_count": 30,
   "id": "655c7861",
   "metadata": {},
   "outputs": [
    {
     "name": "stdout",
     "output_type": "stream",
     "text": [
      "do_it from One\n",
      "do_it from Two\n"
     ]
    }
   ],
   "source": [
    "# Se você dividir um problema entre classes e decidir quais delas devem estar no topo\n",
    "# e quais devem estar na base da hierarquia, você precisa analisar cuidadosamente a questão.\n",
    "# Mas, antes de mostrarmos como fazer isso (e como não fazer), queremos destacar um efeito interessante.\n",
    "# Não é nada extraordinário (é apenas uma consequência das regras gerais apresentadas anteriormente),\n",
    "# mas lembrá-lo pode ser a chave para entender como alguns códigos funcionam e como o efeito \n",
    "# pode ser usado para construir um conjunto flexível de classes.\n",
    "\n",
    "\n",
    "# Existem duas classes, chamadas One e Two, sendo que Two é derivada de One. \n",
    "# Nada de especial. No entanto, uma coisa parece notável - o método do_it().\n",
    "# O método do_it() é definido duas vezes: originalmente dentro de One e, em seguida, dentro de Two. \n",
    "# A essência do exemplo está no fato de que ele é invocado apenas uma vez – dentro de One.\n",
    "# A questão é: qual dos dois métodos será invocado pelas duas últimas linhas do código?\n",
    "# A primeira invocação parece ser simples, e de fato é simples – invocar doanything()\n",
    "# a partir do objeto chamado one ativará obviamente o primeiro dos métodos.\n",
    "\n",
    "# A segunda invocação requer um pouco mais de atenção.\n",
    "# Também é simples se você tiver em mente como o Python encontra os componentes da classe.\n",
    "# A segunda invocação chamará do_it() na forma existente dentro da classe Two,\n",
    "# independentemente de a invocação ocorrer dentro da classe One.\n",
    "\n",
    "class One:\n",
    "    def do_it(self):\n",
    "        print(\"do_it from One\")\n",
    "\n",
    "    def doanything(self):\n",
    "        self.do_it()\n",
    "\n",
    "\n",
    "class Two(One):\n",
    "    def do_it(self):\n",
    "        print(\"do_it from Two\")\n",
    "\n",
    "\n",
    "one = One()\n",
    "two = Two()\n",
    "\n",
    "one.doanything()\n",
    "two.doanything()\n",
    "\n",
    "\n",
    "# Nota: A situação em que a subclasse é capaz de modificar o comportamento de sua superclasse (como no exemplo)\n",
    "# é chamada de polimorfismo.\n",
    "# o que significa que uma e a mesma classe pode assumir várias formas dependendo das redefinições feitas\n",
    "# por qualquer uma de suas subclasses.\n",
    "\n",
    "# O método, redefinido em qualquer uma das superclasses, alterando assim o \n",
    "# comportamento da superclasse, é chamado de virtual.\n",
    "\n",
    "# Em outras palavras, nenhuma classe é dada uma vez por todas. O comportamento de cada classe \n",
    "# pode ser modificado a qualquer momento por qualquer uma de suas subclasses."
   ]
  },
  {
   "cell_type": "code",
   "execution_count": 31,
   "id": "31d16198",
   "metadata": {},
   "outputs": [
    {
     "name": "stdout",
     "output_type": "stream",
     "text": [
      "wheels:  True True\n",
      "wheels:  True False\n",
      "tracks:  False True\n",
      "tracks:  False False\n"
     ]
    }
   ],
   "source": [
    "import time\n",
    "\n",
    "class Tracks:\n",
    "    def change_direction(self, left, on):\n",
    "        print(\"tracks: \", left, on)\n",
    "\n",
    "\n",
    "class Wheels:\n",
    "    def change_direction(self, left, on):\n",
    "        print(\"wheels: \", left, on)\n",
    "\n",
    "\n",
    "class Vehicle:\n",
    "    def __init__(self, controller):\n",
    "        self.controller = controller\n",
    "\n",
    "    def turn(self, left):\n",
    "        self.controller.change_direction(left, True)\n",
    "        time.sleep(0.25)\n",
    "        self.controller.change_direction(left, False)\n",
    "\n",
    "\n",
    "wheeled = Vehicle(Wheels())\n",
    "tracked = Vehicle(Tracks())\n",
    "\n",
    "wheeled.turn(True)\n",
    "tracked.turn(False)\n",
    "\n",
    "# Definimos uma superclasse chamada Vehicle, que usa o método turn() \n",
    "# para implementar um esquema geral de viragem, enquanto a viragem em si\n",
    "# é realizada por um método chamado change_direction().\n",
    "# Note que o primeiro método é vazio, pois vamos colocar todos os detalhes\n",
    "# na subclasse (um método como esse é frequentemente chamado de método abstrato,\n",
    "# pois apenas demonstra uma possibilidade que será implementada posteriormente).\n",
    "# Definimos uma subclasse chamada TrackedVehicle (note que ela é derivada da classe Vehicle),\n",
    "# que implementa o método change_direction() usando o método específico (concreto) chamado control_track().\n",
    "# Da mesma forma, a subclasse chamada WheeledVehicle faz o mesmo truque,\n",
    "# mas usa o método turn_front_wheels() para forçar o veículo a virar.\n",
    "# A principal vantagem (omitindo questões de legibilidade) é que essa forma de código \n",
    "# permite implementar um novo algoritmo de viragem apenas modificando o método turn(),\n",
    "# o que pode ser feito em um único lugar, pois todos os veículos irão segui-lo.\n",
    "\n",
    "\n",
    "# Existem duas classes chamadas Tracks e Wheels – elas sabem como controlar a direção do veículo.\n",
    "# Também há uma classe chamada Vehicle, que pode usar qualquer um dos controladores disponíveis\n",
    "# (os dois já definidos ou qualquer outro definido no futuro) – \n",
    "# o próprio controlador é passado para a classe durante a inicialização.\n",
    "\n",
    "# Dessa forma, a capacidade do veículo de virar é composta usando um objeto externo,\n",
    "# não implementado dentro da classe Vehicle.\n",
    "\n",
    "# Em outras palavras, temos um veículo universal e podemos instalar nele tanto esteiras quanto rodas."
   ]
  },
  {
   "cell_type": "markdown",
   "id": "1c68f75d",
   "metadata": {},
   "source": [
    "## Herança Simples vs. Herança Múltipla\n",
    "\n",
    "- Você pode derivar uma nova classe a partir de mais de uma classe previamente definida.\n",
    "\n",
    "*Mas há um \"porém\". O fato de que você pode fazer isso não significa que você deve.*\n",
    "\n",
    "**Não se esqueça de que:**\n",
    "\n",
    "- Uma classe com herança simples é sempre mais simples, segura e mais fácil de entender e manter.\n",
    "\n",
    "- A herança múltipla é sempre arriscada, pois há muitas mais oportunidades de cometer erros ao identificar\n",
    "  as partes das superclasses que irão efetivamente influenciar a nova classe.\n",
    "\n",
    "- A herança múltipla pode tornar a sobrescrita extremamente complicada; além disso,\n",
    "  o uso da função super() torna-se ambíguo.\n",
    "    \n",
    "- A herança múltipla viola o princípio da responsabilidade única \n",
    "  pois cria uma nova classe a partir de duas (ou mais) classes que não têm relação entre si.\n",
    "    \n",
    "- Recomendamos fortemente que a herança múltipla seja a última de todas as soluções possíveis\n",
    "  se você realmente precisar das muitas funcionalidades diferentes oferecidas por diferentes classes, \n",
    "  a composição pode ser uma alternativa melhor."
   ]
  }
 ],
 "metadata": {
  "kernelspec": {
   "display_name": "Python 3 (ipykernel)",
   "language": "python",
   "name": "python3"
  },
  "language_info": {
   "codemirror_mode": {
    "name": "ipython",
    "version": 3
   },
   "file_extension": ".py",
   "mimetype": "text/x-python",
   "name": "python",
   "nbconvert_exporter": "python",
   "pygments_lexer": "ipython3",
   "version": "3.11.5"
  }
 },
 "nbformat": 4,
 "nbformat_minor": 5
}
