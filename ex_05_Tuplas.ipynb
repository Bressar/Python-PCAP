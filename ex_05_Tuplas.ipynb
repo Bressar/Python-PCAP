{
 "cells": [
  {
   "cell_type": "code",
   "execution_count": 1,
   "id": "d4f1baf2",
   "metadata": {},
   "outputs": [
    {
     "name": "stdout",
     "output_type": "stream",
     "text": [
      "(1, 2, 4, 8)\n",
      "(1.0, 0.5, 0.25, 0.125)\n"
     ]
    }
   ],
   "source": [
    "# Pode-se criar tuplas usando só vírgulas como separador\n",
    "# Pra ser uma tupla precisa ter vírgula\n",
    "\n",
    "tuple_1 = (1, 2, 4, 8)\n",
    "tuple_2 = 1., .5, .25, .125\n",
    "\n",
    "print(tuple_1)\n",
    "print(tuple_2)\n",
    "\n",
    "#Note: each tuple element may be of a different type (floating-point, integer,\n",
    "# or any other not-as-yet-introduced kind of data).\n",
    "\n",
    "# para criar uma tupla com 1 só item, precisa da vírgula!\n",
    "one_element_tuple_1 = (1, )\n",
    "one_element_tuple_2 = 1.,\n",
    "\n",
    "empty_tuple = () # vazia\n"
   ]
  },
  {
   "cell_type": "markdown",
   "id": "487e4e91",
   "metadata": {},
   "source": [
    "#### Tuplas não são editáveis!"
   ]
  },
  {
   "cell_type": "code",
   "execution_count": 2,
   "id": "e539183c",
   "metadata": {},
   "outputs": [
    {
     "name": "stdout",
     "output_type": "stream",
     "text": [
      "1\n",
      "1000\n",
      "(10, 100, 1000)\n",
      "(1, 10)\n",
      "1\n",
      "10\n",
      "100\n",
      "1000\n"
     ]
    }
   ],
   "source": [
    "my_tuple = (1, 10, 100, 1000)\n",
    "\n",
    "print(my_tuple[0]) # 1\n",
    "print(my_tuple[-1]) # 100\n",
    "print(my_tuple[1:]) # 10, 100, 1000\n",
    "print(my_tuple[:-2]) # 1, 10\n",
    "\n",
    "for elem in my_tuple:\n",
    "    print(elem)\n"
   ]
  },
  {
   "cell_type": "markdown",
   "id": "5f6c6906",
   "metadata": {},
   "source": [
    "the len() function accepts tuples, and returns the number of elements contained inside;\n",
    "\n",
    "the + operator can join tuples together (we've shown you this already)\n",
    "                                         \n",
    "the * operator can multiply tuples, just like lists;\n",
    "                                         \n",
    "the in and not in operators work in the same way as in lists."
   ]
  },
  {
   "cell_type": "code",
   "execution_count": 3,
   "id": "9bc082f4",
   "metadata": {},
   "outputs": [
    {
     "name": "stdout",
     "output_type": "stream",
     "text": [
      "(2,) (3, 123) (1,)\n"
     ]
    }
   ],
   "source": [
    "var = 123\n",
    "\n",
    "t1 = (1, )\n",
    "t2 = (2, )\n",
    "t3 = (3, var)\n",
    "\n",
    "t1, t2, t3 = t2, t3, t1\n",
    "\n",
    "print(t1, t2, t3)"
   ]
  },
  {
   "cell_type": "code",
   "execution_count": 4,
   "id": "68ce822d",
   "metadata": {},
   "outputs": [
    {
     "name": "stdout",
     "output_type": "stream",
     "text": [
      "9\n",
      "(1, 10, 100, 1000, 10000)\n",
      "(1, 10, 100, 1, 10, 100, 1, 10, 100)\n",
      "True\n",
      "True\n"
     ]
    }
   ],
   "source": [
    "my_tuple = (1, 10, 100)\n",
    "\n",
    "t1 = my_tuple + (1000, 10000)\n",
    "t2 = my_tuple * 3\n",
    "\n",
    "print(len(t2))\n",
    "print(t1)\n",
    "print(t2)\n",
    "print(10 in my_tuple)\n",
    "print(-10 not in my_tuple)"
   ]
  },
  {
   "cell_type": "code",
   "execution_count": 6,
   "id": "9e382eb1",
   "metadata": {},
   "outputs": [
    {
     "name": "stdout",
     "output_type": "stream",
     "text": [
      "(2,) (3, 123) (1,)\n"
     ]
    }
   ],
   "source": [
    "var = 123\n",
    " \n",
    "t1 = (1, )\n",
    "t2 = (2, )\n",
    "t3 = (3, var)\n",
    " \n",
    "t1, t2, t3 = t2, t3, t1\n",
    " \n",
    "print(t1, t2, t3)\n"
   ]
  },
  {
   "cell_type": "code",
   "execution_count": 9,
   "id": "bdc5e18f",
   "metadata": {},
   "outputs": [
    {
     "name": "stdout",
     "output_type": "stream",
     "text": [
      "(1, 2, True, 'a string', (3, 4), [5, 6], None)\n",
      "[1, 2, True, 'a string', (3, 4), [5, 6], None]\n",
      "<class 'tuple'>\n",
      "<class 'tuple'>\n",
      "<class 'int'>\n",
      "[3, 4]\n"
     ]
    }
   ],
   "source": [
    "# Tuplas são coleções ordenadas e não modificáveis (imutáveis) de dados.\n",
    "# Elas podem ser consideradas como listas imutáveis. \n",
    "\n",
    "my_tuple = (1, 2, True, \"a string\", (3, 4), [5, 6], None)\n",
    "print(my_tuple)\n",
    "\n",
    "my_list = [1, 2, True, \"a string\", (3, 4), [5, 6], None]\n",
    "print(my_list)\n",
    "\n",
    "# criando tupla vazia\n",
    "empty_tuple = ()\n",
    "print(type(empty_tuple))    # outputs: <class 'tuple'>\n",
    "\n",
    "\n",
    "one_elem_tuple_1 = (\"one\", )    # Brackets and a comma.\n",
    "\n",
    "one_elem_tuple_2 = \"one\",       # No brackets, just a comma.\n",
    "\n",
    "\n",
    "my_tuple_1 = 1, \n",
    "print(type(my_tuple_1))    # outputs: <class 'tuple'>\n",
    "\n",
    "my_tuple_2 = 1             # This is not a tuple.\n",
    "print(type(my_tuple_2))    # outputs: <class 'int'>\n",
    "\n",
    "# indexando uma tupla\n",
    "my_tuple = (1, 2.0, \"string\", [3, 4], (5, ), True)\n",
    "\n",
    "print(my_tuple[3])    # outputs: [3, 4]\n",
    "\n",
    "#  Tuples are immutable, cannot append tuples, or modify, or remove tuple elements"
   ]
  },
  {
   "cell_type": "code",
   "execution_count": 11,
   "id": "53227274",
   "metadata": {},
   "outputs": [
    {
     "ename": "NameError",
     "evalue": "name 'my_tuple' is not defined",
     "output_type": "error",
     "traceback": [
      "\u001b[1;31m---------------------------------------------------------------------------\u001b[0m",
      "\u001b[1;31mNameError\u001b[0m                                 Traceback (most recent call last)",
      "Cell \u001b[1;32mIn[11], line 4\u001b[0m\n\u001b[0;32m      2\u001b[0m my_tuple \u001b[38;5;241m=\u001b[39m \u001b[38;5;241m1\u001b[39m, \u001b[38;5;241m2\u001b[39m, \u001b[38;5;241m3\u001b[39m, \n\u001b[0;32m      3\u001b[0m \u001b[38;5;28;01mdel\u001b[39;00m my_tuple\n\u001b[1;32m----> 4\u001b[0m \u001b[38;5;28mprint\u001b[39m(my_tuple)\n",
      "\u001b[1;31mNameError\u001b[0m: name 'my_tuple' is not defined"
     ]
    }
   ],
   "source": [
    "# tuplas podem ser deletadas\n",
    "my_tuple = 1, 2, 3, \n",
    "\n",
    "del my_tuple\n",
    "\n",
    "print(my_tuple)  # NameError: name 'my_tuple' is not defined"
   ]
  },
  {
   "cell_type": "code",
   "execution_count": 11,
   "id": "31a70c7b",
   "metadata": {},
   "outputs": [
    {
     "name": "stdout",
     "output_type": "stream",
     "text": [
      "1*2*3*\n",
      "\n",
      "False\n",
      "True\n",
      "\n",
      "\n",
      "4\n",
      "(1, 2, 3, 1, 2, 3, 4)\n",
      "(1, 2, 3, 5, 1, 2, 3, 5)\n"
     ]
    }
   ],
   "source": [
    "# usando loop for em tuplas:\n",
    "\n",
    "# Example 1\n",
    "tuple_1 = (1, 2, 3)\n",
    "for elem in tuple_1:\n",
    "    print(elem, end= ' * ')\n",
    "    \n",
    "print('\\n')   \n",
    "# Example 2\n",
    "tuple_2 = (1, 2, 3, 4)\n",
    "print(5 in tuple_2) # False\n",
    "print(5 not in tuple_2)# True\n",
    "\n",
    "print('\\n')\n",
    "# Example 3\n",
    "tuple_3 = (1, 2, 3, 5)\n",
    "print(len(tuple_3))\n",
    "\n",
    "# Example 4\n",
    "tuple_4 = tuple_1 + tuple_2\n",
    "tuple_5 = tuple_3 * 2\n",
    "print(tuple_4)\n",
    "print(tuple_5)"
   ]
  },
  {
   "cell_type": "markdown",
   "id": "2d8b9a21",
   "metadata": {},
   "source": [
    "Criar uma tupla usando uma função interna do Python chamada tuple().\n",
    "Isso é particularmente útil quando se deseja converter um iterável específico\n",
    "(por exemplo, uma lista, intervalo, string, etc.) em uma tupla:"
   ]
  },
  {
   "cell_type": "code",
   "execution_count": 17,
   "id": "f4981f8a",
   "metadata": {},
   "outputs": [
    {
     "name": "stdout",
     "output_type": "stream",
     "text": [
      "(1, 2, 'string')\n",
      "[2, 4, 6]\n",
      "<class 'list'>\n",
      "(2, 4, 6)\n",
      "<class 'tuple'>\n"
     ]
    }
   ],
   "source": [
    "my_tuple = tuple((1, 2, \"string\"))\n",
    "print(my_tuple)\n",
    "\n",
    "my_list = [2, 4, 6]\n",
    "print(my_list)    # outputs: [2, 4, 6]\n",
    "print(type(my_list))    # outputs: <class 'list'>\n",
    "\n",
    "tup = tuple(my_list) # converte a lista em tupla\n",
    "\n",
    "print(tup)    # outputs: (2, 4, 6)\n",
    "print(type(tup))    # outputs: <class 'tuple'>"
   ]
  },
  {
   "cell_type": "code",
   "execution_count": 18,
   "id": "075457d8",
   "metadata": {},
   "outputs": [
    {
     "name": "stdout",
     "output_type": "stream",
     "text": [
      "<class 'list'>\n"
     ]
    }
   ],
   "source": [
    "# o inverso, transformando a tupla em lista\n",
    "\n",
    "tup = 1, 2, 3, \n",
    "my_list = list(tup)\n",
    "print(type(my_list))    # outputs: <class 'list'>"
   ]
  },
  {
   "cell_type": "code",
   "execution_count": 20,
   "id": "2a2840ae",
   "metadata": {},
   "outputs": [
    {
     "name": "stdout",
     "output_type": "stream",
     "text": [
      "6\n"
     ]
    }
   ],
   "source": [
    "# De tuplas para variaveis\n",
    "\n",
    "tup = 1, 2, 3\n",
    "a, b, c = tup # transforme os itens das tuplas em variaveis\n",
    "\n",
    "print(a * b * c) # 1 * 2 * 3\n",
    "\n",
    "#Os elementos da tupla tup foram \"desempacotados\" nas variáveis a, b e c."
   ]
  },
  {
   "cell_type": "code",
   "execution_count": 25,
   "id": "99af6a04",
   "metadata": {},
   "outputs": [
    {
     "name": "stdout",
     "output_type": "stream",
     "text": [
      "4\n"
     ]
    }
   ],
   "source": [
    "# metodo .count()\n",
    "\n",
    "tup = 1, 2, 3, 2, 4, 5, 6, 2, 7, 2, 8, 9\n",
    "\n",
    "duplicates = tup.count(2) # conta quantas vezes o número aparece\n",
    "\n",
    "print(duplicates)    # outputs: 4"
   ]
  },
  {
   "cell_type": "code",
   "execution_count": 28,
   "id": "adffa8de",
   "metadata": {},
   "outputs": [
    {
     "name": "stdout",
     "output_type": "stream",
     "text": [
      "('car', 'Ford', 'flower', 'Tulip')\n",
      "{'green': '#008000', 'blue': '#0000FF'}\n"
     ]
    }
   ],
   "source": [
    "# cast to tuple/dict\n",
    "\n",
    "my_list = [\"car\", \"Ford\", \"flower\", \"Tulip\"]\n",
    "\n",
    "t =  tuple(my_list)\n",
    "print(t)\n",
    "\n",
    "\n",
    "colors = ((\"green\", \"#008000\"), (\"blue\", \"#0000FF\"))\n",
    "\n",
    "colors_dictionary = dict(colors) # tupla para dicionario\n",
    "\n",
    "print(colors_dictionary)"
   ]
  },
  {
   "cell_type": "code",
   "execution_count": 31,
   "id": "7d171b33",
   "metadata": {},
   "outputs": [
    {
     "name": "stdout",
     "output_type": "stream",
     "text": [
      "{'A': 1, 'B': 2}\n"
     ]
    }
   ],
   "source": [
    "# Usando copy, funciona igual copiar uma lista ex:\n",
    "# lista_copy = lista[:]\n",
    "\n",
    "my_dictionary = {\"A\": 1, \"B\": 2}\n",
    "\n",
    "copy_my_dictionary = my_dictionary.copy() # faz a cópia\n",
    "\n",
    "my_dictionary.clear() # limpa os dados\n",
    "\n",
    "print(copy_my_dictionary)"
   ]
  },
  {
   "cell_type": "code",
   "execution_count": 30,
   "id": "5b7ac7fd",
   "metadata": {},
   "outputs": [
    {
     "name": "stdout",
     "output_type": "stream",
     "text": [
      "{}\n"
     ]
    }
   ],
   "source": [
    "# Se apenas instaciar, tudo que é feito no original vale para a cópia e vice-versa\n",
    "\n",
    "my_dictionary = {\"A\": 1, \"B\": 2}\n",
    "\n",
    "copy_my_dictionary = my_dictionary \n",
    "\n",
    "my_dictionary.clear()\n",
    "\n",
    "print(copy_my_dictionary)"
   ]
  },
  {
   "cell_type": "code",
   "execution_count": 5,
   "id": "750313dc",
   "metadata": {},
   "outputs": [
    {
     "name": "stdout",
     "output_type": "stream",
     "text": [
      "(1,)\n",
      "('',)\n"
     ]
    }
   ],
   "source": [
    "tuple_1 = 1,\n",
    "tuple_2 =  '',\n",
    "print(tuple_1)\n",
    "print(tuple_2)"
   ]
  },
  {
   "cell_type": "code",
   "execution_count": null,
   "id": "8b45d13b",
   "metadata": {},
   "outputs": [],
   "source": []
  }
 ],
 "metadata": {
  "kernelspec": {
   "display_name": "Python 3 (ipykernel)",
   "language": "python",
   "name": "python3"
  },
  "language_info": {
   "codemirror_mode": {
    "name": "ipython",
    "version": 3
   },
   "file_extension": ".py",
   "mimetype": "text/x-python",
   "name": "python",
   "nbconvert_exporter": "python",
   "pygments_lexer": "ipython3",
   "version": "3.11.5"
  }
 },
 "nbformat": 4,
 "nbformat_minor": 5
}
