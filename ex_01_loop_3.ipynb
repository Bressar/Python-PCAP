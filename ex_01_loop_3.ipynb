{
 "cells": [
  {
   "cell_type": "code",
   "execution_count": 1,
   "id": "09765141",
   "metadata": {},
   "outputs": [
    {
     "name": "stdout",
     "output_type": "stream",
     "text": [
      "Digite um número ou pressione [-1] para parar: -1\n",
      "Ainda não inseriu nenhum número\n"
     ]
    }
   ],
   "source": [
    "maior_numero = -999999999\n",
    "contador = 0\n",
    "\n",
    "numero = int(input('Digite um número ou pressione [-1] para parar: '))\n",
    "\n",
    "while numero != -1:\n",
    "    if numero == -1:\n",
    "        continue\n",
    "    contador += 1\n",
    "    \n",
    "    if numero > maior_numero:\n",
    "        maior_numero = numero\n",
    "    numero = int(input('Digite um número ou pressione [-1] para parar: '))\n",
    "\n",
    "if contador:\n",
    "    print(f\"O maior número é: {maior_numero}\")\n",
    "else:\n",
    "    print(\"Ainda não inseriu nenhum número\")"
   ]
  },
  {
   "cell_type": "code",
   "execution_count": 2,
   "id": "f8b12ab8",
   "metadata": {},
   "outputs": [
    {
     "name": "stdout",
     "output_type": "stream",
     "text": [
      "Escreva a palavra secreta: banana\n",
      "Escreva a palavra secreta: chupacabra\n",
      "Você conseguiu sair do Loop!!\n"
     ]
    }
   ],
   "source": [
    "while True:\n",
    "    palavra = str(input(\"Escreva a palavra secreta: \")).lower().strip()\n",
    "    if palavra == 'chupacabra':\n",
    "        print(\"Você conseguiu sair do Loop!!\")\n",
    "        break\n",
    "    "
   ]
  },
  {
   "cell_type": "code",
   "execution_count": 6,
   "id": "f4848ca7",
   "metadata": {},
   "outputs": [
    {
     "name": "stdout",
     "output_type": "stream",
     "text": [
      "Escreva uma palavra ou digite [S] para sair.banana\n",
      "B\n",
      "N\n",
      "N\n",
      "Escreva uma palavra ou digite [S] para sair.s\n",
      "S\n",
      "Saindo do programa...\n"
     ]
    }
   ],
   "source": [
    "while True:\n",
    "    user_word = str(input(\"Escreva uma palavra ou digite [S] para sair.\")).upper().strip()\n",
    "    palavra_sem_vogais = []\n",
    "    for letter in user_word:\n",
    "        if letter != \"A\" and letter != \"E\" and letter != \"O\" and letter != \"U\" and letter != \"I\":\n",
    "            palavra_sem_vogais.append(letter)\n",
    "    for i in range(len(palavra_sem_vogais)):   \n",
    "        print(palavra_sem_vogais[i], end=\"\\n\")\n",
    "        \n",
    "    if user_word == \"S\":   \n",
    "        print(\"Saindo do programa...\")\n",
    "        break"
   ]
  },
  {
   "cell_type": "code",
   "execution_count": 8,
   "id": "c630602d",
   "metadata": {},
   "outputs": [
    {
     "name": "stdout",
     "output_type": "stream",
     "text": [
      "5\n",
      "4\n",
      "3\n"
     ]
    }
   ],
   "source": [
    "# Example 1\n",
    "#while True:\n",
    "#    print(\"Stuck in an infinite loop.\")\n",
    "\n",
    "# Example 2\n",
    "counter = 5\n",
    "while counter > 2:\n",
    "    print(counter)\n",
    "    counter -= 1"
   ]
  },
  {
   "cell_type": "code",
   "execution_count": 9,
   "id": "faf7b31a",
   "metadata": {},
   "outputs": [
    {
     "name": "stdout",
     "output_type": "stream",
     "text": [
      "P*y*t*h*o*n*"
     ]
    }
   ],
   "source": [
    "# Example 1\n",
    "word = \"Python\"\n",
    "for letter in word:\n",
    "    print(letter, end=\"*\")"
   ]
  },
  {
   "cell_type": "code",
   "execution_count": 10,
   "id": "33232fa6",
   "metadata": {},
   "outputs": [
    {
     "name": "stdout",
     "output_type": "stream",
     "text": [
      "2\n",
      "4\n",
      "6\n",
      "8\n"
     ]
    }
   ],
   "source": [
    "# Example 2\n",
    "for i in range(1, 10):\n",
    "    if i % 2 == 0:\n",
    "        print(i)"
   ]
  },
  {
   "cell_type": "code",
   "execution_count": 11,
   "id": "fd315786",
   "metadata": {},
   "outputs": [
    {
     "name": "stdout",
     "output_type": "stream",
     "text": [
      "OpenEDG "
     ]
    }
   ],
   "source": [
    "text = \"OpenEDG Python Institute\"\n",
    "for letter in text:\n",
    "    if letter == \"P\":\n",
    "        break  # pára no P\n",
    "    print(letter, end=\"\")"
   ]
  },
  {
   "cell_type": "code",
   "execution_count": 12,
   "id": "126dc692",
   "metadata": {},
   "outputs": [
    {
     "name": "stdout",
     "output_type": "stream",
     "text": [
      "pypypy"
     ]
    }
   ],
   "source": [
    "text = \"pyxpyxpyx\"\n",
    "for letter in text:\n",
    "    if letter == \"x\":\n",
    "        continue  # pula o x\n",
    "    print(letter, end=\"\")"
   ]
  },
  {
   "cell_type": "code",
   "execution_count": 13,
   "id": "ffa63de9",
   "metadata": {},
   "outputs": [
    {
     "name": "stdout",
     "output_type": "stream",
     "text": [
      "0\n",
      "1\n",
      "2\n",
      "3 else\n",
      "\n",
      "0\n",
      "1\n",
      "2\n",
      "2 else\n"
     ]
    }
   ],
   "source": [
    "# Using Else\n",
    "n = 0\n",
    "\n",
    "while n != 3:\n",
    "    print(n)\n",
    "    n += 1\n",
    "else: # vai 1 além do loop\n",
    "    print(n, \"else\")\n",
    "\n",
    "print()\n",
    "\n",
    "for i in range(0, 3):\n",
    "    print(i)\n",
    "else: # vai 1 além do loop\n",
    "    print(i, \"else\")"
   ]
  },
  {
   "cell_type": "code",
   "execution_count": 15,
   "id": "c4f7963a",
   "metadata": {},
   "outputs": [
    {
     "name": "stdout",
     "output_type": "stream",
     "text": [
      "0 1 2 "
     ]
    }
   ],
   "source": [
    "for i in range(3):\n",
    "    print(i, end=\" \")  # Outputs: 0 1 2"
   ]
  },
  {
   "cell_type": "code",
   "execution_count": 16,
   "id": "567ff163",
   "metadata": {},
   "outputs": [
    {
     "name": "stdout",
     "output_type": "stream",
     "text": [
      "6 4 2 "
     ]
    }
   ],
   "source": [
    "for i in range(6, 1, -2):\n",
    "    print(i, end=\" \")  # Outputs: 6, 4, 2"
   ]
  },
  {
   "cell_type": "code",
   "execution_count": 6,
   "id": "858aa669",
   "metadata": {
    "scrolled": true
   },
   "outputs": [],
   "source": [
    "for i in range(6, 1): # Dá erro!! precisa ser ascendente\n",
    "    print(i, end=\" \")  # Outputs: 6, 4, 2"
   ]
  },
  {
   "cell_type": "code",
   "execution_count": 5,
   "id": "cc549e59",
   "metadata": {},
   "outputs": [
    {
     "name": "stdout",
     "output_type": "stream",
     "text": [
      "6 5 4 3 2 1 "
     ]
    }
   ],
   "source": [
    "for i in range(6, 0, -1): # Assim funciona...\n",
    "    print(i, end=\" \")  # Outputs: 6, 4, 2"
   ]
  },
  {
   "cell_type": "code",
   "execution_count": 7,
   "id": "8667181e",
   "metadata": {
    "scrolled": true
   },
   "outputs": [
    {
     "name": "stdout",
     "output_type": "stream",
     "text": [
      "2\n",
      "4\n",
      "6\n",
      "8\n",
      "10\n"
     ]
    }
   ],
   "source": [
    "# ex - 01 - Create a for loop that counts from 0 to 10, and prints odd numbers to the screen. \n",
    "for i in range(1, 11):\n",
    "    if i % 2 == 0:\n",
    "        print(i)"
   ]
  },
  {
   "cell_type": "code",
   "execution_count": 8,
   "id": "4fcffcf3",
   "metadata": {},
   "outputs": [
    {
     "name": "stdout",
     "output_type": "stream",
     "text": [
      "2\n",
      "4\n",
      "6\n",
      "8\n",
      "10\n"
     ]
    }
   ],
   "source": [
    "# ex - 02 -  Create a while loop that counts from 0 to 10, and prints odd numbers to the screen.\n",
    "x = 1\n",
    "while x < 11:\n",
    "    if x % 2 == 0:\n",
    "        print(x)\n",
    "    x += 1"
   ]
  },
  {
   "cell_type": "code",
   "execution_count": 9,
   "id": "2d93d301",
   "metadata": {},
   "outputs": [
    {
     "name": "stdout",
     "output_type": "stream",
     "text": [
      "john.smith"
     ]
    }
   ],
   "source": [
    "# ex - 03 - Create a program with a for loop and a break statement.\n",
    "# The program should iterate over characters in an email address,\n",
    "# exit the loop when it reaches the @ symbol, and print the part before @ on one line.\n",
    "\n",
    "for ch in \"john.smith@pythoninstitute.org\":\n",
    "    if ch == \"@\":\n",
    "        break\n",
    "    print(ch, end=\"\")\n"
   ]
  },
  {
   "cell_type": "code",
   "execution_count": 5,
   "id": "4d3f5bd8",
   "metadata": {},
   "outputs": [
    {
     "name": "stdout",
     "output_type": "stream",
     "text": [
      "x165x318x651x"
     ]
    }
   ],
   "source": [
    "# ex - 04 -  Create a program with a for loop and a continue statement.\n",
    "# The program should iterate over a string of digits, \n",
    "# replace each 0 with x, and print the modified string to the screen.\n",
    "for digit in \"0165031806510\":\n",
    "    if digit == \"0\":\n",
    "        digit = \"x\"\n",
    "    print(digit, end=\"\")\n",
    "    # Line of code."
   ]
  },
  {
   "cell_type": "code",
   "execution_count": 6,
   "id": "d77c089c",
   "metadata": {},
   "outputs": [
    {
     "name": "stdout",
     "output_type": "stream",
     "text": [
      "4\n",
      "3\n",
      "2\n",
      "0\n"
     ]
    }
   ],
   "source": [
    "# ex - 05 -\n",
    "n = 3\n",
    "\n",
    "while n > 0:\n",
    "    print(n + 1)\n",
    "    n -= 1\n",
    "else:\n",
    "    print(n)"
   ]
  },
  {
   "cell_type": "code",
   "execution_count": 7,
   "id": "0a3fc2c3",
   "metadata": {},
   "outputs": [
    {
     "name": "stdout",
     "output_type": "stream",
     "text": [
      "-1\n",
      "0\n",
      "1\n",
      "2\n",
      "3\n"
     ]
    }
   ],
   "source": [
    "# ex - 06 -\n",
    "n = range(4) # equivalente a [0, 1, 2, 3].\n",
    "\n",
    "for num in n:#  itera sobre cada elemento em n (que são 0, 1, 2 e 3).\n",
    "    print(num - 1) # para cada num da sequência, imprime-se num - 1.\n",
    "else:\n",
    "    print(num) # imprime o último valor de num\n",
    "    \n",
    "# Na primeira iteração, num é 0:\n",
    "# print(0 - 1) imprime -1\n",
    "# Na segunda iteração, num é 1:\n",
    "# print(1 - 1) imprime 0\n",
    "# Na terceira iteração, num é 2:\n",
    "# print(2 - 1) imprime 1\n",
    "# Na quarta iteração, num é 3:\n",
    "# print(3 - 1) imprime 2\n",
    "\n",
    "# O else é executado e print(num) imprime 3, que é o último valor de num.\n"
   ]
  },
  {
   "cell_type": "code",
   "execution_count": 8,
   "id": "e2b43ef3",
   "metadata": {},
   "outputs": [
    {
     "name": "stdout",
     "output_type": "stream",
     "text": [
      "0\n",
      "3\n"
     ]
    }
   ],
   "source": [
    "# ex - 07 -\n",
    "for i in range(0, 6, 3):\n",
    "    print(i)"
   ]
  },
  {
   "cell_type": "code",
   "execution_count": null,
   "id": "927afae1",
   "metadata": {},
   "outputs": [],
   "source": []
  }
 ],
 "metadata": {
  "kernelspec": {
   "display_name": "Python 3 (ipykernel)",
   "language": "python",
   "name": "python3"
  },
  "language_info": {
   "codemirror_mode": {
    "name": "ipython",
    "version": 3
   },
   "file_extension": ".py",
   "mimetype": "text/x-python",
   "name": "python",
   "nbconvert_exporter": "python",
   "pygments_lexer": "ipython3",
   "version": "3.11.5"
  }
 },
 "nbformat": 4,
 "nbformat_minor": 5
}
