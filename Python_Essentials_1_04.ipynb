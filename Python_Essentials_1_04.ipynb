{
 "cells": [
  {
   "cell_type": "markdown",
   "id": "98a98075",
   "metadata": {},
   "source": [
    "## Question 1\n",
    "Which one of the following lines properly starts a parameterless function definition?\n",
    "\n",
    "def fun():"
   ]
  },
  {
   "cell_type": "markdown",
   "id": "4ea3a021",
   "metadata": {},
   "source": [
    "## Question 2\n",
    "A function defined in the following way:  (Select two answers)\n",
    "\n",
    "\n",
    "def function(x=0):\n",
    "    return x\n",
    "\n",
    "\n",
    "may be invoked with exactly one argument\n",
    "\n",
    "may be invoked without any argument\n"
   ]
  },
  {
   "cell_type": "markdown",
   "id": "4f0fa570",
   "metadata": {},
   "source": [
    "## Question 3\n",
    "A built-in function is a function which:\n",
    "    \n",
    "comes with Python, and is an integral part of Python"
   ]
  },
  {
   "cell_type": "markdown",
   "id": "3c36a5ff",
   "metadata": {},
   "source": [
    "## Question 4\n",
    "The fact that tuples belong to sequence types means that:\n",
    "\n",
    "\n",
    "they can be modified using the del instruction\n",
    "\n",
    "they can be indexed and sliced like lists"
   ]
  },
  {
   "cell_type": "markdown",
   "id": "1b77a20c",
   "metadata": {},
   "source": [
    "## Question 5\n",
    "What is the output of the following snippet?"
   ]
  },
  {
   "cell_type": "code",
   "execution_count": 1,
   "id": "ff98cc87",
   "metadata": {},
   "outputs": [
    {
     "name": "stdout",
     "output_type": "stream",
     "text": [
      "6\n"
     ]
    }
   ],
   "source": [
    "def f(x):\n",
    "    if x == 0:\n",
    "        return 0\n",
    "    return x + f(x - 1)\n",
    "\n",
    "\n",
    "print(f(3))\n",
    "\n",
    "# Execução da função f passo a passo para x = 3:\n",
    "\n",
    "# f(3) retorna 3 + f(2)\n",
    "# f(2) retorna 2 + f(1)\n",
    "# f(1) retorna 1 + f(0)\n",
    "# f(0) retorna 0 (condição base)\n",
    "# Então, substituindo de volta:\n",
    "\n",
    "# f(1) se torna 1 + 0 = 1\n",
    "# f(2) se torna 2 + 1 = 3\n",
    "# f(3) se torna 3 + 3 = 6\n",
    "# Portanto, o valor impresso será 6.\n",
    "\n",
    "# A função f está efetivamente calculando a soma de todos \n",
    "# os números inteiros de x até 0, inclusive.\n",
    "# Para x = 3, a soma é 3 + 2 + 1 + 0 = 6."
   ]
  },
  {
   "cell_type": "markdown",
   "id": "fa1acccc",
   "metadata": {},
   "source": [
    "## Question 6\n",
    "What is the output of the following snippet?"
   ]
  },
  {
   "cell_type": "code",
   "execution_count": 2,
   "id": "3a1e1c05",
   "metadata": {},
   "outputs": [
    {
     "name": "stdout",
     "output_type": "stream",
     "text": [
      "4\n"
     ]
    }
   ],
   "source": [
    "def fun(x):\n",
    "    x += 1\n",
    "    return x\n",
    "\n",
    "\n",
    "x = 2\n",
    "x = fun(x + 1)\n",
    "print(x)\n"
   ]
  },
  {
   "cell_type": "code",
   "execution_count": null,
   "id": "1f6c94a7",
   "metadata": {},
   "outputs": [],
   "source": [
    "## Question 7\n",
    "What code would you insert instead of the comment to obtain the expected output?\n",
    "\n",
    "Expected output:\n",
    "\n",
    "a\n",
    "b\n",
    "c\n",
    "Code:"
   ]
  },
  {
   "cell_type": "code",
   "execution_count": 10,
   "id": "1e8decf6",
   "metadata": {},
   "outputs": [
    {
     "name": "stdout",
     "output_type": "stream",
     "text": [
      "a\n",
      "b\n",
      "c\n"
     ]
    }
   ],
   "source": [
    "dictionary = {}\n",
    "my_list = ['a', 'b', 'c', 'd']\n",
    "\n",
    "for i in range(len(my_list) - 1):\n",
    "    dictionary[my_list[i]] = (my_list[i], )\n",
    "\n",
    "for i in sorted(dictionary.keys()):\n",
    "    k = dictionary[i]\n",
    "\n",
    "    print(k[0])\n",
    "    "
   ]
  },
  {
   "cell_type": "markdown",
   "id": "ecb61ad4",
   "metadata": {},
   "source": [
    "## Question 8\n",
    "The following snippet: -> is erroneous"
   ]
  },
  {
   "cell_type": "code",
   "execution_count": 11,
   "id": "c63b0291",
   "metadata": {},
   "outputs": [
    {
     "ename": "TypeError",
     "evalue": "func() missing 1 required positional argument: 'b'",
     "output_type": "error",
     "traceback": [
      "\u001b[1;31m---------------------------------------------------------------------------\u001b[0m",
      "\u001b[1;31mTypeError\u001b[0m                                 Traceback (most recent call last)",
      "Cell \u001b[1;32mIn[11], line 5\u001b[0m\n\u001b[0;32m      1\u001b[0m \u001b[38;5;28;01mdef\u001b[39;00m \u001b[38;5;21mfunc\u001b[39m(a, b):\n\u001b[0;32m      2\u001b[0m     \u001b[38;5;28;01mreturn\u001b[39;00m a \u001b[38;5;241m*\u001b[39m\u001b[38;5;241m*\u001b[39m a\n\u001b[1;32m----> 5\u001b[0m \u001b[38;5;28mprint\u001b[39m(func(\u001b[38;5;241m2\u001b[39m))\n",
      "\u001b[1;31mTypeError\u001b[0m: func() missing 1 required positional argument: 'b'"
     ]
    }
   ],
   "source": [
    "def func(a, b):\n",
    "    return a ** a\n",
    "\n",
    "\n",
    "print(func(2)) # missing 1 required positional argument: 'b'\n"
   ]
  },
  {
   "cell_type": "markdown",
   "id": "16ac335c",
   "metadata": {},
   "source": [
    "## Question 9\n",
    "The following snippet:"
   ]
  },
  {
   "cell_type": "code",
   "execution_count": 12,
   "id": "85ec66ce",
   "metadata": {},
   "outputs": [
    {
     "name": "stdout",
     "output_type": "stream",
     "text": [
      "16\n"
     ]
    }
   ],
   "source": [
    "def func_1(a):\n",
    "    return a ** a\n",
    "\n",
    "\n",
    "def func_2(a):\n",
    "    return func_1(a) * func_1(a)\n",
    "\n",
    "\n",
    "print(func_2(2))\n",
    "\n"
   ]
  },
  {
   "cell_type": "markdown",
   "id": "1d1c6303",
   "metadata": {},
   "source": [
    "## Question 10\n",
    "Which of the following lines properly starts a function\n",
    "using two parameters, both with zeroed default values?\n",
    "\n",
    "def fun(a=0, b=0):\n",
    "    "
   ]
  },
  {
   "cell_type": "markdown",
   "id": "ce351fca",
   "metadata": {},
   "source": [
    "## Question 11\n",
    "Which of the following statements are true? (Select two answers)\n",
    "\n",
    "The None value can be assigned to variables\n",
    "\n",
    "The None value can be compared with variables"
   ]
  },
  {
   "cell_type": "markdown",
   "id": "b372af7b",
   "metadata": {},
   "source": [
    "## Question 12\n",
    "What is the output of the following snippet?\n",
    "\n",
    "the code will cause a runtime error"
   ]
  },
  {
   "cell_type": "code",
   "execution_count": 14,
   "id": "4f6fad6c",
   "metadata": {},
   "outputs": [
    {
     "ename": "TypeError",
     "evalue": "unsupported operand type(s) for +: 'NoneType' and 'int'",
     "output_type": "error",
     "traceback": [
      "\u001b[1;31m---------------------------------------------------------------------------\u001b[0m",
      "\u001b[1;31mTypeError\u001b[0m                                 Traceback (most recent call last)",
      "Cell \u001b[1;32mIn[14], line 8\u001b[0m\n\u001b[0;32m      4\u001b[0m     \u001b[38;5;28;01melse\u001b[39;00m:\n\u001b[0;32m      5\u001b[0m         \u001b[38;5;28;01mreturn\u001b[39;00m\n\u001b[1;32m----> 8\u001b[0m \u001b[38;5;28mprint\u001b[39m(fun(fun(\u001b[38;5;241m2\u001b[39m)) \u001b[38;5;241m+\u001b[39m \u001b[38;5;241m1\u001b[39m)\n",
      "\u001b[1;31mTypeError\u001b[0m: unsupported operand type(s) for +: 'NoneType' and 'int'"
     ]
    }
   ],
   "source": [
    "def fun(x):\n",
    "    if x % 2 == 0:\n",
    "        return 1\n",
    "    else:\n",
    "        return\n",
    "\n",
    "\n",
    "print(fun(fun(2)) + 1)\n",
    "\n"
   ]
  },
  {
   "cell_type": "markdown",
   "id": "00cda2b7",
   "metadata": {},
   "source": [
    "## Question 13\n",
    "What is the output of the following snippet?"
   ]
  },
  {
   "cell_type": "code",
   "execution_count": 15,
   "id": "f5996a2b",
   "metadata": {},
   "outputs": [
    {
     "name": "stdout",
     "output_type": "stream",
     "text": [
      "4\n"
     ]
    }
   ],
   "source": [
    "def fun(x):\n",
    "    global y\n",
    "    y = x * x\n",
    "    return y\n",
    "\n",
    "\n",
    "fun(2)\n",
    "print(y)\n"
   ]
  },
  {
   "cell_type": "markdown",
   "id": "555ad402",
   "metadata": {},
   "source": [
    "## Question 14\n",
    "What is the output of the following snippet?"
   ]
  },
  {
   "cell_type": "code",
   "execution_count": 16,
   "id": "96871f86",
   "metadata": {},
   "outputs": [
    {
     "name": "stdout",
     "output_type": "stream",
     "text": [
      "21\n"
     ]
    }
   ],
   "source": [
    "def any():\n",
    "    print(var + 1, end='')\n",
    "\n",
    "\n",
    "var = 1\n",
    "any()\n",
    "print(var)\n",
    "\n",
    "# A função any() imprime 2 (porque var é 1 e var + 1 é 2).\n",
    "# Em seguida, print(var) imprime 1."
   ]
  },
  {
   "cell_type": "markdown",
   "id": "e08636b3",
   "metadata": {},
   "source": [
    "## Question 15\n",
    "Assuming that my_tuple is a correctly created tuple, \n",
    "the fact that tuples are immutable means that the following instruction:\n",
    "    \n",
    "    my_tuple[1] = my_tuple[1] + my_tuple[0]\n",
    "\n",
    "is illegal"
   ]
  },
  {
   "cell_type": "markdown",
   "id": "4954f476",
   "metadata": {},
   "source": [
    "## Question 16\n",
    "What is the output of the following snippet?\n",
    "\n",
    "no output, the snippet is erroneous"
   ]
  },
  {
   "cell_type": "code",
   "execution_count": 18,
   "id": "558010f5",
   "metadata": {},
   "outputs": [
    {
     "ename": "TypeError",
     "evalue": "'function' object does not support item deletion",
     "output_type": "error",
     "traceback": [
      "\u001b[1;31m---------------------------------------------------------------------------\u001b[0m",
      "\u001b[1;31mTypeError\u001b[0m                                 Traceback (most recent call last)",
      "Cell \u001b[1;32mIn[18], line 9\u001b[0m\n\u001b[0;32m      5\u001b[0m     \u001b[38;5;28;01mdel\u001b[39;00m my_list[\u001b[38;5;241m3\u001b[39m]\n\u001b[0;32m      6\u001b[0m     my_list[\u001b[38;5;241m3\u001b[39m] \u001b[38;5;241m=\u001b[39m \u001b[38;5;124m'\u001b[39m\u001b[38;5;124mram\u001b[39m\u001b[38;5;124m'\u001b[39m\n\u001b[1;32m----> 9\u001b[0m \u001b[38;5;28mprint\u001b[39m(my_list(my_list))\n",
      "Cell \u001b[1;32mIn[18], line 5\u001b[0m, in \u001b[0;36mmy_list\u001b[1;34m(my_list)\u001b[0m\n\u001b[0;32m      4\u001b[0m \u001b[38;5;28;01mdef\u001b[39;00m \u001b[38;5;21mmy_list\u001b[39m(my_list):\n\u001b[1;32m----> 5\u001b[0m     \u001b[38;5;28;01mdel\u001b[39;00m my_list[\u001b[38;5;241m3\u001b[39m]\n\u001b[0;32m      6\u001b[0m     my_list[\u001b[38;5;241m3\u001b[39m] \u001b[38;5;241m=\u001b[39m \u001b[38;5;124m'\u001b[39m\u001b[38;5;124mram\u001b[39m\u001b[38;5;124m'\u001b[39m\n",
      "\u001b[1;31mTypeError\u001b[0m: 'function' object does not support item deletion"
     ]
    }
   ],
   "source": [
    "my_list =  ['Mary', 'had', 'a', 'little', 'lamb']\n",
    "\n",
    "\n",
    "def my_list(my_list): # função com o mesmo nome da variável!\n",
    "    del my_list[3]\n",
    "    my_list[3] = 'ram'\n",
    "\n",
    "# a função não retorna nada! faltou o 'return'\n",
    "print(my_list(my_list))\n",
    "\n"
   ]
  },
  {
   "cell_type": "code",
   "execution_count": 22,
   "id": "f78546eb",
   "metadata": {},
   "outputs": [
    {
     "name": "stdout",
     "output_type": "stream",
     "text": [
      "None\n"
     ]
    }
   ],
   "source": [
    "list =  ['Mary', 'had', 'a', 'little', 'lamb']\n",
    "\n",
    "\n",
    "def my_list(list):\n",
    "    del list[3]\n",
    "    list[3] = 'ram'\n",
    "# a função não retorna nada!\n",
    "\n",
    "print(my_list(list))"
   ]
  },
  {
   "cell_type": "code",
   "execution_count": 23,
   "id": "30f3ce4d",
   "metadata": {},
   "outputs": [
    {
     "name": "stdout",
     "output_type": "stream",
     "text": [
      "['Mary', 'had', 'a', 'ram']\n"
     ]
    }
   ],
   "source": [
    "my_list = ['Mary', 'had', 'a', 'little', 'lamb']\n",
    "\n",
    "def modify_list(lst):\n",
    "    # Remove o item na posição 3 (quarto item, que é 'little')\n",
    "    del lst[3]\n",
    "    \n",
    "    # Adiciona 'ram' no index 3\n",
    "    lst[3] = ('ram')\n",
    "\n",
    "    return lst\n",
    "\n",
    "print(modify_list(my_list))\n"
   ]
  },
  {
   "cell_type": "markdown",
   "id": "4504df38",
   "metadata": {},
   "source": [
    "## Question 17\n",
    "What is the output of the following snippet?"
   ]
  },
  {
   "cell_type": "code",
   "execution_count": 24,
   "id": "c6fa05a4",
   "metadata": {},
   "outputs": [
    {
     "name": "stdout",
     "output_type": "stream",
     "text": [
      "9\n"
     ]
    }
   ],
   "source": [
    "def fun(x, y, z):\n",
    "    return x + 2 * y + 3 * z\n",
    "\n",
    "\n",
    "print(fun(0, z=1, y=3))\n",
    "\n"
   ]
  },
  {
   "cell_type": "markdown",
   "id": "5e7fb37e",
   "metadata": {},
   "source": [
    "## Question 18\n",
    "What is the output of the following snippet?"
   ]
  },
  {
   "cell_type": "code",
   "execution_count": 25,
   "id": "130760e2",
   "metadata": {},
   "outputs": [
    {
     "name": "stdout",
     "output_type": "stream",
     "text": [
      "4\n"
     ]
    }
   ],
   "source": [
    "def fun(inp=2, out=3):\n",
    "    return inp * out\n",
    " \n",
    " \n",
    "print(fun(out=2))"
   ]
  },
  {
   "cell_type": "markdown",
   "id": "8baafd53",
   "metadata": {},
   "source": [
    "## Question 19\n",
    "What is the output of the following code?"
   ]
  },
  {
   "cell_type": "code",
   "execution_count": 26,
   "id": "d3bed45f",
   "metadata": {},
   "outputs": [
    {
     "name": "stdout",
     "output_type": "stream",
     "text": [
      "two\n"
     ]
    }
   ],
   "source": [
    "dictionary = {'one': 'two', 'three': 'one', 'two': 'three'}\n",
    "v = dictionary['one']\n",
    " \n",
    "for k in range(len(dictionary)):\n",
    "    v = dictionary[v]\n",
    " \n",
    "print(v)\n",
    "\n",
    "# O valor de v após o laço é 'two' porque o laço percorreu o dicionário \n",
    "# e aplicou as seguintes transformações:\n",
    "\n",
    "# 'two' → 'three'\n",
    "# 'three' → 'one'\n",
    "# 'one' → 'two'\n",
    "# Portanto, após três iterações, v retorna ao seu valor inicial, 'two',"
   ]
  },
  {
   "cell_type": "markdown",
   "id": "5cf10c32",
   "metadata": {},
   "source": [
    "## Question 20\n",
    "What is the output of the following code?"
   ]
  },
  {
   "cell_type": "code",
   "execution_count": 27,
   "id": "f8638c82",
   "metadata": {},
   "outputs": [
    {
     "name": "stdout",
     "output_type": "stream",
     "text": [
      "2\n"
     ]
    }
   ],
   "source": [
    "tup = (1, 2, 4, 8)\n",
    "tup = tup[1:-1]\n",
    "tup = tup[0]\n",
    "print(tup)\n",
    "\n",
    "# Tuplas são imutáveis mas aceitam fatiamento"
   ]
  },
  {
   "cell_type": "markdown",
   "id": "6016f0ff",
   "metadata": {},
   "source": [
    "## Question 21\n",
    "Select the true statements about the try-except block in relation to the following example.\n",
    "(Select two answers.)\n",
    "try:\n",
    "    # Some code is here...\n",
    "except:\n",
    "    # Some code is here...\n",
    "\n",
    "The code that follows the except statement will be executed if the code in the try clause runs into an error.\n",
    "O código que segue o bloco except será executado se ocorrer um erro no código do bloco try.\n",
    "\n",
    "If you suspect that a snippet may raise an exception, you should place it in the try block.\n",
    "Verdadeiro. A ideia principal do bloco try-except é capturar exceções que podem ser levantadas pelo código no bloco try. \n",
    "Portanto, se você suspeita que uma parte do código possa levantar uma exceção, ela deve estar dentro do bloco try."
   ]
  },
  {
   "cell_type": "markdown",
   "id": "1cd13718",
   "metadata": {},
   "source": [
    "## Question 22\n",
    "What is the output of the following code?"
   ]
  },
  {
   "cell_type": "code",
   "execution_count": 29,
   "id": "4dcd5dfd",
   "metadata": {},
   "outputs": [
    {
     "name": "stdout",
     "output_type": "stream",
     "text": [
      "Enter a value: gfr\n",
      "Very very bad input...\n"
     ]
    }
   ],
   "source": [
    "try:\n",
    "    value = input(\"Enter a value: \") # a entrada deveria ser int ou float\n",
    "    print(value/value) # vai dar erro de TypeError pq uma string não pode ser dividida\n",
    "except ValueError:\n",
    "    print(\"Bad input...\")\n",
    "except ZeroDivisionError:\n",
    "    print(\"Very bad input...\")\n",
    "except TypeError:\n",
    "    print(\"Very very bad input...\")\n",
    "except:\n",
    "    print(\"Booo!\")\n"
   ]
  }
 ],
 "metadata": {
  "kernelspec": {
   "display_name": "Python 3 (ipykernel)",
   "language": "python",
   "name": "python3"
  },
  "language_info": {
   "codemirror_mode": {
    "name": "ipython",
    "version": 3
   },
   "file_extension": ".py",
   "mimetype": "text/x-python",
   "name": "python",
   "nbconvert_exporter": "python",
   "pygments_lexer": "ipython3",
   "version": "3.11.5"
  }
 },
 "nbformat": 4,
 "nbformat_minor": 5
}
