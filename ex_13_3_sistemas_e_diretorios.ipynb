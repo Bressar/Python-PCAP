{
 "cells": [
  {
   "cell_type": "code",
   "execution_count": null,
   "id": "178bcc06",
   "metadata": {},
   "outputs": [],
   "source": [
    "## Obtendo informações sobre o sistema operacional\n",
    "\n",
    "o módulo os fornece uma função chamada uname,\n",
    "que retorna um objeto contendo os seguintes atributos:\n",
    "\n",
    "- systemname — armazena o nome do sistema operacional;\n",
    "\n",
    "- nodename — armazena o nome da máquina na rede;\n",
    "\n",
    "- release — armazena a versão do sistema operacional;\n",
    "\n",
    "- version — armazena a versão do sistema operacional;\n",
    "\n",
    "- machine — armazena o identificador de hardware, por exemplo, x86_64.\n"
   ]
  },
  {
   "cell_type": "code",
   "execution_count": null,
   "id": "c8611cda",
   "metadata": {},
   "outputs": [],
   "source": [
    "import os\n",
    "print(os.uname())\n",
    "\n",
    "# Só funciona em UNix, Linux, Mac"
   ]
  },
  {
   "cell_type": "code",
   "execution_count": 1,
   "id": "4885ec29",
   "metadata": {},
   "outputs": [
    {
     "name": "stdout",
     "output_type": "stream",
     "text": [
      "System: Windows\n",
      "Node Name: BRESSAR\n",
      "Release: 10\n",
      "Version: 10.0.19045\n",
      "Machine: AMD64\n"
     ]
    }
   ],
   "source": [
    "# No windows seria:\n",
    "import platform\n",
    "\n",
    "print(\"System:\", platform.system())\n",
    "print(\"Node Name:\", platform.node())\n",
    "print(\"Release:\", platform.release())\n",
    "print(\"Version:\", platform.version())\n",
    "print(\"Machine:\", platform.machine())"
   ]
  },
  {
   "cell_type": "markdown",
   "id": "04ae754b",
   "metadata": {},
   "source": [
    "## Criando Diretórios\n",
    "\n",
    "O módulo os fornece uma função chamada mkdir, que, assim como o comando mkdir no Unix e no Windows,\n",
    "permite criar um diretório. A função mkdir requer um caminho que pode ser relativo ou absoluto.\n",
    "Vamos relembrar como ambos os caminhos se apresentam na prática:\n",
    "\n",
    "my_first_directory\n",
    "— este é um caminho relativo que criará o diretório my_first_directory no diretório de trabalho atual;\n",
    "\n",
    "./my_first_directory\n",
    "— este é um caminho relativo que aponta explicitamente para o diretório de trabalho atual.\n",
    "Tem o mesmo efeito que o caminho acima;\n",
    "\n",
    "../my_first_directory\n",
    "— este é um caminho relativo que criará o diretório my_first_directory \n",
    "no diretório pai do diretório de trabalho atual;\n",
    "\n",
    "/python/my_first_directory\n",
    "— este é o caminho absoluto que criará o diretório my_first_directory,\n",
    "que por sua vez está no diretório python no diretório raiz.\n",
    "\n",
    "No código abaixo um exemplo de como criar o diretório my_first_directory usando um caminho relativo.\n",
    "Esta é a variante mais simples do caminho relativo, que consiste em passar apenas o nome do diretório.\n",
    "\n",
    "ele exibirá o diretório recém-criado [my_first_directory] (e todo o conteúdo do diretório de trabalho atual)."
   ]
  },
  {
   "cell_type": "code",
   "execution_count": null,
   "id": "f24723c6",
   "metadata": {},
   "outputs": [],
   "source": [
    "import os\n",
    "\n",
    "os.mkdir(\"my_first_directory\")\n",
    "print(os.listdir())\n",
    "    "
   ]
  },
  {
   "cell_type": "code",
   "execution_count": null,
   "id": "71fcba8a",
   "metadata": {},
   "outputs": [],
   "source": [
    "# Criação Recursiva de Diretórios\n",
    "\n",
    "# makedirs()\n",
    "\n",
    "import os\n",
    "\n",
    "os.makedirs(\"my_first_directory/my_second_directory\")\n",
    "os.chdir(\"my_first_directory\") # chdir -> change dir\n",
    "print(os.listdir())\n",
    "    \n",
    "# Para mover-se entre diretórios, você pode usar uma função chamada chdir, \n",
    "# que altera o diretório de trabalho atual para o caminho especificado. \n",
    "# Como argumento, ela aceita qualquer caminho relativo ou absoluto. \n",
    "# No exemplo, passamos o nome do primeiro diretório para ela.\n",
    "\n",
    "# NOTA: O equivalente à função makedirs em sistemas Unix é o comando mkdir com a flag -p,\n",
    "# enquanto no Windows, simplesmente o comando mkdir com o caminho: \n",
    "\n",
    "# Unix-like systems:\n",
    "# mkdir -p my_first_directory/my_second_directory\n",
    "\n",
    "# Windows:\n",
    "# mkdir my_first_directory/my_second_directory"
   ]
  },
  {
   "cell_type": "code",
   "execution_count": null,
   "id": "40e619ad",
   "metadata": {},
   "outputs": [],
   "source": [
    "# Para saber em qual diretório se encontra\n",
    "\n",
    "# getcwd()\n",
    "\n",
    "import os\n",
    "\n",
    "os.makedirs(\"my_first_directory/my_second_directory\")\n",
    "os.chdir(\"my_first_directory\")\n",
    "print(os.getcwd())\n",
    "os.chdir(\"my_second_directory\")\n",
    "print(os.getcwd())\n",
    "\n",
    "#  a função getcwd retorna o caminho absoluto para os diretórios.\n",
    "\n",
    "# NOTA: Em sistemas Unix-like, o equivalente à função getcwd é o comando pwd,\n",
    "#       que imprime o nome do diretório de trabalho atual.\n"
   ]
  },
  {
   "cell_type": "code",
   "execution_count": null,
   "id": "926498aa",
   "metadata": {},
   "outputs": [],
   "source": [
    "# Para apagar diretórios\n",
    "\n",
    "# rmdir()\n",
    "\n",
    "import os\n",
    "\n",
    "os.mkdir(\"my_first_directory\")\n",
    "print(os.listdir())\n",
    "os.rmdir(\"my_first_directory\")\n",
    "print(os.listdir())\n",
    "    "
   ]
  },
  {
   "cell_type": "code",
   "execution_count": null,
   "id": "cff8e5d7",
   "metadata": {},
   "outputs": [],
   "source": [
    "# para remover diretórios e subdiretórios\n",
    "\n",
    "# remove.dirs()\n",
    "\n",
    "import os\n",
    "\n",
    "os.makedirs(\"my_first_directory/my_second_directory\")\n",
    "os.removedirs(\"my_first_directory/my_second_directory\")\n",
    "print(os.listdir())\n",
    "\n",
    "\n",
    "# Assim como com a função rmdir, se um dos diretórios não existir ou não estiver vazio,\n",
    "# uma exceção será levantada.\n",
    "\n",
    "# NOTA: Tanto no Windows quanto no Unix, há um comando chamado rmdir,\n",
    "#     que, assim como a função rmdir, remove diretórios.\n",
    "#     Além disso, ambos os sistemas possuem comandos para excluir um diretório e seu conteúdo.\n",
    "#     No Unix, isso é feito com o comando rm com a flag -r.\n"
   ]
  },
  {
   "cell_type": "markdown",
   "id": "48ecfcd9",
   "metadata": {},
   "source": [
    "## função system()\n",
    "\n",
    "Todas essas funções apresentadas podem ser substituídas por uma função chamada system,\n",
    "que executa um comando passado a ela como uma string.\n",
    "\n",
    "A função system está disponível tanto no Windows quanto no Unix.\n",
    "Dependendo do sistema, ela retorna um resultado diferente.\n",
    "\n",
    "No Windows, ela retorna o valor retornado pelo shell após a execução do comando fornecido,\n",
    "enquanto no Unix, ela retorna o status de saída do processo.\n",
    "\n",
    "    "
   ]
  },
  {
   "cell_type": "code",
   "execution_count": null,
   "id": "abf730da",
   "metadata": {},
   "outputs": [],
   "source": [
    "import os\n",
    "\n",
    "returned_value = os.system(\"mkdir my_first_directory\")\n",
    "print(returned_value)\n",
    "    "
   ]
  },
  {
   "cell_type": "markdown",
   "id": "0108a472",
   "metadata": {},
   "source": [
    "### exercício 1:\n",
    "\n",
    "Criar um programa deve atender aos seguintes requisitos:\n",
    "\n",
    "Escreva uma função ou método chamado find que recebe dois argumentos chamados path e dir. \n",
    "O argumento path deve aceitar um caminho relativo ou absoluto para um diretório onde a pesquisa deve começar,\n",
    "enquanto o argumento dir deve ser o nome de um diretório que você deseja encontrar no caminho dado.\n",
    "Seu programa deve exibir os caminhos absolutos se encontrar um diretório com o nome dado.\n",
    "\n",
    "A pesquisa do diretório deve ser feita recursivamente.\n",
    "Isso significa que a pesquisa também deve incluir todos os subdiretórios no caminho dado.\n",
    "\n",
    "Exemplo de entrada:\n",
    "path=\"./tree\", dir=\"python\"\n",
    "\n",
    "\n",
    "Exemplo de saída:\n",
    "\n",
    ".../tree/python\n",
    ".../tree/cpp/other_courses/python\n",
    ".../tree/c/other_courses/python\n"
   ]
  },
  {
   "cell_type": "code",
   "execution_count": 4,
   "id": "6e646488",
   "metadata": {},
   "outputs": [
    {
     "name": "stdout",
     "output_type": "stream",
     "text": [
      "C:\\Users\\bress\\AppData\\Roaming\\Python\\Python312\\site-packages\\parso\\pgen2\\__pycache__/python\n"
     ]
    }
   ],
   "source": [
    "import os\n",
    "\n",
    "class DirectorySearcher:\n",
    "    def find(self, path, dir):\n",
    "        try:\n",
    "            os.chdir(path)\n",
    "        except OSError:\n",
    "            # Doesn't process a file that isn't a directory.\n",
    "            return\n",
    "\n",
    "        current_dir = os.getcwd()\n",
    "        for entry in os.listdir(\".\"):\n",
    "            if entry == dir:\n",
    "                print(os.getcwd() + \"/\" + dir)\n",
    "            self.find(current_dir + \"/\" + entry, dir)\n",
    "\n",
    "\n",
    "directory_searcher = DirectorySearcher()\n",
    "directory_searcher.find(\"C:/Users/bress/AppData/Roaming\", \"python\")\n",
    "    "
   ]
  },
  {
   "cell_type": "code",
   "execution_count": 5,
   "id": "154d195b",
   "metadata": {},
   "outputs": [
    {
     "name": "stdout",
     "output_type": "stream",
     "text": [
      "C:/Users/bress/AppData/Roaming\\Python\\Python312\\site-packages\\parso\\python\n"
     ]
    }
   ],
   "source": [
    "import os\n",
    "\n",
    "class DirectorySearcher:\n",
    "    def find(self, path, dir):\n",
    "        # Verifica se o caminho existe e é um diretório\n",
    "        if not os.path.isdir(path):\n",
    "            print(f\"Erro: O diretório '{path}' não existe.\")\n",
    "            return\n",
    "\n",
    "        try:\n",
    "            # Itera sobre todos os arquivos e diretórios no caminho especificado\n",
    "            for entry in os.listdir(path):\n",
    "                entry_path = os.path.join(path, entry)\n",
    "                if os.path.isdir(entry_path):\n",
    "                    if entry == dir:\n",
    "                        print(entry_path)\n",
    "                    # Chamada recursiva para subdiretórios\n",
    "                    self.find(entry_path, dir)\n",
    "        except Exception as e:\n",
    "            print(f\"Erro ao acessar o diretório '{path}': {e}\")\n",
    "\n",
    "# Cria uma instância de DirectorySearcher\n",
    "directory_searcher = DirectorySearcher()\n",
    "# Inicia a busca no caminho especificado pelo nome do diretório\n",
    "directory_searcher.find(\"C:/Users/bress/AppData/Roaming\", \"python\")  # Substitua pelo caminho absoluto\n"
   ]
  },
  {
   "cell_type": "code",
   "execution_count": null,
   "id": "7f443ee4",
   "metadata": {},
   "outputs": [],
   "source": [
    "#Question 1: What is the output of the following snippet if you run it on Unix?\n",
    "\n",
    "import os\n",
    "print(os.name)\n",
    " \n",
    "    # posix\n",
    "    "
   ]
  },
  {
   "cell_type": "code",
   "execution_count": null,
   "id": "bf01a541",
   "metadata": {},
   "outputs": [],
   "source": [
    "# Question 2: What is the output of the following snippet?\n",
    "\n",
    "import os\n",
    " \n",
    "os.mkdir(\"hello\")\n",
    "print(os.listdir())Users\n",
    "\n",
    "    # ['hello']\n",
    "    "
   ]
  },
  {
   "cell_type": "code",
   "execution_count": null,
   "id": "55475000",
   "metadata": {},
   "outputs": [],
   "source": []
  }
 ],
 "metadata": {
  "kernelspec": {
   "display_name": "Python 3 (ipykernel)",
   "language": "python",
   "name": "python3"
  },
  "language_info": {
   "codemirror_mode": {
    "name": "ipython",
    "version": 3
   },
   "file_extension": ".py",
   "mimetype": "text/x-python",
   "name": "python",
   "nbconvert_exporter": "python",
   "pygments_lexer": "ipython3",
   "version": "3.11.5"
  }
 },
 "nbformat": 4,
 "nbformat_minor": 5
}
