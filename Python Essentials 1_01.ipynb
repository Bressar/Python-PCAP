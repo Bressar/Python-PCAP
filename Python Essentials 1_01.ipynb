{
 "cells": [
  {
   "cell_type": "markdown",
   "id": "59faef46",
   "metadata": {},
   "source": [
    "Question 1\n",
    "What is machine code?\n",
    "\n",
    "low-level programming language consisting of binary digits/bits\n",
    "that the computer reads and understands.\n",
    "\n",
    "\n",
    "Machine code is a program written in machine language, \n",
    "which consists of sequences of digital binary numbers: 0s and 1s.\n"
   ]
  },
  {
   "cell_type": "markdown",
   "id": "6b80d5d4",
   "metadata": {},
   "source": [
    "Question 2\n",
    "What are the four fundamental elements that make a language?\n",
    "\n",
    "An alphabet, a lexis, a syntax, and semantics\n"
   ]
  },
  {
   "cell_type": "markdown",
   "id": "b5d2b6b1",
   "metadata": {},
   "source": [
    "Question 3\n",
    "What do you call a file containing a program written in a high-level programming language?\n",
    "\n",
    "A source file\n",
    "\n",
    "\n",
    "A source file is a file that contains source code, that is, a program’s instructions.\n"
   ]
  },
  {
   "cell_type": "markdown",
   "id": "89bd71d9",
   "metadata": {},
   "source": [
    "Question 4\n",
    "What is true about compilation? (two answers)\n",
    "\n",
    "It tends to be faster than interpretation\n",
    "\n",
    "The code is converted directly into machine code executable by the processor"
   ]
  },
  {
   "cell_type": "markdown",
   "id": "52d7aa37",
   "metadata": {},
   "source": [
    "Question 5\n",
    "What is the best definition of a script?\n",
    "\n",
    "It's a text file that contains instructions which make up a Python program\n",
    "\n",
    "A script is a set of high-level language commands in a file, structured to be executed like a program. \n",
    "A Python script is therefore a file containing code written in Python."
   ]
  },
  {
   "cell_type": "markdown",
   "id": "5b81113f",
   "metadata": {},
   "source": [
    "Question 6\n",
    "Select the true statements. (two answers)\n",
    "\n",
    "Python is a good choice for creating and executing tests for applications\n",
    "\n",
    "Python is free, open-source, and multiplatform\n",
    "\n",
    "\n",
    "Python is a free and open-source programming language available to everyone. It is a multi- and cross-platform language, which means a Python program written on a Linux system will run on a Mac, and vice versa.\n",
    "\n",
    "Because Python is relatively easy to learn and contains simple syntax, it is a good choice for testers."
   ]
  },
  {
   "cell_type": "markdown",
   "id": "806f820b",
   "metadata": {},
   "source": [
    "Question 7\n",
    "What is CPython?\n",
    "\n",
    "It's the default, reference implementation of Python, written in the C language\n",
    "\n",
    "\n",
    "CPython is the original (traditional) Python language implementation written in the C language, as opposed to other, non-default implementations, such as Jython, implemented in the Java language, which came later. CPython is the Python language implementation available for download from www.python.org, and the first to adopt new features that come with all the subsequent Python versions."
   ]
  },
  {
   "cell_type": "markdown",
   "id": "a8272852",
   "metadata": {},
   "source": [
    "Question 8\n",
    "What do you call a command-line interpreter which lets you interact with your OS and execute Python commands and scripts?\n",
    "\n",
    "A console\n",
    "\n",
    "\n",
    "A Python console is a command-line interpreter that allows you to execute Python commands, instructions, and scripts line by line. Just like the one here: www.python.org/shell.\n"
   ]
  },
  {
   "cell_type": "markdown",
   "id": "6f1d028b",
   "metadata": {},
   "source": [
    "Question 9\n",
    "What is the expected behavior of the following program?\n",
    "\n",
    "print(\"Hello!\")\n",
    "\n",
    "The program will output Hello! to the screen\n",
    "\n",
    "\n",
    "The program will print the string 'Hello!' to the console. The print function simply prints the specified message, in our case 'Hello!', to the screen."
   ]
  },
  {
   "cell_type": "markdown",
   "id": "fe700b05",
   "metadata": {},
   "source": [
    "Question 10\n",
    "What is the expected behavior of the following program?\n",
    "prin(\"Goodbye!\")\n",
    "\n",
    "The program will generate an error message on the screen\n",
    "\n",
    "\n",
    "The program will raise a NameError exception, because Python cannot recognize the name prin. Python doesn’t know that you’re most probably trying to use the word print, not prin."
   ]
  },
  {
   "cell_type": "markdown",
   "id": "ed37d7a0",
   "metadata": {},
   "source": [
    "Question 11\n",
    "What is true about compilation? (Select two answers)\n",
    "\n",
    "The code is converted directly into machine code executable by the processor\n",
    "\n",
    "It tends to be faster than interpretation\n",
    "\n",
    "\n",
    "The compiler translates (compiles) the source program (a set of high-level language instructions) into machine code (a lower-level representation of the source program). The sequence of 0s and 1s can be then executed by the processor. The execution of the compiled code is usually faster than interpretation."
   ]
  }
 ],
 "metadata": {
  "kernelspec": {
   "display_name": "Python 3 (ipykernel)",
   "language": "python",
   "name": "python3"
  },
  "language_info": {
   "codemirror_mode": {
    "name": "ipython",
    "version": 3
   },
   "file_extension": ".py",
   "mimetype": "text/x-python",
   "name": "python",
   "nbconvert_exporter": "python",
   "pygments_lexer": "ipython3",
   "version": "3.11.5"
  }
 },
 "nbformat": 4,
 "nbformat_minor": 5
}
