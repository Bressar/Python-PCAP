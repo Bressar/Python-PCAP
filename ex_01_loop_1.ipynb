{
 "cells": [
  {
   "cell_type": "code",
   "execution_count": 3,
   "id": "c76b2759",
   "metadata": {},
   "outputs": [
    {
     "name": "stdout",
     "output_type": "stream",
     "text": [
      "Digite um número ou pressione [-1] para parar: 4\n",
      "Digite um número ou pressione [-1] para parar: 7\n",
      "Digite um número ou pressione [-1] para parar: 90\n",
      "Digite um número ou pressione [-1] para parar: -1\n",
      "O maior número é: 90\n"
     ]
    }
   ],
   "source": [
    "# Store the current largest number here.\n",
    "maior_numero = -999999999\n",
    "\n",
    "# Input the first value.\n",
    "numero = int(input('Digite um número ou pressione [-1] para parar: '))\n",
    "\n",
    "# If the number is not equal to -1, continue.\n",
    "while  numero != -1:\n",
    "    # Is number larger than largest_number?\n",
    "    if numero > maior_numero:\n",
    "        # Yes, update largest_number.\n",
    "        maior_numero = numero\n",
    "     # Input the next number.\n",
    "    numero= int(input('Digite um número ou pressione [-1] para parar: '))\n",
    "\n",
    "# Print the largest number.\n",
    "print(f\"O maior número é: {maior_numero}\")\n",
    "    "
   ]
  },
  {
   "cell_type": "code",
   "execution_count": null,
   "id": "eebcbad0",
   "metadata": {},
   "outputs": [],
   "source": [
    "maior_numero = -999999999\n",
    "contador = 0\n",
    "\n",
    "while True:\n",
    "    numero = int(input('Digite um número ou pressione [-1] para parar: '))\n",
    "    if numero == -1:\n",
    "        break\n",
    "    contador += 1\n",
    "    if numero > maior_numero:\n",
    "        maior_numero = numero\n",
    "\n",
    "if contador != 0:\n",
    "    print(f\"O maior número é: {maior_numero}\")\n",
    "else:\n",
    "    print(\"Ainda não inseriu nenhum número\")\n",
    "     "
   ]
  },
  {
   "cell_type": "code",
   "execution_count": 9,
   "id": "f533eb0e",
   "metadata": {
    "scrolled": true
   },
   "outputs": [
    {
     "name": "stdout",
     "output_type": "stream",
     "text": [
      "Digite um número ou pressione [0] para parar: 56\n",
      "Digite um número ou pressione [0] para parar: 78\n",
      "Digite um número ou pressione [0] para parar: 90\n",
      "Digite um número ou pressione [0] para parar: 54\n",
      "Digite um número ou pressione [0] para parar: 23\n",
      "Digite um número ou pressione [0] para parar: 456\n",
      "Digite um número ou pressione [0] para parar: 7\n",
      "Digite um número ou pressione [0] para parar: 1\n",
      "Digite um número ou pressione [0] para parar: 2\n",
      "Digite um número ou pressione [0] para parar: 0\n",
      "Total de números ímpares: 3\n",
      "Total de números pares: 6\n"
     ]
    }
   ],
   "source": [
    "# A program that reads a sequence of numbers\n",
    "# and counts how many numbers are even and how many are odd.\n",
    "# The program terminates when zero is entered.\n",
    "numeros_impar = 0\n",
    "numeros_par = 0\n",
    "\n",
    "# Read the first number.\n",
    "numero = int(input('Digite um número ou pressione [0] para parar: '))\n",
    "\n",
    "# 0 terminates execution.\n",
    "#while  numero != 0:\n",
    "while  numero: # Simplificando o while!!, já que \"0\" não pode dividido   \n",
    "    # Check if the number is odd.\n",
    "    if numero % 2 == 1:\n",
    "        # Increase the odd_numbers counter.\n",
    "        numeros_impar += 1\n",
    "    else:\n",
    "        # Increase the even_numbers counter.\n",
    "        numeros_par += 1\n",
    "    # Read the next number.\n",
    "    numero = int(input('Digite um número ou pressione [0] para parar: '))\n",
    "\n",
    "# Print results.\n",
    "print(f\"Total de números ímpares: {numeros_impar}\")\n",
    "print(f\"Total de números pares: {numeros_par}\")"
   ]
  },
  {
   "cell_type": "code",
   "execution_count": 1,
   "id": "846fb6aa",
   "metadata": {},
   "outputs": [
    {
     "name": "stdout",
     "output_type": "stream",
     "text": [
      "Dentro do loop. 5\n",
      "Dentro do loop. 4\n",
      "Dentro do loop. 3\n",
      "Dentro do loop. 2\n",
      "Dentro do loop. 1\n",
      "Fora do Loop. 0\n"
     ]
    }
   ],
   "source": [
    "contador = 5\n",
    "while contador != 0:\n",
    "    print(\"Dentro do loop.\", contador)\n",
    "    contador -= 1\n",
    "print(\"Fora do Loop.\", contador)"
   ]
  },
  {
   "cell_type": "markdown",
   "id": "fa2dc765",
   "metadata": {},
   "source": [
    "### SIMPLIFICANDO"
   ]
  },
  {
   "cell_type": "code",
   "execution_count": 8,
   "id": "5dbba5c4",
   "metadata": {},
   "outputs": [
    {
     "name": "stdout",
     "output_type": "stream",
     "text": [
      "Dentro do loop. 5\n",
      "Dentro do loop. 4\n",
      "Dentro do loop. 3\n",
      "Dentro do loop. 2\n",
      "Dentro do loop. 1\n",
      "Fora do Loop. 0\n"
     ]
    }
   ],
   "source": [
    "contador = 5\n",
    "while contador: # sem a condição\n",
    "    print(\"Dentro do loop.\", contador)\n",
    "    contador -= 1\n",
    "print(\"Fora do Loop.\", contador)"
   ]
  },
  {
   "cell_type": "markdown",
   "id": "497b9ef1",
   "metadata": {},
   "source": [
    "Don't feel obliged to code your programs in a way that is\n",
    "always the shortest and the most compact.\n",
    "Readability may be a more important factor.\n",
    "Keep your code ready for a new programmer."
   ]
  },
  {
   "cell_type": "code",
   "execution_count": 11,
   "id": "4c15594c",
   "metadata": {},
   "outputs": [
    {
     "name": "stdout",
     "output_type": "stream",
     "text": [
      "\n",
      "+================================+\n",
      "| Welcome to my game, muggle!    |\n",
      "| Enter an integer number        |\n",
      "| and guess what number I've     |\n",
      "| picked for you.                |\n",
      "| So, what is the secret number? |\n",
      "+================================+\n",
      "\n"
     ]
    }
   ],
   "source": [
    "# Função Multi-line Printing\n",
    "\n",
    "print(\n",
    "\"\"\"\n",
    "+================================+\n",
    "| Welcome to my game, muggle!    |\n",
    "| Enter an integer number        |\n",
    "| and guess what number I've     |\n",
    "| picked for you.                |\n",
    "| So, what is the secret number? |\n",
    "+================================+\n",
    "\"\"\")\n"
   ]
  },
  {
   "cell_type": "code",
   "execution_count": 26,
   "id": "2a8c103d",
   "metadata": {},
   "outputs": [
    {
     "name": "stdout",
     "output_type": "stream",
     "text": [
      "What is the secret number? Enter a number betwen 1 and 100: 45\n",
      "Ha ha! You're stuck in my loop!\n",
      "What is the secret number? 67\n",
      "Ha ha! You're stuck in my loop!\n",
      "What is the secret number? 88\n",
      "Ha ha! You're stuck in my loop!\n",
      "What is the secret number? 98\n",
      "Ha ha! You're stuck in my loop!\n",
      "What is the secret number? 00\n",
      "Ha ha! You're stuck in my loop!\n",
      "What is the secret number? 77\n",
      "Well done, muggle! You are free now.\n"
     ]
    }
   ],
   "source": [
    "numero_secreto = 77\n",
    "numero = int(input(\"What is the secret number? Enter a number betwen 1 and 100: \"))\n",
    "\n",
    "while numero != 77:\n",
    "    if numero != numero_secreto:\n",
    "        print(\"Ha ha! You're stuck in my loop!\")\n",
    "        numero = int(input(\"What is the secret number? \"))  \n",
    "    else:\n",
    "        break\n",
    "print(\"Well done, muggle! You are free now.\")        \n",
    "        \n",
    "        "
   ]
  },
  {
   "cell_type": "code",
   "execution_count": 27,
   "id": "9d503fbc",
   "metadata": {},
   "outputs": [
    {
     "name": "stdout",
     "output_type": "stream",
     "text": [
      "0 1 2 3 4 5 6 7 8 9 10 11 12 13 14 15 16 17 18 19 "
     ]
    }
   ],
   "source": [
    "i = 0\n",
    "while i < 20:\n",
    "    print(i, end=' ')\n",
    "    i += 1"
   ]
  },
  {
   "cell_type": "code",
   "execution_count": 2,
   "id": "da143c7e",
   "metadata": {},
   "outputs": [
    {
     "name": "stdout",
     "output_type": "stream",
     "text": [
      "0 1 2 3 4 5 6 7 8 9 10 11 12 13 14 15 16 17 18 19 "
     ]
    }
   ],
   "source": [
    "i = 0\n",
    "for i in range(20):\n",
    "    print(i, end=' ')\n",
    "    i += 1"
   ]
  },
  {
   "cell_type": "code",
   "execution_count": 29,
   "id": "740c9c05",
   "metadata": {},
   "outputs": [
    {
     "name": "stdout",
     "output_type": "stream",
     "text": [
      "Digite um número ou pressione [-1] para parar: 45\n",
      "Ainda não inseriu nenhum número\n"
     ]
    }
   ],
   "source": [
    "largest_number = -99999999\n",
    "counter = 0\n",
    "\n",
    "number = int(input(\"Enter a number or type -1 to end program: \"))\n",
    "\n",
    "while number != -1:\n",
    "    if number == -1:\n",
    "        continue\n",
    "    counter += 1\n",
    "\n",
    "    if number > largest_number:\n",
    "        largest_number = number\n",
    "    number = int(input(\"Enter a number or type -1 to end program: \"))\n",
    "\n",
    "if counter:\n",
    "    print(\"The largest number is\", largest_number)\n",
    "else:\n",
    "    print(\"You haven't entered any number.\")\n",
    "    "
   ]
  },
  {
   "cell_type": "code",
   "execution_count": 31,
   "id": "b608a039",
   "metadata": {},
   "outputs": [
    {
     "name": "stdout",
     "output_type": "stream",
     "text": [
      "Digite um número ou pressione [-1] para parar: 34\n",
      "Digite um número ou pressione [-1] para parar: 54\n",
      "Digite um número ou pressione [-1] para parar: 98\n",
      "Digite um número ou pressione [-1] para parar: 1023\n",
      "Digite um número ou pressione [-1] para parar: -1\n",
      "O maior número é: 1023\n"
     ]
    }
   ],
   "source": [
    "maior_numero = -999999999\n",
    "contador = 0\n",
    "\n",
    "numero = int(input('Digite um número ou pressione [-1] para parar: '))\n",
    "\n",
    "while numero!= -1:\n",
    "    if numero == -1:\n",
    "        continue\n",
    "    contador += 1\n",
    "    \n",
    "    if numero > maior_numero:\n",
    "        maior_numero = numero\n",
    "    numero = int(input('Digite um número ou pressione [-1] para parar: '))\n",
    "\n",
    "if contador:\n",
    "    print(f\"O maior número é: {maior_numero}\")\n",
    "else:\n",
    "    print(\"Ainda não inseriu nenhum número\")"
   ]
  },
  {
   "cell_type": "code",
   "execution_count": 4,
   "id": "e930c554",
   "metadata": {},
   "outputs": [
    {
     "name": "stdout",
     "output_type": "stream",
     "text": [
      "else: 5\n"
     ]
    }
   ],
   "source": [
    "# Usando o Else...\n",
    "i = 5\n",
    "while i < 5:\n",
    "    print(i)\n",
    "    i += 1\n",
    "else:\n",
    "    print(\"else:\", i)"
   ]
  },
  {
   "cell_type": "code",
   "execution_count": 5,
   "id": "9c20ae9e",
   "metadata": {},
   "outputs": [
    {
     "name": "stdout",
     "output_type": "stream",
     "text": [
      "0\n",
      "1\n",
      "2\n",
      "3\n",
      "4\n",
      "else: 4\n"
     ]
    }
   ],
   "source": [
    "for i in range(5):\n",
    "    print(i)\n",
    "else:\n",
    "    print(\"else:\", i)\n",
    "    \n",
    "# The i variable retains its last value."
   ]
  },
  {
   "cell_type": "code",
   "execution_count": null,
   "id": "b5870d6b",
   "metadata": {},
   "outputs": [],
   "source": []
  }
 ],
 "metadata": {
  "kernelspec": {
   "display_name": "Python 3 (ipykernel)",
   "language": "python",
   "name": "python3"
  },
  "language_info": {
   "codemirror_mode": {
    "name": "ipython",
    "version": 3
   },
   "file_extension": ".py",
   "mimetype": "text/x-python",
   "name": "python",
   "nbconvert_exporter": "python",
   "pygments_lexer": "ipython3",
   "version": "3.11.5"
  }
 },
 "nbformat": 4,
 "nbformat_minor": 5
}
