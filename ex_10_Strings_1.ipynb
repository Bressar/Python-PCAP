{
 "cells": [
  {
   "cell_type": "markdown",
   "id": "2a57e901",
   "metadata": {},
   "source": [
    "## Mais sobre Strings"
   ]
  },
  {
   "cell_type": "code",
   "execution_count": 1,
   "id": "b5f62008",
   "metadata": {},
   "outputs": [
    {
     "name": "stdout",
     "output_type": "stream",
     "text": [
      "2\n",
      "0\n",
      "3\n"
     ]
    }
   ],
   "source": [
    "# Example 1\n",
    "\n",
    "word = 'by'\n",
    "print(len(word))\n",
    "\n",
    "\n",
    "# Example 2\n",
    "\n",
    "empty = ''\n",
    "print(len(empty))\n",
    "\n",
    "\n",
    "# Example 3\n",
    "\n",
    "i_am = 'I\\'m' # Nesse caso o backlash não conta como character\n",
    "print(len(i_am))\n"
   ]
  },
  {
   "cell_type": "code",
   "execution_count": 2,
   "id": "710cf6a5",
   "metadata": {},
   "outputs": [
    {
     "name": "stdout",
     "output_type": "stream",
     "text": [
      "15\n"
     ]
    }
   ],
   "source": [
    "# Multiline:\n",
    "\n",
    "multiline = '''Line #1  # o return \\n conta como um caractere (no caso invísivel)\n",
    "Line #2'''\n",
    "\n",
    "print(len(multiline))\n"
   ]
  },
  {
   "cell_type": "code",
   "execution_count": 3,
   "id": "b3b43759",
   "metadata": {},
   "outputs": [
    {
     "name": "stdout",
     "output_type": "stream",
     "text": [
      "ab\n",
      "ba\n",
      "aaaaa\n",
      "bbbb\n"
     ]
    }
   ],
   "source": [
    "#concatenated (joined)\n",
    "#replicated.\n",
    "\n",
    "str1 = 'a'\n",
    "str2 = 'b'\n",
    "\n",
    "print(str1 + str2)\n",
    "print(str2 + str1)\n",
    "print(5 * 'a')\n",
    "print('b' * 4)\n",
    "\n",
    "# As variantes abreviadas dos operadores acima também são aplicáveis para strings (+= e *=)"
   ]
  },
  {
   "cell_type": "code",
   "execution_count": 9,
   "id": "81155892",
   "metadata": {},
   "outputs": [
    {
     "name": "stdout",
     "output_type": "stream",
     "text": [
      "97\n",
      "32\n",
      "49\n",
      "945\n",
      "281\n",
      "120\n"
     ]
    }
   ],
   "source": [
    "# Exemplo ord() function.\n",
    "# Para saber o valor do code point ASCII/UNICODE de um caractere específico\n",
    "\n",
    "char_1 = 'a'\n",
    "char_2 = ' '  # space\n",
    "char_3 = '1'\n",
    "\n",
    "char_4 = 'α' # alguns caracteres especiais já passam dos 128 code points básicos do ASCII e já são do UNIcode\n",
    "char_5 = 'ę' \n",
    "\n",
    "print(ord(char_1))\n",
    "print(ord(char_2))\n",
    "print(ord(char_3))\n",
    "\n",
    "print(ord(char_4))\n",
    "print(ord(char_5))\n",
    "\n",
    "# A função precisa de uma string de um único caractere como argumento \n",
    "# – não atender a esse requisito causa uma exceção do tipo TypeError, \n",
    "# e retorna um número que representa o ponto de código do argumento."
   ]
  },
  {
   "cell_type": "code",
   "execution_count": 8,
   "id": "79985483",
   "metadata": {},
   "outputs": [
    {
     "name": "stdout",
     "output_type": "stream",
     "text": [
      "a\n",
      " \n",
      "1\n",
      "α\n",
      "ę\n"
     ]
    }
   ],
   "source": [
    "# Para fazer o efeito reverso e devolver o caracter, usa-se chr()\n",
    "\n",
    "print(chr(97))\n",
    "print(chr(32))\n",
    "print(chr(49))\n",
    "print(chr(945))\n",
    "print(chr(281))\n",
    "\n",
    "\n",
    "# Ou seja:\n",
    "#     chr(ord(x)) == x\n",
    "#     ord(chr(x)) == x"
   ]
  },
  {
   "cell_type": "code",
   "execution_count": 13,
   "id": "4d7d2368",
   "metadata": {},
   "outputs": [
    {
     "name": "stdout",
     "output_type": "stream",
     "text": [
      "s i l l y   w a l k s \n",
      "s i l l y   w a l k s "
     ]
    }
   ],
   "source": [
    "# Strings como sequências\n",
    "# Indexing strings.\n",
    "\n",
    "the_string = 'silly walks'\n",
    "\n",
    "for ix in range(len(the_string)):\n",
    "    print(the_string[ix], end=' ')\n",
    "\n",
    "# ou\n",
    "print()\n",
    "\n",
    "# Iterating through a string.\n",
    "\n",
    "the_string = 'silly walks'\n",
    "\n",
    "for character in the_string:\n",
    "    print(character, end=' ')\n",
    "\n"
   ]
  },
  {
   "cell_type": "code",
   "execution_count": 14,
   "id": "030fbdd4",
   "metadata": {},
   "outputs": [
    {
     "name": "stdout",
     "output_type": "stream",
     "text": [
      "bd\n",
      "efg\n",
      "abd\n",
      "e\n",
      "e\n",
      "adf\n",
      "beg\n"
     ]
    }
   ],
   "source": [
    "# Slices\n",
    "\n",
    "alpha = \"abdefg\"\n",
    "\n",
    "print(alpha[1:3])\n",
    "print(alpha[3:])\n",
    "print(alpha[:3])\n",
    "print(alpha[3:-2])\n",
    "print(alpha[-3:4])\n",
    "print(alpha[::2]) # pula um index\n",
    "print(alpha[1::2])\n"
   ]
  },
  {
   "cell_type": "code",
   "execution_count": 16,
   "id": "00628452",
   "metadata": {},
   "outputs": [
    {
     "name": "stdout",
     "output_type": "stream",
     "text": [
      "True\n",
      "False\n",
      "False\n",
      "True\n",
      "False\n",
      "\n",
      "False\n",
      "True\n",
      "True\n",
      "False\n",
      "True\n"
     ]
    }
   ],
   "source": [
    "# The in and not in operators\n",
    "\n",
    "alphabet = \"abcdefghijklmnopqrstuvwxyz\"\n",
    "\n",
    "print(\"f\" in alphabet)\n",
    "print(\"F\" in alphabet)\n",
    "print(\"1\" in alphabet)\n",
    "print(\"ghi\" in alphabet)\n",
    "print(\"Xyz\" in alphabet)\n",
    "\n",
    "print()\n",
    "\n",
    "print(\"f\" not in alphabet)\n",
    "print(\"F\" not in alphabet)\n",
    "print(\"1\" not in alphabet)\n",
    "print(\"ghi\" not in alphabet)\n",
    "print(\"Xyz\" not in alphabet)\n"
   ]
  },
  {
   "cell_type": "markdown",
   "id": "256deff4",
   "metadata": {},
   "source": [
    "### Strings em Python são imutáveis.\n",
    "\n",
    "Isso significa, principalmente, que a semelhança entre strings e listas é limitada.\n",
    "Nem tudo o que você pode fazer com uma lista pode ser feito com uma string.\n",
    "\n",
    "A primeira diferença importante é que você não pode usar \n",
    "a instrução del para remover qualquer coisa de uma string.\n"
   ]
  },
  {
   "cell_type": "code",
   "execution_count": null,
   "id": "a83a7c28",
   "metadata": {},
   "outputs": [],
   "source": [
    "# O exemplo aqui não funcionará:\n",
    "\n",
    "alphabet = \"abcdefghijklmnopqrstuvwxyz\"\n",
    "del alphabet[0]\n",
    "\n",
    "# A única coisa que se pode fazer com del e uma string é remover a string como um todo. \n",
    "\n",
    "# As strings em Python não possuem o método append() – não se pode expandi-las de nenhuma maneira.\n",
    "\n",
    "# O exemplo abaixo é incorreto:\n",
    "\n",
    "alphabet = \"abcdefghijklmnopqrstuvwxyz\"\n",
    "alphabet.append(\"A\")\n",
    "\n",
    "# Com a ausência do método append(), o método insert() também é ilegal:\n",
    "\n",
    "alphabet = \"abcdefghijklmnopqrstuvwxyz\"\n",
    "alphabet.insert(0, \"A\")"
   ]
  },
  {
   "cell_type": "code",
   "execution_count": 20,
   "id": "f8e9adb8",
   "metadata": {},
   "outputs": [
    {
     "name": "stdout",
     "output_type": "stream",
     "text": [
      "abcdefghijklmnopqrstuvwxyz\n"
     ]
    }
   ],
   "source": [
    "# Isso dá pra fazer...rs\n",
    "\n",
    "alphabet = \"bcdefghijklmnopqrstuvwxy\"\n",
    "\n",
    "alphabet = \"a\" + alphabet\n",
    "alphabet = alphabet + \"z\"\n",
    "\n",
    "print(alphabet)\n",
    "\n",
    "# Só funciona o +"
   ]
  },
  {
   "cell_type": "code",
   "execution_count": 21,
   "id": "cef256f7",
   "metadata": {},
   "outputs": [
    {
     "name": "stdout",
     "output_type": "stream",
     "text": [
      "A\n",
      "[ ]\n",
      "0\n"
     ]
    }
   ],
   "source": [
    "# função min()\n",
    "\n",
    "# Demonstrating min() - Example 1:\n",
    "print(min(\"aAbByYzZ\")) # vai usar o valor mais baixo do ASCII/Unicode, no caso o a cx baixa\n",
    "\n",
    "\n",
    "# Demonstrating min() - Examples 2 & 3:\n",
    "t = 'The Knights Who Say \"Ni!\"' # o minimo aqui é o espaço ' '\n",
    "print('[' + min(t) + ']')\n",
    "\n",
    "t = [0, 1, 2] # com números segue a ordem comum\n",
    "print(min(t))\n"
   ]
  },
  {
   "cell_type": "code",
   "execution_count": 22,
   "id": "fac53de2",
   "metadata": {},
   "outputs": [
    {
     "name": "stdout",
     "output_type": "stream",
     "text": [
      "z\n",
      "[y]\n",
      "2\n"
     ]
    }
   ],
   "source": [
    "# função max()\n",
    "\n",
    "# Demonstrating max() - Example 1:\n",
    "print(max(\"aAbByYzZ\"))\n",
    "\n",
    "\n",
    "# Demonstrating max() - Examples 2 & 3:\n",
    "t = 'The Knights Who Say \"Ni!\"'\n",
    "print('[' + max(t) + ']')\n",
    "\n",
    "t = [0, 1, 2]\n",
    "print(max(t))\n",
    "\n"
   ]
  },
  {
   "cell_type": "code",
   "execution_count": 23,
   "id": "659bcdb5",
   "metadata": {},
   "outputs": [
    {
     "name": "stdout",
     "output_type": "stream",
     "text": [
      "2\n",
      "7\n",
      "1\n"
     ]
    }
   ],
   "source": [
    "# Método index()\n",
    "\n",
    "# mostra o index em que se encontra o item especificado\n",
    "\n",
    "print(\"aAbByYzZaA\".index(\"b\"))\n",
    "print(\"aAbByYzZaA\".index(\"Z\"))\n",
    "print(\"aAbByYzZaA\".index(\"A\"))"
   ]
  },
  {
   "cell_type": "code",
   "execution_count": 30,
   "id": "5becf599",
   "metadata": {},
   "outputs": [
    {
     "name": "stdout",
     "output_type": "stream",
     "text": [
      "['a', 'b', 'c', 'a', 'b', 'c']\n",
      "abcabc\n"
     ]
    }
   ],
   "source": [
    "# função lista() - > cria uma lista nova\n",
    "\n",
    "print(list(\"abcabc\"))\n",
    "\n",
    "# para voltar a ser uma string:\n",
    "list1 = ['a', 'b', 'c', 'a', 'b', 'c']\n",
    "string = ''.join(list1)\n",
    "print(string)\n"
   ]
  },
  {
   "cell_type": "code",
   "execution_count": 31,
   "id": "6ed1cbb0",
   "metadata": {},
   "outputs": [
    {
     "name": "stdout",
     "output_type": "stream",
     "text": [
      "2\n",
      "0\n"
     ]
    }
   ],
   "source": [
    "# Método count() -> conta o número de vezes de um determinado elemento da string\n",
    "\n",
    "print(\"abcabc\".count(\"b\"))\n",
    "print('abcabc'.count(\"d\"))\n"
   ]
  },
  {
   "cell_type": "markdown",
   "id": "7b2f1563",
   "metadata": {},
   "source": [
    "[Lista completa de métodos em:](https://docs.python.org/3.4/library/stdtypes.html#string-methods)\n"
   ]
  },
  {
   "cell_type": "code",
   "execution_count": 33,
   "id": "92f9d0a0",
   "metadata": {},
   "outputs": [
    {
     "name": "stdout",
     "output_type": "stream",
     "text": [
      "2\n",
      "*+*+*+*+*\n"
     ]
    }
   ],
   "source": [
    "# Exemplos:\n",
    "\n",
    "print(len(\"\\n\\n\"))\n",
    "\n",
    "asterisk = '*'\n",
    "plus = \"+\"\n",
    "decoration = (asterisk + plus) * 4 + asterisk\n",
    "print(decoration)\n",
    "\n",
    "# chr(ord(character)) == character\n",
    "# ord(chr(codepoint)) == codepoint\n",
    "\n",
    "\n",
    "# list() – cria uma lista composta por todos os caracteres da string;\n",
    "# max() – encontra o caractere com o maior ponto de código;\n",
    "# min() – encontra o caractere com o menor ponto de código.\n",
    "\n",
    "# O método chamado index() encontra o índice de uma determinada\n",
    "# substring dentro da string.\n"
   ]
  },
  {
   "cell_type": "code",
   "execution_count": 34,
   "id": "faeab311",
   "metadata": {},
   "outputs": [],
   "source": [
    "# Exercícios:"
   ]
  },
  {
   "cell_type": "code",
   "execution_count": 35,
   "id": "fb1fd3ac",
   "metadata": {},
   "outputs": [
    {
     "name": "stdout",
     "output_type": "stream",
     "text": [
      "Object `quotes` not found.\n"
     ]
    },
    {
     "data": {
      "text/plain": [
       "'\\n'"
      ]
     },
     "execution_count": 35,
     "metadata": {},
     "output_type": "execute_result"
    }
   ],
   "source": [
    "# Question 1:\n",
    "# What is the length of the following string assuming there is no whitespaces between the quotes?\n",
    "\n",
    "\"\"\"\n",
    "\"\"\"\n",
    "# 1 # -> o return \\n conta como 1 "
   ]
  },
  {
   "cell_type": "code",
   "execution_count": 36,
   "id": "dbac8035",
   "metadata": {},
   "outputs": [
    {
     "name": "stdout",
     "output_type": "stream",
     "text": [
      "['t', 'e', 'r']\n"
     ]
    }
   ],
   "source": [
    "# Question 2: What is the expected output of the following code?\n",
    "\n",
    "s = 'yesteryears'\n",
    "the_list = list(s)\n",
    "print(the_list[3:6])\n",
    " "
   ]
  },
  {
   "cell_type": "code",
   "execution_count": 38,
   "id": "ec5f8a5c",
   "metadata": {},
   "outputs": [
    {
     "name": "stdout",
     "output_type": "stream",
     "text": [
      "bcd"
     ]
    }
   ],
   "source": [
    "# Question 3: What is the expected output of the following code?\n",
    "\n",
    "for ch in \"abc\":\n",
    "    print(chr(ord(ch) + 1), end='')\n",
    "    \n",
    "# o ord() converte em code point:\n",
    "# iteração:\n",
    "#     1 - > ord(0) + 1 -> 1 = b\n",
    "#     2 - > ord(1) + 1 -> 2 = c\n",
    "#     3 - > ord(2) + 1 -> 3 = d - > c + 1\n",
    "    "
   ]
  },
  {
   "cell_type": "markdown",
   "id": "472aa475",
   "metadata": {},
   "source": [
    "## Métodos de Strings"
   ]
  },
  {
   "cell_type": "code",
   "execution_count": 40,
   "id": "9fcfad9e",
   "metadata": {},
   "outputs": [
    {
     "name": "stdout",
     "output_type": "stream",
     "text": [
      "Abcd\n",
      "\n",
      "Alpha\n",
      "Alpha\n",
      " alpha\n",
      "123\n",
      "Αβγδ\n"
     ]
    }
   ],
   "source": [
    "# capitalize() # Deixa a primeira em cx alat e oresto em cx baixa\n",
    "print('aBcD'.capitalize())\n",
    "\n",
    "print()\n",
    "\n",
    "print(\"Alpha\".capitalize())\n",
    "print('ALPHA'.capitalize())\n",
    "print(' Alpha'.capitalize())\n",
    "print('123'.capitalize())\n",
    "print(\"αβγδ\".capitalize())\n",
    "    "
   ]
  },
  {
   "cell_type": "code",
   "execution_count": 48,
   "id": "06b9a3ad",
   "metadata": {},
   "outputs": [
    {
     "name": "stdout",
     "output_type": "stream",
     "text": [
      "[  alpha   ]\n",
      "[   3 Espaços   ]\n",
      "[Beta]\n",
      "[Beta]\n",
      "[ Beta ]\n",
      "[*******gamma********]\n"
     ]
    }
   ],
   "source": [
    "# #center() \n",
    "# faz uma cópia da string original, tentando centralizá-la \n",
    "# dentro de um campo de uma largura especificada.\n",
    "\n",
    "# A centralização é feita, na verdade, \n",
    "# adicionando alguns espaços antes e depois da string.\n",
    "\n",
    "print('[' + 'alpha'.center(10) + ']')\n",
    "\n",
    "\n",
    "print('[' + '3 Espaços'.center(15) + ']')\n",
    "# o número indicado engloba o número de caracteres da string:\n",
    "# por exemplo:\n",
    "# '3 Espaços' tem 9 caracteres, usando .center(15) ficarão 3 espaços para cada lado\n",
    "\n",
    "\n",
    "# se o número no .center(x) for menor, retorna a string original\n",
    "print('[' + 'Beta'.center(2) + ']')\n",
    "print('[' + 'Beta'.center(4) + ']')\n",
    "print('[' + 'Beta'.center(6) + ']')\n",
    "\n",
    "\n",
    "# Se usar dois parâmetros, pode-se substituir o espaço por algum simbolo ou letra.\n",
    "print('[' + 'gamma'.center(20, '*') + ']')\n",
    "\n"
   ]
  },
  {
   "cell_type": "code",
   "execution_count": 96,
   "id": "a806af42",
   "metadata": {},
   "outputs": [
    {
     "name": "stdout",
     "output_type": "stream",
     "text": [
      "yes\n",
      "True\n",
      "False\n",
      "False\n",
      "True\n",
      "\n",
      "False\n",
      "True\n",
      "\n"
     ]
    }
   ],
   "source": [
    "# endswith() # -> retorna True/False se a string termina da forma especificada\n",
    "\n",
    "if \"epsilon\".endswith(\"on\"):\n",
    "    print(\"yes\")\n",
    "else:\n",
    "    print(\"no\")\n",
    "  \n",
    "t = \"zeta\"\n",
    "print(t.endswith(\"a\"))\n",
    "print(t.endswith(\"A\"))\n",
    "print(t.endswith(\"et\"))\n",
    "print(t.endswith(\"eta\"))\n",
    "\n",
    "print()\n",
    "\n",
    "# startswith()  # -> retorna True/False se a string começa da forma especificada\n",
    "print(\"omega\".startswith(\"meg\"))\n",
    "print(\"omega\".startswith(\"om\"))\n",
    "\n",
    "print()\n"
   ]
  },
  {
   "cell_type": "code",
   "execution_count": 52,
   "id": "65c66798",
   "metadata": {},
   "outputs": [
    {
     "name": "stdout",
     "output_type": "stream",
     "text": [
      "1\n",
      "-1\n",
      "2\n",
      "2\n",
      "0\n",
      "-1\n",
      "4\n"
     ]
    }
   ],
   "source": [
    "# find() # retorna o index do que foi indicado, similar ao index()\n",
    "\n",
    "print(\"Eta\".find(\"ta\"))\n",
    "print(\"Eta\".find(\"mma\")) #em caso de erro, se não existir ele retorna -1\n",
    "\n",
    "# obs.:\n",
    "#      não use find() se você só quer verificar se um único caractere ocorre dentro de uma string\n",
    "#      – o operador in será significativamente mais rápido.\n",
    "\n",
    "t = 'theta'\n",
    "print(t.find('eta'))\n",
    "print(t.find('et'))\n",
    "print(t.find('the'))\n",
    "print(t.find('ha'))\n",
    "\n",
    "print('kappa'.find('a', 2)) # mostra o indexd a segunda ocorrência de 'a'\n"
   ]
  },
  {
   "cell_type": "code",
   "execution_count": 53,
   "id": "24297a6e",
   "metadata": {},
   "outputs": [
    {
     "name": "stdout",
     "output_type": "stream",
     "text": [
      "15\n",
      "80\n",
      "198\n",
      "221\n",
      "238\n"
     ]
    }
   ],
   "source": [
    "# Código para procurar todos os index de uma ocorrência em texto:\n",
    "\n",
    "the_text = \"\"\"A variation of the ordinary lorem ipsum\n",
    "text has been used in typesetting since the 1960s \n",
    "or earlier, when it was popularized by advertisements \n",
    "for Letraset transfer sheets. It was introduced to \n",
    "the Information Age in the mid-1980s by the Aldus Corporation, \n",
    "which employed it in graphics and word-processing templates\n",
    "for its desktop publishing program PageMaker (from Wikipedia)\"\"\"\n",
    "\n",
    "fnd = the_text.find('the')\n",
    "while fnd != -1: # enquanto for diferente de um 'erro' [False] ele procurará...\n",
    "    print(fnd)\n",
    "    fnd = the_text.find('the', fnd + 1)\n",
    "    "
   ]
  },
  {
   "cell_type": "code",
   "execution_count": 54,
   "id": "c8d33107",
   "metadata": {},
   "outputs": [
    {
     "name": "stdout",
     "output_type": "stream",
     "text": [
      "1\n",
      "-1\n"
     ]
    }
   ],
   "source": [
    "# Indicando o limite superior da busca, até que index ela vai.\n",
    "\n",
    "# Nessa variação do método find() com três parâmetros\n",
    "# – o terceiro argumento indica o primeiro índice que não será considerado durante a busca \n",
    "# (é, na verdade, o limite superior da busca).\n",
    "\n",
    "print('kappa'.find('a', 1, 4))\n",
    "print('kappa'.find('a', 2, 4)) # dá erro pq o o segundo 'a' tb é o quarto 'a'\n",
    "\n"
   ]
  },
  {
   "cell_type": "code",
   "execution_count": 55,
   "id": "51770849",
   "metadata": {},
   "outputs": [
    {
     "name": "stdout",
     "output_type": "stream",
     "text": [
      "True\n",
      "True\n",
      "True\n",
      "False\n",
      "False\n",
      "False\n"
     ]
    }
   ],
   "source": [
    "# isalnum() # checa se tem apenas digitos ou letras, alfanumérico\n",
    "\n",
    "print('lambda30'.isalnum())\n",
    "print('lambda'.isalnum())\n",
    "print('30'.isalnum())\n",
    "print('@'.isalnum())\n",
    "print('lambda_30'.isalnum())\n",
    "print(''.isalnum())\n",
    "\n",
    "# Nota: qualquer elemento da string que não seja um dígito ou uma letra \n",
    "# faz com que o método retorne False. Uma string vazia também."
   ]
  },
  {
   "cell_type": "code",
   "execution_count": 56,
   "id": "74de9613",
   "metadata": {},
   "outputs": [
    {
     "name": "stdout",
     "output_type": "stream",
     "text": [
      "False\n",
      "False\n",
      "True\n"
     ]
    }
   ],
   "source": [
    "t = 'Six lambdas' # dá false por conta do espaço\n",
    "print(t.isalnum())\n",
    "\n",
    "t = '&Alpha;&beta;&Gamma;&delta;'\n",
    "print(t.isalnum())\n",
    "\n",
    "t = '20E1'\n",
    "print(t.isalnum())"
   ]
  },
  {
   "cell_type": "code",
   "execution_count": 57,
   "id": "da283e91",
   "metadata": {},
   "outputs": [
    {
     "name": "stdout",
     "output_type": "stream",
     "text": [
      "True\n",
      "False\n"
     ]
    }
   ],
   "source": [
    "# isalpha() # checa se apenas letras\n",
    "\n",
    "print(\"Moooo\".isalpha())\n",
    "print('Mu40'.isalpha())\n",
    "    "
   ]
  },
  {
   "cell_type": "code",
   "execution_count": 58,
   "id": "4a6d21b4",
   "metadata": {},
   "outputs": [
    {
     "name": "stdout",
     "output_type": "stream",
     "text": [
      "True\n",
      "False\n"
     ]
    }
   ],
   "source": [
    "# isdigit() # checa se apenas digitos\n",
    "\n",
    "print('2018'.isdigit())\n",
    "print(\"Year2019\".isdigit())\n"
   ]
  },
  {
   "cell_type": "code",
   "execution_count": 59,
   "id": "103d743a",
   "metadata": {},
   "outputs": [
    {
     "name": "stdout",
     "output_type": "stream",
     "text": [
      "False\n",
      "True\n"
     ]
    }
   ],
   "source": [
    "# islower() # se é cx baixa, tem que ser tudo cx bx\n",
    "\n",
    "print(\"Moooo\".islower())\n",
    "print('moooo'.islower())\n"
   ]
  },
  {
   "cell_type": "code",
   "execution_count": 61,
   "id": "7b72d25e",
   "metadata": {},
   "outputs": [
    {
     "name": "stdout",
     "output_type": "stream",
     "text": [
      "False\n",
      "False\n",
      "True\n"
     ]
    }
   ],
   "source": [
    "# isupper() # se é cx alta, tem que ser tudo cx alt\n",
    "\n",
    "print(\"Moooo\".isupper())\n",
    "print('moooo'.isupper())\n",
    "print('MOOOO'.isupper())\n"
   ]
  },
  {
   "cell_type": "code",
   "execution_count": 60,
   "id": "44649c78",
   "metadata": {
    "scrolled": true
   },
   "outputs": [
    {
     "name": "stdout",
     "output_type": "stream",
     "text": [
      "True\n",
      "True\n",
      "True\n",
      "False\n"
     ]
    }
   ],
   "source": [
    "# isspace() # se é espaço\n",
    "\n",
    "print(' \\n '.isspace())\n",
    "print('\\n'.isspace()) # return \\n conta como um espaço\n",
    "print(\" \".isspace())\n",
    "print(\"mooo mooo mooo\".isspace())\n"
   ]
  },
  {
   "cell_type": "code",
   "execution_count": 65,
   "id": "70a0ea5e",
   "metadata": {},
   "outputs": [
    {
     "name": "stdout",
     "output_type": "stream",
     "text": [
      "omicron,pi,rho\n",
      "omicron*pi*rho\n",
      "omicron pi rho\n"
     ]
    }
   ],
   "source": [
    "# join() \n",
    "# realiza uma junção – ele espera um argumento como uma lista; \n",
    "# é necessário garantir que todos os elementos da lista sejam strings \n",
    "# – caso contrário, o método levantará uma exceção do tipo TypeError.\n",
    "\n",
    "# Todos os elementos da lista serão unidos em uma string, mas...\n",
    "# ...a string da qual o método foi invocado é usada como um separador, colocado entre as strings;\n",
    "# A nova string criada é retornada como resultado.\n",
    "\n",
    "print(\",\".join([\"omicron\", \"pi\", \"rho\"]))\n",
    "\n",
    "print(\"*\".join([\"omicron\", \"pi\", \"rho\"]))\n",
    "\n",
    "print(\" \".join([\"omicron\", \"pi\", \"rho\"]))"
   ]
  },
  {
   "cell_type": "code",
   "execution_count": 66,
   "id": "fc905d44",
   "metadata": {},
   "outputs": [
    {
     "name": "stdout",
     "output_type": "stream",
     "text": [
      "sigma=60\n"
     ]
    }
   ],
   "source": [
    "# lower()\n",
    "\n",
    "print(\"SiGmA=60\".lower()) # deixa tudo em cx bx"
   ]
  },
  {
   "cell_type": "code",
   "execution_count": 87,
   "id": "9cb163ba",
   "metadata": {},
   "outputs": [
    {
     "name": "stdout",
     "output_type": "stream",
     "text": [
      "[upsilon ]\n",
      "cisco.com\n",
      "pythoninstitute.org\n",
      "\n",
      "[ upsilon]\n",
      "cis\n",
      "bana\n",
      "bana\n",
      "banac.\n",
      "\n",
      "coco.\n"
     ]
    }
   ],
   "source": [
    "# lstrip() # remove os espaços em branco à esquerda, left strip\n",
    "\n",
    "print(\"[\" + \" upsilon \".lstrip() + \"]\")\n",
    "\n",
    "\n",
    "# Também pode remover os argumentos especificados\n",
    "\n",
    "print(\"www.cisco.com\".lstrip(\"w.\"))\n",
    "\n",
    "# se não estiver à esquerda não acontece nada\n",
    "print(\"pythoninstitute.org\".lstrip(\".org\"))\n",
    "\n",
    "\n",
    "print()\n",
    "\n",
    "# rstrip() # remove os espaços em branco à direita\n",
    "\n",
    "print(\"[\" + \" upsilon \".rstrip() + \"]\")\n",
    "print(\"cisco.com\".rstrip(\".com\"))\n",
    "\n",
    "\n",
    "print(\"banacoco.com\".rstrip(\".com\"))# se tiver o ponto vai removera partir do da primeira letra na sequencia: 'c'\n",
    "\n",
    "print(\"banaco.com\".rstrip(\".com\"))\n",
    "\n",
    "print(\"banac.com\".rstrip(\"com\"))\n",
    "\n",
    "print(\"coco.com\".rstrip(\".com\")) # não imprime nada\n",
    "print(\"coco.com\".rstrip(\"com\"))"
   ]
  },
  {
   "cell_type": "code",
   "execution_count": 97,
   "id": "e3c46e2f",
   "metadata": {},
   "outputs": [
    {
     "name": "stdout",
     "output_type": "stream",
     "text": [
      "[aleph]\n"
     ]
    }
   ],
   "source": [
    "# Strip # combina lstrip() e rstrip()\n",
    "\n",
    "print(\"[\" + \"   aleph   \".strip() + \"]\")\n"
   ]
  },
  {
   "cell_type": "code",
   "execution_count": 73,
   "id": "74dadb77",
   "metadata": {},
   "outputs": [
    {
     "name": "stdout",
     "output_type": "stream",
     "text": [
      "www.pythoninstitute.org\n",
      "Thare are it!\n",
      "Apple \n",
      "Thare is it!\n",
      "Thare are it!\n"
     ]
    }
   ],
   "source": [
    "# replace() # substitui um argumento por outro\n",
    "\n",
    "print(\"www.netacad.com\".replace(\"netacad.com\", \"pythoninstitute.org\"))\n",
    "print(\"This is it!\".replace(\"is\", \"are\"))\n",
    "print(\"Apple juice\".replace(\"juice\", \"\"))\n",
    "\n",
    "# a opção com 3 parametros determina o número limite de substituições\n",
    "\n",
    "print(\"This is it!\".replace(\"is\", \"are\", 1))\n",
    "# Neste caso, a string original é \"This is it!\".\n",
    "# O método replace() substitui a primeira ocorrência de \"is\" por \"are\".\n",
    "# A saída será: Thare is it!.\n",
    "\n",
    "\n",
    "print(\"This is it!\".replace(\"is\", \"are\", 2))\n",
    "# Neste caso, a string original é \"This is it!\".\n",
    "# O método replace() substitui até duas ocorrências de \"is\" por \"are\".\n",
    "# A saída será: Thare are it!.\n"
   ]
  },
  {
   "cell_type": "code",
   "execution_count": 74,
   "id": "5d0bc674",
   "metadata": {},
   "outputs": [
    {
     "name": "stdout",
     "output_type": "stream",
     "text": [
      "8\n",
      "-1\n",
      "4\n"
     ]
    }
   ],
   "source": [
    "# rfind() # iniciam suas buscas do final da string, e não do início (daí o prefixo r, de right).\n",
    "\n",
    "print(\"tau tau tau\".rfind(\"ta\"))\n",
    "# O método rfind(\"ta\") retorna o índice da última ocorrência de \"ta\".\n",
    "# A última ocorrência de \"ta\" está na posição 8.\n",
    "# Portanto, a saída será 8.\n",
    "\n",
    "print(\"tau tau tau\".rfind(\"ta\", 9))\n",
    "# A substring \"ta\" não é encontrada no intervalo a partir do índice 9 até o final da string.\n",
    "# Saída: -1.\n",
    "\n",
    "\n",
    "print(\"tau tau tau\".rfind(\"ta\", 3, 9)) #  limitando a busca entre os índices 3 e 9.\n",
    "# a última ocorrência de \"ta\" na posição 4."
   ]
  },
  {
   "cell_type": "code",
   "execution_count": 95,
   "id": "b3fdbd23",
   "metadata": {},
   "outputs": [
    {
     "name": "stdout",
     "output_type": "stream",
     "text": [
      "['phi', 'chi', 'psi']\n",
      "\n",
      "vaca galo viado porco\n",
      "['vaca', 'galo', 'viado', 'porco']\n",
      "vaca galo viado porco\n"
     ]
    }
   ],
   "source": [
    "# split() # divide cada trecho separado por um espaço, e os transforma em itens de uma lista\n",
    "\n",
    "print(\"phi       chi\\npsi\".split())\n",
    "\n",
    "\n",
    "print()\n",
    "\n",
    "animais = 'vaca galo viado porco'\n",
    "print(animais)\n",
    "\n",
    "split_animais = animais.split()\n",
    "print(split_animais)\n",
    "\n",
    "# pra desfazer, usar o join()\n",
    "join_animais = ' '.join(split_animais)\n",
    "print(join_animais)\n",
    "\n"
   ]
  },
  {
   "cell_type": "code",
   "execution_count": 98,
   "id": "22c900ff",
   "metadata": {},
   "outputs": [
    {
     "name": "stdout",
     "output_type": "stream",
     "text": [
      "i KNOW THAT i KNOW NOTHING.\n",
      "\n"
     ]
    }
   ],
   "source": [
    "# swapcase() # troca maiúsculas por minúsculas e vice vers\n",
    "# A função mais inútil de todas...\n",
    "\n",
    "print(\"I know that I know nothing.\".swapcase())\n",
    "\n",
    "print()\n",
    "\n"
   ]
  },
  {
   "cell_type": "code",
   "execution_count": 99,
   "id": "9e99a93b",
   "metadata": {},
   "outputs": [
    {
     "name": "stdout",
     "output_type": "stream",
     "text": [
      "I Know That I Know Nothing. Part 1.\n",
      "\n"
     ]
    }
   ],
   "source": [
    "# title() # Deixa tudo em alta e baixa\n",
    "\n",
    "print(\"I know that I know nothing. Part 1.\".title())\n",
    "\n",
    "print()\n"
   ]
  },
  {
   "cell_type": "code",
   "execution_count": 100,
   "id": "105800db",
   "metadata": {},
   "outputs": [
    {
     "name": "stdout",
     "output_type": "stream",
     "text": [
      "I KNOW THAT I KNOW NOTHING. PART 2.\n"
     ]
    }
   ],
   "source": [
    "# upper() # deixa tudo em alta\n",
    "\n",
    "print(\"I know that I know nothing. Part 2.\".upper())\n"
   ]
  },
  {
   "cell_type": "markdown",
   "id": "5bd8d947",
   "metadata": {},
   "source": [
    "## Resumo dos String Methods\n"
   ]
  },
  {
   "cell_type": "markdown",
   "id": "e63705c6",
   "metadata": {},
   "source": [
    "**métodos oferecidos por strings:**\n",
    "\n",
    "capitalize() – muda a primeira letra da string para maiúscula;\n",
    "\n",
    "center() – centraliza a string dentro de um campo de comprimento conhecido;\n",
    "\n",
    "count() – conta as ocorrências de um dado caractere;\n",
    "\n",
    "join() – une todos os itens de uma tupla/lista em uma única string;\n",
    "\n",
    "lower() – converte todas as letras da string para minúsculas;\n",
    "\n",
    "lstrip() – remove os caracteres em branco do início da string;\n",
    "\n",
    "replace() – substitui uma substring dada por outra;\n",
    "\n",
    "rfind() – encontra uma substring começando do final da string;\n",
    "\n",
    "rstrip() – remove os espaços em branco à direita do final da string;\n",
    "\n",
    "split() – divide a string em substrings usando um delimitador dado;\n",
    "\n",
    "strip() – remove os espaços em branco do início e do fim da string;\n",
    "\n",
    "swapcase() – troca a capitalização das letras (maiúsculas para minúsculas e vice-versa);\n",
    "\n",
    "title() – coloca a primeira letra de cada palavra em maiúscula;\n",
    "\n",
    "upper() – converte todas as letras da string para maiúsculas.\n",
    "\n",
    "\n",
    "**O conteúdo de uma string pode ser determinado usando os seguintes métodos** \n",
    "*(todos eles retornam valores booleanos):*\n",
    "\n",
    "endswith() – a string termina com uma dada substring?\n",
    "\n",
    "isalnum() – a string consiste apenas em letras e dígitos?\n",
    "\n",
    "isalpha() – a string consiste apenas em letras?\n",
    "\n",
    "islower() – a string consiste apenas em letras minúsculas?\n",
    "\n",
    "isspace() – a string consiste apenas em espaços em branco?\n",
    "\n",
    "isupper() – a string consiste apenas em letras maiúsculas?\n",
    "\n",
    "startswith() – a string começa com uma dada substring?\n"
   ]
  },
  {
   "cell_type": "markdown",
   "id": "17b80e12",
   "metadata": {},
   "source": [
    "### Quiz"
   ]
  },
  {
   "cell_type": "code",
   "execution_count": 101,
   "id": "610954a0",
   "metadata": {},
   "outputs": [
    {
     "name": "stdout",
     "output_type": "stream",
     "text": [
      "ABC123xyx"
     ]
    }
   ],
   "source": [
    "# Question 1: What is the expected output of the following code?\n",
    "\n",
    "for ch in \"abc123XYX\":\n",
    "    if ch.isupper():\n",
    "        print(ch.lower(), end='')\n",
    "    elif ch.islower():\n",
    "        print(ch.upper(), end='')\n",
    "    else:\n",
    "        print(ch, end='')\n",
    " "
   ]
  },
  {
   "cell_type": "code",
   "execution_count": 102,
   "id": "98d1d0eb",
   "metadata": {},
   "outputs": [
    {
     "name": "stdout",
     "output_type": "stream",
     "text": [
      "of\n"
     ]
    }
   ],
   "source": [
    "# Question 2: What is the expected output of the following code?\n",
    "\n",
    "s1 = 'Where are the snows of yesteryear?'\n",
    "s2 = s1.split()\n",
    "print(s2[-2])\n",
    " "
   ]
  },
  {
   "cell_type": "code",
   "execution_count": 103,
   "id": "fd8d0d9f",
   "metadata": {},
   "outputs": [
    {
     "name": "stdout",
     "output_type": "stream",
     "text": [
      "Where*are*the*snows?\n"
     ]
    }
   ],
   "source": [
    "# Question 3: What is the expected output of the following code?\n",
    "\n",
    "the_list = ['Where', 'are', 'the', 'snows?']\n",
    "s = '*'.join(the_list)\n",
    "print(s)"
   ]
  },
  {
   "cell_type": "code",
   "execution_count": 104,
   "id": "f6bf9685",
   "metadata": {},
   "outputs": [
    {
     "name": "stdout",
     "output_type": "stream",
     "text": [
      "It is either hard or possible\n"
     ]
    }
   ],
   "source": [
    "# Question 4: What is the expected output of the following code?\n",
    "\n",
    "s = 'It is either easy or impossible'\n",
    "s = s.replace('easy', 'hard').replace('im', '')\n",
    "print(s)"
   ]
  },
  {
   "cell_type": "markdown",
   "id": "0820e2fe",
   "metadata": {},
   "source": [
    "### Exercício usando split():\n",
    "\n",
    "Escrever uma função, que se comporte quase exatamente como o método split() original, \n",
    "ou seja:\n",
    "\n",
    "ela deve aceitar exatamente um argumento – uma string;\n",
    "ela deve retornar uma lista de palavras criadas a partir da string,\n",
    "dividida nos lugares onde a string contém espaços em branco;\n",
    "se a string estiver vazia, a função deve retornar uma lista vazia;\n",
    "seu nome deve ser mysplit().\n"
   ]
  },
  {
   "cell_type": "code",
   "execution_count": 112,
   "id": "14dfa946",
   "metadata": {},
   "outputs": [
    {
     "name": "stdout",
     "output_type": "stream",
     "text": [
      "['vaca', 'galo', 'viado', 'porco']\n",
      "[]\n",
      "['palavra1', 'palavra2']\n",
      "['To', 'be', 'or', 'not', 'to', 'be,', 'that', 'is', 'the', 'question']\n",
      "['To', 'be', 'or', 'not', 'to', 'be,that', 'is', 'the', 'question']\n",
      "[]\n",
      "['abc']\n",
      "[]\n"
     ]
    }
   ],
   "source": [
    "def mysplit(string):\n",
    "    if not string:\n",
    "        return []\n",
    "    \n",
    "    words = []\n",
    "    length = len(string)\n",
    "    i = 0\n",
    "    \n",
    "    while i < length:\n",
    "        if not string[i].isspace():\n",
    "            start = i\n",
    "            while i < length and not string[i].isspace():\n",
    "                i += 1\n",
    "            words.append(string[start:i])\n",
    "        i += 1\n",
    "    \n",
    "    return words\n",
    "\n",
    "# Teste da função\n",
    "print(mysplit(\"vaca galo viado porco\"))  # ['vaca', 'galo', 'viado', 'porco']\n",
    "print(mysplit(\"\"))  # []\n",
    "print(mysplit(\"  palavra1  palavra2 \"))  # ['palavra1', 'palavra2']\n",
    "\n",
    "# teste 2\n",
    "print(mysplit(\"To be or not to be, that is the question\"))\n",
    "print(mysplit(\"To be or not to be,that is the question\"))\n",
    "print(mysplit(\"   \"))\n",
    "print(mysplit(\" abc \"))\n",
    "print(mysplit(\"\"))"
   ]
  },
  {
   "cell_type": "code",
   "execution_count": null,
   "id": "b9eecce0",
   "metadata": {},
   "outputs": [],
   "source": []
  }
 ],
 "metadata": {
  "kernelspec": {
   "display_name": "Python 3 (ipykernel)",
   "language": "python",
   "name": "python3"
  },
  "language_info": {
   "codemirror_mode": {
    "name": "ipython",
    "version": 3
   },
   "file_extension": ".py",
   "mimetype": "text/x-python",
   "name": "python",
   "nbconvert_exporter": "python",
   "pygments_lexer": "ipython3",
   "version": "3.11.5"
  }
 },
 "nbformat": 4,
 "nbformat_minor": 5
}
